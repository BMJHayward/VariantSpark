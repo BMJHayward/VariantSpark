{
 "cells": [
  {
   "cell_type": "code",
   "execution_count": 1,
   "metadata": {},
   "outputs": [],
   "source": [
    "from pyspark.sql import SparkSession\n",
    "\n",
    "spark = SparkSession.builder\\\n",
    "    .appName(\"HipsterIndex\") \\\n",
    "    .config(\"spark.driver.extraClassPath\", \"/Users/szu004/miniconda2/envs/hail/lib/python3.6/site-packages/hail/hail-all-spark.jar\")\\\n",
    "    .config(\"spark.jars\", \"/Users/szu004/miniconda2/envs/hail/lib/python3.6/site-packages/hail/hail-all-spark.jar,../target/variant-spark_2.11-0.3.0-SNAPSHOT-all.jar\")\\\n",
    "    .config(\"spark.serializer\", \"org.apache.spark.serializer.KryoSerializer\") \\\n",
    "    .config(\"spark.kryo.registrator\", \"is.hail.kryo.HailKryoRegistrator\") \\\n",
    "    .getOrCreate()"
   ]
  },
  {
   "cell_type": "code",
   "execution_count": 2,
   "metadata": {},
   "outputs": [
    {
     "name": "stderr",
     "output_type": "stream",
     "text": [
      "using hail jar at /Users/szu004/miniconda2/envs/hail/lib/python3.6/site-packages/hail/hail-all-spark.jar\n",
      "Running on Apache Spark version 2.4.1\n",
      "SparkUI available at http://140.253.176.47:4040\n",
      "Welcome to\n",
      "     __  __     <>__\n",
      "    / /_/ /__  __/ /\n",
      "   / __  / _ `/ / /\n",
      "  /_/ /_/\\_,_/_/_/   version 0.2.16-6da0d3571629\n",
      "LOGGING: writing to /Users/szu004/dev/variant-spark/dev-notebooks/hail-20190716-1542-0.2.16-6da0d3571629.log\n"
     ]
    }
   ],
   "source": [
    "import hail as hl\n",
    "hl.init(sc=spark.sparkContext)"
   ]
  },
  {
   "cell_type": "code",
   "execution_count": 3,
   "metadata": {},
   "outputs": [
    {
     "data": {
      "text/html": [
       "\n",
       "    <div class=\"bk-root\">\n",
       "        <a href=\"https://bokeh.pydata.org\" target=\"_blank\" class=\"bk-logo bk-logo-small bk-logo-notebook\"></a>\n",
       "        <span id=\"1001\">Loading BokehJS ...</span>\n",
       "    </div>"
      ]
     },
     "metadata": {},
     "output_type": "display_data"
    },
    {
     "data": {
      "application/javascript": [
       "\n",
       "(function(root) {\n",
       "  function now() {\n",
       "    return new Date();\n",
       "  }\n",
       "\n",
       "  var force = true;\n",
       "\n",
       "  if (typeof root._bokeh_onload_callbacks === \"undefined\" || force === true) {\n",
       "    root._bokeh_onload_callbacks = [];\n",
       "    root._bokeh_is_loading = undefined;\n",
       "  }\n",
       "\n",
       "  var JS_MIME_TYPE = 'application/javascript';\n",
       "  var HTML_MIME_TYPE = 'text/html';\n",
       "  var EXEC_MIME_TYPE = 'application/vnd.bokehjs_exec.v0+json';\n",
       "  var CLASS_NAME = 'output_bokeh rendered_html';\n",
       "\n",
       "  /**\n",
       "   * Render data to the DOM node\n",
       "   */\n",
       "  function render(props, node) {\n",
       "    var script = document.createElement(\"script\");\n",
       "    node.appendChild(script);\n",
       "  }\n",
       "\n",
       "  /**\n",
       "   * Handle when an output is cleared or removed\n",
       "   */\n",
       "  function handleClearOutput(event, handle) {\n",
       "    var cell = handle.cell;\n",
       "\n",
       "    var id = cell.output_area._bokeh_element_id;\n",
       "    var server_id = cell.output_area._bokeh_server_id;\n",
       "    // Clean up Bokeh references\n",
       "    if (id != null && id in Bokeh.index) {\n",
       "      Bokeh.index[id].model.document.clear();\n",
       "      delete Bokeh.index[id];\n",
       "    }\n",
       "\n",
       "    if (server_id !== undefined) {\n",
       "      // Clean up Bokeh references\n",
       "      var cmd = \"from bokeh.io.state import curstate; print(curstate().uuid_to_server['\" + server_id + \"'].get_sessions()[0].document.roots[0]._id)\";\n",
       "      cell.notebook.kernel.execute(cmd, {\n",
       "        iopub: {\n",
       "          output: function(msg) {\n",
       "            var id = msg.content.text.trim();\n",
       "            if (id in Bokeh.index) {\n",
       "              Bokeh.index[id].model.document.clear();\n",
       "              delete Bokeh.index[id];\n",
       "            }\n",
       "          }\n",
       "        }\n",
       "      });\n",
       "      // Destroy server and session\n",
       "      var cmd = \"import bokeh.io.notebook as ion; ion.destroy_server('\" + server_id + \"')\";\n",
       "      cell.notebook.kernel.execute(cmd);\n",
       "    }\n",
       "  }\n",
       "\n",
       "  /**\n",
       "   * Handle when a new output is added\n",
       "   */\n",
       "  function handleAddOutput(event, handle) {\n",
       "    var output_area = handle.output_area;\n",
       "    var output = handle.output;\n",
       "\n",
       "    // limit handleAddOutput to display_data with EXEC_MIME_TYPE content only\n",
       "    if ((output.output_type != \"display_data\") || (!output.data.hasOwnProperty(EXEC_MIME_TYPE))) {\n",
       "      return\n",
       "    }\n",
       "\n",
       "    var toinsert = output_area.element.find(\".\" + CLASS_NAME.split(' ')[0]);\n",
       "\n",
       "    if (output.metadata[EXEC_MIME_TYPE][\"id\"] !== undefined) {\n",
       "      toinsert[toinsert.length - 1].firstChild.textContent = output.data[JS_MIME_TYPE];\n",
       "      // store reference to embed id on output_area\n",
       "      output_area._bokeh_element_id = output.metadata[EXEC_MIME_TYPE][\"id\"];\n",
       "    }\n",
       "    if (output.metadata[EXEC_MIME_TYPE][\"server_id\"] !== undefined) {\n",
       "      var bk_div = document.createElement(\"div\");\n",
       "      bk_div.innerHTML = output.data[HTML_MIME_TYPE];\n",
       "      var script_attrs = bk_div.children[0].attributes;\n",
       "      for (var i = 0; i < script_attrs.length; i++) {\n",
       "        toinsert[toinsert.length - 1].firstChild.setAttribute(script_attrs[i].name, script_attrs[i].value);\n",
       "      }\n",
       "      // store reference to server id on output_area\n",
       "      output_area._bokeh_server_id = output.metadata[EXEC_MIME_TYPE][\"server_id\"];\n",
       "    }\n",
       "  }\n",
       "\n",
       "  function register_renderer(events, OutputArea) {\n",
       "\n",
       "    function append_mime(data, metadata, element) {\n",
       "      // create a DOM node to render to\n",
       "      var toinsert = this.create_output_subarea(\n",
       "        metadata,\n",
       "        CLASS_NAME,\n",
       "        EXEC_MIME_TYPE\n",
       "      );\n",
       "      this.keyboard_manager.register_events(toinsert);\n",
       "      // Render to node\n",
       "      var props = {data: data, metadata: metadata[EXEC_MIME_TYPE]};\n",
       "      render(props, toinsert[toinsert.length - 1]);\n",
       "      element.append(toinsert);\n",
       "      return toinsert\n",
       "    }\n",
       "\n",
       "    /* Handle when an output is cleared or removed */\n",
       "    events.on('clear_output.CodeCell', handleClearOutput);\n",
       "    events.on('delete.Cell', handleClearOutput);\n",
       "\n",
       "    /* Handle when a new output is added */\n",
       "    events.on('output_added.OutputArea', handleAddOutput);\n",
       "\n",
       "    /**\n",
       "     * Register the mime type and append_mime function with output_area\n",
       "     */\n",
       "    OutputArea.prototype.register_mime_type(EXEC_MIME_TYPE, append_mime, {\n",
       "      /* Is output safe? */\n",
       "      safe: true,\n",
       "      /* Index of renderer in `output_area.display_order` */\n",
       "      index: 0\n",
       "    });\n",
       "  }\n",
       "\n",
       "  // register the mime type if in Jupyter Notebook environment and previously unregistered\n",
       "  if (root.Jupyter !== undefined) {\n",
       "    var events = require('base/js/events');\n",
       "    var OutputArea = require('notebook/js/outputarea').OutputArea;\n",
       "\n",
       "    if (OutputArea.prototype.mime_types().indexOf(EXEC_MIME_TYPE) == -1) {\n",
       "      register_renderer(events, OutputArea);\n",
       "    }\n",
       "  }\n",
       "\n",
       "  \n",
       "  if (typeof (root._bokeh_timeout) === \"undefined\" || force === true) {\n",
       "    root._bokeh_timeout = Date.now() + 5000;\n",
       "    root._bokeh_failed_load = false;\n",
       "  }\n",
       "\n",
       "  var NB_LOAD_WARNING = {'data': {'text/html':\n",
       "     \"<div style='background-color: #fdd'>\\n\"+\n",
       "     \"<p>\\n\"+\n",
       "     \"BokehJS does not appear to have successfully loaded. If loading BokehJS from CDN, this \\n\"+\n",
       "     \"may be due to a slow or bad network connection. Possible fixes:\\n\"+\n",
       "     \"</p>\\n\"+\n",
       "     \"<ul>\\n\"+\n",
       "     \"<li>re-rerun `output_notebook()` to attempt to load from CDN again, or</li>\\n\"+\n",
       "     \"<li>use INLINE resources instead, as so:</li>\\n\"+\n",
       "     \"</ul>\\n\"+\n",
       "     \"<code>\\n\"+\n",
       "     \"from bokeh.resources import INLINE\\n\"+\n",
       "     \"output_notebook(resources=INLINE)\\n\"+\n",
       "     \"</code>\\n\"+\n",
       "     \"</div>\"}};\n",
       "\n",
       "  function display_loaded() {\n",
       "    var el = document.getElementById(\"1001\");\n",
       "    if (el != null) {\n",
       "      el.textContent = \"BokehJS is loading...\";\n",
       "    }\n",
       "    if (root.Bokeh !== undefined) {\n",
       "      if (el != null) {\n",
       "        el.textContent = \"BokehJS \" + root.Bokeh.version + \" successfully loaded.\";\n",
       "      }\n",
       "    } else if (Date.now() < root._bokeh_timeout) {\n",
       "      setTimeout(display_loaded, 100)\n",
       "    }\n",
       "  }\n",
       "\n",
       "\n",
       "  function run_callbacks() {\n",
       "    try {\n",
       "      root._bokeh_onload_callbacks.forEach(function(callback) {\n",
       "        if (callback != null)\n",
       "          callback();\n",
       "      });\n",
       "    } finally {\n",
       "      delete root._bokeh_onload_callbacks\n",
       "    }\n",
       "    console.debug(\"Bokeh: all callbacks have finished\");\n",
       "  }\n",
       "\n",
       "  function load_libs(css_urls, js_urls, callback) {\n",
       "    if (css_urls == null) css_urls = [];\n",
       "    if (js_urls == null) js_urls = [];\n",
       "\n",
       "    root._bokeh_onload_callbacks.push(callback);\n",
       "    if (root._bokeh_is_loading > 0) {\n",
       "      console.debug(\"Bokeh: BokehJS is being loaded, scheduling callback at\", now());\n",
       "      return null;\n",
       "    }\n",
       "    if (js_urls == null || js_urls.length === 0) {\n",
       "      run_callbacks();\n",
       "      return null;\n",
       "    }\n",
       "    console.debug(\"Bokeh: BokehJS not loaded, scheduling load and callback at\", now());\n",
       "    root._bokeh_is_loading = css_urls.length + js_urls.length;\n",
       "\n",
       "    function on_load() {\n",
       "      root._bokeh_is_loading--;\n",
       "      if (root._bokeh_is_loading === 0) {\n",
       "        console.debug(\"Bokeh: all BokehJS libraries/stylesheets loaded\");\n",
       "        run_callbacks()\n",
       "      }\n",
       "    }\n",
       "\n",
       "    function on_error() {\n",
       "      console.error(\"failed to load \" + url);\n",
       "    }\n",
       "\n",
       "    for (var i = 0; i < css_urls.length; i++) {\n",
       "      var url = css_urls[i];\n",
       "      const element = document.createElement(\"link\");\n",
       "      element.onload = on_load;\n",
       "      element.onerror = on_error;\n",
       "      element.rel = \"stylesheet\";\n",
       "      element.type = \"text/css\";\n",
       "      element.href = url;\n",
       "      console.debug(\"Bokeh: injecting link tag for BokehJS stylesheet: \", url);\n",
       "      document.body.appendChild(element);\n",
       "    }\n",
       "\n",
       "    for (var i = 0; i < js_urls.length; i++) {\n",
       "      var url = js_urls[i];\n",
       "      var element = document.createElement('script');\n",
       "      element.onload = on_load;\n",
       "      element.onerror = on_error;\n",
       "      element.async = false;\n",
       "      element.src = url;\n",
       "      console.debug(\"Bokeh: injecting script tag for BokehJS library: \", url);\n",
       "      document.head.appendChild(element);\n",
       "    }\n",
       "  };var element = document.getElementById(\"1001\");\n",
       "  if (element == null) {\n",
       "    console.error(\"Bokeh: ERROR: autoload.js configured with elementid '1001' but no matching script tag was found. \")\n",
       "    return false;\n",
       "  }\n",
       "\n",
       "  function inject_raw_css(css) {\n",
       "    const element = document.createElement(\"style\");\n",
       "    element.appendChild(document.createTextNode(css));\n",
       "    document.body.appendChild(element);\n",
       "  }\n",
       "\n",
       "  var js_urls = [\"https://cdn.pydata.org/bokeh/release/bokeh-1.2.0.min.js\", \"https://cdn.pydata.org/bokeh/release/bokeh-widgets-1.2.0.min.js\", \"https://cdn.pydata.org/bokeh/release/bokeh-tables-1.2.0.min.js\", \"https://cdn.pydata.org/bokeh/release/bokeh-gl-1.2.0.min.js\"];\n",
       "  var css_urls = [\"https://cdn.pydata.org/bokeh/release/bokeh-1.2.0.min.css\", \"https://cdn.pydata.org/bokeh/release/bokeh-widgets-1.2.0.min.css\", \"https://cdn.pydata.org/bokeh/release/bokeh-tables-1.2.0.min.css\"];\n",
       "\n",
       "  var inline_js = [\n",
       "    function(Bokeh) {\n",
       "      Bokeh.set_log_level(\"info\");\n",
       "    },\n",
       "    \n",
       "    function(Bokeh) {\n",
       "      \n",
       "    },\n",
       "    function(Bokeh) {} // ensure no trailing comma for IE\n",
       "  ];\n",
       "\n",
       "  function run_inline_js() {\n",
       "    \n",
       "    if ((root.Bokeh !== undefined) || (force === true)) {\n",
       "      for (var i = 0; i < inline_js.length; i++) {\n",
       "        inline_js[i].call(root, root.Bokeh);\n",
       "      }if (force === true) {\n",
       "        display_loaded();\n",
       "      }} else if (Date.now() < root._bokeh_timeout) {\n",
       "      setTimeout(run_inline_js, 100);\n",
       "    } else if (!root._bokeh_failed_load) {\n",
       "      console.log(\"Bokeh: BokehJS failed to load within specified timeout.\");\n",
       "      root._bokeh_failed_load = true;\n",
       "    } else if (force !== true) {\n",
       "      var cell = $(document.getElementById(\"1001\")).parents('.cell').data().cell;\n",
       "      cell.output_area.append_execute_result(NB_LOAD_WARNING)\n",
       "    }\n",
       "\n",
       "  }\n",
       "\n",
       "  if (root._bokeh_is_loading === 0) {\n",
       "    console.debug(\"Bokeh: BokehJS loaded, going straight to plotting\");\n",
       "    run_inline_js();\n",
       "  } else {\n",
       "    load_libs(css_urls, js_urls, function() {\n",
       "      console.debug(\"Bokeh: BokehJS plotting callback run at\", now());\n",
       "      run_inline_js();\n",
       "    });\n",
       "  }\n",
       "}(window));"
      ],
      "application/vnd.bokehjs_load.v0+json": "\n(function(root) {\n  function now() {\n    return new Date();\n  }\n\n  var force = true;\n\n  if (typeof root._bokeh_onload_callbacks === \"undefined\" || force === true) {\n    root._bokeh_onload_callbacks = [];\n    root._bokeh_is_loading = undefined;\n  }\n\n  \n\n  \n  if (typeof (root._bokeh_timeout) === \"undefined\" || force === true) {\n    root._bokeh_timeout = Date.now() + 5000;\n    root._bokeh_failed_load = false;\n  }\n\n  var NB_LOAD_WARNING = {'data': {'text/html':\n     \"<div style='background-color: #fdd'>\\n\"+\n     \"<p>\\n\"+\n     \"BokehJS does not appear to have successfully loaded. If loading BokehJS from CDN, this \\n\"+\n     \"may be due to a slow or bad network connection. Possible fixes:\\n\"+\n     \"</p>\\n\"+\n     \"<ul>\\n\"+\n     \"<li>re-rerun `output_notebook()` to attempt to load from CDN again, or</li>\\n\"+\n     \"<li>use INLINE resources instead, as so:</li>\\n\"+\n     \"</ul>\\n\"+\n     \"<code>\\n\"+\n     \"from bokeh.resources import INLINE\\n\"+\n     \"output_notebook(resources=INLINE)\\n\"+\n     \"</code>\\n\"+\n     \"</div>\"}};\n\n  function display_loaded() {\n    var el = document.getElementById(\"1001\");\n    if (el != null) {\n      el.textContent = \"BokehJS is loading...\";\n    }\n    if (root.Bokeh !== undefined) {\n      if (el != null) {\n        el.textContent = \"BokehJS \" + root.Bokeh.version + \" successfully loaded.\";\n      }\n    } else if (Date.now() < root._bokeh_timeout) {\n      setTimeout(display_loaded, 100)\n    }\n  }\n\n\n  function run_callbacks() {\n    try {\n      root._bokeh_onload_callbacks.forEach(function(callback) {\n        if (callback != null)\n          callback();\n      });\n    } finally {\n      delete root._bokeh_onload_callbacks\n    }\n    console.debug(\"Bokeh: all callbacks have finished\");\n  }\n\n  function load_libs(css_urls, js_urls, callback) {\n    if (css_urls == null) css_urls = [];\n    if (js_urls == null) js_urls = [];\n\n    root._bokeh_onload_callbacks.push(callback);\n    if (root._bokeh_is_loading > 0) {\n      console.debug(\"Bokeh: BokehJS is being loaded, scheduling callback at\", now());\n      return null;\n    }\n    if (js_urls == null || js_urls.length === 0) {\n      run_callbacks();\n      return null;\n    }\n    console.debug(\"Bokeh: BokehJS not loaded, scheduling load and callback at\", now());\n    root._bokeh_is_loading = css_urls.length + js_urls.length;\n\n    function on_load() {\n      root._bokeh_is_loading--;\n      if (root._bokeh_is_loading === 0) {\n        console.debug(\"Bokeh: all BokehJS libraries/stylesheets loaded\");\n        run_callbacks()\n      }\n    }\n\n    function on_error() {\n      console.error(\"failed to load \" + url);\n    }\n\n    for (var i = 0; i < css_urls.length; i++) {\n      var url = css_urls[i];\n      const element = document.createElement(\"link\");\n      element.onload = on_load;\n      element.onerror = on_error;\n      element.rel = \"stylesheet\";\n      element.type = \"text/css\";\n      element.href = url;\n      console.debug(\"Bokeh: injecting link tag for BokehJS stylesheet: \", url);\n      document.body.appendChild(element);\n    }\n\n    for (var i = 0; i < js_urls.length; i++) {\n      var url = js_urls[i];\n      var element = document.createElement('script');\n      element.onload = on_load;\n      element.onerror = on_error;\n      element.async = false;\n      element.src = url;\n      console.debug(\"Bokeh: injecting script tag for BokehJS library: \", url);\n      document.head.appendChild(element);\n    }\n  };var element = document.getElementById(\"1001\");\n  if (element == null) {\n    console.error(\"Bokeh: ERROR: autoload.js configured with elementid '1001' but no matching script tag was found. \")\n    return false;\n  }\n\n  function inject_raw_css(css) {\n    const element = document.createElement(\"style\");\n    element.appendChild(document.createTextNode(css));\n    document.body.appendChild(element);\n  }\n\n  var js_urls = [\"https://cdn.pydata.org/bokeh/release/bokeh-1.2.0.min.js\", \"https://cdn.pydata.org/bokeh/release/bokeh-widgets-1.2.0.min.js\", \"https://cdn.pydata.org/bokeh/release/bokeh-tables-1.2.0.min.js\", \"https://cdn.pydata.org/bokeh/release/bokeh-gl-1.2.0.min.js\"];\n  var css_urls = [\"https://cdn.pydata.org/bokeh/release/bokeh-1.2.0.min.css\", \"https://cdn.pydata.org/bokeh/release/bokeh-widgets-1.2.0.min.css\", \"https://cdn.pydata.org/bokeh/release/bokeh-tables-1.2.0.min.css\"];\n\n  var inline_js = [\n    function(Bokeh) {\n      Bokeh.set_log_level(\"info\");\n    },\n    \n    function(Bokeh) {\n      \n    },\n    function(Bokeh) {} // ensure no trailing comma for IE\n  ];\n\n  function run_inline_js() {\n    \n    if ((root.Bokeh !== undefined) || (force === true)) {\n      for (var i = 0; i < inline_js.length; i++) {\n        inline_js[i].call(root, root.Bokeh);\n      }if (force === true) {\n        display_loaded();\n      }} else if (Date.now() < root._bokeh_timeout) {\n      setTimeout(run_inline_js, 100);\n    } else if (!root._bokeh_failed_load) {\n      console.log(\"Bokeh: BokehJS failed to load within specified timeout.\");\n      root._bokeh_failed_load = true;\n    } else if (force !== true) {\n      var cell = $(document.getElementById(\"1001\")).parents('.cell').data().cell;\n      cell.output_area.append_execute_result(NB_LOAD_WARNING)\n    }\n\n  }\n\n  if (root._bokeh_is_loading === 0) {\n    console.debug(\"Bokeh: BokehJS loaded, going straight to plotting\");\n    run_inline_js();\n  } else {\n    load_libs(css_urls, js_urls, function() {\n      console.debug(\"Bokeh: BokehJS plotting callback run at\", now());\n      run_inline_js();\n    });\n  }\n}(window));"
     },
     "metadata": {},
     "output_type": "display_data"
    }
   ],
   "source": [
    "from hail.plot import show\n",
    "from pprint import pprint\n",
    "hl.plot.output_notebook()"
   ]
  },
  {
   "cell_type": "code",
   "execution_count": 4,
   "metadata": {},
   "outputs": [],
   "source": [
    "data = hl.import_vcf('../data/hipsterIndex/hipster.vcf.bgz')"
   ]
  },
  {
   "cell_type": "code",
   "execution_count": 5,
   "metadata": {},
   "outputs": [
    {
     "name": "stderr",
     "output_type": "stream",
     "text": [
      "2019-07-16 15:42:55 Hail: INFO: Reading table with no type imputation\n",
      "  Loading column 'samples' as type 'str' (type not specified)\n",
      "  Loading column 'score' as type 'float64' (user-specified)\n",
      "  Loading column 'label' as type 'float64' (user-specified)\n",
      "\n"
     ]
    }
   ],
   "source": [
    "labels = hl.import_table('../data/hipsterIndex/hipster_labels.txt', delimiter=',', \n",
    "                types=dict(label='float64', score='float64')).key_by('samples')"
   ]
  },
  {
   "cell_type": "code",
   "execution_count": 9,
   "metadata": {},
   "outputs": [
    {
     "name": "stdout",
     "output_type": "stream",
     "text": [
      "----------------------------------------\n",
      "Global fields:\n",
      "    None\n",
      "----------------------------------------\n",
      "Column fields:\n",
      "    's': str\n",
      "    'hipster': struct {\n",
      "        score: float64, \n",
      "        label: float64\n",
      "    }\n",
      "----------------------------------------\n",
      "Row fields:\n",
      "    'locus': locus<GRCh37>\n",
      "    'alleles': array<str>\n",
      "    'rsid': str\n",
      "    'qual': float64\n",
      "    'filters': set<str>\n",
      "    'info': struct {\n",
      "        AA: str, \n",
      "        AC: array<int32>, \n",
      "        AF: array<float64>, \n",
      "        AFR_AF: array<float64>, \n",
      "        AMR_AF: array<float64>, \n",
      "        AN: int32, \n",
      "        CIEND: array<int32>, \n",
      "        CIPOS: array<int32>, \n",
      "        CS: str, \n",
      "        DP: int32, \n",
      "        EAS_AF: array<float64>, \n",
      "        END: int32, \n",
      "        EUR_AF: array<float64>, \n",
      "        EX_TARGET: bool, \n",
      "        IMPRECISE: bool, \n",
      "        MC: array<str>, \n",
      "        MEINFO: array<str>, \n",
      "        MEND: int32, \n",
      "        MLEN: int32, \n",
      "        MSTART: int32, \n",
      "        MULTI_ALLELIC: bool, \n",
      "        NS: int32, \n",
      "        SAS_AF: array<float64>, \n",
      "        SVLEN: array<int32>, \n",
      "        SVTYPE: str, \n",
      "        TSD: str, \n",
      "        VT: array<str>\n",
      "    }\n",
      "----------------------------------------\n",
      "Entry fields:\n",
      "    'GT': call\n",
      "----------------------------------------\n",
      "Column key: ['s']\n",
      "Row key: ['locus', 'alleles']\n",
      "----------------------------------------\n"
     ]
    }
   ],
   "source": [
    "mt = data.annotate_cols(hipster = labels[data.s])\n",
    "mt.describe()"
   ]
  },
  {
   "cell_type": "code",
   "execution_count": 10,
   "metadata": {},
   "outputs": [
    {
     "data": {
      "text/plain": [
       "(17010, 2504)"
      ]
     },
     "execution_count": 10,
     "metadata": {},
     "output_type": "execute_result"
    }
   ],
   "source": [
    "mt.count()"
   ]
  },
  {
   "cell_type": "code",
   "execution_count": 23,
   "metadata": {},
   "outputs": [],
   "source": [
    "from typing import *\n",
    "from hail.expr.expressions import *\n",
    "from hail.expr.types import *\n",
    "from hail.typecheck import *\n",
    "from hail.ir import *\n",
    "from hail.table import Table\n",
    "\n",
    "\n",
    "class RandomForestModel(object):\n",
    "    \n",
    "    def __init__(self,_mir):\n",
    "        self._mir = _mir\n",
    "        self._jrf_model = _jrf_model = Env.jvm().au.csiro.variantspark.hail.methods.RFModel.pyApply(Env.spark_backend('rf')._to_java_ir(self._mir))\n",
    "    \n",
    "    def fit_trees(self, n_trees = 500, batch_size = 100):\n",
    "        self._jrf_model.fitTrees(n_trees, batch_size)\n",
    "    \n",
    "    def oob_error(self):\n",
    "        return self._jrf_model.oobError()\n",
    "    \n",
    "    def variable_importance(self):\n",
    "        return Table._from_java(self._jrf_model.variableImportance())                      \n",
    "                                 \n",
    "        \n",
    "\n",
    "@typecheck(y=expr_float64,\n",
    "           x=expr_int32,\n",
    "           covariates=sequenceof(expr_float64))\n",
    "def random_forest_model(y, x, covariates=()):\n",
    "    \n",
    "    mt = matrix_table_source('random_forest_model/x', x)\n",
    "    check_entry_indexed('random_forest_model/x', x)\n",
    "    mts = mt._select_all(col_exprs=dict(y=y),\n",
    "                        row_exprs=dict(),\n",
    "                        col_key=[],\n",
    "                        entry_exprs=dict(e=x))\n",
    "    return RandomForestModel(mts._mir)\n",
    "\n"
   ]
  },
  {
   "cell_type": "code",
   "execution_count": 20,
   "metadata": {},
   "outputs": [],
   "source": [
    "rf_model = random_forest_model(y=mt.hipster.label,\n",
    "                    x=mt.GT.n_alt_alleles())\n",
    "rf_model.fit_trees()"
   ]
  },
  {
   "cell_type": "code",
   "execution_count": 26,
   "metadata": {},
   "outputs": [
    {
     "name": "stdout",
     "output_type": "stream",
     "text": [
      "0.18370607028753994\n"
     ]
    },
    {
     "name": "stderr",
     "output_type": "stream",
     "text": [
      "2019-07-16 15:57:12 Hail: INFO: Coerced sorted dataset\n"
     ]
    },
    {
     "data": {
      "text/html": [
       "<table><thead style=\"font-weight: bold;\"><tr><td>locus</td><td>alleles</td><td>importance</td></tr>\n",
       "<tr><td>locus&lt;GRCh37&gt;</td><td>array&lt;str&gt;</td><td>float64</td></tr>\n",
       "</thead><tbody><tr><td>2:109511398</td><td>[&quot;G&quot;,&quot;A&quot;]</td><td>7.54e-03</td></tr>\n",
       "<tr><td>2:109511454</td><td>[&quot;C&quot;,&quot;A&quot;]</td><td>2.67e-03</td></tr>\n",
       "<tr><td>2:109511463</td><td>[&quot;G&quot;,&quot;A&quot;]</td><td>1.29e-01</td></tr>\n",
       "<tr><td>2:109511467</td><td>[&quot;GACTC&quot;,&quot;G&quot;]</td><td>3.82e-01</td></tr>\n",
       "<tr><td>2:109511478</td><td>[&quot;C&quot;,&quot;T&quot;]</td><td>0.00e+00</td></tr>\n",
       "</tbody></table><p>showing top 5 rows</p>\n"
      ],
      "text/plain": [
       "+---------------+---------------+------------+\n",
       "| locus         | alleles       | importance |\n",
       "+---------------+---------------+------------+\n",
       "| locus<GRCh37> | array<str>    |    float64 |\n",
       "+---------------+---------------+------------+\n",
       "| 2:109511398   | [\"G\",\"A\"]     |   7.54e-03 |\n",
       "| 2:109511454   | [\"C\",\"A\"]     |   2.67e-03 |\n",
       "| 2:109511463   | [\"G\",\"A\"]     |   1.29e-01 |\n",
       "| 2:109511467   | [\"GACTC\",\"G\"] |   3.82e-01 |\n",
       "| 2:109511478   | [\"C\",\"T\"]     |   0.00e+00 |\n",
       "+---------------+---------------+------------+\n",
       "showing top 5 rows"
      ]
     },
     "metadata": {},
     "output_type": "display_data"
    }
   ],
   "source": [
    "print(rf_model.oob_error())\n",
    "impTable = rf_model.variable_importance()\n",
    "impTable.show(5)"
   ]
  },
  {
   "cell_type": "code",
   "execution_count": 32,
   "metadata": {},
   "outputs": [
    {
     "name": "stderr",
     "output_type": "stream",
     "text": [
      "2019-07-16 15:58:16 Hail: INFO: linear_regression_rows: running on 2504 samples for 1 response variable y,\n",
      "    with input variable x, and 1 additional covariate...\n"
     ]
    }
   ],
   "source": [
    "gwas = hl.linear_regression_rows(y=mt.hipster.score,\n",
    "                                 x=mt.GT.n_alt_alleles(),\n",
    "                                 covariates=[1.0],\n",
    "                                 pass_through=[mt.rsid])"
   ]
  },
  {
   "cell_type": "code",
   "execution_count": 29,
   "metadata": {},
   "outputs": [
    {
     "data": {
      "text/html": [
       "<table><thead style=\"font-weight: bold;\"><tr><td>locus</td><td>alleles</td><td>rsid</td><td>n</td><td>sum_x</td><td>y_transpose_x</td><td>beta</td><td>standard_error</td><td>t_stat</td><td>p_value</td></tr>\n",
       "<tr><td>locus&lt;GRCh37&gt;</td><td>array&lt;str&gt;</td><td>str</td><td>int32</td><td>float64</td><td>float64</td><td>float64</td><td>float64</td><td>float64</td><td>float64</td></tr>\n",
       "</thead><tbody><tr><td>2:109511398</td><td>[&quot;G&quot;,&quot;A&quot;]</td><td>&quot;rs150055772&quot;</td><td>2504</td><td>4.00e+00</td><td>3.50e+01</td><td>-7.03e-01</td><td>1.62e+00</td><td>-4.34e-01</td><td>6.64e-01</td></tr>\n",
       "<tr><td>2:109511454</td><td>[&quot;C&quot;,&quot;A&quot;]</td><td>&quot;rs558429529&quot;</td><td>2504</td><td>1.00e+00</td><td>1.15e+01</td><td>2.05e+00</td><td>3.24e+00</td><td>6.33e-01</td><td>5.27e-01</td></tr>\n",
       "<tr><td>2:109511463</td><td>[&quot;G&quot;,&quot;A&quot;]</td><td>&quot;rs200762071&quot;</td><td>2504</td><td>1.47e+02</td><td>1.30e+03</td><td>-5.79e-01</td><td>2.60e-01</td><td>-2.23e+00</td><td>2.61e-02</td></tr>\n",
       "<tr><td>2:109511467</td><td>[&quot;GACTC&quot;,&quot;G&quot;]</td><td>&quot;rs145115545&quot;</td><td>2504</td><td>5.47e+02</td><td>5.06e+03</td><td>-2.07e-01</td><td>1.42e-01</td><td>-1.45e+00</td><td>1.47e-01</td></tr>\n",
       "<tr><td>2:109511478</td><td>[&quot;C&quot;,&quot;T&quot;]</td><td>&quot;rs540842456&quot;</td><td>2504</td><td>1.00e+00</td><td>1.20e+01</td><td>2.55e+00</td><td>3.24e+00</td><td>7.88e-01</td><td>4.31e-01</td></tr>\n",
       "</tbody></table><p>showing top 5 rows</p>\n"
      ],
      "text/plain": [
       "+---------------+---------------+---------------+-------+----------+---------------+-----------+----------------+-----------+\n",
       "| locus         | alleles       | rsid          |     n |    sum_x | y_transpose_x |      beta | standard_error |    t_stat |\n",
       "+---------------+---------------+---------------+-------+----------+---------------+-----------+----------------+-----------+\n",
       "| locus<GRCh37> | array<str>    | str           | int32 |  float64 |       float64 |   float64 |        float64 |   float64 |\n",
       "+---------------+---------------+---------------+-------+----------+---------------+-----------+----------------+-----------+\n",
       "| 2:109511398   | [\"G\",\"A\"]     | \"rs150055772\" |  2504 | 4.00e+00 |      3.50e+01 | -7.03e-01 |       1.62e+00 | -4.34e-01 |\n",
       "| 2:109511454   | [\"C\",\"A\"]     | \"rs558429529\" |  2504 | 1.00e+00 |      1.15e+01 |  2.05e+00 |       3.24e+00 |  6.33e-01 |\n",
       "| 2:109511463   | [\"G\",\"A\"]     | \"rs200762071\" |  2504 | 1.47e+02 |      1.30e+03 | -5.79e-01 |       2.60e-01 | -2.23e+00 |\n",
       "| 2:109511467   | [\"GACTC\",\"G\"] | \"rs145115545\" |  2504 | 5.47e+02 |      5.06e+03 | -2.07e-01 |       1.42e-01 | -1.45e+00 |\n",
       "| 2:109511478   | [\"C\",\"T\"]     | \"rs540842456\" |  2504 | 1.00e+00 |      1.20e+01 |  2.55e+00 |       3.24e+00 |  7.88e-01 |\n",
       "+---------------+---------------+---------------+-------+----------+---------------+-----------+----------------+-----------+\n",
       "\n",
       "+----------+\n",
       "|  p_value |\n",
       "+----------+\n",
       "|  float64 |\n",
       "+----------+\n",
       "| 6.64e-01 |\n",
       "| 5.27e-01 |\n",
       "| 2.61e-02 |\n",
       "| 1.47e-01 |\n",
       "| 4.31e-01 |\n",
       "+----------+\n",
       "showing top 5 rows"
      ]
     },
     "metadata": {},
     "output_type": "display_data"
    }
   ],
   "source": [
    "gwas.show(5)"
   ]
  },
  {
   "cell_type": "code",
   "execution_count": 33,
   "metadata": {},
   "outputs": [],
   "source": [
    "gwas_with_imp = gwas.join(impTable)"
   ]
  },
  {
   "cell_type": "code",
   "execution_count": 35,
   "metadata": {},
   "outputs": [
    {
     "data": {
      "text/html": [
       "\n",
       "\n",
       "\n",
       "\n",
       "\n",
       "\n",
       "  <div class=\"bk-root\" id=\"ecf3afac-42b8-438d-bcf6-2bdc5d474b6f\" data-root-id=\"1002\"></div>\n"
      ]
     },
     "metadata": {},
     "output_type": "display_data"
    },
    {
     "data": {
      "application/javascript": [
       "(function(root) {\n",
       "  function embed_document(root) {\n",
       "    \n",
       "  var docs_json = {\"40d893e0-12b7-4ad0-965c-103f6730a6c8\":{\"roots\":{\"references\":[{\"attributes\":{\"below\":[{\"id\":\"1012\",\"type\":\"LinearAxis\"}],\"center\":[{\"id\":\"1016\",\"type\":\"Grid\"},{\"id\":\"1021\",\"type\":\"Grid\"}],\"left\":[{\"id\":\"1017\",\"type\":\"LinearAxis\"}],\"plot_height\":800,\"plot_width\":800,\"renderers\":[{\"id\":\"1041\",\"type\":\"GlyphRenderer\"}],\"title\":null,\"toolbar\":{\"id\":\"1028\",\"type\":\"Toolbar\"},\"x_range\":{\"id\":\"1004\",\"type\":\"DataRange1d\"},\"x_scale\":{\"id\":\"1008\",\"type\":\"LinearScale\"},\"y_range\":{\"id\":\"1006\",\"type\":\"DataRange1d\"},\"y_scale\":{\"id\":\"1010\",\"type\":\"LinearScale\"}},\"id\":\"1002\",\"subtype\":\"Figure\",\"type\":\"Plot\"},{\"attributes\":{\"active_drag\":\"auto\",\"active_inspect\":\"auto\",\"active_multi\":null,\"active_scroll\":\"auto\",\"active_tap\":\"auto\",\"tools\":[{\"id\":\"1022\",\"type\":\"PanTool\"},{\"id\":\"1023\",\"type\":\"WheelZoomTool\"},{\"id\":\"1024\",\"type\":\"BoxZoomTool\"},{\"id\":\"1025\",\"type\":\"SaveTool\"},{\"id\":\"1026\",\"type\":\"ResetTool\"},{\"id\":\"1027\",\"type\":\"HelpTool\"},{\"id\":\"1036\",\"type\":\"HoverTool\"}]},\"id\":\"1028\",\"type\":\"Toolbar\"},{\"attributes\":{\"formatter\":{\"id\":\"1046\",\"type\":\"BasicTickFormatter\"},\"ticker\":{\"id\":\"1013\",\"type\":\"BasicTicker\"}},\"id\":\"1012\",\"type\":\"LinearAxis\"},{\"attributes\":{},\"id\":\"1025\",\"type\":\"SaveTool\"},{\"attributes\":{},\"id\":\"1026\",\"type\":\"ResetTool\"},{\"attributes\":{},\"id\":\"1046\",\"type\":\"BasicTickFormatter\"},{\"attributes\":{\"overlay\":{\"id\":\"1048\",\"type\":\"BoxAnnotation\"}},\"id\":\"1024\",\"type\":\"BoxZoomTool\"},{\"attributes\":{\"fill_alpha\":{\"value\":0.1},\"fill_color\":{\"value\":\"#1f77b4\"},\"line_alpha\":{\"value\":0.1},\"line_color\":{\"value\":\"#1f77b4\"},\"x\":{\"field\":\"x\"},\"y\":{\"field\":\"y\"}},\"id\":\"1040\",\"type\":\"Circle\"},{\"attributes\":{},\"id\":\"1022\",\"type\":\"PanTool\"},{\"attributes\":{},\"id\":\"1044\",\"type\":\"BasicTickFormatter\"},{\"attributes\":{\"dimension\":1,\"ticker\":{\"id\":\"1018\",\"type\":\"BasicTicker\"}},\"id\":\"1021\",\"type\":\"Grid\"},{\"attributes\":{\"callback\":null,\"data\":{\"index\":[0,1,2,3,4,5,6,7,8,9,10,11,12,13,14,15,16,17,18,19,20,21,22,23,24,25,26,27,28,29,30,31,32,33,34,35,36,37,38,39,40,41,42,43,44,45,46,47,48,49,50,51,52,53,54,55,56,57,58,59,60,61,62,63,64,65,66,67,68,69,70,71,72,73,74,75,76,77,78,79,80,81,82,83,84,85,86,87,88,89,90,91,92,93,94,95,96,97,98,99,100,101,102,103,104,105,106,107,108,109,110,111,112,113,114,115,116,117,118,119,120,121,122,123,124,125,126,127,128,129,130,131,132,133,134,135,136,137,138,139,140,141,142,143,144,145,146,147,148,149,150,151,152,153,154,155,156,157,158,159,160,161,162,163,164,165,166,167,168,169,170,171,172,173,174,175,176,177,178,179,180,181,182,183,184,185,186,187,188,189,190,191,192,193,194,195,196,197,198,199,200,201,202,203,204,205,206,207,208,209,210,211,212,213,214,215,216,217,218,219,220,221,222,223,224,225,226,227,228,229,230,231,232,233,234,235,236,237,238,239,240,241,242,243,244,245,246,247,248,249,250,251,252,253,254,255,256,257,258,259,260,261,262,263,264,265,266,267,268,269,270,271,272,273,274,275,276,277,278,279,280,281,282,283,284,285,286,287,288,289,290,291,292,293,294,295,296,297,298,299,300,301,302,303,304,305,306,307,308,309,310,311,312,313,314,315,316,317,318,319,320,321,322,323,324,325,326,327,328,329,330,331,332,333,334,335,336,337,338,339,340,341,342,343,344,345,346,347,348,349,350,351,352,353,354,355,356,357,358,359,360,361,362,363,364,365,366,367,368,369,370,371,372,373,374,375,376,377,378,379,380,381,382,383,384,385,386,387,388,389,390,391,392,393,394,395,396,397,398,399,400,401,402,403,404,405,406,407,408,409,410,411,412,413,414,415,416,417,418,419,420,421,422,423,424,425,426,427,428,429,430,431,432,433,434,435,436,437,438,439,440,441,442,443,444,445,446,447,448,449,450,451,452,453,454,455,456,457,458,459,460,461,462,463,464,465,466,467,468,469,470,471,472,473,474,475,476,477,478,479,480,481,482,483,484,485,486,487,488,489,490,491,492,493,494,495,496,497,498,499,500,501,502,503,504,505,506,507,508,509,510,511,512,513,514,515,516,517,518,519,520,521,522,523,524,525,526,527,528,529,530,531,532,533,534,535,536,537,538,539,540,541,542,543,544,545,546,547,548,549,550,551,552,553,554,555,556,557,558,559,560,561,562,563,564,565,566,567,568,569,570,571,572,573,574,575,576,577,578,579,580,581,582,583,584,585,586,587,588,589,590,591,592,593,594,595,596,597,598,599,600,601,602,603,604,605,606,607],\"loc\":[\"15:66364019\",\"15:66491009\",\"15:66492810\",\"15:66357458\",\"5:126796531\",\"15:66470562\",\"15:66502169\",\"15:66473667\",\"5:126660301\",\"5:126640576\",\"15:66485337\",\"5:126715151\",\"15:66441275\",\"2:223034082\",\"15:66490763\",\"15:66429932\",\"15:66505276\",\"5:126687687\",\"5:126675068\",\"2:109512428\",\"5:126694437\",\"15:66528939\",\"5:126648201\",\"5:126654751\",\"15:66544488\",\"2:109513654\",\"5:126706883\",\"15:66314082\",\"5:126661380\",\"15:66489538\",\"5:126645646\",\"15:66487315\",\"15:66412257\",\"15:66272042\",\"15:66444003\",\"15:66329929\",\"5:126782325\",\"15:66497317\",\"2:223033978\",\"5:126691169\",\"15:75026149\",\"5:126682039\",\"15:66533708\",\"15:66428121\",\"5:126642357\",\"15:66402602\",\"5:126625548\",\"15:66506435\",\"5:126739085\",\"15:66427370\",\"5:126641296\",\"15:66398948\",\"15:66513852\",\"5:126662114\",\"5:126661600\",\"15:66527218\",\"15:66342629\",\"5:126683883\",\"15:66272491\",\"15:66431946\",\"5:126644681\",\"15:75029399\",\"5:126658500\",\"15:66340291\",\"5:126645705\",\"5:126652742\",\"5:126653607\",\"15:66356925\",\"15:66525055\",\"15:75029794\",\"15:75028490\",\"15:75029998\",\"15:66516978\",\"15:66540200\",\"5:126731876\",\"2:223033196\",\"15:66527843\",\"5:126640246\",\"5:126653950\",\"15:66390090\",\"15:66337783\",\"15:66272605\",\"15:66465825\",\"15:66485216\",\"15:66426995\",\"15:66444419\",\"5:126775739\",\"5:126642148\",\"15:66455366\",\"15:66402233\",\"15:66340274\",\"15:66445683\",\"15:66339349\",\"15:66545778\",\"5:126693280\",\"15:66411064\",\"15:66376940\",\"15:66304403\",\"15:66264207\",\"15:66323837\",\"15:66529124\",\"15:66252767\",\"15:66408092\",\"15:66331548\",\"15:66368685\",\"15:66523318\",\"15:66274690\",\"5:126669209\",\"5:126688400\",\"15:75029228\",\"5:126664039\",\"15:66462614\",\"15:66355050\",\"5:126674613\",\"15:66253733\",\"2:223032642\",\"15:66473865\",\"15:66499859\",\"4:54510874\",\"15:66400644\",\"15:66523602\",\"5:126699347\",\"5:126663406\",\"15:66371962\",\"5:126794160\",\"15:66247768\",\"5:126733924\",\"15:66490990\",\"5:126650411\",\"5:126713994\",\"15:66269504\",\"15:66519507\",\"15:66250499\",\"15:66516106\",\"15:66269804\",\"15:66503628\",\"15:66327556\",\"4:54511246\",\"15:66437036\",\"15:66260006\",\"15:66471172\",\"5:126725568\",\"2:223035940\",\"5:126639591\",\"15:66185803\",\"15:66300562\",\"15:66507214\",\"15:66206437\",\"15:66505919\",\"15:66312149\",\"5:126697138\",\"15:66534646\",\"15:66442953\",\"5:126639097\",\"5:126633958\",\"5:126637872\",\"15:66479252\",\"15:66480216\",\"15:66526139\",\"5:126639432\",\"15:66472631\",\"15:66204188\",\"15:66538980\",\"15:66309392\",\"15:66346470\",\"15:66475438\",\"5:126629170\",\"15:66267469\",\"15:66327646\",\"5:126697604\",\"15:66428619\",\"5:126774912\",\"5:126717984\",\"15:66441451\",\"15:66242510\",\"2:109511765\",\"15:66408147\",\"15:66542115\",\"5:126779202\",\"5:126789986\",\"15:66333251\",\"5:126636211\",\"15:66458834\",\"15:66506343\",\"15:66520854\",\"15:66519534\",\"15:66369817\",\"15:66434797\",\"15:66360088\",\"5:126628771\",\"15:66404169\",\"15:66497794\",\"15:66400117\",\"15:66401806\",\"7:17284085\",\"15:66525860\",\"5:126695127\",\"15:66448249\",\"5:126631841\",\"5:126644401\",\"15:66384263\",\"5:126655361\",\"15:66516376\",\"15:66518783\",\"15:66497265\",\"15:66260204\",\"5:126683416\",\"15:66512166\",\"5:126710915\",\"15:66420014\",\"5:126657766\",\"4:54511042\",\"2:223035313\",\"15:66276743\",\"2:223033006\",\"15:66267583\",\"5:126726847\",\"15:66407897\",\"15:66271824\",\"15:66462352\",\"15:66397544\",\"15:66434493\",\"5:126744956\",\"15:66396873\",\"15:66391812\",\"15:66304752\",\"15:66260480\",\"15:66389266\",\"15:66253117\",\"15:66499322\",\"15:66523184\",\"15:66321395\",\"15:66442784\",\"15:66534154\",\"5:126630491\",\"15:66504679\",\"15:66483776\",\"15:66432800\",\"5:126672710\",\"15:66496226\",\"15:66249807\",\"15:66337657\",\"15:66353695\",\"15:66433646\",\"15:66449018\",\"15:66326983\",\"15:66380254\",\"5:126634444\",\"5:126769874\",\"5:126633436\",\"15:66538917\",\"15:66322018\",\"5:126689438\",\"5:126669004\",\"5:126679402\",\"15:66527971\",\"15:66471668\",\"5:126725054\",\"15:66399400\",\"15:66454686\",\"15:66340499\",\"5:126727418\",\"15:66440149\",\"15:66470143\",\"15:66523769\",\"15:66545710\",\"5:126630016\",\"5:126626645\",\"4:54509759\",\"15:66251290\",\"15:66522358\",\"15:66541075\",\"15:66351895\",\"15:66474547\",\"15:66389121\",\"15:66448125\",\"15:66282617\",\"5:126650805\",\"15:66532203\",\"5:126683321\",\"5:126642563\",\"4:54513695\",\"5:126715759\",\"5:126657432\",\"15:66444199\",\"15:66360428\",\"5:126633827\",\"15:66503772\",\"15:66475879\",\"5:126678028\",\"15:66505051\",\"15:66299460\",\"15:66304916\",\"5:126687822\",\"15:66427967\",\"15:66411268\",\"15:66213923\",\"15:66508895\",\"15:75025988\",\"15:66518805\",\"15:66304148\",\"15:66335837\",\"15:66425000\",\"15:66378933\",\"5:126731259\",\"5:126644769\",\"5:126635667\",\"15:66482186\",\"5:126723562\",\"5:126689935\",\"5:126640205\",\"15:66481511\",\"5:126688517\",\"15:66271772\",\"5:126688726\",\"15:66464256\",\"15:66404557\",\"15:66422307\",\"5:126773180\",\"5:126653809\",\"15:66294695\",\"15:66379744\",\"5:126628584\",\"5:126643590\",\"4:54510427\",\"5:126792974\",\"15:66341925\",\"15:66416823\",\"5:126654970\",\"15:66400981\",\"15:66356577\",\"15:66263893\",\"5:126735871\",\"15:66498025\",\"5:126639196\",\"15:66446316\",\"7:17284687\",\"15:66328281\",\"2:223032504\",\"5:126695156\",\"15:66489681\",\"15:66427048\",\"5:126664981\",\"15:66272893\",\"15:66491961\",\"15:66438791\",\"15:66544562\",\"5:126636000\",\"15:66492156\",\"5:126683809\",\"15:66434132\",\"2:223034660\",\"15:66357037\",\"15:66476657\",\"15:66215920\",\"5:126641654\",\"5:126698023\",\"5:126636782\",\"15:75026627\",\"15:66466436\",\"15:66413280\",\"5:126683590\",\"15:66474044\",\"15:66372645\",\"5:126767961\",\"5:126639801\",\"15:66358498\",\"5:126727008\",\"5:126640971\",\"5:126667551\",\"5:126668683\",\"5:126675780\",\"15:66468342\",\"15:66271429\",\"5:126646864\",\"15:66482259\",\"15:66515534\",\"15:66516240\",\"15:66415107\",\"15:66198243\",\"15:66484687\",\"5:126632848\",\"5:126661774\",\"15:66538636\",\"5:126685374\",\"15:66503610\",\"15:66315478\",\"15:66483326\",\"5:126683373\",\"15:66242505\",\"15:66523366\",\"15:66393190\",\"15:66540097\",\"4:54513653\",\"5:126775462\",\"15:66453002\",\"15:66382973\",\"15:66377203\",\"5:126652710\",\"15:66307304\",\"5:126639135\",\"15:66404413\",\"5:126652407\",\"15:66264162\",\"5:126701622\",\"15:66418338\",\"2:223032002\",\"5:126645343\",\"5:126633404\",\"7:113989578\",\"15:66506698\",\"15:66526683\",\"15:66342128\",\"15:66531573\",\"15:66414557\",\"15:66348377\",\"5:126793219\",\"15:66397022\",\"7:113988537\",\"15:66444922\",\"15:66532036\",\"15:66429806\",\"15:66442510\",\"5:126796977\",\"15:66504551\",\"15:75027179\",\"4:54514026\",\"15:66478017\",\"5:126773064\",\"15:66392896\",\"5:126682354\",\"15:66465482\",\"15:66501793\",\"15:66540943\",\"15:66383667\",\"15:66539400\",\"15:66531211\",\"15:66411930\",\"5:126796585\",\"5:126656324\",\"15:66356429\",\"15:66499166\",\"5:126775113\",\"5:126777362\",\"15:66382987\",\"7:17284577\",\"5:126654623\",\"2:109514464\",\"15:66357425\",\"15:66337038\",\"15:66534231\",\"15:66311508\",\"15:66321141\",\"15:66483512\",\"5:126656500\",\"15:66520404\",\"5:126772748\",\"15:66397161\",\"5:126668770\",\"15:66427278\",\"5:126661519\",\"15:66227617\",\"5:126637782\",\"2:223033642\",\"15:66353928\",\"15:66443747\",\"5:126693265\",\"15:66479057\",\"15:66485419\",\"5:126698070\",\"15:66502054\",\"15:66358115\",\"15:66398794\",\"5:126626044\",\"15:66444389\",\"4:54513819\",\"4:54511711\",\"15:66217240\",\"15:66287518\",\"5:126628098\",\"15:66433196\",\"5:126657217\",\"2:223035211\",\"5:126644552\",\"15:66359486\",\"15:66334445\",\"15:66382336\",\"4:54511913\",\"15:66349799\",\"15:66532085\",\"15:66408139\",\"15:66529378\",\"15:66454979\",\"5:126645710\",\"15:66523414\",\"7:17285867\",\"5:126639025\",\"2:223034758\",\"15:66218312\",\"15:66430404\",\"15:66407805\",\"7:17282872\",\"15:66533587\",\"15:66455151\",\"5:126629112\",\"15:66503068\",\"5:126656998\",\"15:66309880\",\"5:126645738\",\"15:66314450\",\"5:126627875\",\"5:126647941\",\"5:126698345\",\"5:126797404\",\"5:126642675\",\"5:126655730\",\"5:126713978\",\"15:66407073\",\"5:126726851\",\"15:66522190\",\"5:126681193\",\"15:66339960\",\"15:66444548\",\"15:66438085\",\"15:66420191\",\"5:126632821\",\"15:66357980\",\"15:66256784\",\"15:66269700\",\"5:126795246\",\"15:66269482\",\"15:66314694\",\"15:66330819\",\"15:66459860\",\"15:66402440\",\"5:126635437\",\"15:66273477\",\"15:66479763\",\"15:66530553\",\"5:126655749\",\"15:66264965\",\"5:126751728\",\"5:126780212\",\"15:66481261\",\"5:126641770\",\"15:66381432\",\"15:66527278\",\"5:126630948\",\"15:66461531\",\"2:223033396\",\"5:126654062\",\"5:126764698\",\"15:66484459\",\"15:66526980\",\"7:17284989\",\"15:66484097\",\"15:66531312\",\"15:75029407\",\"5:126679697\",\"15:66504660\",\"15:66328124\",\"5:126694523\",\"15:66303141\",\"15:66526171\",\"15:66330946\",\"15:66522993\",\"15:66486158\",\"15:66349495\",\"15:66515921\",\"15:66376044\",\"5:126797292\",\"15:66510618\",\"5:126735334\",\"15:66303431\",\"5:126644632\",\"5:126780344\",\"5:126659892\",\"15:66480011\",\"15:66437695\",\"5:126642920\",\"15:66269052\",\"15:66317465\",\"15:66423068\",\"5:126636244\",\"2:223033030\",\"5:126697755\",\"15:66381722\",\"5:126645334\",\"5:126635083\",\"15:66520931\",\"7:113987889\",\"15:75027880\",\"15:66427789\",\"15:66338497\",\"15:66470760\",\"5:126651068\",\"7:113987281\",\"15:66481836\",\"15:66306746\",\"5:126644396\",\"15:66375010\",\"7:17282974\",\"5:126635055\",\"15:66361057\",\"5:126689489\",\"5:126686756\",\"5:126650182\",\"15:66464302\"],\"rs\":[\"rs189284670\",\"rs12916574\",\"rs11637021\",\"rs1351032\",\"rs35236935\",\"rs62009886\",\"rs10851753\",\"rs79429679\",\"rs31472\",\"rs2546080\",\"rs77658335\",\"rs79713470\",\"rs16949565\",\"rs2218065\",\"rs7181467\",\"rs61480315\",\"rs1466434\",\"rs43148\",\"rs17673170\",\"rs3749096\",\"rs26947\",\"rs12442953\",\"rs1422317\",\"rs185150222\",\"rs112943670\",\"rs12623957\",\"rs12657844\",\"rs512953\",\"rs31471\",\"rs4776759\",\"rs2546805\",\"rs185845255\",\"rs7172880\",\"rs11854757\",\"rs7162499\",\"rs333593\",\"rs10072587\",\"rs551199754\",\"rs2196751\",\"rs73344966\",\"rs17861118\",\"rs246895\",\"rs56841180\",\"rs75427642\",\"rs116194529\",\"rs72744426\",\"rs2408868\",\"rs144910307\",\"rs6877254\",\"rs55648467\",\"rs2585194\",\"rs6494553\",\"rs80253188\",\"rs26945\",\"rs33930493\",\"rs5813383\",\"rs77555548\",\"rs27652\",\"rs388813\",\"rs8025818\",\"rs2254762\",\"rs8030076\",\"rs152122\",\"rs112189578\",\"rs201053818\",\"rs246946\",\"rs138731838\",\"rs11856955\",\"rs16949704\",\"rs538839787\",\"rs11072500\",\"rs76354137\",\"rs201260840\",\"rs144220879\",\"rs2059084\",\"rs13411329\",\"rs34276626\",\"rs1816059\",\"rs246948\",\"rs59635353\",\"rs333601\",\"rs437111\",\"rs11071864\",\"rs58467912\",\"rs7166796\",\"rs1551862\",\"rs13190032\",\"rs2585192\",\"rs75779403\",\"rs74342722\",\"rs333606\",\"rs7176051\",\"rs3852627\",\"rs545805358\",\"rs144085293\",\"rs16949520\",\"rs561254299\",\"rs113413922\",\"rs333562\",\"rs333584\",\"rs10152880\",\"rs16949158\",\"rs72744439\",\"rs333596\",\"rs11412871\",\"rs74458581\",\"rs551474\",\"rs145619126\",\"rs72788505\",\"rs77021813\",\"rs36307\",\"rs79099915\",\"rs7179823\",\"rs27782\",\"rs333567\",\"rs986430\",\"rs145921300;rs11071866\",\"rs3903011\",\"rs6816209\",\"rs67053960\",\"rs11630348\",\"rs35525\",\"rs11285616\",\"rs75530576\",\"rs75528418\",\"rs75265185\",\"rs78811203\",\"rs34986709\",\"rs1345664\",\"rs200918920\",\"rs372969314\",\"rs7170773\",\"rs78168532\",\"rs4578594\",\"rs511563\",\"rs112462909\",\"rs333590\",\"rs2616389\",\"rs7174196\",\"rs186729\",\"rs1871002\",\"rs4401615\",\"rs11690945\",\"rs2431496\",\"rs61543049\",\"rs384141\",\"rs59790844\",\"rs16949096\",\"rs10572080\",\"rs333610\",\"rs35527\",\"rs7182525\",\"rs550598582;rs571338567\",\"rs2546807\",\"rs2585196\",\"rs2546806\",\"rs1351030\",\"rs899079\",\"rs60637615\",\"rs2585195\",\"rs115502036\",\"rs116748454\",\"rs528305247\",\"rs28505203\",\"rs73483408\",\"rs12594615\",\"rs12519784\",\"rs409309\",\"rs333591\",\"rs72788513\",\"rs74021642\",\"rs56853109\",\"rs35529\",\"rs147773125\",\"rs77593068\",\"rs10865025\",\"rs76738861\",\"rs28396254\",\"rs61031224\",\"rs76912327\",\"rs11374661\",\"rs2546809\",\"rs183916369\",\"rs16949699\",\"rs78426331\",\"rs7172408\",\"rs4776717\",\"rs12148564\",\"rs533767383\",\"rs4836317\",\"rs11071859\",\"rs79393235\",\"rs1993832\",\"rs77153434\",\"rs6943079\",\"rs57893351\",\"rs35528\",\"rs73469746\",\"rs2585200\",\"rs2546803\",\"rs1477793\",\"rs73785580\",\"rs139211535\",\"rs28735605\",\"rs193092807\",\"rs333555\",\"rs187514\",\"rs7170633\",\"rs34537147\",\"rs16949541\",\"rs559620165\",\"rs2590770\",\"rs66885466\",\"rs112126245\",\"rs529478087\",\"rs432396\",\"rs2008432\",\"rs7167001\",\"rs407596\",\"rs566112961;rs546156411\",\"rs2035183\",\"rs118185051\",\"rs56320297\",\"rs4776727\",\"rs62011845\",\"rs9920551\",\"rs11855269\",\"rs67774488\",\"rs12592034\",\"rs58731318\",\"rs10518680\",\"rs2552180\",\"rs77659626\",\"rs17256910\",\"rs200086613\",\"rs10152272\",\"rs28702433\",\"rs4776281\",\"rs77589749\",\"rs11636681\",\"rs333569\",\"rs173006\",\"rs1871004\",\"rs111307102\",\"rs567063694\",\"rs56267112\",\"rs1600053\",\"rs2194080\",\"rs10078629\",\"rs970546\",\"rs58788302\",\"rs333582\",\"rs1160960\",\"rs26944\",\"rs246897\",\"rs1531496\",\"rs35894123\",\"rs10041484\",\"rs34441247\",\"rs1542528\",\"rs333607\",\"rs1153432\",\"rs75398334\",\"rs61212481\",\"rs11631331\",\"rs112753173\",\"rs1422313\",\"rs2032834\",\"rs6818959\",\"rs72742832\",\"rs12915138\",\"rs7164161\",\"rs6494544\",\"rs118184036\",\"rs11071857\",\"rs12903880\",\"rs2414897\",\"rs2546087\",\"rs12324509\",\"rs56096254\",\"rs2546083\",\"rs75912591\",\"rs113091845\",\"rs246889\",\"rs1026676\",\"rs1550029\",\"rs2585197\",\"rs28671402\",\"rs201381470\",\"rs17839696\",\"rs5813381\",\"rs2552176\",\"rs441949\",\"rs36308\",\"rs12442373\",\"rs12905607\",\"rs2113688\",\"rs55922529\",\"rs4886605\",\"rs11637056\",\"rs4776711\",\"rs471751\",\"rs4776741\",\"rs62011842\",\"rs13171067\",\"rs1422315\",\"rs1345662\",\"rs201607865\",\"rs9327438\",\"rs55918025\",\"rs1816058\",\"rs12148773\",\"rs185033\",\"rs428658\",\"rs73344962\",\"rs80026360\",\"rs78247694\",\"rs4776737\",\"rs6859181\",\"rs246947\",\"rs333544\",\"rs4776721\",\"rs112394041\",\"rs2585191\",\"rs2668552\",\"rs3812052\",\"rs333608\",\"rs4776736\",\"rs246885\",\"rs79394158\",\"rs12148577\",\"rs333558\",\"rs17839693\",\"rs11071872\",\"rs56169866\",\"rs74697753\",\"rs77000981\",\"rs112054411\",\"rs36054640\",\"rs114688352\",\"rs11071869\",\"rs7166955\",\"rs27749\",\"rs449841\",\"rs4776290\",\"rs58922794\",\"rs67789133\",\"rs7702573\",\"rs1382053\",\"rs27388\",\"rs2100898\",\"rs985473\",\"rs112463730\",\"rs7180751\",\"rs11638908\",\"rs2546082\",\"rs35156178\",\"rs17165082\",\"rs11631784\",\"rs8029386\",\"rs2126698\",\"rs72786494\",\"rs4776758\",\"rs12912161\",\"rs6866678\",\"rs2431724\",\"rs8035974\",\"rs1019482\",\"rs2546081\",\"rs27562\",\"rs2546078\",\"rs78120546\",\"rs56947022\",\"rs368614\",\"rs2161283\",\"rs7181353\",\"rs11856933\",\"rs4291865\",\"rs140789134\",\"rs3217276\",\"rs145941530\",\"rs2585198\",\"rs31470\",\"rs2899716\",\"rs550745558\",\"rs71398251\",\"rs375962533\",\"rs36126350\",\"rs56144110\",\"rs333549\",\"rs58066095\",\"rs200551556\",\"rs111463682\",\"rs539249144;rs200448899\",\"rs2408872\",\"rs147184281\",\"rs28650396\",\"rs7183527\",\"rs246945\",\"rs11350229\",\"rs2546808\",\"rs36022006\",\"rs246944\",\"rs333560\",\"rs35524\",\"rs899086\",\"rs7607981\",\"rs2546086\",\"rs73785574\",\"rs2690827\",\"rs1003990\",\"rs7164024\",\"rs8035289\",\"rs8039721\",\"rs146608960\",\"rs6494543\",\"rs10793809\",\"rs6494552\",\"rs2690826\",\"rs28378876\",\"rs12324047\",\"rs4776744\",\"rs34841836\",\"rs73348768\",\"rs10152285\",\"rs17861120\",\"rs79162003\",\"rs10851751\",\"rs6859304\",\"rs28406928\",\"rs246894\",\"rs77017234;rs374348330\",\"rs7171352\",\"rs1531495\",\"rs12148647\",\"rs12901736\",\"rs12916788\",\"rs6494554\",\"rs2898043\",\"rs3050850\",\"rs8025652\",\"rs3940877\",\"rs34451603\",\"rs59745564\",\"rs6494550\",\"rs4410790\",\"rs2439927\",\"rs940928\",\"rs1351033\",\"rs369167174\",\"rs7176478\",\"rs333609\",\"rs333581\",\"rs7164771\",\"rs152120\",\"rs530071380\",\"rs12514969\",\"rs34890708\",\"rs142732871\",\"rs4776743\",\"rs10550881\",\"rs62014447\",\"rs57623356\",\"rs2218064\",\"rs4371110\",\"rs11071860\",\"rs246892\",\"rs1351031\",\"rs118056499\",\"rs77198001\",\"rs11637608\",\"rs6494547\",\"rs4776728\",\"rs1363387\",\"rs62009880\",\"rs6858782\",\"rs2668551\",\"rs12903123\",\"rs333570\",\"rs2194079\",\"rs997204\",\"rs152121\",\"rs5838931\",\"rs2546804\",\"rs9783681\",\"rs199704077\",\"rs8041690\",\"rs4864809\",\"rs521504\",\"rs12324050\",\"rs7167565\",\"rs10152900\",\"rs12592877\",\"rs541675801\",\"rs147871108\",\"rs10281571\",\"rs2546079\",\"rs71050391\",\"rs114715602\",\"rs4776746\",\"rs72744435\",\"rs79710531\",\"rs57771609\",\"rs61629746\",\"rs4836318\",\"rs72746205\",\"rs246888\",\"rs116059338\",\"rs13153845\",\"rs167996\",\"rs4836316\",\"rs1422316\",\"rs35526\",\"rs4836324\",\"rs2546084\",\"rs246886\",\"rs113289788\",\"rs141423962\",\"rs1318923\",\"rs28729796\",\"rs114244425\",\"rs28524799\",\"rs376622119\",\"rs7181974\",\"rs368595662\",\"rs2585199\",\"rs6494546\",\"rs16949168\",\"rs693217\",\"rs3756722\",\"rs2437056\",\"rs76048285\",\"rs1465484\",\"rs138152110\",\"rs78221649\",\"rs35796097\",\"rs5813369\",\"rs78550588\",\"rs12910607\",\"rs246887\",\"rs183481\",\"rs6595770\",\"rs12516897\",\"rs8035387\",\"rs2585193\",\"rs4601990\",\"rs12903154\",\"rs2059083\",\"rs7182128\",\"rs11895863\",\"rs185032\",\"rs17164951\",\"rs79776501\",\"rs12902933\",\"rs10277582\",\"rs35722900\",\"rs10152957\",\"rs8029744\",\"rs246896\",\"rs62009949\",\"rs28573797\",\"rs27563\",\"rs425030\",\"rs7181124\",\"rs1465485\",\"rs12900376\",\"rs540220942\",\"rs333577\",\"rs11637593\",\"rs62011840\",\"rs4836323\",\"rs8039102\",\"rs10519939\",\"rs141791226\",\"rs72786459\",\"rs10519941\",\"rs34208116\",\"rs61268822\",\"rs139635829\",\"rs2546085\",\"rs377422\",\"rs621616\",\"rs137881134\",\"rs73785576\",\"rs16863473\",\"rs78259230\",\"rs16949428\",\"rs2585190\",\"rs2018571\",\"rs6494558\",\"rs2690825\",\"rs2472297\",\"rs55900744\",\"rs34967625\",\"rs8026425\",\"rs246943\",\"rs1527146\",\"rs11634258\",\"rs373570159\",\"rs2546802\",\"rs573618864\",\"rs17137451\",\"rs1808378\",\"rs2899714\",\"rs26946\",\"rs185030\",\"rs1345663\",\"rs12914469\"],\"x\":{\"__ndarray__\":\"W8Vkj29LBkA78TTDZNkFQH7QVtsyYBpA3QJZZXHRFEBfOcoR+vlHQHkt0zv6jeE/Q3GKhVA+BED/BY0/0N/xP9tFtklA1VZAdDvucu8mV0ALEIuQZZ4NQBWeMOqMPzBAbnfPSbg3BUD9tO3Sk4xkQGgNN4AFefM/7A0URJjZ4z806tKalxoYQGKv61La6UtAqBePPzxwMkA4/CvEeFIFQEmayUs4C1hAtNErp4HLFkAYjUjBvwtgQCrVI+N7pSNAo7tpXdZoCUBvmTa2NYsMQN51hPdxgSdAUB9Gc2IvH0C1W769KG1hQAXLfOiWcRdAtbGlt7gdV0A4LGV4W0cAQITJ3RWY+QZA7WRyuS+fJUDw7rx6dDkMQPu2m1xiEB1AY50VazX7S0B0SPQhZWX5P8C63NRif0lAtLqYPmXbH0C9Gq4ITWoQQIICy269eFRAESwc1iujFEDLd3ffFNsJQMfuWJvtkilAgpVzNoBSAUBBcxikKctgQHAjguQQUAhAnAfQA6dWSkCp4tmYHawMQATDFOViY1RAZnSL06XRlD9XkAhMLtwVQHZ+E58XXGNAAPaxVi+tRECCXXLpv90YQK6dVCARbxdAnlFHesWMVECdv6yn5+wlQB5dVsekTABAkDAgmsC7VkAhQO7dE8MWQGURNs0rhVZAIcmO80/D9D/ycblkj0dQQLkm3o9aVVRAsYNVo5qCNEBAtGTzIwYhQF301/lLYcA/CUdYz0ctqj+N8Fpq5QMrQCTvPbCeThVA+QMZOrmpE0AKXcGIAyIPQJFQuFGQSENAdjtQynFPJEDKCy8M83AfQLjf2iw3p1pA2yx9wgQRVUBCHgzugokgQKdmasdsNBRAATsbkWaXH0BS91YW17cfQAVXoLK3YP0/5kMce2tv9j+FOChb4pECQHVviAkLBUxAynOvMTFpVEDTj1ZD2MoSQDgaiPl42w5AXbuv3I07IEAqIYwMOooDQAThqYZAVwVAICZ6218l/T+9lnHL6ZxRQAcmoyzpqf0/HIZeq38S/T9uYz25nnIbQPcI4fZb+BxAJRJPa58/IUAN5fQUl/khQC+bH24FSRlAyHFqRw5e+z+Mbo9+lLAQQMXWpwIH4Pg/SIbTyFBn8z8lyt1ge38cQNgLpkNuwk9A0tVxPHLtL0AU25EQ4jcSQGtbd5XHKV5ALW3+XCV7AkBhzTzeDTwTQKfs729gPF1A1NHKWv8WJ0BI0+Wnh+o2QPFbdoy8KhNAWuBPlnq+tT/sOxSnMRlBQNFceR3kQwRAvHULHOzSIECCWid6cplHQMenchVFsC5AQv7x7xrk/D8QzhOSCwspQB38r2AceBNA6g/2nI0pIkBdpW02zgPyP6yzKq2hhFZAnl+oRfPIEkDg0XC5p5EoQFeMAaOzQhVAC5GB/LNVFkAc8XVjn1MZQKDeHeoOSSRAG+wGKw2yEEB0qXUKqWAeQGaLFEruUSBAguX4jaHNtj9+SSdSr5ogQGv/KMRAahpAWr0i+IxJREDX0wzJ1UpHQDKHnE/36GJAJIEZWqY1IECCeJZm5QUfQEbfNy9c9LM/l5LvgFHHAUBFQpS4InEAQI7eXRZcCRVAC9maipaDSkD/CQhyJe0FQKk85PaoahRA1//6BpGRYkBkTSIj/hJYQI5RExwEQFZAecAsUc4jJUBncOkseDgiQDwVm0ZnxPY/MoecT/foYkDstTdfGo8LQM0zJCQhohVAa+BwPB+YEkDNoh7c/LgDQIVESZjSWvk/+3kUxj52/j8RjNjdHcVpQCo4IgA51CJAWABqvq2TGUBODR5PGIQoQLoawM2a0BJAFBoceIv6GkBIanO/agREQH6FFArLeiNAt3TLgHnkD0DhKpF5OsoPQN1MIkHOsAJAsQBsurOEG0AUGhx4i/oaQES4A+PLRCNAOZqscCAI9D+nuIg3uNljQJdz1e+3sAZAan7cBaL32z8x36p0HZ/tP7A5aO+2ahRAI3yB5ogFGEBLuemZukXwP5Dkgv8Zvt8/Ky3EaWhDckDz450D4tkBQHXGDGsmJvo/f7zQ8gVLIUDSXsTzQLD3PyTIO+ylLypA+YPxdexRF0CZQx31gsgwQCAbfg0eWB9ADmfhAdwLZEDrMwcCjbRWQD4J1td3oAhAqf1mVHCXJ0C3er+u9FoRQPnjcgV3DRlARzmfNenQBkAAJpVe9+oZQP3Xv7Bq8FFALfBB1pCPJEDlSOJtPmlBQHLv/VMrjN0/7Q/HX9deVkBI9eMsqAgXQOju9A6KlUhAxIlREPJ5E0A91oeg1xgqQEKvBe5MeRJAV3SU7jFBSUA3pQKHlkz9PzRpG0X9ZBtAeVCpcaQuDECpMk972/cJQFbSMkgSyeU/dWyOuFFUO0CJ05fAvGHjP3TEk7wosL0/Gvi+FswVDUDzf6gSjPcRQJImFBv9wvY/P7O+0i6ZH0CzJ06p32MBQFXdMq3PviBA+blSIN8fHUDoycxhuTHxP/l+XyT8FBZAHOea5e8LQ0DdnMWY8bUHQMBZt8LF4gJAc2z+6w1kEED2xdvdW4gxQKX+bKstbeE/W55BKdaCI0CnZmrHbDQUQLg2lC503hBAzUymtIdSD0B4VLKc6kblP+RKEORldgNAUUvCzvY/HECM3Bp0214tQFCVgsHMQjtAQVyysJQDWEDj4qmp02sTQFat+zWhDgJA7MtqLXKFWEAZUH9Zjv5RQN+/+uaqs1pAUKPD3LByFkAhMvS7gcX1PyFGq3clOERA2rmHTs5T1j8aDhfz+W8EQKeIomeEYB1A8gzF1YoFRED1Up+ZeDUEQEWUL64Q9ec/GJv43Yc4IEAce7dbewQgQCstxGloQ3JA/ApFgmU7ckCQI+io0DJBQG7oVgjr+RlAMB+64DhBFkBwmsgedPn3PwMx4iZsyhZA880PfW+XB0AFPZBvZ7QBQMMIjLzkHhRAYy6NG6ZZIECssyqtoYRWQMgdj2FCF/s/eoIXy1n9KECaW90U01JUQI4NNowvviFAXu9w6z7XR0CPuJiIFXROQLzcISLvEQ1Acjk/1oOkCUCvOPl3BuZlQIBPiTjCSB5A2q4BZuvl6D8Y+BKZToorQEH6shdAz/I/NMDkDDXPIUBTRLgh+AUTQD8dFh09mVhATwcLNiYkBEBT10m8VsT7P0WzPlzayg5Am1kfXvESJUA39tpZASItQF0/rVYM1hRALW2FAVrpE0Aa3S1Ql2gcQAnSB7A1PxhAM3I3QC1H+D/Q5P526Z1QQIRFd3HHX1RAgkoZ1WXSY0B8/AgSFxjkP4Fe51IXcz9AiQZdowmCJ0BJ/oJ2pLJXQDYx65N7/Ow/7MtqLXKFWEBtDAdaMfIoQCbM+q2Jrh9APfXt8jSiDUBfNo9A0zQHQCIp0+o8Rw1ATdHO0f72QkBeVtGLL5FWQGrrngTneB9ABzYNlQbi2j8rLcRpaENyQIRFd3HHX1RAObPRIGyEIEBzdl7IeuZLQEcf5S2bGhRAqz+FzhgfGEDY7g7nuZVkQPna+spkOxhA1ZZfFY57EUAqtr9qGyYhQPVxXPrtAxFARXLesELpF0CzD4ZUh54lQLz46r0z0g5AM7PsulnvGkAAm9Vaq7QIQCcXK0qc4SFA2zQzLjrtHUBzLF52t0EaQC1fmazU+fc/UVmwHyJcY0B4YMWxlIwmQAOe9cIoxBhAeeuzBWQ00T/hfguG+FoUQKcjkinRySVAJSCFbJrqFECA/kOrpBtSQP9szrd2uvE/rn2Bc8xwTECDiQkP9joRQMLpkpJyjhpArOxThPPvEkDAztwWcLVWQBPbgrL8pVFAr3B7csd7KUBiX3BdPawRQOhBC/Pw8RxAAxBbGCAm/z+RKycdXPouQG3i3I0XMB9AXxXn+m9l/j9aNhRrn34/QAaFN6BCxlZAWCUv7aBNF0BJKHv7pQpRQFvxv+gICVVAmSbkr/0kUkD/S9YOGQFdQGYb8r+tRDBAo/gKFN8YAEBabtkvbvgjQEs7bx1XkFZAehpilbBDH0AueZoCzfUZQMZ5FHk5vBpA55dcWbisDkDcqUjVEnwTQGnQsaBSsBlAuHeYhHXAY0BNbO5OEbhbQLrMpGqdGQlAUxCl5cogVEDRYnNXTUMEQBWnz3GzQRVAqJ2u9IZyHkB6ghfLWf0oQC67MouctR5A/eVn2m5N9T/VX47QuwMBQPmLxu+Rsg1AzCXbBUYRG0CZ415HtSJMQDZMEuQ+huo/dOpXoaRdBkCXsyc02xUQQF8NWQRSG1tAPNabgWh3HkCOURMcBEBWQIoYDVh568o/SmpYPXZ3VkD3YW4biIQjQNgFM57zay5Akq7k6oEaeD/WQbFhZq0WQPbceoKb5lRATmlukpvFJUDHoHNf/aoCQIqBI1/NhRhAburabeCboT+/yZ6f0dThP1jo7FG4KA9As8hzbWbs7D8k8veKhxn+P8e1643iVT5A6aiwlF0I4T/ba1LmDfsBQJYe2t9bVPw/C9h4FA6z8D8Yj+MWDEQNQB84UCxpTvA/rynlu1QTG0DrPO7ihe8lQN1aOxIYLRNAqpbqxk1HGUAC+bGmUnIKQGVQVMQYgEhAC35XYG6B+j+EQiSKQ4JSQECV/qRN2es/oVwzDb71DkB+0tLeRb4bQASTpfUJXxJAd6GMxp3/9T+/SeaxdlEgQCs9klrqsuk/rYoo+yflQECGTSiH7KlVQOuhU1jMxRZACbYX92Hdvz9bs9yB6ehIQMKBrnMpUT9AfP+qgbtQGUCSwPEsbUtiQOVzUh0QyFZALSCSTR8u9z9e18nAluIRQArw4xZJnhRA9Q6IEnuLF0CuBAFdi1AOQCvW5vxjNB9AZrlRnsXmG0DTmp4PMbJjQL0cX2PcqL4/gMPg4Db4S0AxvjvLxwAGQD1bn4h+ISlAXpLDIm00EUBJ0NQ4wvpPQLhYZIbFiRBAEqDb2/yxJUCufYFzzHBMQLsVf7M0lQ1AexsBhSEyC0BolzN3Sj1RQJqzOoWstxxA/ltb+mybB0AXMSav9VoqQHkKtyQIefw/ia88mGhzEUCuOFOqdCUWQFMnK6ugpnJAOEylsqpT/j9Z1VUuFHQ7QGBNN5nYWiBA2/pMCKT5IEByoNrkAbQhQLgrZpNVjWRAvMVqLRsJ4T8+YQf8zYViQImQoX6QBEhAhEV3ccdfVEBvidEOfDL7P5enLEgNwxdAfP+qgbtQGUBMFcyTLplBQLnGDJWAFhhADZs8veva8D9P6sZUAzL9P0vdY5ACHyJAWAKSg8UY6z8a2iZ4zb9MQOlijWIkvvU/H4b1tLXaQ0ACbxnCZetVQA116Js8xjFAI0Nqdvx7GkBHYTJXYb0CQPXyR6gXU+U/wWS6kpzPJUBzJVllnw4cQAM0MhZNABNAiAlAk5AyckDa37qxjZTwP1fJ9t4VHVdAEUUULzW8DUCmH6oloZVUQHBJ1XnGXB1AVnL35CKPckDsDx6XYMZkQJBN3fIq61dAMj6D/jtORkCHPOrBLl5UQKdrTFVhu2NAcjSOA/0lIEA2L5SjLWDlP8PMl0SyBEpAfH55KyVYFkDS8qU6o/YjQKsfSnoFCfY/ku7Mkqyj8T+4mvxMBkr0P5zgisrlBQhAuHeYhHXAY0AE3ozQPbMUQD9RBHjTIiJAvfpI5ZdHI0AXcVnRVyhCQHFJ+nmW4ShAZFftPUaE+D/8ak2v06EJQEjLx6ZGygdA+w9s2HBUAUD2ZxEtP1BYQCNr1FG6qRRAU5dQ0gU2GUDfNrOf0ggiQItl3DuYe2NA/r3m2FHYHkCPNDdvjnlEQI0F4LFbrkhAUjgiPCh9B0CERXdxx19UQJ+jvCR16BZAaBsS/PeBIUBrwcS2REtyQIwRtmJNVBdASNPlp4fqNkBeVtGLL5FWQOJIK5PqvB1Aqpyym2mbC0AtnK7krHMhQNqLBKxKY0VA0uN/2rwZC0DFQijvDN8hQAGalqYZdRJAYqzZoOcCWEBKMScLWB3+P5J71unr3QVAoUFt55X9UEAN/PzAXYMMQKs8FENnDBdAr4wGQdY6CkDHHH7XS5gYQPffDE/AbQ5AUKqc47E6C0BOK9bp4/AaQELpZz2MowZA6k+fbbdSSEDlDYAliKwSQPhUQLBbFCpAAWWjchWx5D/5Ph+a6d47QCOTJdufyEtAXdWfTf8zVkAyY9rSKSX0P4wJP0R4rhBAhEV3ccdfVEBjf508LSUfQEg0uADhNSBA86iWVTGSEkCzD4ZUh54lQMq1Ta7vmUlA3kBtdYszMUBofEkzJz/9P9kxJxkWPlRAVf0DG8XPY0DEzDTYV8MYQDikz5c7fPs/nOj1bmAAHEDVbybp3/AQQEEKZdeoit0/7LU3XxqPC0CssyqtoYRWQKe5i69JrwRAQubJ6TVL6z8VdrkHpkEEQBtlr6TzV1RAn7lnemIHFkBPG1J0MqcvQFX9AxvFz2NAX7cASou3B0Dsy2otcoVYQEACY8QMcUxAyOpVXayaW0AsLLijEmsJQA==\",\"dtype\":\"float64\",\"shape\":[608]},\"y\":{\"__ndarray__\":\"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\",\"dtype\":\"float64\",\"shape\":[608]}},\"selected\":{\"id\":\"1049\",\"type\":\"Selection\"},\"selection_policy\":{\"id\":\"1050\",\"type\":\"UnionRenderers\"}},\"id\":\"1037\",\"type\":\"ColumnDataSource\"},{\"attributes\":{},\"id\":\"1023\",\"type\":\"WheelZoomTool\"},{\"attributes\":{\"source\":{\"id\":\"1037\",\"type\":\"ColumnDataSource\"}},\"id\":\"1042\",\"type\":\"CDSView\"},{\"attributes\":{\"formatter\":{\"id\":\"1044\",\"type\":\"BasicTickFormatter\"},\"ticker\":{\"id\":\"1018\",\"type\":\"BasicTicker\"}},\"id\":\"1017\",\"type\":\"LinearAxis\"},{\"attributes\":{\"callback\":null,\"tooltips\":[[\"x\",\"@x\"],[\"y\",\"@y\"],[\"loc\",\"@loc\"],[\"rs\",\"@rs\"]]},\"id\":\"1036\",\"type\":\"HoverTool\"},{\"attributes\":{},\"id\":\"1050\",\"type\":\"UnionRenderers\"},{\"attributes\":{},\"id\":\"1008\",\"type\":\"LinearScale\"},{\"attributes\":{},\"id\":\"1049\",\"type\":\"Selection\"},{\"attributes\":{\"ticker\":{\"id\":\"1013\",\"type\":\"BasicTicker\"}},\"id\":\"1016\",\"type\":\"Grid\"},{\"attributes\":{\"fill_color\":{\"value\":\"#1f77b4\"},\"line_color\":{\"value\":\"#1f77b4\"},\"x\":{\"field\":\"x\"},\"y\":{\"field\":\"y\"}},\"id\":\"1039\",\"type\":\"Circle\"},{\"attributes\":{},\"id\":\"1010\",\"type\":\"LinearScale\"},{\"attributes\":{\"data_source\":{\"id\":\"1037\",\"type\":\"ColumnDataSource\"},\"glyph\":{\"id\":\"1039\",\"type\":\"Circle\"},\"hover_glyph\":null,\"muted_glyph\":null,\"nonselection_glyph\":{\"id\":\"1040\",\"type\":\"Circle\"},\"selection_glyph\":null,\"view\":{\"id\":\"1042\",\"type\":\"CDSView\"}},\"id\":\"1041\",\"type\":\"GlyphRenderer\"},{\"attributes\":{\"callback\":null},\"id\":\"1006\",\"type\":\"DataRange1d\"},{\"attributes\":{},\"id\":\"1018\",\"type\":\"BasicTicker\"},{\"attributes\":{},\"id\":\"1027\",\"type\":\"HelpTool\"},{\"attributes\":{},\"id\":\"1013\",\"type\":\"BasicTicker\"},{\"attributes\":{\"callback\":null},\"id\":\"1004\",\"type\":\"DataRange1d\"},{\"attributes\":{\"bottom_units\":\"screen\",\"fill_alpha\":{\"value\":0.5},\"fill_color\":{\"value\":\"lightgrey\"},\"left_units\":\"screen\",\"level\":\"overlay\",\"line_alpha\":{\"value\":1.0},\"line_color\":{\"value\":\"black\"},\"line_dash\":[4,4],\"line_width\":{\"value\":2},\"render_mode\":\"css\",\"right_units\":\"screen\",\"top_units\":\"screen\"},\"id\":\"1048\",\"type\":\"BoxAnnotation\"}],\"root_ids\":[\"1002\"]},\"title\":\"Bokeh Application\",\"version\":\"1.2.0\"}};\n",
       "  var render_items = [{\"docid\":\"40d893e0-12b7-4ad0-965c-103f6730a6c8\",\"roots\":{\"1002\":\"ecf3afac-42b8-438d-bcf6-2bdc5d474b6f\"}}];\n",
       "  root.Bokeh.embed.embed_items_notebook(docs_json, render_items);\n",
       "\n",
       "  }\n",
       "  if (root.Bokeh !== undefined) {\n",
       "    embed_document(root);\n",
       "  } else {\n",
       "    var attempts = 0;\n",
       "    var timer = setInterval(function(root) {\n",
       "      if (root.Bokeh !== undefined) {\n",
       "        embed_document(root);\n",
       "        clearInterval(timer);\n",
       "      }\n",
       "      attempts++;\n",
       "      if (attempts > 100) {\n",
       "        console.log(\"Bokeh: ERROR: Unable to run BokehJS code because BokehJS library is missing\");\n",
       "        clearInterval(timer);\n",
       "      }\n",
       "    }, 10, root)\n",
       "  }\n",
       "})(window);"
      ],
      "application/vnd.bokehjs_exec.v0+json": ""
     },
     "metadata": {
      "application/vnd.bokehjs_exec.v0+json": {
       "id": "1002"
      }
     },
     "output_type": "display_data"
    }
   ],
   "source": [
    "p = hl.plot.scatter(-hail.log10(gwas_with_imp.p_value),\n",
    "                    gwas_with_imp.importance, \n",
    "                    hover_fields=dict(rs=gwas_with_imp.rsid, loc=gwas_with_imp.locus))\n",
    "show(p)"
   ]
  },
  {
   "cell_type": "code",
   "execution_count": 36,
   "metadata": {},
   "outputs": [
    {
     "data": {
      "text/html": [
       "\n",
       "\n",
       "\n",
       "\n",
       "\n",
       "\n",
       "  <div class=\"bk-root\" id=\"52b7d1f8-c634-4a1d-9a8b-dd6a0546b4c5\" data-root-id=\"1100\"></div>\n"
      ]
     },
     "metadata": {},
     "output_type": "display_data"
    },
    {
     "data": {
      "application/javascript": [
       "(function(root) {\n",
       "  function embed_document(root) {\n",
       "    \n",
       "  var docs_json = {\"c75d8128-9110-4787-8c12-27f790edd5d5\":{\"roots\":{\"references\":[{\"attributes\":{\"below\":[{\"id\":\"1110\",\"type\":\"LinearAxis\"}],\"center\":[{\"id\":\"1114\",\"type\":\"Grid\"},{\"id\":\"1119\",\"type\":\"Grid\"}],\"left\":[{\"id\":\"1115\",\"type\":\"LinearAxis\"},{\"id\":\"1171\",\"type\":\"Legend\"},{\"id\":\"1172\",\"type\":\"ColorBar\"}],\"plot_width\":1000,\"renderers\":[{\"id\":\"1141\",\"type\":\"GlyphRenderer\"},{\"id\":\"1147\",\"type\":\"GlyphRenderer\"},{\"id\":\"1153\",\"type\":\"GlyphRenderer\"},{\"id\":\"1159\",\"type\":\"GlyphRenderer\"},{\"id\":\"1165\",\"type\":\"GlyphRenderer\"},{\"id\":\"1193\",\"type\":\"Span\"}],\"title\":null,\"toolbar\":{\"id\":\"1126\",\"type\":\"Toolbar\"},\"x_range\":{\"id\":\"1102\",\"type\":\"DataRange1d\"},\"x_scale\":{\"id\":\"1106\",\"type\":\"LinearScale\"},\"y_range\":{\"id\":\"1104\",\"type\":\"DataRange1d\"},\"y_scale\":{\"id\":\"1108\",\"type\":\"LinearScale\"}},\"id\":\"1100\",\"subtype\":\"Figure\",\"type\":\"Plot\"},{\"attributes\":{\"callback\":null,\"data\":{\"_contig\":[\"5\",\"4\",\"5\",\"15\",\"15\",\"5\",\"15\",\"5\",\"5\",\"15\",\"5\",\"2\",\"5\",\"5\",\"5\",\"5\",\"5\",\"7\",\"15\",\"2\",\"5\",\"4\",\"5\",\"15\",\"5\",\"5\",\"4\",\"2\",\"5\",\"5\",\"5\",\"5\",\"5\",\"2\",\"2\",\"15\",\"5\",\"15\",\"5\",\"5\",\"7\",\"5\",\"15\",\"2\",\"5\",\"15\",\"5\",\"2\",\"15\",\"15\",\"7\",\"5\",\"2\",\"4\",\"2\",\"4\",\"5\",\"7\",\"5\",\"5\",\"5\",\"15\",\"5\",\"5\",\"7\",\"2\",\"2\",\"15\",\"5\",\"5\",\"5\",\"15\",\"4\",\"5\",\"5\",\"7\",\"15\",\"4\",\"7\",\"5\",\"2\",\"2\",\"5\",\"7\",\"2\",\"2\",\"7\",\"5\",\"5\",\"5\",\"5\",\"5\",\"15\",\"15\",\"5\",\"2\",\"4\",\"4\",\"7\",\"5\",\"5\",\"5\",\"2\",\"5\",\"7\",\"5\",\"5\",\"2\",\"2\",\"7\",\"5\",\"5\",\"5\",\"5\",\"5\",\"5\",\"15\",\"5\",\"5\",\"5\",\"5\",\"15\",\"15\",\"7\",\"15\",\"15\",\"15\",\"5\",\"5\",\"5\",\"2\",\"2\",\"7\",\"15\",\"5\",\"5\",\"5\",\"7\",\"15\",\"15\",\"2\",\"5\",\"5\",\"5\",\"5\",\"5\",\"15\",\"5\",\"5\",\"5\",\"5\",\"5\",\"2\",\"7\",\"5\",\"5\",\"15\",\"5\",\"5\",\"15\",\"5\",\"5\",\"4\",\"5\",\"5\",\"5\",\"7\",\"5\",\"4\",\"2\",\"15\",\"15\",\"15\",\"15\",\"2\",\"5\",\"2\",\"4\",\"15\",\"4\",\"2\",\"5\",\"2\",\"5\",\"5\",\"5\",\"5\",\"5\",\"5\",\"15\",\"2\",\"5\",\"5\",\"15\",\"2\",\"2\",\"5\",\"2\",\"15\",\"2\",\"5\",\"5\",\"4\",\"5\",\"5\",\"7\",\"5\",\"5\",\"5\",\"5\",\"4\",\"2\",\"4\",\"5\",\"4\",\"5\",\"15\",\"15\",\"5\",\"5\",\"7\",\"5\",\"15\",\"5\",\"15\",\"5\",\"15\",\"7\",\"5\",\"7\",\"5\",\"5\",\"15\",\"2\",\"5\",\"4\",\"5\",\"5\",\"4\",\"5\",\"5\",\"5\",\"5\",\"15\",\"7\",\"5\",\"7\",\"5\",\"5\",\"5\",\"5\",\"5\",\"5\",\"5\",\"15\",\"5\",\"4\",\"15\",\"15\",\"5\",\"7\",\"4\",\"5\",\"15\",\"15\",\"5\",\"15\",\"5\",\"5\",\"5\",\"2\",\"15\",\"5\",\"5\",\"7\",\"15\",\"5\",\"5\",\"5\",\"5\",\"5\",\"5\",\"2\",\"5\",\"2\",\"7\",\"15\",\"7\",\"5\",\"5\",\"5\",\"2\",\"5\",\"7\"],\"_global_locus\":{\"__ndarray__\":\"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\",\"dtype\":\"float64\",\"shape\":[294]},\"_pval\":{\"__ndarray__\":\"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\",\"dtype\":\"float64\",\"shape\":[294]},\"index\":[0,1,2,3,4,5,6,7,8,9,10,11,12,13,14,15,16,17,18,19,20,21,22,23,24,25,26,27,28,29,30,31,32,33,34,35,36,37,38,39,40,41,42,43,44,45,46,47,48,49,50,51,52,53,54,55,56,57,58,59,60,61,62,63,64,65,66,67,68,69,70,71,72,73,74,75,76,77,78,79,80,81,82,83,84,85,86,87,88,89,90,91,92,93,94,95,96,97,98,99,100,101,102,103,104,105,106,107,108,109,110,111,112,113,114,115,116,117,118,119,120,121,122,123,124,125,126,127,128,129,130,131,132,133,134,135,136,137,138,139,140,141,142,143,144,145,146,147,148,149,150,151,152,153,154,155,156,157,158,159,160,161,162,163,164,165,166,167,168,169,170,171,172,173,174,175,176,177,178,179,180,181,182,183,184,185,186,187,188,189,190,191,192,193,194,195,196,197,198,199,200,201,202,203,204,205,206,207,208,209,210,211,212,213,214,215,216,217,218,219,220,221,222,223,224,225,226,227,228,229,230,231,232,233,234,235,236,237,238,239,240,241,242,243,244,245,246,247,248,249,250,251,252,253,254,255,256,257,258,259,260,261,262,263,264,265,266,267,268,269,270,271,272,273,274,275,276,277,278,279,280,281,282,283,284,285,286,287,288,289,290,291,292,293],\"locus\":[\"5:126694523\",\"4:54510021\",\"5:126656324\",\"15:66388795\",\"15:66483326\",\"5:126669004\",\"15:75029228\",\"5:126756659\",\"5:126638727\",\"15:66332288\",\"5:126636211\",\"2:223033196\",\"5:126776307\",\"5:126685374\",\"5:126626645\",\"5:126639025\",\"5:126739085\",\"7:17283759\",\"15:75028490\",\"2:223033396\",\"5:126630948\",\"4:54510894\",\"5:126667551\",\"15:75028283\",\"5:126656500\",\"5:126644632\",\"4:54511711\",\"2:223033030\",\"5:126658500\",\"5:126664981\",\"5:126674613\",\"5:126640205\",\"5:126761536\",\"2:109512379\",\"2:109511579\",\"15:75027880\",\"5:126755778\",\"15:66530274\",\"5:126701622\",\"5:126645705\",\"7:17284577\",\"5:126793219\",\"15:75028233\",\"2:109513654\",\"5:126695127\",\"15:66271772\",\"5:126798856\",\"2:223035313\",\"15:66529378\",\"15:66504551\",\"7:113990596\",\"5:126652742\",\"2:223033006\",\"4:54513653\",\"2:223034961\",\"4:54513660\",\"5:126683883\",\"7:113987281\",\"5:126689489\",\"5:126668683\",\"5:126654970\",\"15:66512166\",\"5:126683590\",\"5:126639591\",\"7:17286817\",\"2:223034082\",\"2:109514192\",\"15:66402233\",\"5:126645343\",\"5:126682039\",\"5:126798558\",\"15:75027432\",\"4:54514122\",\"5:126697755\",\"5:126798623\",\"7:17282872\",\"15:66438961\",\"4:54511174\",\"7:113991440\",\"5:126706883\",\"2:223033725\",\"2:223035940\",\"5:126654623\",\"7:113987889\",\"2:109515567\",\"2:109511525\",\"7:113990931\",\"5:126735334\",\"5:126697138\",\"5:126661774\",\"5:126713978\",\"5:126679402\",\"15:66339349\",\"15:66413349\",\"5:126795246\",\"2:223035211\",\"4:54513484\",\"4:54511913\",\"7:113990352\",\"5:126751728\",\"5:126638459\",\"5:126642357\",\"2:223034758\",\"5:126661519\",\"7:17282507\",\"5:126753050\",\"5:126788465\",\"2:223036224\",\"2:223036256\",\"7:17286802\",\"5:126795159\",\"5:126647941\",\"5:126698023\",\"5:126631841\",\"5:126659892\",\"5:126629170\",\"15:66526977\",\"5:126789986\",\"5:126635437\",\"5:126627875\",\"5:126698345\",\"15:66432798\",\"15:66448125\",\"7:17286770\",\"15:66484687\",\"15:75029399\",\"15:66483393\",\"5:126731259\",\"5:126656998\",\"5:126679697\",\"2:223035113\",\"2:223032504\",\"7:113991207\",\"15:66464013\",\"5:126625548\",\"5:126661380\",\"5:126682354\",\"7:17286087\",\"15:66540943\",\"15:75026149\",\"2:109513786\",\"5:126672710\",\"5:126715759\",\"5:126640576\",\"5:126796531\",\"5:126774949\",\"15:75025814\",\"5:126697604\",\"5:126710915\",\"5:126731876\",\"5:126756907\",\"5:126753565\",\"2:109514579\",\"7:17285867\",\"5:126648201\",\"5:126645710\",\"15:66491961\",\"5:126650182\",\"5:126645334\",\"15:66508895\",\"5:126634444\",\"5:126639135\",\"4:54514026\",\"5:126797617\",\"5:126639269\",\"5:126764698\",\"7:17286734\",\"5:126796585\",\"4:54509759\",\"2:223033867\",\"15:75028564\",\"15:66523602\",\"15:66357425\",\"15:75026189\",\"2:223036258\",\"5:126645738\",\"2:223033978\",\"4:54513695\",\"15:66441451\",\"4:54510874\",\"2:223031835\",\"5:126633827\",\"2:109514985\",\"5:126631791\",\"5:126725568\",\"5:126768694\",\"5:126769874\",\"5:126693265\",\"5:126691169\",\"15:66545710\",\"2:223033621\",\"5:126629112\",\"5:126727418\",\"15:75025988\",\"2:223032680\",\"2:109515025\",\"5:126640971\",\"2:223035359\",\"15:66528319\",\"2:109511467\",\"5:126630491\",\"5:126655730\",\"4:54509910\",\"5:126775113\",\"5:126792974\",\"7:17284996\",\"5:126655749\",\"5:126686756\",\"5:126773180\",\"5:126798794\",\"4:54512721\",\"2:223034770\",\"4:54510074\",\"5:126733924\",\"4:54513106\",\"5:126726847\",\"15:75029472\",\"15:66253733\",\"5:126626044\",\"5:126797292\",\"7:17286293\",\"5:126653950\",\"15:66533708\",\"5:126681193\",\"15:75027770\",\"5:126678028\",\"15:66269700\",\"7:113990996\",\"5:126661600\",\"7:17284989\",\"5:126657766\",\"5:126644401\",\"15:66389315\",\"2:223035136\",\"5:126669209\",\"4:54514062\",\"5:126664039\",\"5:126660301\",\"4:54513107\",\"5:126779202\",\"5:126773064\",\"5:126630016\",\"5:126780212\",\"15:66445500\",\"7:17286050\",\"5:126775739\",\"7:17284085\",\"5:126693280\",\"5:126675068\",\"5:126727008\",\"5:126652710\",\"5:126657432\",\"5:126683809\",\"5:126794160\",\"15:75029998\",\"5:126657217\",\"4:54513819\",\"15:75029712\",\"15:66314450\",\"5:126726851\",\"7:17283259\",\"4:54510826\",\"5:126735430\",\"15:66511120\",\"15:66269504\",\"5:126797404\",\"15:66358115\",\"5:126797293\",\"5:126767961\",\"5:126683416\",\"2:223034660\",\"15:66450974\",\"5:126694437\",\"5:126798501\",\"7:17286708\",\"15:66272893\",\"5:126639097\",\"5:126780344\",\"5:126757447\",\"5:126642563\",\"5:126654062\",\"5:126687822\",\"2:109513109\",\"5:126777362\",\"2:109513601\",\"7:17282974\",\"15:75027179\",\"7:113991250\",\"5:126757200\",\"5:126715151\",\"5:126653607\",\"2:223033853\",\"5:126699347\",\"7:17284687\"],\"p_value\":{\"__ndarray__\":\"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\",\"dtype\":\"float64\",\"shape\":[294]},\"ri\":[\"rs27563\",\"rs75718680\",\"rs3050850\",\"rs79605318\",\"rs36126350\",\"rs26944\",\"rs77021813\",\"rs377341077\",\"rs4836319\",\"rs534981188\",\"rs2546809\",\"rs13411329\",\"rs60681812\",\"rs550745558\",\"rs2032834\",\"rs2546079\",\"rs6877254\",\"rs191388420\",\"rs11072500\",\"rs11895863\",\"rs2059083\",\"rs148731887\",\"rs27562\",\"rs150488464\",\"rs152120\",\"rs72786459\",\"rs2668551\",\"rs16863473\",\"rs152122\",\"rs27749\",\"rs27782\",\"rs1816058\",\"rs6883445\",\"rs548719602\",\"rs187935909\",\"rs2472297\",\"rs202106748\",\"rs4776293\",\"rs35524\",\"rs201053818\",\"rs4410790\",\"rs10793809\",\"rs145741270\",\"rs12623957\",\"rs35528\",\"rs428658\",\"rs73348777\",\"rs66885466\",\"rs10152900\",\"rs10152285\",\"rs546495336\",\"rs246946\",\"rs529478087\",\"rs539249144;rs200448899\",\"rs192694189\",\"rs17663341\",\"rs27652\",\"rs1527146\",\"rs26946\",\"rs2546078\",\"rs246885\",\"rs7170633\",\"rs72786494\",\"rs2431496\",\"rs532738234\",\"rs2218065\",\"rs2378217\",\"rs74342722\",\"rs2546086\",\"rs246895\",\"rs17164922\",\"rs17861121\",\"rs75893784\",\"rs78259230\",\"rs185293501\",\"rs79710531\",\"rs35259179\",\"rs140334180\",\"rs529657511\",\"rs12657844\",\"rs558223447\",\"rs11690945\",\"rs2439927\",\"rs2690825\",\"rs76935644\",\"rs147877575\",\"rs182081686\",\"rs10519939\",\"rs35527\",\"rs31470\",\"rs113289788\",\"rs246897\",\"rs3852627\",\"rs560790583\",\"rs3756722\",\"rs5838931\",\"rs566145844\",\"rs4864809\",\"rs2049604\",\"rs6595770\",\"rs2898042\",\"rs116194529\",\"rs71050391\",\"rs10550881\",\"rs62444547\",\"rs79655685\",\"rs143619269\",\"esv3594421\",\"rs79922615\",\"rs543502886\",\"rs3756721\",\"rs1422316\",\"rs35156178\",\"rs2585200\",\"rs34208116\",\"rs12519784\",\"rs7164601\",\"rs76912327\",\"rs35796097\",\"rs4836316\",\"rs35526\",\"rs72744450\",\"rs12903880\",\"rs112089609\",\"rs145941530\",\"rs8030076\",\"rs141650370\",\"rs13171067\",\"rs246888\",\"rs246896\",\"rs141263619\",\"rs36054640\",\"rs192442536\",\"rs76900736\",\"rs2408868\",\"rs31471\",\"rs246894\",\"rs79694830\",\"rs1531495\",\"rs17861118\",\"rs3789738\",\"rs77589749\",\"rs113091845\",\"rs2546080\",\"rs35236935\",\"rs575868720\",\"rs12441817\",\"rs72788513\",\"rs34537147\",\"rs2059084\",\"rs563314825\",\"rs539466377\",\"rs7591765\",\"rs10281571\",\"rs1422317\",\"rs541675801\",\"rs4776290\",\"rs1345663\",\"rs2585190\",\"rs55922529\",\"rs2194080\",\"rs2546808\",\"rs79162003\",\"rs150096931\",\"rs56084567\",\"rs17164951\",\"rs73680638\",\"rs2898043\",\"rs6818959\",\"rs80199364\",\"rs560176967\",\"rs11630348\",\"rs1351033\",\"rs561452716\",\"rs551240079\",\"rs13153845\",\"rs2196751\",\"rs75912591\",\"rs147773125\",\"rs6816209\",\"rs114946697\",\"rs2585197\",\"rs11689836\",\"rs17165102\",\"rs4401615\",\"rs529654685\",\"rs10078629\",\"rs246892\",\"rs73344966\",\"rs112753173\",\"rs146512362\",\"rs4836318\",\"rs1153432\",\"rs4886605\",\"rs371522534\",\"rs60288156\",\"rs2546081\",\"rs13431945\",\"rs12442223\",\"rs145115545\",\"rs200086613\",\"rs246886\",\"rs139265415\",\"rs34451603\",\"rs3812052\",\"rs549050018\",\"rs246887\",\"rs185030\",\"rs6859181\",\"rs115104068\",\"rs73250977\",\"rs201276449\",\"rs560982174\",\"rs78811203\",\"rs2668550\",\"rs2008432\",\"rs76255041\",\"rs333567\",\"rs1363387\",\"rs4836323\",\"rs147427004\",\"rs246948\",\"rs56841180\",\"rs114244425\",\"rs182435674\",\"rs17839696\",\"rs693217\",\"rs79307074\",\"rs33930493\",\"rs10277582\",\"rs559620165\",\"rs2546803\",\"rs536793855\",\"rs184491207\",\"rs145619126\",\"rs559531437\",\"rs36307\",\"rs31472\",\"rs77894545\",\"rs61031224\",\"rs6859304\",\"rs1422313\",\"rs12516897\",\"rs116575620\",\"rs185214789\",\"rs13190032\",\"rs6943079\",\"rs144085293\",\"rs17673170\",\"rs1019482\",\"rs246945\",\"rs246889\",\"rs27388\",\"rs75528418\",\"rs76354137\",\"rs152121\",\"rs6858782\",\"rs531617087\",\"rs167996\",\"rs1318923\",\"rs145880637\",\"rs1477873\",\"rs251031\",\"rs548033886\",\"rs372969314\",\"rs4836324\",\"rs6494547\",\"rs188714805\",\"rs6866678\",\"rs187514\",\"rs985473\",\"rs9888704\",\"rs26947\",\"rs150008348\",\"rs571979050\",\"rs449841\",\"rs2546807\",\"rs10519941\",\"rs77610038\",\"rs2546083\",\"rs185032\",\"rs36308\",\"rs148961371\",\"rs59745564\",\"rs3827760\",\"rs17137451\",\"rs17861120\",\"rs184002280\",\"rs149139462\",\"rs79713470\",\"rs138731838\",\"rs79534778\",\"rs35525\",\"rs77000981\"]},\"selected\":{\"id\":\"1182\",\"type\":\"Selection\"},\"selection_policy\":{\"id\":\"1183\",\"type\":\"UnionRenderers\"}},\"id\":\"1135\",\"type\":\"ColumnDataSource\"},{\"attributes\":{\"callback\":null},\"id\":\"1102\",\"type\":\"DataRange1d\"},{\"attributes\":{\"label\":{\"value\":\"4\"},\"renderers\":[{\"id\":\"1153\",\"type\":\"GlyphRenderer\"}]},\"id\":\"1168\",\"type\":\"LegendItem\"},{\"attributes\":{\"color_mapper\":null,\"formatter\":{\"id\":\"1178\",\"type\":\"BasicTickFormatter\"},\"ticker\":{\"id\":\"1179\",\"type\":\"BasicTicker\"},\"visible\":false},\"id\":\"1172\",\"type\":\"ColorBar\"},{\"attributes\":{},\"id\":\"1180\",\"type\":\"BasicTickFormatter\"},{\"attributes\":{\"fill_alpha\":{\"value\":0.1},\"fill_color\":{\"value\":\"#1f77b4\"},\"line_alpha\":{\"value\":0.1},\"line_color\":{\"value\":\"#1f77b4\"},\"x\":{\"field\":\"_global_locus\"},\"y\":{\"field\":\"_pval\"}},\"id\":\"1158\",\"type\":\"Circle\"},{\"attributes\":{},\"id\":\"1121\",\"type\":\"WheelZoomTool\"},{\"attributes\":{\"bottom_units\":\"screen\",\"fill_alpha\":{\"value\":0.5},\"fill_color\":{\"value\":\"lightgrey\"},\"left_units\":\"screen\",\"level\":\"overlay\",\"line_alpha\":{\"value\":1.0},\"line_color\":{\"value\":\"black\"},\"line_dash\":[4,4],\"line_width\":{\"value\":2},\"render_mode\":\"css\",\"right_units\":\"screen\",\"top_units\":\"screen\"},\"id\":\"1181\",\"type\":\"BoxAnnotation\"},{\"attributes\":{\"axis_label\":\"Chromosome\",\"formatter\":{\"id\":\"1180\",\"type\":\"BasicTickFormatter\"},\"major_label_overrides\":{\"1313226357\":\"7\",\"2358551414\":\"15\",\"370850306\":\"2\",\"786049561\":\"4\",\"972084329\":\"5\"},\"ticker\":{\"id\":\"1173\",\"type\":\"FixedTicker\"}},\"id\":\"1110\",\"type\":\"LinearAxis\"},{\"attributes\":{\"overlay\":{\"id\":\"1181\",\"type\":\"BoxAnnotation\"}},\"id\":\"1122\",\"type\":\"BoxZoomTool\"},{\"attributes\":{\"fill_color\":{\"field\":\"_contig\",\"transform\":{\"id\":\"1099\",\"type\":\"CategoricalColorMapper\"}},\"line_color\":{\"field\":\"_contig\",\"transform\":{\"id\":\"1099\",\"type\":\"CategoricalColorMapper\"}},\"x\":{\"field\":\"_global_locus\"},\"y\":{\"field\":\"_pval\"}},\"id\":\"1145\",\"type\":\"Circle\"},{\"attributes\":{\"label\":{\"value\":\"7\"},\"renderers\":[{\"id\":\"1165\",\"type\":\"GlyphRenderer\"}]},\"id\":\"1170\",\"type\":\"LegendItem\"},{\"attributes\":{},\"id\":\"1182\",\"type\":\"Selection\"},{\"attributes\":{\"data_source\":{\"id\":\"1135\",\"type\":\"ColumnDataSource\"},\"glyph\":{\"id\":\"1139\",\"type\":\"Circle\"},\"hover_glyph\":null,\"muted_glyph\":null,\"nonselection_glyph\":{\"id\":\"1140\",\"type\":\"Circle\"},\"selection_glyph\":null,\"view\":{\"id\":\"1137\",\"type\":\"CDSView\"}},\"id\":\"1141\",\"type\":\"GlyphRenderer\"},{\"attributes\":{\"fill_alpha\":{\"value\":0.1},\"fill_color\":{\"value\":\"#1f77b4\"},\"line_alpha\":{\"value\":0.1},\"line_color\":{\"value\":\"#1f77b4\"},\"x\":{\"field\":\"_global_locus\"},\"y\":{\"field\":\"_pval\"}},\"id\":\"1140\",\"type\":\"Circle\"},{\"attributes\":{\"filters\":[{\"id\":\"1160\",\"type\":\"GroupFilter\"}],\"source\":{\"id\":\"1135\",\"type\":\"ColumnDataSource\"}},\"id\":\"1161\",\"type\":\"CDSView\"},{\"attributes\":{\"fill_color\":{\"field\":\"_contig\",\"transform\":{\"id\":\"1099\",\"type\":\"CategoricalColorMapper\"}},\"line_color\":{\"field\":\"_contig\",\"transform\":{\"id\":\"1099\",\"type\":\"CategoricalColorMapper\"}},\"x\":{\"field\":\"_global_locus\"},\"y\":{\"field\":\"_pval\"}},\"id\":\"1163\",\"type\":\"Circle\"},{\"attributes\":{},\"id\":\"1111\",\"type\":\"BasicTicker\"},{\"attributes\":{\"data_source\":{\"id\":\"1135\",\"type\":\"ColumnDataSource\"},\"glyph\":{\"id\":\"1145\",\"type\":\"Circle\"},\"hover_glyph\":null,\"muted_glyph\":null,\"nonselection_glyph\":{\"id\":\"1146\",\"type\":\"Circle\"},\"selection_glyph\":null,\"view\":{\"id\":\"1143\",\"type\":\"CDSView\"}},\"id\":\"1147\",\"type\":\"GlyphRenderer\"},{\"attributes\":{},\"id\":\"1178\",\"type\":\"BasicTickFormatter\"},{\"attributes\":{},\"id\":\"1120\",\"type\":\"PanTool\"},{\"attributes\":{\"column_name\":\"_contig\",\"group\":\"2\"},\"id\":\"1142\",\"type\":\"GroupFilter\"},{\"attributes\":{},\"id\":\"1179\",\"type\":\"BasicTicker\"},{\"attributes\":{\"callback\":null},\"id\":\"1104\",\"type\":\"DataRange1d\"},{\"attributes\":{\"dimension\":1,\"ticker\":{\"id\":\"1116\",\"type\":\"BasicTicker\"}},\"id\":\"1119\",\"type\":\"Grid\"},{\"attributes\":{\"data_source\":{\"id\":\"1135\",\"type\":\"ColumnDataSource\"},\"glyph\":{\"id\":\"1157\",\"type\":\"Circle\"},\"hover_glyph\":null,\"muted_glyph\":null,\"nonselection_glyph\":{\"id\":\"1158\",\"type\":\"Circle\"},\"selection_glyph\":null,\"view\":{\"id\":\"1155\",\"type\":\"CDSView\"}},\"id\":\"1159\",\"type\":\"GlyphRenderer\"},{\"attributes\":{\"column_name\":\"_contig\",\"group\":\"4\"},\"id\":\"1148\",\"type\":\"GroupFilter\"},{\"attributes\":{},\"id\":\"1108\",\"type\":\"LinearScale\"},{\"attributes\":{\"data_source\":{\"id\":\"1135\",\"type\":\"ColumnDataSource\"},\"glyph\":{\"id\":\"1151\",\"type\":\"Circle\"},\"hover_glyph\":null,\"muted_glyph\":null,\"nonselection_glyph\":{\"id\":\"1152\",\"type\":\"Circle\"},\"selection_glyph\":null,\"view\":{\"id\":\"1149\",\"type\":\"CDSView\"}},\"id\":\"1153\",\"type\":\"GlyphRenderer\"},{\"attributes\":{\"line_color\":{\"value\":\"red\"},\"line_dash\":[6],\"line_width\":{\"value\":1.5},\"location\":7.301029995663981},\"id\":\"1193\",\"type\":\"Span\"},{\"attributes\":{\"label\":{\"value\":\"2\"},\"renderers\":[{\"id\":\"1147\",\"type\":\"GlyphRenderer\"}]},\"id\":\"1167\",\"type\":\"LegendItem\"},{\"attributes\":{},\"id\":\"1124\",\"type\":\"ResetTool\"},{\"attributes\":{\"ticks\":[370850306,786049561,972084329,1313226357,2358551414]},\"id\":\"1173\",\"type\":\"FixedTicker\"},{\"attributes\":{\"fill_alpha\":{\"value\":0.1},\"fill_color\":{\"value\":\"#1f77b4\"},\"line_alpha\":{\"value\":0.1},\"line_color\":{\"value\":\"#1f77b4\"},\"x\":{\"field\":\"_global_locus\"},\"y\":{\"field\":\"_pval\"}},\"id\":\"1164\",\"type\":\"Circle\"},{\"attributes\":{},\"id\":\"1183\",\"type\":\"UnionRenderers\"},{\"attributes\":{},\"id\":\"1176\",\"type\":\"BasicTickFormatter\"},{\"attributes\":{\"fill_color\":{\"field\":\"_contig\",\"transform\":{\"id\":\"1099\",\"type\":\"CategoricalColorMapper\"}},\"line_color\":{\"field\":\"_contig\",\"transform\":{\"id\":\"1099\",\"type\":\"CategoricalColorMapper\"}},\"x\":{\"field\":\"_global_locus\"},\"y\":{\"field\":\"_pval\"}},\"id\":\"1139\",\"type\":\"Circle\"},{\"attributes\":{\"fill_alpha\":{\"value\":0.1},\"fill_color\":{\"value\":\"#1f77b4\"},\"line_alpha\":{\"value\":0.1},\"line_color\":{\"value\":\"#1f77b4\"},\"x\":{\"field\":\"_global_locus\"},\"y\":{\"field\":\"_pval\"}},\"id\":\"1146\",\"type\":\"Circle\"},{\"attributes\":{},\"id\":\"1106\",\"type\":\"LinearScale\"},{\"attributes\":{},\"id\":\"1123\",\"type\":\"SaveTool\"},{\"attributes\":{\"filters\":[{\"id\":\"1136\",\"type\":\"GroupFilter\"}],\"source\":{\"id\":\"1135\",\"type\":\"ColumnDataSource\"}},\"id\":\"1137\",\"type\":\"CDSView\"},{\"attributes\":{\"column_name\":\"_contig\",\"group\":\"5\"},\"id\":\"1154\",\"type\":\"GroupFilter\"},{\"attributes\":{\"filters\":[{\"id\":\"1142\",\"type\":\"GroupFilter\"}],\"source\":{\"id\":\"1135\",\"type\":\"ColumnDataSource\"}},\"id\":\"1143\",\"type\":\"CDSView\"},{\"attributes\":{\"label\":{\"value\":\"15\"},\"renderers\":[{\"id\":\"1141\",\"type\":\"GlyphRenderer\"}]},\"id\":\"1166\",\"type\":\"LegendItem\"},{\"attributes\":{\"column_name\":\"_contig\",\"group\":\"15\"},\"id\":\"1136\",\"type\":\"GroupFilter\"},{\"attributes\":{\"click_policy\":\"hide\",\"items\":[{\"id\":\"1166\",\"type\":\"LegendItem\"},{\"id\":\"1167\",\"type\":\"LegendItem\"},{\"id\":\"1168\",\"type\":\"LegendItem\"},{\"id\":\"1169\",\"type\":\"LegendItem\"},{\"id\":\"1170\",\"type\":\"LegendItem\"}],\"visible\":false},\"id\":\"1171\",\"type\":\"Legend\"},{\"attributes\":{\"filters\":[{\"id\":\"1148\",\"type\":\"GroupFilter\"}],\"source\":{\"id\":\"1135\",\"type\":\"ColumnDataSource\"}},\"id\":\"1149\",\"type\":\"CDSView\"},{\"attributes\":{\"axis_label\":\"P-value (-log10 scale)\",\"formatter\":{\"id\":\"1176\",\"type\":\"BasicTickFormatter\"},\"ticker\":{\"id\":\"1116\",\"type\":\"BasicTicker\"}},\"id\":\"1115\",\"type\":\"LinearAxis\"},{\"attributes\":{\"fill_alpha\":{\"value\":0.1},\"fill_color\":{\"value\":\"#1f77b4\"},\"line_alpha\":{\"value\":0.1},\"line_color\":{\"value\":\"#1f77b4\"},\"x\":{\"field\":\"_global_locus\"},\"y\":{\"field\":\"_pval\"}},\"id\":\"1152\",\"type\":\"Circle\"},{\"attributes\":{\"filters\":[{\"id\":\"1154\",\"type\":\"GroupFilter\"}],\"source\":{\"id\":\"1135\",\"type\":\"ColumnDataSource\"}},\"id\":\"1155\",\"type\":\"CDSView\"},{\"attributes\":{\"column_name\":\"_contig\",\"group\":\"7\"},\"id\":\"1160\",\"type\":\"GroupFilter\"},{\"attributes\":{\"ticker\":{\"id\":\"1111\",\"type\":\"BasicTicker\"}},\"id\":\"1114\",\"type\":\"Grid\"},{\"attributes\":{\"fill_color\":{\"field\":\"_contig\",\"transform\":{\"id\":\"1099\",\"type\":\"CategoricalColorMapper\"}},\"line_color\":{\"field\":\"_contig\",\"transform\":{\"id\":\"1099\",\"type\":\"CategoricalColorMapper\"}},\"x\":{\"field\":\"_global_locus\"},\"y\":{\"field\":\"_pval\"}},\"id\":\"1151\",\"type\":\"Circle\"},{\"attributes\":{},\"id\":\"1116\",\"type\":\"BasicTicker\"},{\"attributes\":{\"active_drag\":\"auto\",\"active_inspect\":\"auto\",\"active_multi\":null,\"active_scroll\":\"auto\",\"active_tap\":\"auto\",\"tools\":[{\"id\":\"1120\",\"type\":\"PanTool\"},{\"id\":\"1121\",\"type\":\"WheelZoomTool\"},{\"id\":\"1122\",\"type\":\"BoxZoomTool\"},{\"id\":\"1123\",\"type\":\"SaveTool\"},{\"id\":\"1124\",\"type\":\"ResetTool\"},{\"id\":\"1125\",\"type\":\"HelpTool\"},{\"id\":\"1134\",\"type\":\"HoverTool\"}]},\"id\":\"1126\",\"type\":\"Toolbar\"},{\"attributes\":{\"fill_color\":{\"field\":\"_contig\",\"transform\":{\"id\":\"1099\",\"type\":\"CategoricalColorMapper\"}},\"line_color\":{\"field\":\"_contig\",\"transform\":{\"id\":\"1099\",\"type\":\"CategoricalColorMapper\"}},\"x\":{\"field\":\"_global_locus\"},\"y\":{\"field\":\"_pval\"}},\"id\":\"1157\",\"type\":\"Circle\"},{\"attributes\":{\"data_source\":{\"id\":\"1135\",\"type\":\"ColumnDataSource\"},\"glyph\":{\"id\":\"1163\",\"type\":\"Circle\"},\"hover_glyph\":null,\"muted_glyph\":null,\"nonselection_glyph\":{\"id\":\"1164\",\"type\":\"Circle\"},\"selection_glyph\":null,\"view\":{\"id\":\"1161\",\"type\":\"CDSView\"}},\"id\":\"1165\",\"type\":\"GlyphRenderer\"},{\"attributes\":{\"label\":{\"value\":\"5\"},\"renderers\":[{\"id\":\"1159\",\"type\":\"GlyphRenderer\"}]},\"id\":\"1169\",\"type\":\"LegendItem\"},{\"attributes\":{},\"id\":\"1125\",\"type\":\"HelpTool\"},{\"attributes\":{\"factors\":[\"1\",\"2\",\"3\",\"4\",\"5\",\"6\",\"7\",\"8\",\"9\",\"10\",\"11\",\"12\",\"13\",\"14\",\"15\",\"16\",\"17\",\"18\",\"19\",\"20\",\"21\",\"22\",\"X\",\"Y\",\"MT\",\"GL000207.1\",\"GL000226.1\",\"GL000229.1\",\"GL000231.1\",\"GL000210.1\",\"GL000239.1\",\"GL000235.1\",\"GL000201.1\",\"GL000247.1\",\"GL000245.1\",\"GL000197.1\",\"GL000203.1\",\"GL000246.1\",\"GL000249.1\",\"GL000196.1\",\"GL000248.1\",\"GL000244.1\",\"GL000238.1\",\"GL000202.1\",\"GL000234.1\",\"GL000232.1\",\"GL000206.1\",\"GL000240.1\",\"GL000236.1\",\"GL000241.1\",\"GL000243.1\",\"GL000242.1\",\"GL000230.1\",\"GL000237.1\",\"GL000233.1\",\"GL000204.1\",\"GL000198.1\",\"GL000208.1\",\"GL000191.1\",\"GL000227.1\",\"GL000228.1\",\"GL000214.1\",\"GL000221.1\",\"GL000209.1\",\"GL000218.1\",\"GL000220.1\",\"GL000213.1\",\"GL000211.1\",\"GL000199.1\",\"GL000217.1\",\"GL000216.1\",\"GL000215.1\",\"GL000205.1\",\"GL000219.1\",\"GL000224.1\",\"GL000223.1\",\"GL000195.1\",\"GL000212.1\",\"GL000222.1\",\"GL000200.1\",\"GL000193.1\",\"GL000194.1\",\"GL000225.1\",\"GL000192.1\"],\"palette\":[\"#1f77b4\",\"#ff7f0e\",\"#1f77b4\",\"#ff7f0e\",\"#1f77b4\",\"#ff7f0e\",\"#1f77b4\",\"#ff7f0e\",\"#1f77b4\",\"#ff7f0e\",\"#1f77b4\",\"#ff7f0e\",\"#1f77b4\",\"#ff7f0e\",\"#1f77b4\",\"#ff7f0e\",\"#1f77b4\",\"#ff7f0e\",\"#1f77b4\",\"#ff7f0e\",\"#1f77b4\",\"#ff7f0e\",\"#1f77b4\",\"#ff7f0e\",\"#1f77b4\",\"#ff7f0e\",\"#1f77b4\",\"#ff7f0e\",\"#1f77b4\",\"#ff7f0e\",\"#1f77b4\",\"#ff7f0e\",\"#1f77b4\",\"#ff7f0e\",\"#1f77b4\",\"#ff7f0e\",\"#1f77b4\",\"#ff7f0e\",\"#1f77b4\",\"#ff7f0e\",\"#1f77b4\",\"#ff7f0e\",\"#1f77b4\",\"#ff7f0e\",\"#1f77b4\",\"#ff7f0e\",\"#1f77b4\",\"#ff7f0e\",\"#1f77b4\",\"#ff7f0e\",\"#1f77b4\",\"#ff7f0e\",\"#1f77b4\",\"#ff7f0e\",\"#1f77b4\",\"#ff7f0e\",\"#1f77b4\",\"#ff7f0e\",\"#1f77b4\",\"#ff7f0e\",\"#1f77b4\",\"#ff7f0e\",\"#1f77b4\",\"#ff7f0e\",\"#1f77b4\",\"#ff7f0e\",\"#1f77b4\",\"#ff7f0e\",\"#1f77b4\",\"#ff7f0e\",\"#1f77b4\",\"#ff7f0e\",\"#1f77b4\",\"#ff7f0e\",\"#1f77b4\",\"#ff7f0e\",\"#1f77b4\",\"#ff7f0e\",\"#1f77b4\",\"#ff7f0e\",\"#1f77b4\",\"#ff7f0e\",\"#1f77b4\",\"#ff7f0e\"]},\"id\":\"1099\",\"type\":\"CategoricalColorMapper\"},{\"attributes\":{\"callback\":null,\"tooltips\":[[\"locus\",\"@locus\"],[\"ri\",\"@ri\"],[\"p_value\",\"@p_value\"]]},\"id\":\"1134\",\"type\":\"HoverTool\"}],\"root_ids\":[\"1100\"]},\"title\":\"Bokeh Application\",\"version\":\"1.2.0\"}};\n",
       "  var render_items = [{\"docid\":\"c75d8128-9110-4787-8c12-27f790edd5d5\",\"roots\":{\"1100\":\"52b7d1f8-c634-4a1d-9a8b-dd6a0546b4c5\"}}];\n",
       "  root.Bokeh.embed.embed_items_notebook(docs_json, render_items);\n",
       "\n",
       "  }\n",
       "  if (root.Bokeh !== undefined) {\n",
       "    embed_document(root);\n",
       "  } else {\n",
       "    var attempts = 0;\n",
       "    var timer = setInterval(function(root) {\n",
       "      if (root.Bokeh !== undefined) {\n",
       "        embed_document(root);\n",
       "        clearInterval(timer);\n",
       "      }\n",
       "      attempts++;\n",
       "      if (attempts > 100) {\n",
       "        console.log(\"Bokeh: ERROR: Unable to run BokehJS code because BokehJS library is missing\");\n",
       "        clearInterval(timer);\n",
       "      }\n",
       "    }, 10, root)\n",
       "  }\n",
       "})(window);"
      ],
      "application/vnd.bokehjs_exec.v0+json": ""
     },
     "metadata": {
      "application/vnd.bokehjs_exec.v0+json": {
       "id": "1100"
      }
     },
     "output_type": "display_data"
    }
   ],
   "source": [
    "p = hl.plot.manhattan(gwas_with_imp.p_value, hover_fields=dict(ri=gwas_with_imp.rsid))\n",
    "show(p)"
   ]
  }
 ],
 "metadata": {
  "kernelspec": {
   "display_name": "Python 3",
   "language": "python",
   "name": "python3"
  },
  "language_info": {
   "codemirror_mode": {
    "name": "ipython",
    "version": 3
   },
   "file_extension": ".py",
   "mimetype": "text/x-python",
   "name": "python",
   "nbconvert_exporter": "python",
   "pygments_lexer": "ipython3",
   "version": "3.6.0"
  }
 },
 "nbformat": 4,
 "nbformat_minor": 2
}
