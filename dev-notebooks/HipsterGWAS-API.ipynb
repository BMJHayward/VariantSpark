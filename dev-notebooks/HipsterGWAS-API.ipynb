{
 "cells": [
  {
   "cell_type": "code",
   "execution_count": 1,
   "metadata": {},
   "outputs": [],
   "source": [
    "from pyspark.sql import SparkSession\n",
    "\n",
    "spark = SparkSession.builder\\\n",
    "    .appName(\"HipsterIndex\") \\\n",
    "    .config(\"spark.driver.extraClassPath\", \"/Users/szu004/miniconda2/envs/hail/lib/python3.6/site-packages/hail/hail-all-spark.jar\")\\\n",
    "    .config(\"spark.jars\", \"/Users/szu004/miniconda2/envs/hail/lib/python3.6/site-packages/hail/hail-all-spark.jar,../target/variant-spark_2.11-0.3.0-SNAPSHOT-all.jar\")\\\n",
    "    .config(\"spark.serializer\", \"org.apache.spark.serializer.KryoSerializer\") \\\n",
    "    .config(\"spark.kryo.registrator\", \"is.hail.kryo.HailKryoRegistrator\") \\\n",
    "    .getOrCreate()"
   ]
  },
  {
   "cell_type": "code",
   "execution_count": 2,
   "metadata": {},
   "outputs": [
    {
     "name": "stderr",
     "output_type": "stream",
     "text": [
      "using hail jar at /Users/szu004/miniconda2/envs/hail/lib/python3.6/site-packages/hail/hail-all-spark.jar\n",
      "Running on Apache Spark version 2.4.1\n",
      "SparkUI available at http://szu004-mac-dp.nexus.csiro.au:4040\n",
      "Welcome to\n",
      "     __  __     <>__\n",
      "    / /_/ /__  __/ /\n",
      "   / __  / _ `/ / /\n",
      "  /_/ /_/\\_,_/_/_/   version 0.2.16-6da0d3571629\n",
      "LOGGING: writing to /Users/szu004/dev/variant-spark/dev-notebooks/hail-20190716-1615-0.2.16-6da0d3571629.log\n"
     ]
    }
   ],
   "source": [
    "import hail as hl\n",
    "hl.init(sc=spark.sparkContext)"
   ]
  },
  {
   "cell_type": "code",
   "execution_count": 3,
   "metadata": {},
   "outputs": [
    {
     "data": {
      "text/html": [
       "\n",
       "    <div class=\"bk-root\">\n",
       "        <a href=\"https://bokeh.pydata.org\" target=\"_blank\" class=\"bk-logo bk-logo-small bk-logo-notebook\"></a>\n",
       "        <span id=\"1001\">Loading BokehJS ...</span>\n",
       "    </div>"
      ]
     },
     "metadata": {},
     "output_type": "display_data"
    },
    {
     "data": {
      "application/javascript": [
       "\n",
       "(function(root) {\n",
       "  function now() {\n",
       "    return new Date();\n",
       "  }\n",
       "\n",
       "  var force = true;\n",
       "\n",
       "  if (typeof root._bokeh_onload_callbacks === \"undefined\" || force === true) {\n",
       "    root._bokeh_onload_callbacks = [];\n",
       "    root._bokeh_is_loading = undefined;\n",
       "  }\n",
       "\n",
       "  var JS_MIME_TYPE = 'application/javascript';\n",
       "  var HTML_MIME_TYPE = 'text/html';\n",
       "  var EXEC_MIME_TYPE = 'application/vnd.bokehjs_exec.v0+json';\n",
       "  var CLASS_NAME = 'output_bokeh rendered_html';\n",
       "\n",
       "  /**\n",
       "   * Render data to the DOM node\n",
       "   */\n",
       "  function render(props, node) {\n",
       "    var script = document.createElement(\"script\");\n",
       "    node.appendChild(script);\n",
       "  }\n",
       "\n",
       "  /**\n",
       "   * Handle when an output is cleared or removed\n",
       "   */\n",
       "  function handleClearOutput(event, handle) {\n",
       "    var cell = handle.cell;\n",
       "\n",
       "    var id = cell.output_area._bokeh_element_id;\n",
       "    var server_id = cell.output_area._bokeh_server_id;\n",
       "    // Clean up Bokeh references\n",
       "    if (id != null && id in Bokeh.index) {\n",
       "      Bokeh.index[id].model.document.clear();\n",
       "      delete Bokeh.index[id];\n",
       "    }\n",
       "\n",
       "    if (server_id !== undefined) {\n",
       "      // Clean up Bokeh references\n",
       "      var cmd = \"from bokeh.io.state import curstate; print(curstate().uuid_to_server['\" + server_id + \"'].get_sessions()[0].document.roots[0]._id)\";\n",
       "      cell.notebook.kernel.execute(cmd, {\n",
       "        iopub: {\n",
       "          output: function(msg) {\n",
       "            var id = msg.content.text.trim();\n",
       "            if (id in Bokeh.index) {\n",
       "              Bokeh.index[id].model.document.clear();\n",
       "              delete Bokeh.index[id];\n",
       "            }\n",
       "          }\n",
       "        }\n",
       "      });\n",
       "      // Destroy server and session\n",
       "      var cmd = \"import bokeh.io.notebook as ion; ion.destroy_server('\" + server_id + \"')\";\n",
       "      cell.notebook.kernel.execute(cmd);\n",
       "    }\n",
       "  }\n",
       "\n",
       "  /**\n",
       "   * Handle when a new output is added\n",
       "   */\n",
       "  function handleAddOutput(event, handle) {\n",
       "    var output_area = handle.output_area;\n",
       "    var output = handle.output;\n",
       "\n",
       "    // limit handleAddOutput to display_data with EXEC_MIME_TYPE content only\n",
       "    if ((output.output_type != \"display_data\") || (!output.data.hasOwnProperty(EXEC_MIME_TYPE))) {\n",
       "      return\n",
       "    }\n",
       "\n",
       "    var toinsert = output_area.element.find(\".\" + CLASS_NAME.split(' ')[0]);\n",
       "\n",
       "    if (output.metadata[EXEC_MIME_TYPE][\"id\"] !== undefined) {\n",
       "      toinsert[toinsert.length - 1].firstChild.textContent = output.data[JS_MIME_TYPE];\n",
       "      // store reference to embed id on output_area\n",
       "      output_area._bokeh_element_id = output.metadata[EXEC_MIME_TYPE][\"id\"];\n",
       "    }\n",
       "    if (output.metadata[EXEC_MIME_TYPE][\"server_id\"] !== undefined) {\n",
       "      var bk_div = document.createElement(\"div\");\n",
       "      bk_div.innerHTML = output.data[HTML_MIME_TYPE];\n",
       "      var script_attrs = bk_div.children[0].attributes;\n",
       "      for (var i = 0; i < script_attrs.length; i++) {\n",
       "        toinsert[toinsert.length - 1].firstChild.setAttribute(script_attrs[i].name, script_attrs[i].value);\n",
       "      }\n",
       "      // store reference to server id on output_area\n",
       "      output_area._bokeh_server_id = output.metadata[EXEC_MIME_TYPE][\"server_id\"];\n",
       "    }\n",
       "  }\n",
       "\n",
       "  function register_renderer(events, OutputArea) {\n",
       "\n",
       "    function append_mime(data, metadata, element) {\n",
       "      // create a DOM node to render to\n",
       "      var toinsert = this.create_output_subarea(\n",
       "        metadata,\n",
       "        CLASS_NAME,\n",
       "        EXEC_MIME_TYPE\n",
       "      );\n",
       "      this.keyboard_manager.register_events(toinsert);\n",
       "      // Render to node\n",
       "      var props = {data: data, metadata: metadata[EXEC_MIME_TYPE]};\n",
       "      render(props, toinsert[toinsert.length - 1]);\n",
       "      element.append(toinsert);\n",
       "      return toinsert\n",
       "    }\n",
       "\n",
       "    /* Handle when an output is cleared or removed */\n",
       "    events.on('clear_output.CodeCell', handleClearOutput);\n",
       "    events.on('delete.Cell', handleClearOutput);\n",
       "\n",
       "    /* Handle when a new output is added */\n",
       "    events.on('output_added.OutputArea', handleAddOutput);\n",
       "\n",
       "    /**\n",
       "     * Register the mime type and append_mime function with output_area\n",
       "     */\n",
       "    OutputArea.prototype.register_mime_type(EXEC_MIME_TYPE, append_mime, {\n",
       "      /* Is output safe? */\n",
       "      safe: true,\n",
       "      /* Index of renderer in `output_area.display_order` */\n",
       "      index: 0\n",
       "    });\n",
       "  }\n",
       "\n",
       "  // register the mime type if in Jupyter Notebook environment and previously unregistered\n",
       "  if (root.Jupyter !== undefined) {\n",
       "    var events = require('base/js/events');\n",
       "    var OutputArea = require('notebook/js/outputarea').OutputArea;\n",
       "\n",
       "    if (OutputArea.prototype.mime_types().indexOf(EXEC_MIME_TYPE) == -1) {\n",
       "      register_renderer(events, OutputArea);\n",
       "    }\n",
       "  }\n",
       "\n",
       "  \n",
       "  if (typeof (root._bokeh_timeout) === \"undefined\" || force === true) {\n",
       "    root._bokeh_timeout = Date.now() + 5000;\n",
       "    root._bokeh_failed_load = false;\n",
       "  }\n",
       "\n",
       "  var NB_LOAD_WARNING = {'data': {'text/html':\n",
       "     \"<div style='background-color: #fdd'>\\n\"+\n",
       "     \"<p>\\n\"+\n",
       "     \"BokehJS does not appear to have successfully loaded. If loading BokehJS from CDN, this \\n\"+\n",
       "     \"may be due to a slow or bad network connection. Possible fixes:\\n\"+\n",
       "     \"</p>\\n\"+\n",
       "     \"<ul>\\n\"+\n",
       "     \"<li>re-rerun `output_notebook()` to attempt to load from CDN again, or</li>\\n\"+\n",
       "     \"<li>use INLINE resources instead, as so:</li>\\n\"+\n",
       "     \"</ul>\\n\"+\n",
       "     \"<code>\\n\"+\n",
       "     \"from bokeh.resources import INLINE\\n\"+\n",
       "     \"output_notebook(resources=INLINE)\\n\"+\n",
       "     \"</code>\\n\"+\n",
       "     \"</div>\"}};\n",
       "\n",
       "  function display_loaded() {\n",
       "    var el = document.getElementById(\"1001\");\n",
       "    if (el != null) {\n",
       "      el.textContent = \"BokehJS is loading...\";\n",
       "    }\n",
       "    if (root.Bokeh !== undefined) {\n",
       "      if (el != null) {\n",
       "        el.textContent = \"BokehJS \" + root.Bokeh.version + \" successfully loaded.\";\n",
       "      }\n",
       "    } else if (Date.now() < root._bokeh_timeout) {\n",
       "      setTimeout(display_loaded, 100)\n",
       "    }\n",
       "  }\n",
       "\n",
       "\n",
       "  function run_callbacks() {\n",
       "    try {\n",
       "      root._bokeh_onload_callbacks.forEach(function(callback) {\n",
       "        if (callback != null)\n",
       "          callback();\n",
       "      });\n",
       "    } finally {\n",
       "      delete root._bokeh_onload_callbacks\n",
       "    }\n",
       "    console.debug(\"Bokeh: all callbacks have finished\");\n",
       "  }\n",
       "\n",
       "  function load_libs(css_urls, js_urls, callback) {\n",
       "    if (css_urls == null) css_urls = [];\n",
       "    if (js_urls == null) js_urls = [];\n",
       "\n",
       "    root._bokeh_onload_callbacks.push(callback);\n",
       "    if (root._bokeh_is_loading > 0) {\n",
       "      console.debug(\"Bokeh: BokehJS is being loaded, scheduling callback at\", now());\n",
       "      return null;\n",
       "    }\n",
       "    if (js_urls == null || js_urls.length === 0) {\n",
       "      run_callbacks();\n",
       "      return null;\n",
       "    }\n",
       "    console.debug(\"Bokeh: BokehJS not loaded, scheduling load and callback at\", now());\n",
       "    root._bokeh_is_loading = css_urls.length + js_urls.length;\n",
       "\n",
       "    function on_load() {\n",
       "      root._bokeh_is_loading--;\n",
       "      if (root._bokeh_is_loading === 0) {\n",
       "        console.debug(\"Bokeh: all BokehJS libraries/stylesheets loaded\");\n",
       "        run_callbacks()\n",
       "      }\n",
       "    }\n",
       "\n",
       "    function on_error() {\n",
       "      console.error(\"failed to load \" + url);\n",
       "    }\n",
       "\n",
       "    for (var i = 0; i < css_urls.length; i++) {\n",
       "      var url = css_urls[i];\n",
       "      const element = document.createElement(\"link\");\n",
       "      element.onload = on_load;\n",
       "      element.onerror = on_error;\n",
       "      element.rel = \"stylesheet\";\n",
       "      element.type = \"text/css\";\n",
       "      element.href = url;\n",
       "      console.debug(\"Bokeh: injecting link tag for BokehJS stylesheet: \", url);\n",
       "      document.body.appendChild(element);\n",
       "    }\n",
       "\n",
       "    for (var i = 0; i < js_urls.length; i++) {\n",
       "      var url = js_urls[i];\n",
       "      var element = document.createElement('script');\n",
       "      element.onload = on_load;\n",
       "      element.onerror = on_error;\n",
       "      element.async = false;\n",
       "      element.src = url;\n",
       "      console.debug(\"Bokeh: injecting script tag for BokehJS library: \", url);\n",
       "      document.head.appendChild(element);\n",
       "    }\n",
       "  };var element = document.getElementById(\"1001\");\n",
       "  if (element == null) {\n",
       "    console.error(\"Bokeh: ERROR: autoload.js configured with elementid '1001' but no matching script tag was found. \")\n",
       "    return false;\n",
       "  }\n",
       "\n",
       "  function inject_raw_css(css) {\n",
       "    const element = document.createElement(\"style\");\n",
       "    element.appendChild(document.createTextNode(css));\n",
       "    document.body.appendChild(element);\n",
       "  }\n",
       "\n",
       "  var js_urls = [\"https://cdn.pydata.org/bokeh/release/bokeh-1.2.0.min.js\", \"https://cdn.pydata.org/bokeh/release/bokeh-widgets-1.2.0.min.js\", \"https://cdn.pydata.org/bokeh/release/bokeh-tables-1.2.0.min.js\", \"https://cdn.pydata.org/bokeh/release/bokeh-gl-1.2.0.min.js\"];\n",
       "  var css_urls = [\"https://cdn.pydata.org/bokeh/release/bokeh-1.2.0.min.css\", \"https://cdn.pydata.org/bokeh/release/bokeh-widgets-1.2.0.min.css\", \"https://cdn.pydata.org/bokeh/release/bokeh-tables-1.2.0.min.css\"];\n",
       "\n",
       "  var inline_js = [\n",
       "    function(Bokeh) {\n",
       "      Bokeh.set_log_level(\"info\");\n",
       "    },\n",
       "    \n",
       "    function(Bokeh) {\n",
       "      \n",
       "    },\n",
       "    function(Bokeh) {} // ensure no trailing comma for IE\n",
       "  ];\n",
       "\n",
       "  function run_inline_js() {\n",
       "    \n",
       "    if ((root.Bokeh !== undefined) || (force === true)) {\n",
       "      for (var i = 0; i < inline_js.length; i++) {\n",
       "        inline_js[i].call(root, root.Bokeh);\n",
       "      }if (force === true) {\n",
       "        display_loaded();\n",
       "      }} else if (Date.now() < root._bokeh_timeout) {\n",
       "      setTimeout(run_inline_js, 100);\n",
       "    } else if (!root._bokeh_failed_load) {\n",
       "      console.log(\"Bokeh: BokehJS failed to load within specified timeout.\");\n",
       "      root._bokeh_failed_load = true;\n",
       "    } else if (force !== true) {\n",
       "      var cell = $(document.getElementById(\"1001\")).parents('.cell').data().cell;\n",
       "      cell.output_area.append_execute_result(NB_LOAD_WARNING)\n",
       "    }\n",
       "\n",
       "  }\n",
       "\n",
       "  if (root._bokeh_is_loading === 0) {\n",
       "    console.debug(\"Bokeh: BokehJS loaded, going straight to plotting\");\n",
       "    run_inline_js();\n",
       "  } else {\n",
       "    load_libs(css_urls, js_urls, function() {\n",
       "      console.debug(\"Bokeh: BokehJS plotting callback run at\", now());\n",
       "      run_inline_js();\n",
       "    });\n",
       "  }\n",
       "}(window));"
      ],
      "application/vnd.bokehjs_load.v0+json": "\n(function(root) {\n  function now() {\n    return new Date();\n  }\n\n  var force = true;\n\n  if (typeof root._bokeh_onload_callbacks === \"undefined\" || force === true) {\n    root._bokeh_onload_callbacks = [];\n    root._bokeh_is_loading = undefined;\n  }\n\n  \n\n  \n  if (typeof (root._bokeh_timeout) === \"undefined\" || force === true) {\n    root._bokeh_timeout = Date.now() + 5000;\n    root._bokeh_failed_load = false;\n  }\n\n  var NB_LOAD_WARNING = {'data': {'text/html':\n     \"<div style='background-color: #fdd'>\\n\"+\n     \"<p>\\n\"+\n     \"BokehJS does not appear to have successfully loaded. If loading BokehJS from CDN, this \\n\"+\n     \"may be due to a slow or bad network connection. Possible fixes:\\n\"+\n     \"</p>\\n\"+\n     \"<ul>\\n\"+\n     \"<li>re-rerun `output_notebook()` to attempt to load from CDN again, or</li>\\n\"+\n     \"<li>use INLINE resources instead, as so:</li>\\n\"+\n     \"</ul>\\n\"+\n     \"<code>\\n\"+\n     \"from bokeh.resources import INLINE\\n\"+\n     \"output_notebook(resources=INLINE)\\n\"+\n     \"</code>\\n\"+\n     \"</div>\"}};\n\n  function display_loaded() {\n    var el = document.getElementById(\"1001\");\n    if (el != null) {\n      el.textContent = \"BokehJS is loading...\";\n    }\n    if (root.Bokeh !== undefined) {\n      if (el != null) {\n        el.textContent = \"BokehJS \" + root.Bokeh.version + \" successfully loaded.\";\n      }\n    } else if (Date.now() < root._bokeh_timeout) {\n      setTimeout(display_loaded, 100)\n    }\n  }\n\n\n  function run_callbacks() {\n    try {\n      root._bokeh_onload_callbacks.forEach(function(callback) {\n        if (callback != null)\n          callback();\n      });\n    } finally {\n      delete root._bokeh_onload_callbacks\n    }\n    console.debug(\"Bokeh: all callbacks have finished\");\n  }\n\n  function load_libs(css_urls, js_urls, callback) {\n    if (css_urls == null) css_urls = [];\n    if (js_urls == null) js_urls = [];\n\n    root._bokeh_onload_callbacks.push(callback);\n    if (root._bokeh_is_loading > 0) {\n      console.debug(\"Bokeh: BokehJS is being loaded, scheduling callback at\", now());\n      return null;\n    }\n    if (js_urls == null || js_urls.length === 0) {\n      run_callbacks();\n      return null;\n    }\n    console.debug(\"Bokeh: BokehJS not loaded, scheduling load and callback at\", now());\n    root._bokeh_is_loading = css_urls.length + js_urls.length;\n\n    function on_load() {\n      root._bokeh_is_loading--;\n      if (root._bokeh_is_loading === 0) {\n        console.debug(\"Bokeh: all BokehJS libraries/stylesheets loaded\");\n        run_callbacks()\n      }\n    }\n\n    function on_error() {\n      console.error(\"failed to load \" + url);\n    }\n\n    for (var i = 0; i < css_urls.length; i++) {\n      var url = css_urls[i];\n      const element = document.createElement(\"link\");\n      element.onload = on_load;\n      element.onerror = on_error;\n      element.rel = \"stylesheet\";\n      element.type = \"text/css\";\n      element.href = url;\n      console.debug(\"Bokeh: injecting link tag for BokehJS stylesheet: \", url);\n      document.body.appendChild(element);\n    }\n\n    for (var i = 0; i < js_urls.length; i++) {\n      var url = js_urls[i];\n      var element = document.createElement('script');\n      element.onload = on_load;\n      element.onerror = on_error;\n      element.async = false;\n      element.src = url;\n      console.debug(\"Bokeh: injecting script tag for BokehJS library: \", url);\n      document.head.appendChild(element);\n    }\n  };var element = document.getElementById(\"1001\");\n  if (element == null) {\n    console.error(\"Bokeh: ERROR: autoload.js configured with elementid '1001' but no matching script tag was found. \")\n    return false;\n  }\n\n  function inject_raw_css(css) {\n    const element = document.createElement(\"style\");\n    element.appendChild(document.createTextNode(css));\n    document.body.appendChild(element);\n  }\n\n  var js_urls = [\"https://cdn.pydata.org/bokeh/release/bokeh-1.2.0.min.js\", \"https://cdn.pydata.org/bokeh/release/bokeh-widgets-1.2.0.min.js\", \"https://cdn.pydata.org/bokeh/release/bokeh-tables-1.2.0.min.js\", \"https://cdn.pydata.org/bokeh/release/bokeh-gl-1.2.0.min.js\"];\n  var css_urls = [\"https://cdn.pydata.org/bokeh/release/bokeh-1.2.0.min.css\", \"https://cdn.pydata.org/bokeh/release/bokeh-widgets-1.2.0.min.css\", \"https://cdn.pydata.org/bokeh/release/bokeh-tables-1.2.0.min.css\"];\n\n  var inline_js = [\n    function(Bokeh) {\n      Bokeh.set_log_level(\"info\");\n    },\n    \n    function(Bokeh) {\n      \n    },\n    function(Bokeh) {} // ensure no trailing comma for IE\n  ];\n\n  function run_inline_js() {\n    \n    if ((root.Bokeh !== undefined) || (force === true)) {\n      for (var i = 0; i < inline_js.length; i++) {\n        inline_js[i].call(root, root.Bokeh);\n      }if (force === true) {\n        display_loaded();\n      }} else if (Date.now() < root._bokeh_timeout) {\n      setTimeout(run_inline_js, 100);\n    } else if (!root._bokeh_failed_load) {\n      console.log(\"Bokeh: BokehJS failed to load within specified timeout.\");\n      root._bokeh_failed_load = true;\n    } else if (force !== true) {\n      var cell = $(document.getElementById(\"1001\")).parents('.cell').data().cell;\n      cell.output_area.append_execute_result(NB_LOAD_WARNING)\n    }\n\n  }\n\n  if (root._bokeh_is_loading === 0) {\n    console.debug(\"Bokeh: BokehJS loaded, going straight to plotting\");\n    run_inline_js();\n  } else {\n    load_libs(css_urls, js_urls, function() {\n      console.debug(\"Bokeh: BokehJS plotting callback run at\", now());\n      run_inline_js();\n    });\n  }\n}(window));"
     },
     "metadata": {},
     "output_type": "display_data"
    }
   ],
   "source": [
    "from hail.plot import show\n",
    "from pprint import pprint\n",
    "hl.plot.output_notebook()"
   ]
  },
  {
   "cell_type": "code",
   "execution_count": 4,
   "metadata": {},
   "outputs": [],
   "source": [
    "data = hl.import_vcf('../data/hipsterIndex/hipster.vcf.bgz')"
   ]
  },
  {
   "cell_type": "code",
   "execution_count": 5,
   "metadata": {},
   "outputs": [
    {
     "name": "stderr",
     "output_type": "stream",
     "text": [
      "2019-07-16 16:15:34 Hail: INFO: Reading table with no type imputation\n",
      "  Loading column 'samples' as type 'str' (type not specified)\n",
      "  Loading column 'score' as type 'float64' (user-specified)\n",
      "  Loading column 'label' as type 'float64' (user-specified)\n",
      "\n"
     ]
    }
   ],
   "source": [
    "labels = hl.import_table('../data/hipsterIndex/hipster_labels.txt', delimiter=',', \n",
    "                types=dict(label='float64', score='float64')).key_by('samples')"
   ]
  },
  {
   "cell_type": "code",
   "execution_count": 6,
   "metadata": {},
   "outputs": [
    {
     "name": "stdout",
     "output_type": "stream",
     "text": [
      "----------------------------------------\n",
      "Global fields:\n",
      "    None\n",
      "----------------------------------------\n",
      "Column fields:\n",
      "    's': str\n",
      "    'hipster': struct {\n",
      "        score: float64, \n",
      "        label: float64\n",
      "    }\n",
      "----------------------------------------\n",
      "Row fields:\n",
      "    'locus': locus<GRCh37>\n",
      "    'alleles': array<str>\n",
      "    'rsid': str\n",
      "    'qual': float64\n",
      "    'filters': set<str>\n",
      "    'info': struct {\n",
      "        AA: str, \n",
      "        AC: array<int32>, \n",
      "        AF: array<float64>, \n",
      "        AFR_AF: array<float64>, \n",
      "        AMR_AF: array<float64>, \n",
      "        AN: int32, \n",
      "        CIEND: array<int32>, \n",
      "        CIPOS: array<int32>, \n",
      "        CS: str, \n",
      "        DP: int32, \n",
      "        EAS_AF: array<float64>, \n",
      "        END: int32, \n",
      "        EUR_AF: array<float64>, \n",
      "        EX_TARGET: bool, \n",
      "        IMPRECISE: bool, \n",
      "        MC: array<str>, \n",
      "        MEINFO: array<str>, \n",
      "        MEND: int32, \n",
      "        MLEN: int32, \n",
      "        MSTART: int32, \n",
      "        MULTI_ALLELIC: bool, \n",
      "        NS: int32, \n",
      "        SAS_AF: array<float64>, \n",
      "        SVLEN: array<int32>, \n",
      "        SVTYPE: str, \n",
      "        TSD: str, \n",
      "        VT: array<str>\n",
      "    }\n",
      "----------------------------------------\n",
      "Entry fields:\n",
      "    'GT': call\n",
      "----------------------------------------\n",
      "Column key: ['s']\n",
      "Row key: ['locus', 'alleles']\n",
      "----------------------------------------\n"
     ]
    }
   ],
   "source": [
    "mt = data.annotate_cols(hipster = labels[data.s])\n",
    "mt.describe()"
   ]
  },
  {
   "cell_type": "code",
   "execution_count": 10,
   "metadata": {},
   "outputs": [
    {
     "data": {
      "text/plain": [
       "(17010, 2504)"
      ]
     },
     "execution_count": 10,
     "metadata": {},
     "output_type": "execute_result"
    }
   ],
   "source": [
    "mt.count()"
   ]
  },
  {
   "cell_type": "code",
   "execution_count": 7,
   "metadata": {},
   "outputs": [],
   "source": [
    "import varspark.hail as vshl"
   ]
  },
  {
   "cell_type": "code",
   "execution_count": 8,
   "metadata": {},
   "outputs": [
    {
     "name": "stderr",
     "output_type": "stream",
     "text": [
      "2019-07-16 16:15:47 Hail: INFO: Coerced almost-sorted dataset\n"
     ]
    }
   ],
   "source": [
    "rf_model = vshl.random_forest_model(y=mt.hipster.label,\n",
    "                    x=mt.GT.n_alt_alleles())\n",
    "rf_model.fit_trees()"
   ]
  },
  {
   "cell_type": "code",
   "execution_count": 9,
   "metadata": {},
   "outputs": [
    {
     "name": "stdout",
     "output_type": "stream",
     "text": [
      "0.18330670926517573\n"
     ]
    },
    {
     "name": "stderr",
     "output_type": "stream",
     "text": [
      "2019-07-16 16:22:03 Hail: INFO: Coerced sorted dataset\n"
     ]
    },
    {
     "data": {
      "text/html": [
       "<table><thead style=\"font-weight: bold;\"><tr><td>locus</td><td>alleles</td><td>importance</td></tr>\n",
       "<tr><td>locus&lt;GRCh37&gt;</td><td>array&lt;str&gt;</td><td>float64</td></tr>\n",
       "</thead><tbody><tr><td>2:109511398</td><td>[&quot;G&quot;,&quot;A&quot;]</td><td>1.08e-02</td></tr>\n",
       "<tr><td>2:109511454</td><td>[&quot;C&quot;,&quot;A&quot;]</td><td>0.00e+00</td></tr>\n",
       "<tr><td>2:109511463</td><td>[&quot;G&quot;,&quot;A&quot;]</td><td>1.15e-01</td></tr>\n",
       "<tr><td>2:109511467</td><td>[&quot;GACTC&quot;,&quot;G&quot;]</td><td>3.37e-01</td></tr>\n",
       "<tr><td>2:109511478</td><td>[&quot;C&quot;,&quot;T&quot;]</td><td>0.00e+00</td></tr>\n",
       "</tbody></table><p>showing top 5 rows</p>\n"
      ],
      "text/plain": [
       "+---------------+---------------+------------+\n",
       "| locus         | alleles       | importance |\n",
       "+---------------+---------------+------------+\n",
       "| locus<GRCh37> | array<str>    |    float64 |\n",
       "+---------------+---------------+------------+\n",
       "| 2:109511398   | [\"G\",\"A\"]     |   1.08e-02 |\n",
       "| 2:109511454   | [\"C\",\"A\"]     |   0.00e+00 |\n",
       "| 2:109511463   | [\"G\",\"A\"]     |   1.15e-01 |\n",
       "| 2:109511467   | [\"GACTC\",\"G\"] |   3.37e-01 |\n",
       "| 2:109511478   | [\"C\",\"T\"]     |   0.00e+00 |\n",
       "+---------------+---------------+------------+\n",
       "showing top 5 rows"
      ]
     },
     "metadata": {},
     "output_type": "display_data"
    }
   ],
   "source": [
    "print(rf_model.oob_error())\n",
    "impTable = rf_model.variable_importance()\n",
    "impTable.show(5)"
   ]
  },
  {
   "cell_type": "code",
   "execution_count": 10,
   "metadata": {},
   "outputs": [
    {
     "name": "stderr",
     "output_type": "stream",
     "text": [
      "2019-07-16 16:22:08 Hail: INFO: linear_regression_rows: running on 2504 samples for 1 response variable y,\n",
      "    with input variable x, and 1 additional covariate...\n"
     ]
    }
   ],
   "source": [
    "gwas = hl.linear_regression_rows(y=mt.hipster.score,\n",
    "                                 x=mt.GT.n_alt_alleles(),\n",
    "                                 covariates=[1.0],\n",
    "                                 pass_through=[mt.rsid])"
   ]
  },
  {
   "cell_type": "code",
   "execution_count": 29,
   "metadata": {},
   "outputs": [
    {
     "data": {
      "text/html": [
       "<table><thead style=\"font-weight: bold;\"><tr><td>locus</td><td>alleles</td><td>rsid</td><td>n</td><td>sum_x</td><td>y_transpose_x</td><td>beta</td><td>standard_error</td><td>t_stat</td><td>p_value</td></tr>\n",
       "<tr><td>locus&lt;GRCh37&gt;</td><td>array&lt;str&gt;</td><td>str</td><td>int32</td><td>float64</td><td>float64</td><td>float64</td><td>float64</td><td>float64</td><td>float64</td></tr>\n",
       "</thead><tbody><tr><td>2:109511398</td><td>[&quot;G&quot;,&quot;A&quot;]</td><td>&quot;rs150055772&quot;</td><td>2504</td><td>4.00e+00</td><td>3.50e+01</td><td>-7.03e-01</td><td>1.62e+00</td><td>-4.34e-01</td><td>6.64e-01</td></tr>\n",
       "<tr><td>2:109511454</td><td>[&quot;C&quot;,&quot;A&quot;]</td><td>&quot;rs558429529&quot;</td><td>2504</td><td>1.00e+00</td><td>1.15e+01</td><td>2.05e+00</td><td>3.24e+00</td><td>6.33e-01</td><td>5.27e-01</td></tr>\n",
       "<tr><td>2:109511463</td><td>[&quot;G&quot;,&quot;A&quot;]</td><td>&quot;rs200762071&quot;</td><td>2504</td><td>1.47e+02</td><td>1.30e+03</td><td>-5.79e-01</td><td>2.60e-01</td><td>-2.23e+00</td><td>2.61e-02</td></tr>\n",
       "<tr><td>2:109511467</td><td>[&quot;GACTC&quot;,&quot;G&quot;]</td><td>&quot;rs145115545&quot;</td><td>2504</td><td>5.47e+02</td><td>5.06e+03</td><td>-2.07e-01</td><td>1.42e-01</td><td>-1.45e+00</td><td>1.47e-01</td></tr>\n",
       "<tr><td>2:109511478</td><td>[&quot;C&quot;,&quot;T&quot;]</td><td>&quot;rs540842456&quot;</td><td>2504</td><td>1.00e+00</td><td>1.20e+01</td><td>2.55e+00</td><td>3.24e+00</td><td>7.88e-01</td><td>4.31e-01</td></tr>\n",
       "</tbody></table><p>showing top 5 rows</p>\n"
      ],
      "text/plain": [
       "+---------------+---------------+---------------+-------+----------+---------------+-----------+----------------+-----------+\n",
       "| locus         | alleles       | rsid          |     n |    sum_x | y_transpose_x |      beta | standard_error |    t_stat |\n",
       "+---------------+---------------+---------------+-------+----------+---------------+-----------+----------------+-----------+\n",
       "| locus<GRCh37> | array<str>    | str           | int32 |  float64 |       float64 |   float64 |        float64 |   float64 |\n",
       "+---------------+---------------+---------------+-------+----------+---------------+-----------+----------------+-----------+\n",
       "| 2:109511398   | [\"G\",\"A\"]     | \"rs150055772\" |  2504 | 4.00e+00 |      3.50e+01 | -7.03e-01 |       1.62e+00 | -4.34e-01 |\n",
       "| 2:109511454   | [\"C\",\"A\"]     | \"rs558429529\" |  2504 | 1.00e+00 |      1.15e+01 |  2.05e+00 |       3.24e+00 |  6.33e-01 |\n",
       "| 2:109511463   | [\"G\",\"A\"]     | \"rs200762071\" |  2504 | 1.47e+02 |      1.30e+03 | -5.79e-01 |       2.60e-01 | -2.23e+00 |\n",
       "| 2:109511467   | [\"GACTC\",\"G\"] | \"rs145115545\" |  2504 | 5.47e+02 |      5.06e+03 | -2.07e-01 |       1.42e-01 | -1.45e+00 |\n",
       "| 2:109511478   | [\"C\",\"T\"]     | \"rs540842456\" |  2504 | 1.00e+00 |      1.20e+01 |  2.55e+00 |       3.24e+00 |  7.88e-01 |\n",
       "+---------------+---------------+---------------+-------+----------+---------------+-----------+----------------+-----------+\n",
       "\n",
       "+----------+\n",
       "|  p_value |\n",
       "+----------+\n",
       "|  float64 |\n",
       "+----------+\n",
       "| 6.64e-01 |\n",
       "| 5.27e-01 |\n",
       "| 2.61e-02 |\n",
       "| 1.47e-01 |\n",
       "| 4.31e-01 |\n",
       "+----------+\n",
       "showing top 5 rows"
      ]
     },
     "metadata": {},
     "output_type": "display_data"
    }
   ],
   "source": [
    "gwas.show(5)"
   ]
  },
  {
   "cell_type": "code",
   "execution_count": 11,
   "metadata": {},
   "outputs": [],
   "source": [
    "gwas_with_imp = gwas.join(impTable)"
   ]
  },
  {
   "cell_type": "code",
   "execution_count": 14,
   "metadata": {},
   "outputs": [
    {
     "data": {
      "text/html": [
       "\n",
       "\n",
       "\n",
       "\n",
       "\n",
       "\n",
       "  <div class=\"bk-root\" id=\"5634f5f8-5ca0-4041-ad06-2429cdba4b9f\" data-root-id=\"1002\"></div>\n"
      ]
     },
     "metadata": {},
     "output_type": "display_data"
    },
    {
     "data": {
      "application/javascript": [
       "(function(root) {\n",
       "  function embed_document(root) {\n",
       "    \n",
       "  var docs_json = {\"07bac4e9-9e36-4dff-a4e5-f53dc286f08b\":{\"roots\":{\"references\":[{\"attributes\":{\"below\":[{\"id\":\"1012\",\"type\":\"LinearAxis\"}],\"center\":[{\"id\":\"1016\",\"type\":\"Grid\"},{\"id\":\"1021\",\"type\":\"Grid\"}],\"left\":[{\"id\":\"1017\",\"type\":\"LinearAxis\"}],\"plot_height\":800,\"plot_width\":800,\"renderers\":[{\"id\":\"1041\",\"type\":\"GlyphRenderer\"}],\"title\":null,\"toolbar\":{\"id\":\"1028\",\"type\":\"Toolbar\"},\"x_range\":{\"id\":\"1004\",\"type\":\"DataRange1d\"},\"x_scale\":{\"id\":\"1008\",\"type\":\"LinearScale\"},\"y_range\":{\"id\":\"1006\",\"type\":\"DataRange1d\"},\"y_scale\":{\"id\":\"1010\",\"type\":\"LinearScale\"}},\"id\":\"1002\",\"subtype\":\"Figure\",\"type\":\"Plot\"},{\"attributes\":{\"callback\":null,\"tooltips\":[[\"x\",\"@x\"],[\"y\",\"@y\"],[\"loc\",\"@loc\"],[\"rs\",\"@rs\"]]},\"id\":\"1036\",\"type\":\"HoverTool\"},{\"attributes\":{},\"id\":\"1022\",\"type\":\"PanTool\"},{\"attributes\":{\"formatter\":{\"id\":\"1045\",\"type\":\"BasicTickFormatter\"},\"ticker\":{\"id\":\"1013\",\"type\":\"BasicTicker\"}},\"id\":\"1012\",\"type\":\"LinearAxis\"},{\"attributes\":{},\"id\":\"1023\",\"type\":\"WheelZoomTool\"},{\"attributes\":{},\"id\":\"1045\",\"type\":\"BasicTickFormatter\"},{\"attributes\":{\"overlay\":{\"id\":\"1048\",\"type\":\"BoxAnnotation\"}},\"id\":\"1024\",\"type\":\"BoxZoomTool\"},{\"attributes\":{\"callback\":null},\"id\":\"1006\",\"type\":\"DataRange1d\"},{\"attributes\":{},\"id\":\"1025\",\"type\":\"SaveTool\"},{\"attributes\":{},\"id\":\"1026\",\"type\":\"ResetTool\"},{\"attributes\":{\"callback\":null},\"id\":\"1004\",\"type\":\"DataRange1d\"},{\"attributes\":{},\"id\":\"1027\",\"type\":\"HelpTool\"},{\"attributes\":{\"fill_color\":{\"value\":\"#1f77b4\"},\"line_color\":{\"value\":\"#1f77b4\"},\"x\":{\"field\":\"x\"},\"y\":{\"field\":\"y\"}},\"id\":\"1039\",\"type\":\"Circle\"},{\"attributes\":{\"active_drag\":\"auto\",\"active_inspect\":\"auto\",\"active_multi\":null,\"active_scroll\":\"auto\",\"active_tap\":\"auto\",\"tools\":[{\"id\":\"1022\",\"type\":\"PanTool\"},{\"id\":\"1023\",\"type\":\"WheelZoomTool\"},{\"id\":\"1024\",\"type\":\"BoxZoomTool\"},{\"id\":\"1025\",\"type\":\"SaveTool\"},{\"id\":\"1026\",\"type\":\"ResetTool\"},{\"id\":\"1027\",\"type\":\"HelpTool\"},{\"id\":\"1036\",\"type\":\"HoverTool\"}]},\"id\":\"1028\",\"type\":\"Toolbar\"},{\"attributes\":{\"bottom_units\":\"screen\",\"fill_alpha\":{\"value\":0.5},\"fill_color\":{\"value\":\"lightgrey\"},\"left_units\":\"screen\",\"level\":\"overlay\",\"line_alpha\":{\"value\":1.0},\"line_color\":{\"value\":\"black\"},\"line_dash\":[4,4],\"line_width\":{\"value\":2},\"render_mode\":\"css\",\"right_units\":\"screen\",\"top_units\":\"screen\"},\"id\":\"1048\",\"type\":\"BoxAnnotation\"},{\"attributes\":{},\"id\":\"1008\",\"type\":\"LinearScale\"},{\"attributes\":{},\"id\":\"1047\",\"type\":\"BasicTickFormatter\"},{\"attributes\":{\"fill_alpha\":{\"value\":0.1},\"fill_color\":{\"value\":\"#1f77b4\"},\"line_alpha\":{\"value\":0.1},\"line_color\":{\"value\":\"#1f77b4\"},\"x\":{\"field\":\"x\"},\"y\":{\"field\":\"y\"}},\"id\":\"1040\",\"type\":\"Circle\"},{\"attributes\":{},\"id\":\"1010\",\"type\":\"LinearScale\"},{\"attributes\":{\"source\":{\"id\":\"1037\",\"type\":\"ColumnDataSource\"}},\"id\":\"1042\",\"type\":\"CDSView\"},{\"attributes\":{},\"id\":\"1013\",\"type\":\"BasicTicker\"},{\"attributes\":{\"ticker\":{\"id\":\"1013\",\"type\":\"BasicTicker\"}},\"id\":\"1016\",\"type\":\"Grid\"},{\"attributes\":{\"data_source\":{\"id\":\"1037\",\"type\":\"ColumnDataSource\"},\"glyph\":{\"id\":\"1039\",\"type\":\"Circle\"},\"hover_glyph\":null,\"muted_glyph\":null,\"nonselection_glyph\":{\"id\":\"1040\",\"type\":\"Circle\"},\"selection_glyph\":null,\"view\":{\"id\":\"1042\",\"type\":\"CDSView\"}},\"id\":\"1041\",\"type\":\"GlyphRenderer\"},{\"attributes\":{\"formatter\":{\"id\":\"1047\",\"type\":\"BasicTickFormatter\"},\"ticker\":{\"id\":\"1018\",\"type\":\"BasicTicker\"}},\"id\":\"1017\",\"type\":\"LinearAxis\"},{\"attributes\":{},\"id\":\"1049\",\"type\":\"Selection\"},{\"attributes\":{},\"id\":\"1018\",\"type\":\"BasicTicker\"},{\"attributes\":{},\"id\":\"1050\",\"type\":\"UnionRenderers\"},{\"attributes\":{\"dimension\":1,\"ticker\":{\"id\":\"1018\",\"type\":\"BasicTicker\"}},\"id\":\"1021\",\"type\":\"Grid\"},{\"attributes\":{\"callback\":null,\"data\":{\"index\":[0,1,2,3,4,5,6,7,8,9,10,11,12,13,14,15,16,17,18,19,20,21,22,23,24,25,26,27,28,29,30,31,32,33,34,35,36,37,38,39,40,41,42,43,44,45,46,47,48,49,50,51,52,53,54,55,56,57,58,59,60,61,62,63,64,65,66,67,68,69,70,71,72,73,74,75,76,77,78,79,80,81,82,83,84,85,86,87,88,89,90,91,92,93,94,95,96,97,98,99,100,101,102,103,104,105,106,107,108,109,110,111,112,113,114,115,116,117,118,119,120,121,122,123,124,125,126,127,128,129,130,131,132,133,134,135,136,137,138,139,140,141,142,143,144,145,146,147,148,149,150,151,152,153,154,155,156,157,158,159,160,161,162,163,164,165,166,167,168,169,170,171,172,173,174,175,176,177,178,179,180,181,182,183,184,185,186,187,188,189,190,191,192,193,194,195,196,197,198,199,200,201,202,203,204,205,206,207,208,209,210,211,212,213,214,215,216,217,218,219,220,221,222,223,224,225,226,227,228,229,230,231,232,233,234,235,236,237,238,239,240,241,242,243,244,245,246,247,248,249,250,251,252,253,254,255,256,257,258,259,260,261,262,263,264,265,266,267,268,269,270,271,272,273,274,275,276,277,278,279,280,281,282,283,284,285,286,287,288,289,290,291,292,293,294,295,296,297,298,299,300,301,302,303,304,305,306,307,308,309,310,311,312,313,314,315,316,317,318,319,320,321,322,323,324,325,326,327,328,329,330,331,332,333,334,335,336,337,338,339,340,341,342,343,344,345,346,347,348,349,350,351,352,353,354,355,356,357,358,359,360,361,362,363,364,365,366,367,368,369,370,371,372,373,374,375,376,377,378,379,380,381,382,383,384,385,386,387,388,389,390,391,392,393,394,395,396,397,398,399,400,401,402,403,404,405,406,407,408,409,410,411,412,413,414,415,416,417,418,419,420,421,422,423,424,425,426,427,428,429,430,431,432,433,434,435,436,437,438,439,440,441,442,443,444,445,446,447,448,449,450,451,452,453,454,455,456,457,458,459,460,461,462,463,464,465,466,467,468,469,470,471,472,473,474,475,476,477,478,479,480,481,482,483,484,485,486,487,488,489,490,491,492,493,494,495,496,497,498,499,500,501,502,503,504,505,506,507,508,509,510,511,512,513,514,515,516,517,518,519,520,521,522,523,524,525,526,527,528,529,530,531,532,533,534,535,536,537,538,539,540,541,542,543,544,545,546,547,548,549,550,551,552,553,554,555,556,557,558,559,560,561,562,563,564,565,566,567,568,569,570,571,572,573,574,575,576,577,578,579,580,581,582,583,584,585,586,587,588,589,590,591,592,593,594,595,596,597,598,599,600,601,602,603,604,605,606,607,608,609,610,611,612,613,614,615,616,617,618,619,620,621,622,623,624,625,626,627,628,629,630,631,632,633,634,635,636,637,638,639,640,641,642,643,644],\"loc\":[\"15:66457534\",\"15:66420174\",\"15:66477679\",\"15:66357980\",\"5:126780212\",\"15:66407805\",\"15:66491009\",\"15:66473667\",\"15:66467719\",\"15:66471179\",\"2:223034082\",\"5:126625593\",\"5:126715759\",\"15:66527854\",\"15:66535572\",\"15:66525826\",\"15:66535599\",\"5:126681193\",\"15:66303253\",\"15:66471423\",\"5:126689935\",\"5:126641770\",\"15:66301377\",\"15:66522474\",\"4:54511042\",\"15:66371980\",\"15:66459860\",\"15:66444140\",\"5:126694437\",\"15:66483326\",\"5:126660301\",\"15:66495631\",\"5:126706883\",\"7:17285867\",\"15:66346707\",\"15:66537455\",\"15:66428121\",\"15:66483776\",\"15:66384354\",\"15:66320806\",\"5:126675780\",\"15:66446636\",\"4:54510874\",\"15:66318513\",\"15:66387527\",\"15:66397544\",\"15:66374639\",\"15:66504551\",\"5:126625548\",\"15:66370275\",\"15:66235312\",\"15:66525066\",\"15:66474710\",\"5:126644552\",\"5:126657217\",\"5:126699347\",\"15:66400117\",\"15:66386430\",\"15:66470484\",\"15:66280985\",\"15:66448125\",\"15:66242510\",\"15:66528939\",\"15:66264100\",\"15:66523184\",\"15:66336217\",\"15:66465816\",\"15:66438473\",\"15:66488987\",\"15:66335979\",\"15:66402602\",\"5:126648201\",\"4:54513819\",\"15:66455151\",\"15:66506698\",\"15:66510331\",\"5:126628098\",\"5:126657766\",\"5:126626645\",\"5:126659892\",\"15:66488682\",\"15:66532090\",\"15:66363514\",\"15:66391725\",\"5:126693280\",\"5:126635083\",\"15:66368069\",\"15:66304403\",\"15:66264207\",\"5:126629112\",\"15:66326871\",\"2:223033867\",\"15:66529124\",\"15:66248199\",\"5:126773180\",\"2:223032642\",\"15:66503401\",\"5:126771153\",\"5:126796585\",\"15:66300777\",\"15:66323983\",\"15:66274690\",\"5:126653607\",\"15:66302499\",\"15:66462614\",\"15:66272893\",\"15:66447591\",\"5:126725054\",\"2:109514985\",\"5:126773064\",\"5:126644396\",\"15:66520281\",\"15:66534180\",\"15:66496865\",\"5:126739085\",\"15:66263893\",\"15:66358115\",\"5:126775739\",\"15:66465803\",\"15:66374847\",\"5:126794160\",\"15:66375414\",\"15:66247768\",\"15:66493310\",\"5:126644769\",\"5:126651068\",\"7:17286770\",\"15:66341925\",\"5:126726847\",\"15:66524462\",\"15:66276833\",\"15:75025988\",\"15:66491652\",\"7:113990352\",\"15:66260894\",\"15:66505276\",\"15:66345400\",\"15:66327556\",\"5:126634444\",\"2:223033030\",\"15:66271772\",\"15:66500984\",\"15:66459450\",\"5:126731259\",\"2:223032504\",\"4:54511711\",\"15:66269052\",\"15:66423068\",\"15:66498171\",\"15:66210926\",\"15:66488825\",\"5:126697138\",\"15:66359605\",\"15:66331150\",\"15:66502169\",\"15:66524049\",\"5:126628771\",\"5:126668683\",\"15:66508895\",\"15:66435212\",\"5:126630948\",\"15:66472631\",\"5:126650182\",\"5:126631841\",\"15:66204188\",\"5:126649405\",\"15:66546654\",\"15:66316611\",\"15:66505919\",\"5:126664039\",\"5:126642563\",\"15:66526289\",\"5:126630491\",\"15:66364907\",\"15:66538879\",\"5:126717984\",\"5:126724213\",\"15:66301584\",\"5:126775113\",\"15:66290097\",\"15:66453002\",\"15:66319707\",\"5:126645646\",\"15:66463776\",\"15:66484687\",\"15:66356429\",\"7:17284577\",\"15:66498409\",\"4:54510826\",\"5:126777362\",\"15:66483696\",\"15:75028536\",\"15:66543059\",\"15:66274029\",\"15:66269700\",\"15:66476229\",\"15:66531931\",\"15:66525224\",\"15:66504593\",\"15:66459947\",\"7:17284085\",\"15:66480216\",\"2:223033006\",\"15:66317367\",\"15:66335837\",\"5:126710915\",\"15:66526171\",\"15:66448249\",\"5:126751728\",\"15:66412257\",\"5:126645705\",\"15:66331548\",\"5:126646864\",\"5:126793219\",\"5:126654623\",\"15:66441451\",\"15:66395494\",\"7:17283523\",\"5:126636211\",\"5:126656500\",\"2:223032943\",\"15:66501202\",\"4:54511203\",\"5:126669209\",\"15:66271824\",\"15:66275546\",\"5:126627875\",\"2:109513786\",\"15:66504660\",\"15:66465185\",\"15:66270890\",\"15:66404093\",\"15:66252288\",\"5:126638459\",\"5:126629170\",\"15:66330108\",\"2:109514192\",\"5:126644681\",\"15:66487601\",\"15:66470562\",\"15:66520931\",\"15:66426561\",\"2:223034660\",\"15:66542919\",\"5:126640205\",\"15:66355792\",\"15:66523318\",\"15:66478368\",\"15:66500484\",\"5:126627962\",\"5:126635667\",\"15:66442510\",\"15:66524136\",\"15:66534230\",\"2:109511765\",\"5:126740316\",\"15:66377203\",\"15:66470143\",\"15:66337783\",\"15:66356577\",\"15:66527853\",\"15:66433646\",\"15:66415362\",\"15:66510311\",\"5:126798856\",\"5:126632821\",\"15:66389156\",\"5:126683416\",\"15:66336215\",\"15:66495122\",\"5:126682039\",\"5:126633436\",\"15:66522384\",\"15:66487765\",\"15:66410651\",\"15:66441275\",\"15:66340499\",\"15:66446843\",\"15:66384465\",\"15:66545710\",\"5:126687687\",\"5:126685374\",\"15:66260204\",\"5:126628584\",\"15:66530333\",\"15:66541075\",\"15:66351526\",\"5:126697604\",\"15:66463499\",\"15:66301813\",\"15:66484651\",\"15:66260432\",\"2:223033396\",\"15:66521175\",\"4:54513695\",\"5:126640971\",\"15:66278816\",\"15:66481349\",\"5:126674613\",\"15:66503772\",\"15:66340274\",\"15:66349764\",\"15:66393606\",\"15:66352479\",\"15:66483378\",\"15:66497317\",\"15:75026149\",\"5:126654970\",\"15:66371850\",\"15:66469990\",\"15:66277267\",\"15:66480035\",\"15:66438961\",\"15:66485616\",\"15:66453760\",\"15:66352654\",\"5:126727008\",\"15:66499109\",\"15:66337096\",\"5:126698023\",\"15:66295319\",\"5:126639591\",\"15:66371877\",\"15:66269482\",\"5:126689790\",\"15:66467771\",\"15:66456489\",\"15:66303141\",\"5:126653809\",\"15:66482259\",\"15:66504566\",\"5:126795246\",\"15:66282617\",\"15:66478017\",\"15:66523602\",\"15:66395527\",\"5:126697755\",\"2:223035211\",\"15:66448456\",\"15:75025814\",\"15:66465728\",\"15:66353695\",\"5:126797404\",\"15:66369817\",\"5:126682354\",\"15:66444462\",\"15:66251290\",\"15:66527530\",\"15:66253733\",\"15:66538713\",\"15:66403362\",\"5:126683883\",\"5:126645343\",\"15:66518783\",\"15:66430765\",\"5:126775462\",\"15:66516978\",\"5:126636782\",\"15:66427789\",\"5:126687822\",\"5:126639196\",\"15:66518805\",\"5:126683809\",\"15:66490835\",\"15:66538365\",\"15:66538980\",\"15:66503694\",\"5:126733924\",\"15:66396684\",\"15:66479057\",\"15:66546324\",\"5:126683590\",\"15:66474044\",\"5:126689489\",\"15:66213698\",\"15:66515149\",\"5:126630016\",\"15:66344358\",\"5:126726851\",\"5:126641654\",\"5:126769874\",\"15:66358498\",\"15:66442953\",\"15:66524575\",\"15:66264162\",\"15:66293780\",\"15:66515086\",\"15:66332982\",\"15:66304148\",\"5:126774940\",\"15:66443465\",\"5:126640246\",\"5:126693265\",\"5:126639097\",\"15:66245497\",\"5:126772748\",\"15:66273477\",\"5:126683321\",\"15:66242505\",\"15:66361057\",\"15:66377102\",\"15:66490699\",\"5:126654062\",\"5:126650411\",\"15:66446915\",\"15:66444003\",\"5:126655730\",\"15:66380254\",\"5:126731876\",\"5:126664981\",\"15:66433196\",\"5:126639135\",\"15:66513019\",\"5:126695156\",\"15:66395428\",\"5:126656324\",\"15:66271429\",\"15:66269804\",\"15:66410004\",\"5:126639269\",\"7:113989578\",\"15:66454686\",\"15:66294695\",\"5:126679697\",\"15:66491863\",\"15:66437036\",\"5:126667551\",\"15:66492849\",\"15:66531573\",\"15:66488459\",\"15:66482208\",\"15:66509012\",\"15:66371962\",\"15:66269504\",\"15:66513016\",\"15:66311508\",\"4:54513106\",\"15:66506531\",\"4:54513653\",\"5:126637782\",\"5:126678028\",\"15:66272042\",\"15:66516106\",\"15:66332865\",\"15:66392896\",\"5:126661600\",\"15:66431947\",\"15:66491961\",\"15:66499784\",\"5:126641296\",\"15:66432800\",\"15:66540943\",\"5:126717227\",\"15:66392624\",\"15:66496226\",\"15:66351895\",\"15:66435290\",\"7:113987889\",\"5:126797292\",\"15:66388880\",\"5:126639801\",\"15:66324425\",\"15:66357425\",\"5:126694523\",\"5:126650805\",\"15:66533708\",\"15:66372939\",\"5:126645738\",\"5:126661380\",\"15:66319633\",\"5:126701622\",\"5:126725568\",\"15:66479252\",\"4:54512752\",\"15:66314082\",\"15:66533587\",\"5:126735334\",\"15:66536535\",\"15:66321395\",\"15:66427967\",\"5:126656998\",\"15:66357037\",\"5:126642148\",\"15:66426065\",\"15:66272491\",\"15:66512166\",\"15:66353928\",\"15:66484097\",\"5:126644632\",\"5:126639432\",\"4:54511246\",\"2:223033642\",\"15:66547227\",\"5:126657432\",\"5:126633958\",\"15:66485985\",\"15:66332288\",\"15:66221782\",\"5:126640576\",\"15:66398302\",\"15:66426791\",\"7:17284989\",\"5:126645710\",\"15:66415574\",\"15:66502992\",\"5:126688400\",\"4:54510427\",\"15:66356925\",\"15:66287518\",\"15:66254881\",\"5:126652710\",\"5:126661519\",\"15:66432949\",\"5:126653950\",\"5:126637872\",\"15:66359486\",\"15:66367083\",\"15:66382247\",\"15:66400981\",\"15:66495455\",\"15:66490680\",\"2:223035940\",\"15:66495849\",\"15:66420913\",\"5:126655749\",\"5:126713824\",\"15:66404169\",\"5:126669004\",\"5:126642357\",\"5:126764698\",\"15:66303484\",\"5:126796977\",\"5:126789986\",\"15:66538992\",\"15:75028490\",\"5:126632848\",\"15:66320448\",\"15:66365654\",\"5:126688517\",\"15:66407485\",\"5:126767961\",\"15:66516481\",\"5:126668770\",\"5:126653091\",\"5:126782325\",\"15:66317465\",\"15:66407073\",\"5:126652742\",\"5:126675068\",\"2:223035313\",\"5:126661774\",\"15:66417844\",\"15:66522358\",\"5:126626044\",\"5:126644401\",\"5:126654751\",\"5:126686756\",\"15:66505051\",\"15:66427219\",\"5:126662114\",\"5:126744956\",\"15:66468154\",\"5:126652407\",\"15:66506435\",\"15:66217240\",\"15:66315478\",\"15:66256784\",\"5:126658500\",\"15:66267469\",\"2:223034758\",\"5:126683373\",\"5:126647941\",\"15:66497794\",\"15:66480461\",\"15:66328281\",\"15:66439926\",\"5:126645727\",\"5:126663406\",\"5:126635437\",\"5:126645334\",\"15:66271678\",\"15:66366950\",\"15:66527278\",\"4:54511913\",\"15:66415107\",\"5:126679402\",\"5:126727418\",\"15:66523769\",\"2:223033978\",\"15:66528324\",\"5:126798031\",\"7:17282507\",\"15:66301934\",\"5:126639025\",\"15:66484459\",\"5:126633827\",\"5:126630875\",\"5:126627651\",\"15:66329001\",\"15:66531427\",\"5:126781446\",\"15:75029228\",\"15:66501793\",\"5:126715151\",\"15:66325728\",\"15:66480681\",\"15:66349799\",\"5:126698345\",\"15:66327311\",\"15:66521832\",\"15:66489951\",\"15:66538636\",\"15:66515921\",\"15:66376044\",\"15:66510618\",\"5:126643590\",\"15:66510072\",\"5:126780344\",\"15:66386217\",\"15:66437695\",\"5:126635055\",\"7:17282872\",\"15:66372710\",\"15:66529378\",\"2:223032399\",\"15:66339400\",\"15:66502054\",\"7:17282974\",\"15:66199495\",\"15:66545218\",\"15:66490208\",\"15:66430645\",\"15:66309124\",\"15:66425000\",\"15:66334289\",\"5:126672710\",\"4:54509759\",\"15:66387087\",\"5:126796531\",\"15:66328481\",\"15:66390090\",\"5:126689438\",\"5:126792974\",\"5:126695127\",\"15:66360428\"],\"rs\":[\"rs11631673\",\"rs7179044\",\"rs34270365\",\"rs6494546\",\"rs12516897\",\"rs72744435\",\"rs12916574\",\"rs79429679\",\"rs77999267\",\"rs1871001\",\"rs2218065\",\"rs187467669\",\"rs113091845\",\"rs74245464\",\"rs9652477\",\"rs58936988\",\"rs67543551\",\"rs114244425\",\"rs5813372\",\"rs5813379\",\"rs55918025\",\"rs2585193\",\"rs434416\",\"rs12915058\",\"rs2590770\",\"rs59411817\",\"rs138152110\",\"rs114289533\",\"rs26947\",\"rs36126350\",\"rs31472\",\"rs12148583\",\"rs12657844\",\"rs10281571\",\"rs167995\",\"rs1913414\",\"rs75427642\",\"rs28702433\",\"rs16949434\",\"rs333580\",\"rs78120546\",\"rs35477321\",\"rs6816209\",\"rs333579\",\"rs4776725\",\"rs2035183\",\"rs4776720\",\"rs10152285\",\"rs2408868\",\"rs10152210\",\"rs563322196\",\"rs7176045\",\"rs59435029\",\"rs2546804\",\"rs152121\",\"rs35525\",\"rs1993832\",\"rs16949437\",\"rs563849628\",\"rs333572\",\"rs12903880\",\"rs77593068\",\"rs12442953\",\"rs333559\",\"rs10518680\",\"rs407420\",\"rs11071863\",\"rs116658807\",\"rs16949647\",\"rs4776276\",\"rs72744426\",\"rs1422317\",\"rs6858782\",\"rs61629746\",\"rs1003990\",\"rs73475585\",\"rs2194079\",\"rs559620165\",\"rs2032834\",\"rs34208116\",\"rs550456183;rs4381540\",\"rs58357559\",\"rs187347025;rs148490186\",\"rs12441414\",\"rs144085293\",\"rs2018571\",\"rs73483448\",\"rs113413922\",\"rs333562\",\"rs4836318\",\"rs333588\",\"rs80199364\",\"rs10152880\",\"rs333568\",\"rs6859181\",\"rs986430\",\"rs72746207\",\"rs115309591\",\"rs2898043\",\"rs435909\",\"rs181517143\",\"rs551474\",\"rs138731838\",\"rs11334004\",\"rs79099915\",\"rs449841\",\"rs11432917\",\"rs10041484\",\"rs11689836\",\"rs6859304\",\"rs2546802\",\"rs28695263\",\"rs12913724\",\"rs16949689\",\"rs6877254\",\"rs333558\",\"rs6494547\",\"rs13190032\",\"rs35858133\",\"rs577885306\",\"rs75528418\",\"rs62011839\",\"rs75265185\",\"rs1026673\",\"rs1422315\",\"rs246943\",\"rs112089609\",\"rs333608\",\"rs2008432\",\"rs62009956\",\"rs111385700\",\"rs4886605\",\"rs10400920\",\"rs2049604\",\"rs333556\",\"rs1466434\",\"rs2571354\",\"rs333590\",\"rs2194080\",\"rs16863473\",\"rs428658\",\"rs12904760\",\"rs2169629\",\"rs13171067\",\"rs36054640\",\"rs2668551\",\"rs377422\",\"rs137881134\",\"rs59864873\",\"rs116906748\",\"rs2899712\",\"rs35527\",\"rs55781516\",\"rs333595\",\"rs10851753\",\"rs2126701\",\"rs4836317\",\"rs2546078\",\"rs55922529\",\"rs79515505\",\"rs2059083\",\"rs115502036\",\"rs1345663\",\"rs2585200\",\"rs116748454\",\"rs115859035\",\"rs8040039\",\"rs376840589\",\"rs10572080\",\"rs36307\",\"rs2546083\",\"rs72149070\",\"rs200086613\",\"rs4776713\",\"rs60133982\",\"rs35529\",\"rs557256293\",\"rs530957259\",\"rs34451603\",\"rs72742867\",\"rs147184281\",\"rs28394544\",\"rs2546805\",\"rs58105881\",\"rs145941530\",\"rs8025652\",\"rs4410790\",\"rs11634401\",\"rs1477873\",\"rs59745564\",\"rs146871315\",\"rs112697364\",\"rs544614934\",\"rs748203\",\"rs693217\",\"rs115227715\",\"rs12324491\",\"rs72746237\",\"rs74019521\",\"rs143037193\",\"rs6943079\",\"rs899079\",\"rs529478087\",\"rs140251840\",\"rs471751\",\"rs34537147\",\"rs7181124\",\"rs73469746\",\"rs6595770\",\"rs7172880\",\"rs201053818\",\"rs333596\",\"rs2161283\",\"rs10793809\",\"rs2439927\",\"rs147773125\",\"rs151039634\",\"rs112056574\",\"rs2546809\",\"rs152120\",\"rs16863471\",\"rs11636269\",\"rs2590771\",\"rs145619126\",\"rs407596\",\"rs17239740\",\"rs4836316\",\"rs3789738\",\"rs62009949\",\"rs7183800\",\"rs405857\",\"rs12594036\",\"rs333566\",\"rs2898042\",\"rs12519784\",\"rs28551784\",\"rs2378217\",\"rs2254762\",\"rs72744487\",\"rs62009886\",\"rs6494558\",\"rs114302765\",\"rs985473\",\"rs78079980\",\"rs1816058\",\"rs4776277\",\"rs74458581\",\"rs11636260\",\"rs4074578\",\"rs62373865\",\"rs1345662\",\"rs34841836\",\"rs2169632\",\"rs12050854\",\"rs10865025\",\"rs17165090\",\"rs7183527\",\"rs61212481\",\"rs333601\",\"rs12148577\",\"rs5813385\",\"rs111307102\",\"rs143670406\",\"rs8039547\",\"rs73348777\",\"rs2585199\",\"rs11071858\",\"rs187514\",\"rs423665\",\"rs11852601\",\"rs246895\",\"rs970546\",\"rs33998102\",\"rs35043148\",\"rs4776734\",\"rs16949565\",\"rs333607\",\"rs371797276\",\"rs11305781\",\"rs112753173\",\"rs43148\",\"rs550745558\",\"rs333555\",\"rs112394041\",\"rs4776294\",\"rs7164161\",\"rs4776712\",\"rs72788513\",\"rs28433780\",\"rs2552181\",\"rs67059063\",\"rs72625765\",\"rs11895863\",\"rs6494559\",\"rs75912591\",\"rs2546081\",\"rs8035444\",\"rs7175296\",\"rs27782\",\"rs28671402\",\"rs333606\",\"rs12594476\",\"rs7174069\",\"rs1036367\",\"rs7164231\",\"rs551199754\",\"rs17861118\",\"rs246885\",\"rs8034323\",\"rs1382052\",\"rs11635708\",\"rs3082857\",\"rs35259179\",\"rs4776286\",\"rs4776754\",\"rs16949369\",\"rs1019482\",\"rs2086035\",\"rs138061926\",\"rs35156178\",\"rs111389278\",\"rs2431496\",\"rs117273652\",\"rs2437056\",\"rs73344964\",\"rs149867420\",\"rs138121890\",\"rs425030\",\"rs246947\",\"rs7181353\",\"rs72746211\",\"rs3756722\",\"rs2414897\",\"rs10851751\",\"rs11630348\",\"rs973519\",\"rs78259230\",\"rs5838931\",\"rs4776283\",\"rs12441817\",\"rs12101462\",\"rs1871004\",\"rs4836324\",\"rs4776717\",\"rs246894\",\"rs1026674\",\"rs72742832\",\"rs1531497\",\"rs333567\",\"rs28637960\",\"rs72744431\",\"rs27652\",\"rs2546086\",\"rs28735605\",\"rs117302114\",\"rs2408872\",\"rs201260840\",\"rs17165082\",\"rs55900744\",\"rs36308\",\"rs56169866\",\"rs11637056\",\"rs27388\",\"rs7180336\",\"rs11634029\",\"rs528305247\",\"rs28701902\",\"rs78811203\",\"rs1477794\",\"rs1351031\",\"rs72746280\",\"rs72786494\",\"rs4776758\",\"rs26946\",\"rs16949100\",\"rs144179538\",\"rs1422313\",\"rs2552182\",\"rs1318923\",\"rs2546082\",\"rs10078629\",\"rs8035974\",\"rs550598582;rs571338567\",\"rs72625770\",\"rs333560\",\"rs2552177\",\"rs11636331\",\"rs1434733\",\"rs4776711\",\"rs61021426\",\"rs74021650\",\"rs1816059\",\"rs246892\",\"rs2546807\",\"rs333548\",\"rs12514969\",\"rs5813369\",\"rs56096254\",\"rs333549\",\"rs2899714\",\"rs6494548\",\"rs147966867\",\"rs185032\",\"rs1345664\",\"rs1477800\",\"rs7162499\",\"rs246886\",\"rs1600053\",\"rs2059084\",\"rs27749\",\"rs997204\",\"rs2546808\",\"rs183391301\",\"rs114688352\",\"rs62011851\",\"rs3050850\",\"rs368614\",\"rs511563\",\"rs7179647\",\"rs56084567\",\"rs2690827\",\"rs1542528\",\"rs333544\",\"rs246896\",\"rs4776289\",\"rs7174196\",\"rs27562\",\"rs74704414\",\"rs8039721\",\"rs111710941\",\"rs72744483\",\"rs11854038\",\"rs75530576\",\"rs372969314\",\"rs143519598\",\"rs333609\",\"rs2668550\",\"rs77525486\",\"rs539249144;rs200448899\",\"rs57623356\",\"rs17839696\",\"rs11854757\",\"rs4578594\",\"rs58571730\",\"rs28406928\",\"rs33930493\",\"rs112695033\",\"rs4776290\",\"rs1105919\",\"rs2585194\",\"rs4776281\",\"rs1531495\",\"rs17165018\",\"rs118069823\",\"rs11636681\",\"rs6494544\",\"rs8023772\",\"rs2690825\",\"rs4836323\",\"rs573989361\",\"rs2431724\",\"rs333587\",\"rs1351033\",\"rs27563\",\"rs2546087\",\"rs56841180\",\"rs17241225\",\"rs13153845\",\"rs31471\",\"rs558606\",\"rs35524\",\"rs4401615\",\"rs1351030\",\"rs2590773\",\"rs512953\",\"rs57771609\",\"rs10519939\",\"rs530367840\",\"rs2552180\",\"rs12442373\",\"rs246888\",\"rs112463730\",\"rs2585192\",\"rs74021633\",\"rs388813\",\"rs7170633\",\"rs4371110\",\"rs35722900\",\"rs72786459\",\"rs2585195\",\"rs2616389\",\"rs2218064\",\"rs35479908\",\"rs246889\",\"rs2585196\",\"rs76146262\",\"rs534981188\",\"rs77371692\",\"rs2546080\",\"rs1477795\",\"rs11631367\",\"rs10277582\",\"rs541675801\",\"rs74021625\",\"rs59355421\",\"rs72788505\",\"rs2668552\",\"rs11856955\",\"rs333570\",\"rs16949165\",\"rs246945\",\"rs10550881\",\"rs10518678\",\"rs246948\",\"rs2546806\",\"rs9783681\",\"rs4776715\",\"rs1542529\",\"rs79394158\",\"rs12900353\",\"rs78638359\",\"rs11690945\",\"rs11071871\",\"rs74902237\",\"rs246887\",\"rs35530\",\"rs11071859\",\"rs26944\",\"rs116194529\",\"rs17164951\",\"rs3931067\",\"rs73348768\",\"rs76912327\",\"rs57149998\",\"rs11072500\",\"rs2585198\",\"rs72136557\",\"rs7170387\",\"rs185033\",\"rs552756488\",\"rs6866678\",\"rs11637903\",\"rs142732871\",\"rs146195344\",\"rs10072587\",\"rs621616\",\"rs141423962\",\"rs246946\",\"rs17673170\",\"rs66885466\",\"rs31470\",\"rs17241929\",\"rs12915138\",\"rs1363387\",\"rs2546803\",\"rs185150222\",\"rs185030\",\"rs5813381\",\"rs115770468\",\"rs26945\",\"rs56320297\",\"rs12593341\",\"rs246944\",\"rs144910307\",\"rs12903123\",\"rs375962533\",\"rs16949168\",\"rs152122\",\"rs409309\",\"rs71050391\",\"rs56144110\",\"rs1422316\",\"rs79393235\",\"rs74019511\",\"rs112054411\",\"rs562031100\",\"rs140948654\",\"rs11285616\",\"rs35796097\",\"rs2585190\",\"rs72742849\",\"rs4776714\",\"rs12903154\",\"rs4864809\",\"rs140789134\",\"rs246897\",\"rs1153432\",\"rs11631331\",\"rs2196751\",\"rs12439257\",\"rs17164923\",\"rs62444547\",\"rs147698593\",\"rs2546079\",\"rs79776501\",\"rs2585197\",\"rs146140674\",\"rs113697087\",\"rs74023656\",\"rs8040835\",\"rs2270933\",\"rs77021813\",\"rs7171352\",\"rs79713470\",\"rs28848849\",\"rs541648297;rs35256111\",\"rs521504\",\"rs35526\",\"rs333589\",\"rs8038807\",\"rs563500378\",\"rs2899716\",\"rs11637593\",\"rs62011840\",\"rs8039102\",\"rs2585191\",\"rs151167059\",\"rs10519941\",\"rs12900856\",\"rs139635829\",\"rs1808378\",\"rs79710531\",\"rs111906893\",\"rs10152900\",\"rs986429\",\"rs333603\",\"rs11637608\",\"rs17137451\",\"rs16949087\",\"rs968467\",\"rs183601468\",\"rs16949548\",\"rs12592821\",\"rs4776741\",\"rs143466804\",\"rs77589749\",\"rs6818959\",\"rs4776724\",\"rs35236935\",\"rs189155\",\"rs59635353\",\"rs1160960\",\"rs3812052\",\"rs35528\",\"rs1550029\"],\"x\":{\"__ndarray__\":\"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\",\"dtype\":\"float64\",\"shape\":[645]},\"y\":{\"__ndarray__\":\"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\",\"dtype\":\"float64\",\"shape\":[645]}},\"selected\":{\"id\":\"1049\",\"type\":\"Selection\"},\"selection_policy\":{\"id\":\"1050\",\"type\":\"UnionRenderers\"}},\"id\":\"1037\",\"type\":\"ColumnDataSource\"}],\"root_ids\":[\"1002\"]},\"title\":\"Bokeh Application\",\"version\":\"1.2.0\"}};\n",
       "  var render_items = [{\"docid\":\"07bac4e9-9e36-4dff-a4e5-f53dc286f08b\",\"roots\":{\"1002\":\"5634f5f8-5ca0-4041-ad06-2429cdba4b9f\"}}];\n",
       "  root.Bokeh.embed.embed_items_notebook(docs_json, render_items);\n",
       "\n",
       "  }\n",
       "  if (root.Bokeh !== undefined) {\n",
       "    embed_document(root);\n",
       "  } else {\n",
       "    var attempts = 0;\n",
       "    var timer = setInterval(function(root) {\n",
       "      if (root.Bokeh !== undefined) {\n",
       "        embed_document(root);\n",
       "        clearInterval(timer);\n",
       "      }\n",
       "      attempts++;\n",
       "      if (attempts > 100) {\n",
       "        console.log(\"Bokeh: ERROR: Unable to run BokehJS code because BokehJS library is missing\");\n",
       "        clearInterval(timer);\n",
       "      }\n",
       "    }, 10, root)\n",
       "  }\n",
       "})(window);"
      ],
      "application/vnd.bokehjs_exec.v0+json": ""
     },
     "metadata": {
      "application/vnd.bokehjs_exec.v0+json": {
       "id": "1002"
      }
     },
     "output_type": "display_data"
    }
   ],
   "source": [
    "p = hl.plot.scatter(-hl.log10(gwas_with_imp.p_value),\n",
    "                    gwas_with_imp.importance, \n",
    "                    hover_fields=dict(rs=gwas_with_imp.rsid, loc=gwas_with_imp.locus))\n",
    "show(p)"
   ]
  },
  {
   "cell_type": "code",
   "execution_count": 15,
   "metadata": {},
   "outputs": [
    {
     "data": {
      "text/html": [
       "\n",
       "\n",
       "\n",
       "\n",
       "\n",
       "\n",
       "  <div class=\"bk-root\" id=\"7516951e-2838-4b8a-8238-90a73d4e2ff5\" data-root-id=\"1100\"></div>\n"
      ]
     },
     "metadata": {},
     "output_type": "display_data"
    },
    {
     "data": {
      "application/javascript": [
       "(function(root) {\n",
       "  function embed_document(root) {\n",
       "    \n",
       "  var docs_json = {\"ceaeda84-7cf6-4a0e-8a14-6dbb812672d0\":{\"roots\":{\"references\":[{\"attributes\":{\"below\":[{\"id\":\"1110\",\"type\":\"LinearAxis\"}],\"center\":[{\"id\":\"1114\",\"type\":\"Grid\"},{\"id\":\"1119\",\"type\":\"Grid\"}],\"left\":[{\"id\":\"1115\",\"type\":\"LinearAxis\"},{\"id\":\"1171\",\"type\":\"Legend\"},{\"id\":\"1172\",\"type\":\"ColorBar\"}],\"plot_width\":1000,\"renderers\":[{\"id\":\"1141\",\"type\":\"GlyphRenderer\"},{\"id\":\"1147\",\"type\":\"GlyphRenderer\"},{\"id\":\"1153\",\"type\":\"GlyphRenderer\"},{\"id\":\"1159\",\"type\":\"GlyphRenderer\"},{\"id\":\"1165\",\"type\":\"GlyphRenderer\"},{\"id\":\"1193\",\"type\":\"Span\"}],\"title\":null,\"toolbar\":{\"id\":\"1126\",\"type\":\"Toolbar\"},\"x_range\":{\"id\":\"1102\",\"type\":\"DataRange1d\"},\"x_scale\":{\"id\":\"1106\",\"type\":\"LinearScale\"},\"y_range\":{\"id\":\"1104\",\"type\":\"DataRange1d\"},\"y_scale\":{\"id\":\"1108\",\"type\":\"LinearScale\"}},\"id\":\"1100\",\"subtype\":\"Figure\",\"type\":\"Plot\"},{\"attributes\":{},\"id\":\"1106\",\"type\":\"LinearScale\"},{\"attributes\":{\"filters\":[{\"id\":\"1148\",\"type\":\"GroupFilter\"}],\"source\":{\"id\":\"1135\",\"type\":\"ColumnDataSource\"}},\"id\":\"1149\",\"type\":\"CDSView\"},{\"attributes\":{\"label\":{\"value\":\"7\"},\"renderers\":[{\"id\":\"1165\",\"type\":\"GlyphRenderer\"}]},\"id\":\"1170\",\"type\":\"LegendItem\"},{\"attributes\":{\"color_mapper\":null,\"formatter\":{\"id\":\"1180\",\"type\":\"BasicTickFormatter\"},\"ticker\":{\"id\":\"1179\",\"type\":\"BasicTicker\"},\"visible\":false},\"id\":\"1172\",\"type\":\"ColorBar\"},{\"attributes\":{},\"id\":\"1120\",\"type\":\"PanTool\"},{\"attributes\":{\"label\":{\"value\":\"2\"},\"renderers\":[{\"id\":\"1147\",\"type\":\"GlyphRenderer\"}]},\"id\":\"1167\",\"type\":\"LegendItem\"},{\"attributes\":{},\"id\":\"1116\",\"type\":\"BasicTicker\"},{\"attributes\":{\"callback\":null,\"data\":{\"_contig\":[\"5\",\"4\",\"5\",\"15\",\"15\",\"5\",\"15\",\"5\",\"5\",\"15\",\"5\",\"2\",\"5\",\"5\",\"5\",\"5\",\"5\",\"7\",\"15\",\"2\",\"5\",\"4\",\"5\",\"15\",\"5\",\"5\",\"4\",\"2\",\"5\",\"5\",\"5\",\"5\",\"5\",\"2\",\"2\",\"15\",\"5\",\"15\",\"5\",\"5\",\"7\",\"5\",\"15\",\"2\",\"5\",\"15\",\"5\",\"2\",\"15\",\"15\",\"7\",\"5\",\"2\",\"4\",\"2\",\"4\",\"5\",\"7\",\"5\",\"5\",\"5\",\"15\",\"5\",\"5\",\"7\",\"2\",\"2\",\"15\",\"5\",\"5\",\"5\",\"15\",\"4\",\"5\",\"5\",\"7\",\"15\",\"4\",\"7\",\"5\",\"2\",\"2\",\"5\",\"7\",\"2\",\"2\",\"7\",\"5\",\"5\",\"5\",\"5\",\"5\",\"15\",\"15\",\"5\",\"2\",\"4\",\"4\",\"7\",\"5\",\"5\",\"5\",\"2\",\"5\",\"7\",\"5\",\"5\",\"2\",\"2\",\"7\",\"5\",\"5\",\"5\",\"5\",\"5\",\"5\",\"15\",\"5\",\"5\",\"5\",\"5\",\"15\",\"15\",\"7\",\"15\",\"15\",\"15\",\"5\",\"5\",\"5\",\"2\",\"2\",\"7\",\"15\",\"5\",\"5\",\"5\",\"7\",\"15\",\"15\",\"2\",\"5\",\"5\",\"5\",\"5\",\"5\",\"15\",\"5\",\"5\",\"5\",\"5\",\"5\",\"2\",\"7\",\"5\",\"5\",\"15\",\"5\",\"5\",\"15\",\"5\",\"5\",\"4\",\"5\",\"5\",\"5\",\"7\",\"5\",\"4\",\"2\",\"15\",\"15\",\"15\",\"15\",\"2\",\"5\",\"2\",\"4\",\"15\",\"4\",\"2\",\"5\",\"2\",\"5\",\"5\",\"5\",\"5\",\"5\",\"5\",\"15\",\"2\",\"5\",\"5\",\"15\",\"2\",\"2\",\"5\",\"2\",\"15\",\"2\",\"5\",\"5\",\"4\",\"5\",\"5\",\"7\",\"5\",\"5\",\"5\",\"5\",\"4\",\"2\",\"4\",\"5\",\"4\",\"5\",\"15\",\"15\",\"5\",\"5\",\"7\",\"5\",\"15\",\"5\",\"15\",\"5\",\"15\",\"7\",\"5\",\"7\",\"5\",\"5\",\"15\",\"2\",\"5\",\"4\",\"5\",\"5\",\"4\",\"5\",\"5\",\"5\",\"5\",\"15\",\"7\",\"5\",\"7\",\"5\",\"5\",\"5\",\"5\",\"5\",\"5\",\"5\",\"15\",\"5\",\"4\",\"15\",\"15\",\"5\",\"7\",\"4\",\"5\",\"15\",\"15\",\"5\",\"15\",\"5\",\"5\",\"5\",\"2\",\"15\",\"5\",\"5\",\"7\",\"15\",\"5\",\"5\",\"5\",\"5\",\"5\",\"5\",\"2\",\"5\",\"2\",\"7\",\"15\",\"7\",\"5\",\"5\",\"5\",\"2\",\"5\",\"7\"],\"_global_locus\":{\"__ndarray__\":\"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\",\"dtype\":\"float64\",\"shape\":[294]},\"_pval\":{\"__ndarray__\":\"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\",\"dtype\":\"float64\",\"shape\":[294]},\"index\":[0,1,2,3,4,5,6,7,8,9,10,11,12,13,14,15,16,17,18,19,20,21,22,23,24,25,26,27,28,29,30,31,32,33,34,35,36,37,38,39,40,41,42,43,44,45,46,47,48,49,50,51,52,53,54,55,56,57,58,59,60,61,62,63,64,65,66,67,68,69,70,71,72,73,74,75,76,77,78,79,80,81,82,83,84,85,86,87,88,89,90,91,92,93,94,95,96,97,98,99,100,101,102,103,104,105,106,107,108,109,110,111,112,113,114,115,116,117,118,119,120,121,122,123,124,125,126,127,128,129,130,131,132,133,134,135,136,137,138,139,140,141,142,143,144,145,146,147,148,149,150,151,152,153,154,155,156,157,158,159,160,161,162,163,164,165,166,167,168,169,170,171,172,173,174,175,176,177,178,179,180,181,182,183,184,185,186,187,188,189,190,191,192,193,194,195,196,197,198,199,200,201,202,203,204,205,206,207,208,209,210,211,212,213,214,215,216,217,218,219,220,221,222,223,224,225,226,227,228,229,230,231,232,233,234,235,236,237,238,239,240,241,242,243,244,245,246,247,248,249,250,251,252,253,254,255,256,257,258,259,260,261,262,263,264,265,266,267,268,269,270,271,272,273,274,275,276,277,278,279,280,281,282,283,284,285,286,287,288,289,290,291,292,293],\"locus\":[\"5:126694523\",\"4:54510021\",\"5:126656324\",\"15:66388795\",\"15:66483326\",\"5:126669004\",\"15:75029228\",\"5:126756659\",\"5:126638727\",\"15:66332288\",\"5:126636211\",\"2:223033196\",\"5:126776307\",\"5:126685374\",\"5:126626645\",\"5:126639025\",\"5:126739085\",\"7:17283759\",\"15:75028490\",\"2:223033396\",\"5:126630948\",\"4:54510894\",\"5:126667551\",\"15:75028283\",\"5:126656500\",\"5:126644632\",\"4:54511711\",\"2:223033030\",\"5:126658500\",\"5:126664981\",\"5:126674613\",\"5:126640205\",\"5:126761536\",\"2:109512379\",\"2:109511579\",\"15:75027880\",\"5:126755778\",\"15:66530274\",\"5:126701622\",\"5:126645705\",\"7:17284577\",\"5:126793219\",\"15:75028233\",\"2:109513654\",\"5:126695127\",\"15:66271772\",\"5:126798856\",\"2:223035313\",\"15:66529378\",\"15:66504551\",\"7:113990596\",\"5:126652742\",\"2:223033006\",\"4:54513653\",\"2:223034961\",\"4:54513660\",\"5:126683883\",\"7:113987281\",\"5:126689489\",\"5:126668683\",\"5:126654970\",\"15:66512166\",\"5:126683590\",\"5:126639591\",\"7:17286817\",\"2:223034082\",\"2:109514192\",\"15:66402233\",\"5:126645343\",\"5:126682039\",\"5:126798558\",\"15:75027432\",\"4:54514122\",\"5:126697755\",\"5:126798623\",\"7:17282872\",\"15:66438961\",\"4:54511174\",\"7:113991440\",\"5:126706883\",\"2:223033725\",\"2:223035940\",\"5:126654623\",\"7:113987889\",\"2:109515567\",\"2:109511525\",\"7:113990931\",\"5:126735334\",\"5:126697138\",\"5:126661774\",\"5:126713978\",\"5:126679402\",\"15:66339349\",\"15:66413349\",\"5:126795246\",\"2:223035211\",\"4:54513484\",\"4:54511913\",\"7:113990352\",\"5:126751728\",\"5:126638459\",\"5:126642357\",\"2:223034758\",\"5:126661519\",\"7:17282507\",\"5:126753050\",\"5:126788465\",\"2:223036224\",\"2:223036256\",\"7:17286802\",\"5:126795159\",\"5:126647941\",\"5:126698023\",\"5:126631841\",\"5:126659892\",\"5:126629170\",\"15:66526977\",\"5:126789986\",\"5:126635437\",\"5:126627875\",\"5:126698345\",\"15:66432798\",\"15:66448125\",\"7:17286770\",\"15:66484687\",\"15:75029399\",\"15:66483393\",\"5:126731259\",\"5:126656998\",\"5:126679697\",\"2:223035113\",\"2:223032504\",\"7:113991207\",\"15:66464013\",\"5:126625548\",\"5:126661380\",\"5:126682354\",\"7:17286087\",\"15:66540943\",\"15:75026149\",\"2:109513786\",\"5:126672710\",\"5:126715759\",\"5:126640576\",\"5:126796531\",\"5:126774949\",\"15:75025814\",\"5:126697604\",\"5:126710915\",\"5:126731876\",\"5:126756907\",\"5:126753565\",\"2:109514579\",\"7:17285867\",\"5:126648201\",\"5:126645710\",\"15:66491961\",\"5:126650182\",\"5:126645334\",\"15:66508895\",\"5:126634444\",\"5:126639135\",\"4:54514026\",\"5:126797617\",\"5:126639269\",\"5:126764698\",\"7:17286734\",\"5:126796585\",\"4:54509759\",\"2:223033867\",\"15:75028564\",\"15:66523602\",\"15:66357425\",\"15:75026189\",\"2:223036258\",\"5:126645738\",\"2:223033978\",\"4:54513695\",\"15:66441451\",\"4:54510874\",\"2:223031835\",\"5:126633827\",\"2:109514985\",\"5:126631791\",\"5:126725568\",\"5:126768694\",\"5:126769874\",\"5:126693265\",\"5:126691169\",\"15:66545710\",\"2:223033621\",\"5:126629112\",\"5:126727418\",\"15:75025988\",\"2:223032680\",\"2:109515025\",\"5:126640971\",\"2:223035359\",\"15:66528319\",\"2:109511467\",\"5:126630491\",\"5:126655730\",\"4:54509910\",\"5:126775113\",\"5:126792974\",\"7:17284996\",\"5:126655749\",\"5:126686756\",\"5:126773180\",\"5:126798794\",\"4:54512721\",\"2:223034770\",\"4:54510074\",\"5:126733924\",\"4:54513106\",\"5:126726847\",\"15:75029472\",\"15:66253733\",\"5:126626044\",\"5:126797292\",\"7:17286293\",\"5:126653950\",\"15:66533708\",\"5:126681193\",\"15:75027770\",\"5:126678028\",\"15:66269700\",\"7:113990996\",\"5:126661600\",\"7:17284989\",\"5:126657766\",\"5:126644401\",\"15:66389315\",\"2:223035136\",\"5:126669209\",\"4:54514062\",\"5:126664039\",\"5:126660301\",\"4:54513107\",\"5:126779202\",\"5:126773064\",\"5:126630016\",\"5:126780212\",\"15:66445500\",\"7:17286050\",\"5:126775739\",\"7:17284085\",\"5:126693280\",\"5:126675068\",\"5:126727008\",\"5:126652710\",\"5:126657432\",\"5:126683809\",\"5:126794160\",\"15:75029998\",\"5:126657217\",\"4:54513819\",\"15:75029712\",\"15:66314450\",\"5:126726851\",\"7:17283259\",\"4:54510826\",\"5:126735430\",\"15:66511120\",\"15:66269504\",\"5:126797404\",\"15:66358115\",\"5:126797293\",\"5:126767961\",\"5:126683416\",\"2:223034660\",\"15:66450974\",\"5:126694437\",\"5:126798501\",\"7:17286708\",\"15:66272893\",\"5:126639097\",\"5:126780344\",\"5:126757447\",\"5:126642563\",\"5:126654062\",\"5:126687822\",\"2:109513109\",\"5:126777362\",\"2:109513601\",\"7:17282974\",\"15:75027179\",\"7:113991250\",\"5:126757200\",\"5:126715151\",\"5:126653607\",\"2:223033853\",\"5:126699347\",\"7:17284687\"],\"p_value\":{\"__ndarray__\":\"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\",\"dtype\":\"float64\",\"shape\":[294]},\"ri\":[\"rs27563\",\"rs75718680\",\"rs3050850\",\"rs79605318\",\"rs36126350\",\"rs26944\",\"rs77021813\",\"rs377341077\",\"rs4836319\",\"rs534981188\",\"rs2546809\",\"rs13411329\",\"rs60681812\",\"rs550745558\",\"rs2032834\",\"rs2546079\",\"rs6877254\",\"rs191388420\",\"rs11072500\",\"rs11895863\",\"rs2059083\",\"rs148731887\",\"rs27562\",\"rs150488464\",\"rs152120\",\"rs72786459\",\"rs2668551\",\"rs16863473\",\"rs152122\",\"rs27749\",\"rs27782\",\"rs1816058\",\"rs6883445\",\"rs548719602\",\"rs187935909\",\"rs2472297\",\"rs202106748\",\"rs4776293\",\"rs35524\",\"rs201053818\",\"rs4410790\",\"rs10793809\",\"rs145741270\",\"rs12623957\",\"rs35528\",\"rs428658\",\"rs73348777\",\"rs66885466\",\"rs10152900\",\"rs10152285\",\"rs546495336\",\"rs246946\",\"rs529478087\",\"rs539249144;rs200448899\",\"rs192694189\",\"rs17663341\",\"rs27652\",\"rs1527146\",\"rs26946\",\"rs2546078\",\"rs246885\",\"rs7170633\",\"rs72786494\",\"rs2431496\",\"rs532738234\",\"rs2218065\",\"rs2378217\",\"rs74342722\",\"rs2546086\",\"rs246895\",\"rs17164922\",\"rs17861121\",\"rs75893784\",\"rs78259230\",\"rs185293501\",\"rs79710531\",\"rs35259179\",\"rs140334180\",\"rs529657511\",\"rs12657844\",\"rs558223447\",\"rs11690945\",\"rs2439927\",\"rs2690825\",\"rs76935644\",\"rs147877575\",\"rs182081686\",\"rs10519939\",\"rs35527\",\"rs31470\",\"rs113289788\",\"rs246897\",\"rs3852627\",\"rs560790583\",\"rs3756722\",\"rs5838931\",\"rs566145844\",\"rs4864809\",\"rs2049604\",\"rs6595770\",\"rs2898042\",\"rs116194529\",\"rs71050391\",\"rs10550881\",\"rs62444547\",\"rs79655685\",\"rs143619269\",\"esv3594421\",\"rs79922615\",\"rs543502886\",\"rs3756721\",\"rs1422316\",\"rs35156178\",\"rs2585200\",\"rs34208116\",\"rs12519784\",\"rs7164601\",\"rs76912327\",\"rs35796097\",\"rs4836316\",\"rs35526\",\"rs72744450\",\"rs12903880\",\"rs112089609\",\"rs145941530\",\"rs8030076\",\"rs141650370\",\"rs13171067\",\"rs246888\",\"rs246896\",\"rs141263619\",\"rs36054640\",\"rs192442536\",\"rs76900736\",\"rs2408868\",\"rs31471\",\"rs246894\",\"rs79694830\",\"rs1531495\",\"rs17861118\",\"rs3789738\",\"rs77589749\",\"rs113091845\",\"rs2546080\",\"rs35236935\",\"rs575868720\",\"rs12441817\",\"rs72788513\",\"rs34537147\",\"rs2059084\",\"rs563314825\",\"rs539466377\",\"rs7591765\",\"rs10281571\",\"rs1422317\",\"rs541675801\",\"rs4776290\",\"rs1345663\",\"rs2585190\",\"rs55922529\",\"rs2194080\",\"rs2546808\",\"rs79162003\",\"rs150096931\",\"rs56084567\",\"rs17164951\",\"rs73680638\",\"rs2898043\",\"rs6818959\",\"rs80199364\",\"rs560176967\",\"rs11630348\",\"rs1351033\",\"rs561452716\",\"rs551240079\",\"rs13153845\",\"rs2196751\",\"rs75912591\",\"rs147773125\",\"rs6816209\",\"rs114946697\",\"rs2585197\",\"rs11689836\",\"rs17165102\",\"rs4401615\",\"rs529654685\",\"rs10078629\",\"rs246892\",\"rs73344966\",\"rs112753173\",\"rs146512362\",\"rs4836318\",\"rs1153432\",\"rs4886605\",\"rs371522534\",\"rs60288156\",\"rs2546081\",\"rs13431945\",\"rs12442223\",\"rs145115545\",\"rs200086613\",\"rs246886\",\"rs139265415\",\"rs34451603\",\"rs3812052\",\"rs549050018\",\"rs246887\",\"rs185030\",\"rs6859181\",\"rs115104068\",\"rs73250977\",\"rs201276449\",\"rs560982174\",\"rs78811203\",\"rs2668550\",\"rs2008432\",\"rs76255041\",\"rs333567\",\"rs1363387\",\"rs4836323\",\"rs147427004\",\"rs246948\",\"rs56841180\",\"rs114244425\",\"rs182435674\",\"rs17839696\",\"rs693217\",\"rs79307074\",\"rs33930493\",\"rs10277582\",\"rs559620165\",\"rs2546803\",\"rs536793855\",\"rs184491207\",\"rs145619126\",\"rs559531437\",\"rs36307\",\"rs31472\",\"rs77894545\",\"rs61031224\",\"rs6859304\",\"rs1422313\",\"rs12516897\",\"rs116575620\",\"rs185214789\",\"rs13190032\",\"rs6943079\",\"rs144085293\",\"rs17673170\",\"rs1019482\",\"rs246945\",\"rs246889\",\"rs27388\",\"rs75528418\",\"rs76354137\",\"rs152121\",\"rs6858782\",\"rs531617087\",\"rs167996\",\"rs1318923\",\"rs145880637\",\"rs1477873\",\"rs251031\",\"rs548033886\",\"rs372969314\",\"rs4836324\",\"rs6494547\",\"rs188714805\",\"rs6866678\",\"rs187514\",\"rs985473\",\"rs9888704\",\"rs26947\",\"rs150008348\",\"rs571979050\",\"rs449841\",\"rs2546807\",\"rs10519941\",\"rs77610038\",\"rs2546083\",\"rs185032\",\"rs36308\",\"rs148961371\",\"rs59745564\",\"rs3827760\",\"rs17137451\",\"rs17861120\",\"rs184002280\",\"rs149139462\",\"rs79713470\",\"rs138731838\",\"rs79534778\",\"rs35525\",\"rs77000981\"]},\"selected\":{\"id\":\"1182\",\"type\":\"Selection\"},\"selection_policy\":{\"id\":\"1183\",\"type\":\"UnionRenderers\"}},\"id\":\"1135\",\"type\":\"ColumnDataSource\"},{\"attributes\":{\"fill_color\":{\"field\":\"_contig\",\"transform\":{\"id\":\"1099\",\"type\":\"CategoricalColorMapper\"}},\"line_color\":{\"field\":\"_contig\",\"transform\":{\"id\":\"1099\",\"type\":\"CategoricalColorMapper\"}},\"x\":{\"field\":\"_global_locus\"},\"y\":{\"field\":\"_pval\"}},\"id\":\"1151\",\"type\":\"Circle\"},{\"attributes\":{},\"id\":\"1178\",\"type\":\"BasicTickFormatter\"},{\"attributes\":{\"fill_alpha\":{\"value\":0.1},\"fill_color\":{\"value\":\"#1f77b4\"},\"line_alpha\":{\"value\":0.1},\"line_color\":{\"value\":\"#1f77b4\"},\"x\":{\"field\":\"_global_locus\"},\"y\":{\"field\":\"_pval\"}},\"id\":\"1152\",\"type\":\"Circle\"},{\"attributes\":{\"label\":{\"value\":\"5\"},\"renderers\":[{\"id\":\"1159\",\"type\":\"GlyphRenderer\"}]},\"id\":\"1169\",\"type\":\"LegendItem\"},{\"attributes\":{\"filters\":[{\"id\":\"1136\",\"type\":\"GroupFilter\"}],\"source\":{\"id\":\"1135\",\"type\":\"ColumnDataSource\"}},\"id\":\"1137\",\"type\":\"CDSView\"},{\"attributes\":{\"data_source\":{\"id\":\"1135\",\"type\":\"ColumnDataSource\"},\"glyph\":{\"id\":\"1151\",\"type\":\"Circle\"},\"hover_glyph\":null,\"muted_glyph\":null,\"nonselection_glyph\":{\"id\":\"1152\",\"type\":\"Circle\"},\"selection_glyph\":null,\"view\":{\"id\":\"1149\",\"type\":\"CDSView\"}},\"id\":\"1153\",\"type\":\"GlyphRenderer\"},{\"attributes\":{\"label\":{\"value\":\"15\"},\"renderers\":[{\"id\":\"1141\",\"type\":\"GlyphRenderer\"}]},\"id\":\"1166\",\"type\":\"LegendItem\"},{\"attributes\":{\"dimension\":1,\"ticker\":{\"id\":\"1116\",\"type\":\"BasicTicker\"}},\"id\":\"1119\",\"type\":\"Grid\"},{\"attributes\":{\"label\":{\"value\":\"4\"},\"renderers\":[{\"id\":\"1153\",\"type\":\"GlyphRenderer\"}]},\"id\":\"1168\",\"type\":\"LegendItem\"},{\"attributes\":{},\"id\":\"1179\",\"type\":\"BasicTicker\"},{\"attributes\":{\"overlay\":{\"id\":\"1181\",\"type\":\"BoxAnnotation\"}},\"id\":\"1122\",\"type\":\"BoxZoomTool\"},{\"attributes\":{\"column_name\":\"_contig\",\"group\":\"5\"},\"id\":\"1154\",\"type\":\"GroupFilter\"},{\"attributes\":{\"ticks\":[370850306,786049561,972084329,1313226357,2358551414]},\"id\":\"1173\",\"type\":\"FixedTicker\"},{\"attributes\":{},\"id\":\"1121\",\"type\":\"WheelZoomTool\"},{\"attributes\":{\"active_drag\":\"auto\",\"active_inspect\":\"auto\",\"active_multi\":null,\"active_scroll\":\"auto\",\"active_tap\":\"auto\",\"tools\":[{\"id\":\"1120\",\"type\":\"PanTool\"},{\"id\":\"1121\",\"type\":\"WheelZoomTool\"},{\"id\":\"1122\",\"type\":\"BoxZoomTool\"},{\"id\":\"1123\",\"type\":\"SaveTool\"},{\"id\":\"1124\",\"type\":\"ResetTool\"},{\"id\":\"1125\",\"type\":\"HelpTool\"},{\"id\":\"1134\",\"type\":\"HoverTool\"}]},\"id\":\"1126\",\"type\":\"Toolbar\"},{\"attributes\":{\"fill_color\":{\"field\":\"_contig\",\"transform\":{\"id\":\"1099\",\"type\":\"CategoricalColorMapper\"}},\"line_color\":{\"field\":\"_contig\",\"transform\":{\"id\":\"1099\",\"type\":\"CategoricalColorMapper\"}},\"x\":{\"field\":\"_global_locus\"},\"y\":{\"field\":\"_pval\"}},\"id\":\"1157\",\"type\":\"Circle\"},{\"attributes\":{\"bottom_units\":\"screen\",\"fill_alpha\":{\"value\":0.5},\"fill_color\":{\"value\":\"lightgrey\"},\"left_units\":\"screen\",\"level\":\"overlay\",\"line_alpha\":{\"value\":1.0},\"line_color\":{\"value\":\"black\"},\"line_dash\":[4,4],\"line_width\":{\"value\":2},\"render_mode\":\"css\",\"right_units\":\"screen\",\"top_units\":\"screen\"},\"id\":\"1181\",\"type\":\"BoxAnnotation\"},{\"attributes\":{},\"id\":\"1124\",\"type\":\"ResetTool\"},{\"attributes\":{\"column_name\":\"_contig\",\"group\":\"7\"},\"id\":\"1160\",\"type\":\"GroupFilter\"},{\"attributes\":{},\"id\":\"1123\",\"type\":\"SaveTool\"},{\"attributes\":{\"fill_color\":{\"field\":\"_contig\",\"transform\":{\"id\":\"1099\",\"type\":\"CategoricalColorMapper\"}},\"line_color\":{\"field\":\"_contig\",\"transform\":{\"id\":\"1099\",\"type\":\"CategoricalColorMapper\"}},\"x\":{\"field\":\"_global_locus\"},\"y\":{\"field\":\"_pval\"}},\"id\":\"1139\",\"type\":\"Circle\"},{\"attributes\":{\"factors\":[\"1\",\"2\",\"3\",\"4\",\"5\",\"6\",\"7\",\"8\",\"9\",\"10\",\"11\",\"12\",\"13\",\"14\",\"15\",\"16\",\"17\",\"18\",\"19\",\"20\",\"21\",\"22\",\"X\",\"Y\",\"MT\",\"GL000207.1\",\"GL000226.1\",\"GL000229.1\",\"GL000231.1\",\"GL000210.1\",\"GL000239.1\",\"GL000235.1\",\"GL000201.1\",\"GL000247.1\",\"GL000245.1\",\"GL000197.1\",\"GL000203.1\",\"GL000246.1\",\"GL000249.1\",\"GL000196.1\",\"GL000248.1\",\"GL000244.1\",\"GL000238.1\",\"GL000202.1\",\"GL000234.1\",\"GL000232.1\",\"GL000206.1\",\"GL000240.1\",\"GL000236.1\",\"GL000241.1\",\"GL000243.1\",\"GL000242.1\",\"GL000230.1\",\"GL000237.1\",\"GL000233.1\",\"GL000204.1\",\"GL000198.1\",\"GL000208.1\",\"GL000191.1\",\"GL000227.1\",\"GL000228.1\",\"GL000214.1\",\"GL000221.1\",\"GL000209.1\",\"GL000218.1\",\"GL000220.1\",\"GL000213.1\",\"GL000211.1\",\"GL000199.1\",\"GL000217.1\",\"GL000216.1\",\"GL000215.1\",\"GL000205.1\",\"GL000219.1\",\"GL000224.1\",\"GL000223.1\",\"GL000195.1\",\"GL000212.1\",\"GL000222.1\",\"GL000200.1\",\"GL000193.1\",\"GL000194.1\",\"GL000225.1\",\"GL000192.1\"],\"palette\":[\"#1f77b4\",\"#ff7f0e\",\"#1f77b4\",\"#ff7f0e\",\"#1f77b4\",\"#ff7f0e\",\"#1f77b4\",\"#ff7f0e\",\"#1f77b4\",\"#ff7f0e\",\"#1f77b4\",\"#ff7f0e\",\"#1f77b4\",\"#ff7f0e\",\"#1f77b4\",\"#ff7f0e\",\"#1f77b4\",\"#ff7f0e\",\"#1f77b4\",\"#ff7f0e\",\"#1f77b4\",\"#ff7f0e\",\"#1f77b4\",\"#ff7f0e\",\"#1f77b4\",\"#ff7f0e\",\"#1f77b4\",\"#ff7f0e\",\"#1f77b4\",\"#ff7f0e\",\"#1f77b4\",\"#ff7f0e\",\"#1f77b4\",\"#ff7f0e\",\"#1f77b4\",\"#ff7f0e\",\"#1f77b4\",\"#ff7f0e\",\"#1f77b4\",\"#ff7f0e\",\"#1f77b4\",\"#ff7f0e\",\"#1f77b4\",\"#ff7f0e\",\"#1f77b4\",\"#ff7f0e\",\"#1f77b4\",\"#ff7f0e\",\"#1f77b4\",\"#ff7f0e\",\"#1f77b4\",\"#ff7f0e\",\"#1f77b4\",\"#ff7f0e\",\"#1f77b4\",\"#ff7f0e\",\"#1f77b4\",\"#ff7f0e\",\"#1f77b4\",\"#ff7f0e\",\"#1f77b4\",\"#ff7f0e\",\"#1f77b4\",\"#ff7f0e\",\"#1f77b4\",\"#ff7f0e\",\"#1f77b4\",\"#ff7f0e\",\"#1f77b4\",\"#ff7f0e\",\"#1f77b4\",\"#ff7f0e\",\"#1f77b4\",\"#ff7f0e\",\"#1f77b4\",\"#ff7f0e\",\"#1f77b4\",\"#ff7f0e\",\"#1f77b4\",\"#ff7f0e\",\"#1f77b4\",\"#ff7f0e\",\"#1f77b4\",\"#ff7f0e\"]},\"id\":\"1099\",\"type\":\"CategoricalColorMapper\"},{\"attributes\":{\"callback\":null,\"tooltips\":[[\"locus\",\"@locus\"],[\"ri\",\"@ri\"],[\"p_value\",\"@p_value\"]]},\"id\":\"1134\",\"type\":\"HoverTool\"},{\"attributes\":{},\"id\":\"1183\",\"type\":\"UnionRenderers\"},{\"attributes\":{\"fill_alpha\":{\"value\":0.1},\"fill_color\":{\"value\":\"#1f77b4\"},\"line_alpha\":{\"value\":0.1},\"line_color\":{\"value\":\"#1f77b4\"},\"x\":{\"field\":\"_global_locus\"},\"y\":{\"field\":\"_pval\"}},\"id\":\"1140\",\"type\":\"Circle\"},{\"attributes\":{},\"id\":\"1125\",\"type\":\"HelpTool\"},{\"attributes\":{\"data_source\":{\"id\":\"1135\",\"type\":\"ColumnDataSource\"},\"glyph\":{\"id\":\"1139\",\"type\":\"Circle\"},\"hover_glyph\":null,\"muted_glyph\":null,\"nonselection_glyph\":{\"id\":\"1140\",\"type\":\"Circle\"},\"selection_glyph\":null,\"view\":{\"id\":\"1137\",\"type\":\"CDSView\"}},\"id\":\"1141\",\"type\":\"GlyphRenderer\"},{\"attributes\":{\"callback\":null},\"id\":\"1104\",\"type\":\"DataRange1d\"},{\"attributes\":{\"data_source\":{\"id\":\"1135\",\"type\":\"ColumnDataSource\"},\"glyph\":{\"id\":\"1163\",\"type\":\"Circle\"},\"hover_glyph\":null,\"muted_glyph\":null,\"nonselection_glyph\":{\"id\":\"1164\",\"type\":\"Circle\"},\"selection_glyph\":null,\"view\":{\"id\":\"1161\",\"type\":\"CDSView\"}},\"id\":\"1165\",\"type\":\"GlyphRenderer\"},{\"attributes\":{},\"id\":\"1180\",\"type\":\"BasicTickFormatter\"},{\"attributes\":{\"axis_label\":\"Chromosome\",\"formatter\":{\"id\":\"1176\",\"type\":\"BasicTickFormatter\"},\"major_label_overrides\":{\"1313226357\":\"7\",\"2358551414\":\"15\",\"370850306\":\"2\",\"786049561\":\"4\",\"972084329\":\"5\"},\"ticker\":{\"id\":\"1173\",\"type\":\"FixedTicker\"}},\"id\":\"1110\",\"type\":\"LinearAxis\"},{\"attributes\":{\"column_name\":\"_contig\",\"group\":\"2\"},\"id\":\"1142\",\"type\":\"GroupFilter\"},{\"attributes\":{\"fill_alpha\":{\"value\":0.1},\"fill_color\":{\"value\":\"#1f77b4\"},\"line_alpha\":{\"value\":0.1},\"line_color\":{\"value\":\"#1f77b4\"},\"x\":{\"field\":\"_global_locus\"},\"y\":{\"field\":\"_pval\"}},\"id\":\"1164\",\"type\":\"Circle\"},{\"attributes\":{\"fill_alpha\":{\"value\":0.1},\"fill_color\":{\"value\":\"#1f77b4\"},\"line_alpha\":{\"value\":0.1},\"line_color\":{\"value\":\"#1f77b4\"},\"x\":{\"field\":\"_global_locus\"},\"y\":{\"field\":\"_pval\"}},\"id\":\"1158\",\"type\":\"Circle\"},{\"attributes\":{},\"id\":\"1111\",\"type\":\"BasicTicker\"},{\"attributes\":{\"callback\":null},\"id\":\"1102\",\"type\":\"DataRange1d\"},{\"attributes\":{\"filters\":[{\"id\":\"1142\",\"type\":\"GroupFilter\"}],\"source\":{\"id\":\"1135\",\"type\":\"ColumnDataSource\"}},\"id\":\"1143\",\"type\":\"CDSView\"},{\"attributes\":{\"data_source\":{\"id\":\"1135\",\"type\":\"ColumnDataSource\"},\"glyph\":{\"id\":\"1157\",\"type\":\"Circle\"},\"hover_glyph\":null,\"muted_glyph\":null,\"nonselection_glyph\":{\"id\":\"1158\",\"type\":\"Circle\"},\"selection_glyph\":null,\"view\":{\"id\":\"1155\",\"type\":\"CDSView\"}},\"id\":\"1159\",\"type\":\"GlyphRenderer\"},{\"attributes\":{\"click_policy\":\"hide\",\"items\":[{\"id\":\"1166\",\"type\":\"LegendItem\"},{\"id\":\"1167\",\"type\":\"LegendItem\"},{\"id\":\"1168\",\"type\":\"LegendItem\"},{\"id\":\"1169\",\"type\":\"LegendItem\"},{\"id\":\"1170\",\"type\":\"LegendItem\"}],\"visible\":false},\"id\":\"1171\",\"type\":\"Legend\"},{\"attributes\":{\"filters\":[{\"id\":\"1154\",\"type\":\"GroupFilter\"}],\"source\":{\"id\":\"1135\",\"type\":\"ColumnDataSource\"}},\"id\":\"1155\",\"type\":\"CDSView\"},{\"attributes\":{\"ticker\":{\"id\":\"1111\",\"type\":\"BasicTicker\"}},\"id\":\"1114\",\"type\":\"Grid\"},{\"attributes\":{\"axis_label\":\"P-value (-log10 scale)\",\"formatter\":{\"id\":\"1178\",\"type\":\"BasicTickFormatter\"},\"ticker\":{\"id\":\"1116\",\"type\":\"BasicTicker\"}},\"id\":\"1115\",\"type\":\"LinearAxis\"},{\"attributes\":{\"fill_color\":{\"field\":\"_contig\",\"transform\":{\"id\":\"1099\",\"type\":\"CategoricalColorMapper\"}},\"line_color\":{\"field\":\"_contig\",\"transform\":{\"id\":\"1099\",\"type\":\"CategoricalColorMapper\"}},\"x\":{\"field\":\"_global_locus\"},\"y\":{\"field\":\"_pval\"}},\"id\":\"1145\",\"type\":\"Circle\"},{\"attributes\":{},\"id\":\"1176\",\"type\":\"BasicTickFormatter\"},{\"attributes\":{\"filters\":[{\"id\":\"1160\",\"type\":\"GroupFilter\"}],\"source\":{\"id\":\"1135\",\"type\":\"ColumnDataSource\"}},\"id\":\"1161\",\"type\":\"CDSView\"},{\"attributes\":{},\"id\":\"1182\",\"type\":\"Selection\"},{\"attributes\":{\"fill_alpha\":{\"value\":0.1},\"fill_color\":{\"value\":\"#1f77b4\"},\"line_alpha\":{\"value\":0.1},\"line_color\":{\"value\":\"#1f77b4\"},\"x\":{\"field\":\"_global_locus\"},\"y\":{\"field\":\"_pval\"}},\"id\":\"1146\",\"type\":\"Circle\"},{\"attributes\":{\"fill_color\":{\"field\":\"_contig\",\"transform\":{\"id\":\"1099\",\"type\":\"CategoricalColorMapper\"}},\"line_color\":{\"field\":\"_contig\",\"transform\":{\"id\":\"1099\",\"type\":\"CategoricalColorMapper\"}},\"x\":{\"field\":\"_global_locus\"},\"y\":{\"field\":\"_pval\"}},\"id\":\"1163\",\"type\":\"Circle\"},{\"attributes\":{\"column_name\":\"_contig\",\"group\":\"15\"},\"id\":\"1136\",\"type\":\"GroupFilter\"},{\"attributes\":{\"line_color\":{\"value\":\"red\"},\"line_dash\":[6],\"line_width\":{\"value\":1.5},\"location\":7.301029995663981},\"id\":\"1193\",\"type\":\"Span\"},{\"attributes\":{\"data_source\":{\"id\":\"1135\",\"type\":\"ColumnDataSource\"},\"glyph\":{\"id\":\"1145\",\"type\":\"Circle\"},\"hover_glyph\":null,\"muted_glyph\":null,\"nonselection_glyph\":{\"id\":\"1146\",\"type\":\"Circle\"},\"selection_glyph\":null,\"view\":{\"id\":\"1143\",\"type\":\"CDSView\"}},\"id\":\"1147\",\"type\":\"GlyphRenderer\"},{\"attributes\":{\"column_name\":\"_contig\",\"group\":\"4\"},\"id\":\"1148\",\"type\":\"GroupFilter\"},{\"attributes\":{},\"id\":\"1108\",\"type\":\"LinearScale\"}],\"root_ids\":[\"1100\"]},\"title\":\"Bokeh Application\",\"version\":\"1.2.0\"}};\n",
       "  var render_items = [{\"docid\":\"ceaeda84-7cf6-4a0e-8a14-6dbb812672d0\",\"roots\":{\"1100\":\"7516951e-2838-4b8a-8238-90a73d4e2ff5\"}}];\n",
       "  root.Bokeh.embed.embed_items_notebook(docs_json, render_items);\n",
       "\n",
       "  }\n",
       "  if (root.Bokeh !== undefined) {\n",
       "    embed_document(root);\n",
       "  } else {\n",
       "    var attempts = 0;\n",
       "    var timer = setInterval(function(root) {\n",
       "      if (root.Bokeh !== undefined) {\n",
       "        embed_document(root);\n",
       "        clearInterval(timer);\n",
       "      }\n",
       "      attempts++;\n",
       "      if (attempts > 100) {\n",
       "        console.log(\"Bokeh: ERROR: Unable to run BokehJS code because BokehJS library is missing\");\n",
       "        clearInterval(timer);\n",
       "      }\n",
       "    }, 10, root)\n",
       "  }\n",
       "})(window);"
      ],
      "application/vnd.bokehjs_exec.v0+json": ""
     },
     "metadata": {
      "application/vnd.bokehjs_exec.v0+json": {
       "id": "1100"
      }
     },
     "output_type": "display_data"
    }
   ],
   "source": [
    "p = hl.plot.manhattan(gwas_with_imp.p_value, hover_fields=dict(ri=gwas_with_imp.rsid))\n",
    "show(p)"
   ]
  }
 ],
 "metadata": {
  "kernelspec": {
   "display_name": "Python 3",
   "language": "python",
   "name": "python3"
  },
  "language_info": {
   "codemirror_mode": {
    "name": "ipython",
    "version": 3
   },
   "file_extension": ".py",
   "mimetype": "text/x-python",
   "name": "python",
   "nbconvert_exporter": "python",
   "pygments_lexer": "ipython3",
   "version": "3.6.0"
  }
 },
 "nbformat": 4,
 "nbformat_minor": 2
}
