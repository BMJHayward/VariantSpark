{
 "cells": [
  {
   "cell_type": "code",
   "execution_count": 1,
   "metadata": {},
   "outputs": [],
   "source": [
    "from pyspark.sql import SparkSession\n",
    "\n",
    "spark = SparkSession.builder\\\n",
    "    .appName(\"HipsterIndex\") \\\n",
    "    .config(\"spark.driver.extraClassPath\", \"/Users/szu004/miniconda2/envs/hail/lib/python3.6/site-packages/hail/hail-all-spark.jar\")\\\n",
    "    .config(\"spark.jars\", \"/Users/szu004/miniconda2/envs/hail/lib/python3.6/site-packages/hail/hail-all-spark.jar,../target/variant-spark_2.11-0.3.0-SNAPSHOT-all.jar\")\\\n",
    "    .config(\"spark.serializer\", \"org.apache.spark.serializer.KryoSerializer\") \\\n",
    "    .config(\"spark.kryo.registrator\", \"is.hail.kryo.HailKryoRegistrator\") \\\n",
    "    .getOrCreate()"
   ]
  },
  {
   "cell_type": "code",
   "execution_count": 2,
   "metadata": {},
   "outputs": [
    {
     "name": "stderr",
     "output_type": "stream",
     "text": [
      "using hail jar at /Users/szu004/miniconda2/envs/hail/lib/python3.6/site-packages/hail/hail-all-spark.jar\n",
      "Running on Apache Spark version 2.4.1\n",
      "SparkUI available at http://szu004-mac-dp.nexus.csiro.au:4040\n",
      "Welcome to\n",
      "     __  __     <>__\n",
      "    / /_/ /__  __/ /\n",
      "   / __  / _ `/ / /\n",
      "  /_/ /_/\\_,_/_/_/   version 0.2.16-6da0d3571629\n",
      "LOGGING: writing to /Users/szu004/dev/variant-spark/dev-notebooks/hail-20190716-1644-0.2.16-6da0d3571629.log\n"
     ]
    }
   ],
   "source": [
    "import hail as hl\n",
    "hl.init(sc=spark.sparkContext)"
   ]
  },
  {
   "cell_type": "code",
   "execution_count": 3,
   "metadata": {},
   "outputs": [
    {
     "data": {
      "text/html": [
       "\n",
       "    <div class=\"bk-root\">\n",
       "        <a href=\"https://bokeh.pydata.org\" target=\"_blank\" class=\"bk-logo bk-logo-small bk-logo-notebook\"></a>\n",
       "        <span id=\"1001\">Loading BokehJS ...</span>\n",
       "    </div>"
      ]
     },
     "metadata": {},
     "output_type": "display_data"
    },
    {
     "data": {
      "application/javascript": [
       "\n",
       "(function(root) {\n",
       "  function now() {\n",
       "    return new Date();\n",
       "  }\n",
       "\n",
       "  var force = true;\n",
       "\n",
       "  if (typeof root._bokeh_onload_callbacks === \"undefined\" || force === true) {\n",
       "    root._bokeh_onload_callbacks = [];\n",
       "    root._bokeh_is_loading = undefined;\n",
       "  }\n",
       "\n",
       "  var JS_MIME_TYPE = 'application/javascript';\n",
       "  var HTML_MIME_TYPE = 'text/html';\n",
       "  var EXEC_MIME_TYPE = 'application/vnd.bokehjs_exec.v0+json';\n",
       "  var CLASS_NAME = 'output_bokeh rendered_html';\n",
       "\n",
       "  /**\n",
       "   * Render data to the DOM node\n",
       "   */\n",
       "  function render(props, node) {\n",
       "    var script = document.createElement(\"script\");\n",
       "    node.appendChild(script);\n",
       "  }\n",
       "\n",
       "  /**\n",
       "   * Handle when an output is cleared or removed\n",
       "   */\n",
       "  function handleClearOutput(event, handle) {\n",
       "    var cell = handle.cell;\n",
       "\n",
       "    var id = cell.output_area._bokeh_element_id;\n",
       "    var server_id = cell.output_area._bokeh_server_id;\n",
       "    // Clean up Bokeh references\n",
       "    if (id != null && id in Bokeh.index) {\n",
       "      Bokeh.index[id].model.document.clear();\n",
       "      delete Bokeh.index[id];\n",
       "    }\n",
       "\n",
       "    if (server_id !== undefined) {\n",
       "      // Clean up Bokeh references\n",
       "      var cmd = \"from bokeh.io.state import curstate; print(curstate().uuid_to_server['\" + server_id + \"'].get_sessions()[0].document.roots[0]._id)\";\n",
       "      cell.notebook.kernel.execute(cmd, {\n",
       "        iopub: {\n",
       "          output: function(msg) {\n",
       "            var id = msg.content.text.trim();\n",
       "            if (id in Bokeh.index) {\n",
       "              Bokeh.index[id].model.document.clear();\n",
       "              delete Bokeh.index[id];\n",
       "            }\n",
       "          }\n",
       "        }\n",
       "      });\n",
       "      // Destroy server and session\n",
       "      var cmd = \"import bokeh.io.notebook as ion; ion.destroy_server('\" + server_id + \"')\";\n",
       "      cell.notebook.kernel.execute(cmd);\n",
       "    }\n",
       "  }\n",
       "\n",
       "  /**\n",
       "   * Handle when a new output is added\n",
       "   */\n",
       "  function handleAddOutput(event, handle) {\n",
       "    var output_area = handle.output_area;\n",
       "    var output = handle.output;\n",
       "\n",
       "    // limit handleAddOutput to display_data with EXEC_MIME_TYPE content only\n",
       "    if ((output.output_type != \"display_data\") || (!output.data.hasOwnProperty(EXEC_MIME_TYPE))) {\n",
       "      return\n",
       "    }\n",
       "\n",
       "    var toinsert = output_area.element.find(\".\" + CLASS_NAME.split(' ')[0]);\n",
       "\n",
       "    if (output.metadata[EXEC_MIME_TYPE][\"id\"] !== undefined) {\n",
       "      toinsert[toinsert.length - 1].firstChild.textContent = output.data[JS_MIME_TYPE];\n",
       "      // store reference to embed id on output_area\n",
       "      output_area._bokeh_element_id = output.metadata[EXEC_MIME_TYPE][\"id\"];\n",
       "    }\n",
       "    if (output.metadata[EXEC_MIME_TYPE][\"server_id\"] !== undefined) {\n",
       "      var bk_div = document.createElement(\"div\");\n",
       "      bk_div.innerHTML = output.data[HTML_MIME_TYPE];\n",
       "      var script_attrs = bk_div.children[0].attributes;\n",
       "      for (var i = 0; i < script_attrs.length; i++) {\n",
       "        toinsert[toinsert.length - 1].firstChild.setAttribute(script_attrs[i].name, script_attrs[i].value);\n",
       "      }\n",
       "      // store reference to server id on output_area\n",
       "      output_area._bokeh_server_id = output.metadata[EXEC_MIME_TYPE][\"server_id\"];\n",
       "    }\n",
       "  }\n",
       "\n",
       "  function register_renderer(events, OutputArea) {\n",
       "\n",
       "    function append_mime(data, metadata, element) {\n",
       "      // create a DOM node to render to\n",
       "      var toinsert = this.create_output_subarea(\n",
       "        metadata,\n",
       "        CLASS_NAME,\n",
       "        EXEC_MIME_TYPE\n",
       "      );\n",
       "      this.keyboard_manager.register_events(toinsert);\n",
       "      // Render to node\n",
       "      var props = {data: data, metadata: metadata[EXEC_MIME_TYPE]};\n",
       "      render(props, toinsert[toinsert.length - 1]);\n",
       "      element.append(toinsert);\n",
       "      return toinsert\n",
       "    }\n",
       "\n",
       "    /* Handle when an output is cleared or removed */\n",
       "    events.on('clear_output.CodeCell', handleClearOutput);\n",
       "    events.on('delete.Cell', handleClearOutput);\n",
       "\n",
       "    /* Handle when a new output is added */\n",
       "    events.on('output_added.OutputArea', handleAddOutput);\n",
       "\n",
       "    /**\n",
       "     * Register the mime type and append_mime function with output_area\n",
       "     */\n",
       "    OutputArea.prototype.register_mime_type(EXEC_MIME_TYPE, append_mime, {\n",
       "      /* Is output safe? */\n",
       "      safe: true,\n",
       "      /* Index of renderer in `output_area.display_order` */\n",
       "      index: 0\n",
       "    });\n",
       "  }\n",
       "\n",
       "  // register the mime type if in Jupyter Notebook environment and previously unregistered\n",
       "  if (root.Jupyter !== undefined) {\n",
       "    var events = require('base/js/events');\n",
       "    var OutputArea = require('notebook/js/outputarea').OutputArea;\n",
       "\n",
       "    if (OutputArea.prototype.mime_types().indexOf(EXEC_MIME_TYPE) == -1) {\n",
       "      register_renderer(events, OutputArea);\n",
       "    }\n",
       "  }\n",
       "\n",
       "  \n",
       "  if (typeof (root._bokeh_timeout) === \"undefined\" || force === true) {\n",
       "    root._bokeh_timeout = Date.now() + 5000;\n",
       "    root._bokeh_failed_load = false;\n",
       "  }\n",
       "\n",
       "  var NB_LOAD_WARNING = {'data': {'text/html':\n",
       "     \"<div style='background-color: #fdd'>\\n\"+\n",
       "     \"<p>\\n\"+\n",
       "     \"BokehJS does not appear to have successfully loaded. If loading BokehJS from CDN, this \\n\"+\n",
       "     \"may be due to a slow or bad network connection. Possible fixes:\\n\"+\n",
       "     \"</p>\\n\"+\n",
       "     \"<ul>\\n\"+\n",
       "     \"<li>re-rerun `output_notebook()` to attempt to load from CDN again, or</li>\\n\"+\n",
       "     \"<li>use INLINE resources instead, as so:</li>\\n\"+\n",
       "     \"</ul>\\n\"+\n",
       "     \"<code>\\n\"+\n",
       "     \"from bokeh.resources import INLINE\\n\"+\n",
       "     \"output_notebook(resources=INLINE)\\n\"+\n",
       "     \"</code>\\n\"+\n",
       "     \"</div>\"}};\n",
       "\n",
       "  function display_loaded() {\n",
       "    var el = document.getElementById(\"1001\");\n",
       "    if (el != null) {\n",
       "      el.textContent = \"BokehJS is loading...\";\n",
       "    }\n",
       "    if (root.Bokeh !== undefined) {\n",
       "      if (el != null) {\n",
       "        el.textContent = \"BokehJS \" + root.Bokeh.version + \" successfully loaded.\";\n",
       "      }\n",
       "    } else if (Date.now() < root._bokeh_timeout) {\n",
       "      setTimeout(display_loaded, 100)\n",
       "    }\n",
       "  }\n",
       "\n",
       "\n",
       "  function run_callbacks() {\n",
       "    try {\n",
       "      root._bokeh_onload_callbacks.forEach(function(callback) {\n",
       "        if (callback != null)\n",
       "          callback();\n",
       "      });\n",
       "    } finally {\n",
       "      delete root._bokeh_onload_callbacks\n",
       "    }\n",
       "    console.debug(\"Bokeh: all callbacks have finished\");\n",
       "  }\n",
       "\n",
       "  function load_libs(css_urls, js_urls, callback) {\n",
       "    if (css_urls == null) css_urls = [];\n",
       "    if (js_urls == null) js_urls = [];\n",
       "\n",
       "    root._bokeh_onload_callbacks.push(callback);\n",
       "    if (root._bokeh_is_loading > 0) {\n",
       "      console.debug(\"Bokeh: BokehJS is being loaded, scheduling callback at\", now());\n",
       "      return null;\n",
       "    }\n",
       "    if (js_urls == null || js_urls.length === 0) {\n",
       "      run_callbacks();\n",
       "      return null;\n",
       "    }\n",
       "    console.debug(\"Bokeh: BokehJS not loaded, scheduling load and callback at\", now());\n",
       "    root._bokeh_is_loading = css_urls.length + js_urls.length;\n",
       "\n",
       "    function on_load() {\n",
       "      root._bokeh_is_loading--;\n",
       "      if (root._bokeh_is_loading === 0) {\n",
       "        console.debug(\"Bokeh: all BokehJS libraries/stylesheets loaded\");\n",
       "        run_callbacks()\n",
       "      }\n",
       "    }\n",
       "\n",
       "    function on_error() {\n",
       "      console.error(\"failed to load \" + url);\n",
       "    }\n",
       "\n",
       "    for (var i = 0; i < css_urls.length; i++) {\n",
       "      var url = css_urls[i];\n",
       "      const element = document.createElement(\"link\");\n",
       "      element.onload = on_load;\n",
       "      element.onerror = on_error;\n",
       "      element.rel = \"stylesheet\";\n",
       "      element.type = \"text/css\";\n",
       "      element.href = url;\n",
       "      console.debug(\"Bokeh: injecting link tag for BokehJS stylesheet: \", url);\n",
       "      document.body.appendChild(element);\n",
       "    }\n",
       "\n",
       "    for (var i = 0; i < js_urls.length; i++) {\n",
       "      var url = js_urls[i];\n",
       "      var element = document.createElement('script');\n",
       "      element.onload = on_load;\n",
       "      element.onerror = on_error;\n",
       "      element.async = false;\n",
       "      element.src = url;\n",
       "      console.debug(\"Bokeh: injecting script tag for BokehJS library: \", url);\n",
       "      document.head.appendChild(element);\n",
       "    }\n",
       "  };var element = document.getElementById(\"1001\");\n",
       "  if (element == null) {\n",
       "    console.error(\"Bokeh: ERROR: autoload.js configured with elementid '1001' but no matching script tag was found. \")\n",
       "    return false;\n",
       "  }\n",
       "\n",
       "  function inject_raw_css(css) {\n",
       "    const element = document.createElement(\"style\");\n",
       "    element.appendChild(document.createTextNode(css));\n",
       "    document.body.appendChild(element);\n",
       "  }\n",
       "\n",
       "  var js_urls = [\"https://cdn.pydata.org/bokeh/release/bokeh-1.2.0.min.js\", \"https://cdn.pydata.org/bokeh/release/bokeh-widgets-1.2.0.min.js\", \"https://cdn.pydata.org/bokeh/release/bokeh-tables-1.2.0.min.js\", \"https://cdn.pydata.org/bokeh/release/bokeh-gl-1.2.0.min.js\"];\n",
       "  var css_urls = [\"https://cdn.pydata.org/bokeh/release/bokeh-1.2.0.min.css\", \"https://cdn.pydata.org/bokeh/release/bokeh-widgets-1.2.0.min.css\", \"https://cdn.pydata.org/bokeh/release/bokeh-tables-1.2.0.min.css\"];\n",
       "\n",
       "  var inline_js = [\n",
       "    function(Bokeh) {\n",
       "      Bokeh.set_log_level(\"info\");\n",
       "    },\n",
       "    \n",
       "    function(Bokeh) {\n",
       "      \n",
       "    },\n",
       "    function(Bokeh) {} // ensure no trailing comma for IE\n",
       "  ];\n",
       "\n",
       "  function run_inline_js() {\n",
       "    \n",
       "    if ((root.Bokeh !== undefined) || (force === true)) {\n",
       "      for (var i = 0; i < inline_js.length; i++) {\n",
       "        inline_js[i].call(root, root.Bokeh);\n",
       "      }if (force === true) {\n",
       "        display_loaded();\n",
       "      }} else if (Date.now() < root._bokeh_timeout) {\n",
       "      setTimeout(run_inline_js, 100);\n",
       "    } else if (!root._bokeh_failed_load) {\n",
       "      console.log(\"Bokeh: BokehJS failed to load within specified timeout.\");\n",
       "      root._bokeh_failed_load = true;\n",
       "    } else if (force !== true) {\n",
       "      var cell = $(document.getElementById(\"1001\")).parents('.cell').data().cell;\n",
       "      cell.output_area.append_execute_result(NB_LOAD_WARNING)\n",
       "    }\n",
       "\n",
       "  }\n",
       "\n",
       "  if (root._bokeh_is_loading === 0) {\n",
       "    console.debug(\"Bokeh: BokehJS loaded, going straight to plotting\");\n",
       "    run_inline_js();\n",
       "  } else {\n",
       "    load_libs(css_urls, js_urls, function() {\n",
       "      console.debug(\"Bokeh: BokehJS plotting callback run at\", now());\n",
       "      run_inline_js();\n",
       "    });\n",
       "  }\n",
       "}(window));"
      ],
      "application/vnd.bokehjs_load.v0+json": "\n(function(root) {\n  function now() {\n    return new Date();\n  }\n\n  var force = true;\n\n  if (typeof root._bokeh_onload_callbacks === \"undefined\" || force === true) {\n    root._bokeh_onload_callbacks = [];\n    root._bokeh_is_loading = undefined;\n  }\n\n  \n\n  \n  if (typeof (root._bokeh_timeout) === \"undefined\" || force === true) {\n    root._bokeh_timeout = Date.now() + 5000;\n    root._bokeh_failed_load = false;\n  }\n\n  var NB_LOAD_WARNING = {'data': {'text/html':\n     \"<div style='background-color: #fdd'>\\n\"+\n     \"<p>\\n\"+\n     \"BokehJS does not appear to have successfully loaded. If loading BokehJS from CDN, this \\n\"+\n     \"may be due to a slow or bad network connection. Possible fixes:\\n\"+\n     \"</p>\\n\"+\n     \"<ul>\\n\"+\n     \"<li>re-rerun `output_notebook()` to attempt to load from CDN again, or</li>\\n\"+\n     \"<li>use INLINE resources instead, as so:</li>\\n\"+\n     \"</ul>\\n\"+\n     \"<code>\\n\"+\n     \"from bokeh.resources import INLINE\\n\"+\n     \"output_notebook(resources=INLINE)\\n\"+\n     \"</code>\\n\"+\n     \"</div>\"}};\n\n  function display_loaded() {\n    var el = document.getElementById(\"1001\");\n    if (el != null) {\n      el.textContent = \"BokehJS is loading...\";\n    }\n    if (root.Bokeh !== undefined) {\n      if (el != null) {\n        el.textContent = \"BokehJS \" + root.Bokeh.version + \" successfully loaded.\";\n      }\n    } else if (Date.now() < root._bokeh_timeout) {\n      setTimeout(display_loaded, 100)\n    }\n  }\n\n\n  function run_callbacks() {\n    try {\n      root._bokeh_onload_callbacks.forEach(function(callback) {\n        if (callback != null)\n          callback();\n      });\n    } finally {\n      delete root._bokeh_onload_callbacks\n    }\n    console.debug(\"Bokeh: all callbacks have finished\");\n  }\n\n  function load_libs(css_urls, js_urls, callback) {\n    if (css_urls == null) css_urls = [];\n    if (js_urls == null) js_urls = [];\n\n    root._bokeh_onload_callbacks.push(callback);\n    if (root._bokeh_is_loading > 0) {\n      console.debug(\"Bokeh: BokehJS is being loaded, scheduling callback at\", now());\n      return null;\n    }\n    if (js_urls == null || js_urls.length === 0) {\n      run_callbacks();\n      return null;\n    }\n    console.debug(\"Bokeh: BokehJS not loaded, scheduling load and callback at\", now());\n    root._bokeh_is_loading = css_urls.length + js_urls.length;\n\n    function on_load() {\n      root._bokeh_is_loading--;\n      if (root._bokeh_is_loading === 0) {\n        console.debug(\"Bokeh: all BokehJS libraries/stylesheets loaded\");\n        run_callbacks()\n      }\n    }\n\n    function on_error() {\n      console.error(\"failed to load \" + url);\n    }\n\n    for (var i = 0; i < css_urls.length; i++) {\n      var url = css_urls[i];\n      const element = document.createElement(\"link\");\n      element.onload = on_load;\n      element.onerror = on_error;\n      element.rel = \"stylesheet\";\n      element.type = \"text/css\";\n      element.href = url;\n      console.debug(\"Bokeh: injecting link tag for BokehJS stylesheet: \", url);\n      document.body.appendChild(element);\n    }\n\n    for (var i = 0; i < js_urls.length; i++) {\n      var url = js_urls[i];\n      var element = document.createElement('script');\n      element.onload = on_load;\n      element.onerror = on_error;\n      element.async = false;\n      element.src = url;\n      console.debug(\"Bokeh: injecting script tag for BokehJS library: \", url);\n      document.head.appendChild(element);\n    }\n  };var element = document.getElementById(\"1001\");\n  if (element == null) {\n    console.error(\"Bokeh: ERROR: autoload.js configured with elementid '1001' but no matching script tag was found. \")\n    return false;\n  }\n\n  function inject_raw_css(css) {\n    const element = document.createElement(\"style\");\n    element.appendChild(document.createTextNode(css));\n    document.body.appendChild(element);\n  }\n\n  var js_urls = [\"https://cdn.pydata.org/bokeh/release/bokeh-1.2.0.min.js\", \"https://cdn.pydata.org/bokeh/release/bokeh-widgets-1.2.0.min.js\", \"https://cdn.pydata.org/bokeh/release/bokeh-tables-1.2.0.min.js\", \"https://cdn.pydata.org/bokeh/release/bokeh-gl-1.2.0.min.js\"];\n  var css_urls = [\"https://cdn.pydata.org/bokeh/release/bokeh-1.2.0.min.css\", \"https://cdn.pydata.org/bokeh/release/bokeh-widgets-1.2.0.min.css\", \"https://cdn.pydata.org/bokeh/release/bokeh-tables-1.2.0.min.css\"];\n\n  var inline_js = [\n    function(Bokeh) {\n      Bokeh.set_log_level(\"info\");\n    },\n    \n    function(Bokeh) {\n      \n    },\n    function(Bokeh) {} // ensure no trailing comma for IE\n  ];\n\n  function run_inline_js() {\n    \n    if ((root.Bokeh !== undefined) || (force === true)) {\n      for (var i = 0; i < inline_js.length; i++) {\n        inline_js[i].call(root, root.Bokeh);\n      }if (force === true) {\n        display_loaded();\n      }} else if (Date.now() < root._bokeh_timeout) {\n      setTimeout(run_inline_js, 100);\n    } else if (!root._bokeh_failed_load) {\n      console.log(\"Bokeh: BokehJS failed to load within specified timeout.\");\n      root._bokeh_failed_load = true;\n    } else if (force !== true) {\n      var cell = $(document.getElementById(\"1001\")).parents('.cell').data().cell;\n      cell.output_area.append_execute_result(NB_LOAD_WARNING)\n    }\n\n  }\n\n  if (root._bokeh_is_loading === 0) {\n    console.debug(\"Bokeh: BokehJS loaded, going straight to plotting\");\n    run_inline_js();\n  } else {\n    load_libs(css_urls, js_urls, function() {\n      console.debug(\"Bokeh: BokehJS plotting callback run at\", now());\n      run_inline_js();\n    });\n  }\n}(window));"
     },
     "metadata": {},
     "output_type": "display_data"
    }
   ],
   "source": [
    "from hail.plot import show\n",
    "from pprint import pprint\n",
    "hl.plot.output_notebook()"
   ]
  },
  {
   "cell_type": "code",
   "execution_count": 4,
   "metadata": {},
   "outputs": [],
   "source": [
    "data = hl.import_vcf('../data/hipsterIndex/hipster.vcf.bgz')"
   ]
  },
  {
   "cell_type": "code",
   "execution_count": 5,
   "metadata": {},
   "outputs": [
    {
     "name": "stderr",
     "output_type": "stream",
     "text": [
      "2019-07-16 16:44:54 Hail: INFO: Reading table with no type imputation\n",
      "  Loading column 'samples' as type 'str' (type not specified)\n",
      "  Loading column 'score' as type 'float64' (user-specified)\n",
      "  Loading column 'label' as type 'float64' (user-specified)\n",
      "\n"
     ]
    }
   ],
   "source": [
    "labels = hl.import_table('../data/hipsterIndex/hipster_labels.txt', delimiter=',', \n",
    "                types=dict(label='float64', score='float64')).key_by('samples')"
   ]
  },
  {
   "cell_type": "code",
   "execution_count": 6,
   "metadata": {},
   "outputs": [
    {
     "name": "stdout",
     "output_type": "stream",
     "text": [
      "----------------------------------------\n",
      "Global fields:\n",
      "    None\n",
      "----------------------------------------\n",
      "Column fields:\n",
      "    's': str\n",
      "    'hipster': struct {\n",
      "        score: float64, \n",
      "        label: float64\n",
      "    }\n",
      "----------------------------------------\n",
      "Row fields:\n",
      "    'locus': locus<GRCh37>\n",
      "    'alleles': array<str>\n",
      "    'rsid': str\n",
      "    'qual': float64\n",
      "    'filters': set<str>\n",
      "    'info': struct {\n",
      "        AA: str, \n",
      "        AC: array<int32>, \n",
      "        AF: array<float64>, \n",
      "        AFR_AF: array<float64>, \n",
      "        AMR_AF: array<float64>, \n",
      "        AN: int32, \n",
      "        CIEND: array<int32>, \n",
      "        CIPOS: array<int32>, \n",
      "        CS: str, \n",
      "        DP: int32, \n",
      "        EAS_AF: array<float64>, \n",
      "        END: int32, \n",
      "        EUR_AF: array<float64>, \n",
      "        EX_TARGET: bool, \n",
      "        IMPRECISE: bool, \n",
      "        MC: array<str>, \n",
      "        MEINFO: array<str>, \n",
      "        MEND: int32, \n",
      "        MLEN: int32, \n",
      "        MSTART: int32, \n",
      "        MULTI_ALLELIC: bool, \n",
      "        NS: int32, \n",
      "        SAS_AF: array<float64>, \n",
      "        SVLEN: array<int32>, \n",
      "        SVTYPE: str, \n",
      "        TSD: str, \n",
      "        VT: array<str>\n",
      "    }\n",
      "----------------------------------------\n",
      "Entry fields:\n",
      "    'GT': call\n",
      "----------------------------------------\n",
      "Column key: ['s']\n",
      "Row key: ['locus', 'alleles']\n",
      "----------------------------------------\n"
     ]
    }
   ],
   "source": [
    "mt = data.annotate_cols(hipster = labels[data.s])\n",
    "mt.describe()"
   ]
  },
  {
   "cell_type": "code",
   "execution_count": 7,
   "metadata": {},
   "outputs": [
    {
     "name": "stderr",
     "output_type": "stream",
     "text": [
      "2019-07-16 16:44:55 Hail: INFO: Coerced almost-sorted dataset\n"
     ]
    },
    {
     "data": {
      "text/plain": [
       "(17010, 2504)"
      ]
     },
     "execution_count": 7,
     "metadata": {},
     "output_type": "execute_result"
    }
   ],
   "source": [
    "mt.count()"
   ]
  },
  {
   "cell_type": "code",
   "execution_count": 8,
   "metadata": {},
   "outputs": [],
   "source": [
    "import varspark.hail as vshl"
   ]
  },
  {
   "cell_type": "code",
   "execution_count": 9,
   "metadata": {},
   "outputs": [],
   "source": [
    "rf_model = vshl.random_forest_model(y=mt.hipster.label,\n",
    "                    x=mt.GT.n_alt_alleles())\n",
    "rf_model.fit_trees(50, 50)"
   ]
  },
  {
   "cell_type": "code",
   "execution_count": 10,
   "metadata": {},
   "outputs": [
    {
     "name": "stdout",
     "output_type": "stream",
     "text": [
      "0.22324281150159744\n"
     ]
    },
    {
     "name": "stderr",
     "output_type": "stream",
     "text": [
      "2019-07-16 16:45:44 Hail: INFO: Coerced sorted dataset\n"
     ]
    },
    {
     "data": {
      "text/html": [
       "<table><thead style=\"font-weight: bold;\"><tr><td>locus</td><td>alleles</td><td>importance</td></tr>\n",
       "<tr><td>locus&lt;GRCh37&gt;</td><td>array&lt;str&gt;</td><td>float64</td></tr>\n",
       "</thead><tbody><tr><td>2:109511398</td><td>[&quot;G&quot;,&quot;A&quot;]</td><td>5.32e-02</td></tr>\n",
       "<tr><td>2:109511454</td><td>[&quot;C&quot;,&quot;A&quot;]</td><td>0.00e+00</td></tr>\n",
       "<tr><td>2:109511463</td><td>[&quot;G&quot;,&quot;A&quot;]</td><td>2.78e-01</td></tr>\n",
       "<tr><td>2:109511467</td><td>[&quot;GACTC&quot;,&quot;G&quot;]</td><td>1.14e-01</td></tr>\n",
       "<tr><td>2:109511478</td><td>[&quot;C&quot;,&quot;T&quot;]</td><td>0.00e+00</td></tr>\n",
       "</tbody></table><p>showing top 5 rows</p>\n"
      ],
      "text/plain": [
       "+---------------+---------------+------------+\n",
       "| locus         | alleles       | importance |\n",
       "+---------------+---------------+------------+\n",
       "| locus<GRCh37> | array<str>    |    float64 |\n",
       "+---------------+---------------+------------+\n",
       "| 2:109511398   | [\"G\",\"A\"]     |   5.32e-02 |\n",
       "| 2:109511454   | [\"C\",\"A\"]     |   0.00e+00 |\n",
       "| 2:109511463   | [\"G\",\"A\"]     |   2.78e-01 |\n",
       "| 2:109511467   | [\"GACTC\",\"G\"] |   1.14e-01 |\n",
       "| 2:109511478   | [\"C\",\"T\"]     |   0.00e+00 |\n",
       "+---------------+---------------+------------+\n",
       "showing top 5 rows"
      ]
     },
     "metadata": {},
     "output_type": "display_data"
    }
   ],
   "source": [
    "print(rf_model.oob_error())\n",
    "impTable = rf_model.variable_importance()\n",
    "impTable.show(5)"
   ]
  },
  {
   "cell_type": "code",
   "execution_count": 11,
   "metadata": {},
   "outputs": [
    {
     "name": "stderr",
     "output_type": "stream",
     "text": [
      "2019-07-16 16:45:45 Hail: INFO: linear_regression_rows: running on 2504 samples for 1 response variable y,\n",
      "    with input variable x, and 1 additional covariate...\n"
     ]
    }
   ],
   "source": [
    "gwas = hl.linear_regression_rows(y=mt.hipster.score,\n",
    "                                 x=mt.GT.n_alt_alleles(),\n",
    "                                 covariates=[1.0],\n",
    "                                 pass_through=[mt.rsid])"
   ]
  },
  {
   "cell_type": "code",
   "execution_count": 12,
   "metadata": {},
   "outputs": [
    {
     "data": {
      "text/html": [
       "<table><thead style=\"font-weight: bold;\"><tr><td>locus</td><td>alleles</td><td>rsid</td><td>n</td><td>sum_x</td><td>y_transpose_x</td><td>beta</td><td>standard_error</td><td>t_stat</td><td>p_value</td></tr>\n",
       "<tr><td>locus&lt;GRCh37&gt;</td><td>array&lt;str&gt;</td><td>str</td><td>int32</td><td>float64</td><td>float64</td><td>float64</td><td>float64</td><td>float64</td><td>float64</td></tr>\n",
       "</thead><tbody><tr><td>2:109511398</td><td>[&quot;G&quot;,&quot;A&quot;]</td><td>&quot;rs150055772&quot;</td><td>2504</td><td>4.00e+00</td><td>3.50e+01</td><td>-7.03e-01</td><td>1.62e+00</td><td>-4.34e-01</td><td>6.64e-01</td></tr>\n",
       "<tr><td>2:109511454</td><td>[&quot;C&quot;,&quot;A&quot;]</td><td>&quot;rs558429529&quot;</td><td>2504</td><td>1.00e+00</td><td>1.15e+01</td><td>2.05e+00</td><td>3.24e+00</td><td>6.33e-01</td><td>5.27e-01</td></tr>\n",
       "<tr><td>2:109511463</td><td>[&quot;G&quot;,&quot;A&quot;]</td><td>&quot;rs200762071&quot;</td><td>2504</td><td>1.47e+02</td><td>1.30e+03</td><td>-5.79e-01</td><td>2.60e-01</td><td>-2.23e+00</td><td>2.61e-02</td></tr>\n",
       "<tr><td>2:109511467</td><td>[&quot;GACTC&quot;,&quot;G&quot;]</td><td>&quot;rs145115545&quot;</td><td>2504</td><td>5.47e+02</td><td>5.06e+03</td><td>-2.07e-01</td><td>1.42e-01</td><td>-1.45e+00</td><td>1.47e-01</td></tr>\n",
       "<tr><td>2:109511478</td><td>[&quot;C&quot;,&quot;T&quot;]</td><td>&quot;rs540842456&quot;</td><td>2504</td><td>1.00e+00</td><td>1.20e+01</td><td>2.55e+00</td><td>3.24e+00</td><td>7.88e-01</td><td>4.31e-01</td></tr>\n",
       "</tbody></table><p>showing top 5 rows</p>\n"
      ],
      "text/plain": [
       "+---------------+---------------+---------------+-------+----------+---------------+-----------+----------------+-----------+----------+\n",
       "| locus         | alleles       | rsid          |     n |    sum_x | y_transpose_x |      beta | standard_error |    t_stat |  p_value |\n",
       "+---------------+---------------+---------------+-------+----------+---------------+-----------+----------------+-----------+----------+\n",
       "| locus<GRCh37> | array<str>    | str           | int32 |  float64 |       float64 |   float64 |        float64 |   float64 |  float64 |\n",
       "+---------------+---------------+---------------+-------+----------+---------------+-----------+----------------+-----------+----------+\n",
       "| 2:109511398   | [\"G\",\"A\"]     | \"rs150055772\" |  2504 | 4.00e+00 |      3.50e+01 | -7.03e-01 |       1.62e+00 | -4.34e-01 | 6.64e-01 |\n",
       "| 2:109511454   | [\"C\",\"A\"]     | \"rs558429529\" |  2504 | 1.00e+00 |      1.15e+01 |  2.05e+00 |       3.24e+00 |  6.33e-01 | 5.27e-01 |\n",
       "| 2:109511463   | [\"G\",\"A\"]     | \"rs200762071\" |  2504 | 1.47e+02 |      1.30e+03 | -5.79e-01 |       2.60e-01 | -2.23e+00 | 2.61e-02 |\n",
       "| 2:109511467   | [\"GACTC\",\"G\"] | \"rs145115545\" |  2504 | 5.47e+02 |      5.06e+03 | -2.07e-01 |       1.42e-01 | -1.45e+00 | 1.47e-01 |\n",
       "| 2:109511478   | [\"C\",\"T\"]     | \"rs540842456\" |  2504 | 1.00e+00 |      1.20e+01 |  2.55e+00 |       3.24e+00 |  7.88e-01 | 4.31e-01 |\n",
       "+---------------+---------------+---------------+-------+----------+---------------+-----------+----------------+-----------+----------+\n",
       "showing top 5 rows"
      ]
     },
     "metadata": {},
     "output_type": "display_data"
    }
   ],
   "source": [
    "gwas.show(5)"
   ]
  },
  {
   "cell_type": "code",
   "execution_count": 13,
   "metadata": {},
   "outputs": [],
   "source": [
    "gwas_with_imp = gwas.join(impTable)"
   ]
  },
  {
   "cell_type": "code",
   "execution_count": 14,
   "metadata": {},
   "outputs": [
    {
     "data": {
      "text/html": [
       "\n",
       "\n",
       "\n",
       "\n",
       "\n",
       "\n",
       "  <div class=\"bk-root\" id=\"990dbd2c-d2fc-48ab-81a7-feb6896a7d87\" data-root-id=\"1002\"></div>\n"
      ]
     },
     "metadata": {},
     "output_type": "display_data"
    },
    {
     "data": {
      "application/javascript": [
       "(function(root) {\n",
       "  function embed_document(root) {\n",
       "    \n",
       "  var docs_json = {\"e196064f-2c2b-4b87-8df5-831d2e99dd67\":{\"roots\":{\"references\":[{\"attributes\":{\"below\":[{\"id\":\"1012\",\"type\":\"LinearAxis\"}],\"center\":[{\"id\":\"1016\",\"type\":\"Grid\"},{\"id\":\"1021\",\"type\":\"Grid\"}],\"left\":[{\"id\":\"1017\",\"type\":\"LinearAxis\"}],\"plot_height\":800,\"plot_width\":800,\"renderers\":[{\"id\":\"1041\",\"type\":\"GlyphRenderer\"}],\"title\":null,\"toolbar\":{\"id\":\"1028\",\"type\":\"Toolbar\"},\"x_range\":{\"id\":\"1004\",\"type\":\"DataRange1d\"},\"x_scale\":{\"id\":\"1008\",\"type\":\"LinearScale\"},\"y_range\":{\"id\":\"1006\",\"type\":\"DataRange1d\"},\"y_scale\":{\"id\":\"1010\",\"type\":\"LinearScale\"}},\"id\":\"1002\",\"subtype\":\"Figure\",\"type\":\"Plot\"},{\"attributes\":{},\"id\":\"1027\",\"type\":\"HelpTool\"},{\"attributes\":{\"ticker\":{\"id\":\"1013\",\"type\":\"BasicTicker\"}},\"id\":\"1016\",\"type\":\"Grid\"},{\"attributes\":{\"dimension\":1,\"ticker\":{\"id\":\"1018\",\"type\":\"BasicTicker\"}},\"id\":\"1021\",\"type\":\"Grid\"},{\"attributes\":{},\"id\":\"1008\",\"type\":\"LinearScale\"},{\"attributes\":{},\"id\":\"1013\",\"type\":\"BasicTicker\"},{\"attributes\":{\"active_drag\":\"auto\",\"active_inspect\":\"auto\",\"active_multi\":null,\"active_scroll\":\"auto\",\"active_tap\":\"auto\",\"tools\":[{\"id\":\"1022\",\"type\":\"PanTool\"},{\"id\":\"1023\",\"type\":\"WheelZoomTool\"},{\"id\":\"1024\",\"type\":\"BoxZoomTool\"},{\"id\":\"1025\",\"type\":\"SaveTool\"},{\"id\":\"1026\",\"type\":\"ResetTool\"},{\"id\":\"1027\",\"type\":\"HelpTool\"},{\"id\":\"1036\",\"type\":\"HoverTool\"}]},\"id\":\"1028\",\"type\":\"Toolbar\"},{\"attributes\":{},\"id\":\"1023\",\"type\":\"WheelZoomTool\"},{\"attributes\":{\"callback\":null,\"tooltips\":[[\"x\",\"@x\"],[\"y\",\"@y\"],[\"loc\",\"@loc\"],[\"rs\",\"@rs\"]]},\"id\":\"1036\",\"type\":\"HoverTool\"},{\"attributes\":{},\"id\":\"1049\",\"type\":\"Selection\"},{\"attributes\":{\"callback\":null,\"data\":{\"index\":[0,1,2,3,4,5,6,7,8,9,10,11,12,13,14,15,16,17,18,19,20,21,22,23,24,25,26,27,28,29,30,31,32,33,34,35,36,37,38,39,40,41,42,43,44,45,46,47,48,49,50,51,52,53,54,55,56,57,58,59,60,61,62,63,64,65,66,67,68,69,70,71,72,73,74,75,76,77,78,79,80,81,82,83,84,85,86,87,88,89,90,91,92,93,94,95,96,97,98,99,100,101,102,103,104,105,106,107,108,109,110,111,112,113,114,115,116,117,118,119,120,121,122,123,124,125,126,127,128,129,130,131,132,133,134,135,136,137,138,139,140,141,142,143,144,145,146,147,148,149,150,151,152,153,154,155,156,157,158,159,160,161,162,163,164,165,166,167,168,169,170,171,172,173,174,175,176,177,178,179,180,181,182,183,184,185,186,187,188,189,190,191,192,193,194,195,196,197,198,199,200,201,202,203,204,205,206,207,208,209,210,211,212,213,214,215,216,217,218,219,220,221,222,223,224,225,226,227,228,229,230,231,232,233,234,235,236,237,238,239,240,241,242,243,244,245,246,247,248,249,250,251,252,253,254,255,256,257,258,259,260,261,262,263,264,265,266,267,268,269,270,271,272,273,274,275,276,277,278,279,280,281,282,283,284,285,286,287,288,289,290,291,292,293,294,295,296,297,298,299,300,301,302,303,304,305,306,307,308,309,310,311,312,313,314,315,316,317,318,319,320,321,322,323,324,325,326,327,328,329,330,331,332,333,334,335,336,337,338,339,340,341,342,343,344,345,346,347,348,349,350,351,352,353,354,355,356,357,358,359,360,361,362,363,364,365,366,367,368,369,370,371,372,373,374,375,376,377,378,379,380,381,382,383,384,385,386,387,388,389,390,391,392,393,394,395,396,397,398,399,400,401,402,403,404,405,406,407,408,409,410,411,412,413,414,415,416,417,418,419,420,421,422,423,424,425,426,427,428,429,430,431,432,433,434,435,436,437,438,439,440,441,442,443,444,445,446,447,448,449,450,451,452,453,454,455,456,457,458,459,460,461,462,463,464,465,466,467,468,469,470,471,472,473,474,475,476,477,478,479,480,481,482,483,484,485,486,487,488,489,490,491,492,493,494,495,496,497,498,499,500,501,502,503,504,505,506,507,508,509,510,511,512,513,514,515,516,517,518,519,520,521,522,523,524,525,526,527,528,529,530,531,532,533,534,535,536,537,538,539,540,541,542,543,544,545,546,547,548,549,550,551,552,553,554,555,556,557,558,559,560,561,562,563,564,565,566,567,568,569,570,571,572,573,574,575,576,577,578,579,580,581,582,583,584,585,586,587,588,589,590,591,592,593,594,595,596,597,598,599,600,601,602,603,604,605,606,607,608,609,610,611,612,613,614,615,616,617,618,619,620,621,622,623,624,625,626,627,628,629,630,631,632,633,634,635,636,637,638,639,640,641,642,643,644,645,646,647,648,649,650,651,652,653],\"loc\":[\"15:66328124\",\"15:66535599\",\"15:66360842\",\"5:126769874\",\"15:66547641\",\"15:66357980\",\"15:66349764\",\"15:66367198\",\"5:126653809\",\"15:66501557\",\"15:66244634\",\"5:126654062\",\"5:126675068\",\"2:223034082\",\"5:126727008\",\"5:126727418\",\"5:126640246\",\"5:126655730\",\"15:66356925\",\"15:66468154\",\"15:66322071\",\"15:66416823\",\"15:66427967\",\"15:66529223\",\"5:126627875\",\"5:126681193\",\"15:66524747\",\"5:126689790\",\"5:126795246\",\"5:126652407\",\"5:126735334\",\"15:66429806\",\"5:126678028\",\"5:126645646\",\"2:223031835\",\"15:66529993\",\"5:126636000\",\"15:66444389\",\"15:66450831\",\"15:66272042\",\"15:66401040\",\"5:126644769\",\"15:66346707\",\"15:66340499\",\"15:66495849\",\"5:126688400\",\"15:66424209\",\"15:66483326\",\"7:17284989\",\"15:66432800\",\"5:126733924\",\"15:66533708\",\"15:66525400\",\"15:66531883\",\"15:66448456\",\"15:66313284\",\"5:126679402\",\"15:66394721\",\"5:126658500\",\"2:223032002\",\"5:126669209\",\"15:66470319\",\"5:126637872\",\"5:126726851\",\"15:66491652\",\"15:66368282\",\"15:66425774\",\"15:66469757\",\"15:66264965\",\"15:66375265\",\"5:126657217\",\"2:223032399\",\"15:66509327\",\"15:75029683\",\"15:66437036\",\"5:126697138\",\"15:66503694\",\"5:126656500\",\"15:66531573\",\"2:223033196\",\"15:66272862\",\"15:66390090\",\"15:66441238\",\"15:66270890\",\"15:66301377\",\"15:66478368\",\"15:66467552\",\"15:66444303\",\"15:66504593\",\"15:66455366\",\"15:66516106\",\"15:66425545\",\"15:66483393\",\"15:66440892\",\"15:66445683\",\"15:66474055\",\"5:126639269\",\"15:66495723\",\"5:126686756\",\"15:66476202\",\"15:66511589\",\"15:66321395\",\"2:223033867\",\"15:66526980\",\"15:66382247\",\"15:66408092\",\"15:66535499\",\"4:54513819\",\"5:126639025\",\"15:66386853\",\"15:66307013\",\"15:66264207\",\"15:66302499\",\"15:66456565\",\"15:66355050\",\"5:126699347\",\"15:66253733\",\"15:66320806\",\"15:66516978\",\"15:66449364\",\"15:66272893\",\"2:223033978\",\"15:66382973\",\"5:126625827\",\"15:66430033\",\"5:126633827\",\"15:66540520\",\"15:66532085\",\"5:126650805\",\"15:66538992\",\"5:126661600\",\"15:66410651\",\"5:126634444\",\"15:66524462\",\"15:66522223\",\"15:66388880\",\"2:223032943\",\"15:66348983\",\"4:54511913\",\"5:126764698\",\"5:126626645\",\"15:66403120\",\"15:66531211\",\"15:66516481\",\"5:126715759\",\"7:17284577\",\"5:126628771\",\"5:126635055\",\"15:66523769\",\"15:66448249\",\"5:126697755\",\"5:126668683\",\"5:126698070\",\"15:66406983\",\"2:223035940\",\"15:66249389\",\"15:66358115\",\"15:66472028\",\"5:126731876\",\"15:66475264\",\"15:66537455\",\"15:66256784\",\"5:126639801\",\"15:66491009\",\"15:66524094\",\"5:126698345\",\"15:66452000\",\"15:66546725\",\"5:126725568\",\"15:66331493\",\"5:126645738\",\"2:223033006\",\"5:126716032\",\"15:66503646\",\"5:126625548\",\"15:66429809\",\"15:66426748\",\"15:66539037\",\"15:66269700\",\"15:66516240\",\"15:66382275\",\"15:66435228\",\"4:54509759\",\"5:126674613\",\"15:66538713\",\"15:66454686\",\"15:66290097\",\"5:126723562\",\"15:75025988\",\"2:223033030\",\"15:66403942\",\"15:66492810\",\"15:66335478\",\"5:126657432\",\"15:66359710\",\"15:66474547\",\"5:126661774\",\"15:66401410\",\"15:66436757\",\"15:66518805\",\"5:126682039\",\"5:126636211\",\"15:66489538\",\"15:66392416\",\"15:66517356\",\"15:66322018\",\"15:66332284\",\"15:66523602\",\"7:17286087\",\"15:75028676\",\"5:126631791\",\"5:126688726\",\"7:113987889\",\"15:66375038\",\"15:66506435\",\"5:126667551\",\"5:126642563\",\"15:66396684\",\"15:66491961\",\"15:66264162\",\"15:66497265\",\"7:17284687\",\"15:66384467\",\"15:66528939\",\"15:66540943\",\"5:126655361\",\"15:66276608\",\"15:66505919\",\"15:66224813\",\"5:126644401\",\"15:66446915\",\"15:66271824\",\"15:66267469\",\"15:66330108\",\"15:66445911\",\"15:66482186\",\"2:223033642\",\"15:66420174\",\"15:66306951\",\"15:66464256\",\"5:126663406\",\"15:66304916\",\"15:66333251\",\"15:66482259\",\"15:66406079\",\"15:66282617\",\"15:66547227\",\"15:66299344\",\"15:66405261\",\"5:126797404\",\"15:66467291\",\"15:66315106\",\"5:126685374\",\"5:126641770\",\"5:126636782\",\"15:66500484\",\"15:66242510\",\"5:126672710\",\"15:66384465\",\"15:66249807\",\"5:126687687\",\"15:66540364\",\"15:66357037\",\"15:66335979\",\"5:126683416\",\"15:66540200\",\"15:66305531\",\"15:66333264\",\"5:126796977\",\"15:66532936\",\"15:75028490\",\"5:126633436\",\"15:66395527\",\"15:66487222\",\"15:75029399\",\"15:66527854\",\"15:75029407\",\"15:66500995\",\"15:66323837\",\"15:66459450\",\"15:66314450\",\"15:66455751\",\"5:126689489\",\"5:126645343\",\"15:66502992\",\"5:126642357\",\"15:66380254\",\"5:126666529\",\"15:66317465\",\"15:66452847\",\"15:66408286\",\"5:126656324\",\"15:66513852\",\"15:66453074\",\"5:126645727\",\"15:66522358\",\"2:223035313\",\"15:66403793\",\"2:223034758\",\"15:66520281\",\"5:126644396\",\"15:66359486\",\"15:66368685\",\"15:66287518\",\"15:66269804\",\"15:66426791\",\"15:66358474\",\"5:126635437\",\"15:66434493\",\"5:126725054\",\"15:66489653\",\"15:66352479\",\"5:126724209\",\"15:66492324\",\"15:66510331\",\"15:66479252\",\"5:126629112\",\"15:66492156\",\"15:66336217\",\"5:126638459\",\"15:66466436\",\"15:66425000\",\"15:66374847\",\"5:126645334\",\"15:66503772\",\"5:126639432\",\"5:126657766\",\"15:66430404\",\"15:66503588\",\"5:126639097\",\"5:126689935\",\"15:66506499\",\"15:66377102\",\"5:126642920\",\"15:66465443\",\"5:126778245\",\"15:66271772\",\"5:126640205\",\"15:66407683\",\"5:126648201\",\"5:126796585\",\"15:66420177\",\"15:66520591\",\"5:126661519\",\"15:66384263\",\"15:66362242\",\"5:126767961\",\"7:17282507\",\"15:66526171\",\"15:66356577\",\"15:66217240\",\"15:75030097\",\"15:66372939\",\"15:66429797\",\"5:126645705\",\"15:66476657\",\"15:66430963\",\"15:66307304\",\"15:66515921\",\"5:126653950\",\"15:66495631\",\"15:66339400\",\"15:66321189\",\"5:126682354\",\"15:66473865\",\"5:126735871\",\"7:17282872\",\"15:66434132\",\"15:66427278\",\"15:66515534\",\"5:126792974\",\"15:66355792\",\"15:75026627\",\"5:126646864\",\"15:66404093\",\"5:126693280\",\"5:126777362\",\"5:126683590\",\"15:66485616\",\"15:66375414\",\"15:66446529\",\"4:54510874\",\"15:66522993\",\"15:66465728\",\"15:66442953\",\"15:66480216\",\"15:66529378\",\"5:126710915\",\"5:126697604\",\"15:66393190\",\"15:66260894\",\"5:126689438\",\"15:66465816\",\"5:126650411\",\"2:223033396\",\"15:66447591\",\"15:66478029\",\"15:66303253\",\"15:66397161\",\"5:126726847\",\"5:126693265\",\"15:66524539\",\"15:66301934\",\"5:126661380\",\"5:126630016\",\"5:126662114\",\"5:126695156\",\"15:66427370\",\"15:66380805\",\"15:66544812\",\"15:66471423\",\"15:66533587\",\"15:66394559\",\"5:126652710\",\"5:126650182\",\"15:66441275\",\"15:66327556\",\"15:66384464\",\"15:66512166\",\"5:126630948\",\"5:126739085\",\"15:66435939\",\"5:126785310\",\"15:66272491\",\"5:126640576\",\"15:66449444\",\"5:126643590\",\"5:126654970\",\"15:66506698\",\"15:66402099\",\"5:126664981\",\"5:126797292\",\"15:66479071\",\"15:75026149\",\"5:126695127\",\"15:66503068\",\"5:126683809\",\"15:66365654\",\"15:66444434\",\"15:66494552\",\"15:66447522\",\"2:109512234\",\"4:54513106\",\"15:66423612\",\"2:223034476\",\"15:66203218\",\"4:54514026\",\"15:66383875\",\"15:66259809\",\"15:66464855\",\"15:66377203\",\"5:126639591\",\"15:66542115\",\"15:66300745\",\"5:126636244\",\"15:66480458\",\"15:66523184\",\"5:126632848\",\"15:66382558\",\"5:126628098\",\"15:66398302\",\"5:126793219\",\"15:66267107\",\"15:66368503\",\"15:66397544\",\"15:66387527\",\"15:66514010\",\"15:66427055\",\"7:17282974\",\"15:66510618\",\"5:126640971\",\"5:126687822\",\"15:66415107\",\"15:66315478\",\"15:66349799\",\"5:126775739\",\"2:223035211\",\"15:66444160\",\"15:66476229\",\"5:126668770\",\"5:126701622\",\"15:66522206\",\"15:66527843\",\"15:66241408\",\"15:66328911\",\"15:66301579\",\"5:126683373\",\"15:66256849\",\"5:126679697\",\"15:66426065\",\"5:126660301\",\"15:66469341\",\"15:66530274\",\"5:126644632\",\"15:66479057\",\"4:54511203\",\"5:126635083\",\"5:126630491\",\"15:66380567\",\"15:66492374\",\"4:54510555\",\"5:126775113\",\"15:66345400\",\"15:66432949\",\"5:126688517\",\"15:66530333\",\"5:126635667\",\"2:109513654\",\"15:66511003\",\"15:66462866\",\"15:66335837\",\"15:66438961\",\"15:66496226\",\"5:126664039\",\"15:66326871\",\"15:66357056\",\"15:66327646\",\"15:66463776\",\"15:66480035\",\"15:66322702\",\"5:126773180\",\"15:66495455\",\"15:66475985\",\"15:66501505\",\"5:126794160\",\"15:66523414\",\"7:17285867\",\"5:126628584\",\"15:66269504\",\"15:66260204\",\"15:66389156\",\"5:126639135\",\"15:66264944\",\"15:66475879\",\"5:126637782\",\"15:66527853\",\"5:126789986\",\"5:126780212\",\"15:66383667\",\"5:126675780\",\"5:126659892\",\"5:126654623\",\"5:126633958\",\"15:66518851\",\"15:66431946\",\"5:126656998\",\"5:126645710\",\"15:66467771\",\"15:66269482\",\"5:126627962\",\"15:66489681\",\"15:66441451\",\"15:66327924\",\"5:126694437\",\"5:126642675\",\"15:66251290\",\"5:126717984\",\"15:66510072\",\"15:66527218\",\"15:66408407\",\"15:66370565\",\"7:17284085\",\"15:66490763\",\"15:66351230\",\"5:126653607\",\"15:66473142\",\"15:66534230\",\"5:126698023\",\"15:66524049\",\"15:66267191\",\"5:126644681\",\"5:126775462\",\"15:66341925\",\"15:66478973\",\"5:126629170\",\"15:66480461\",\"15:66359605\",\"15:66312490\",\"7:113990352\",\"5:126782325\",\"5:126706883\",\"15:66337038\",\"5:126781446\",\"15:66530553\",\"15:66242505\",\"5:126651068\",\"5:126625758\",\"5:126731259\",\"5:126751728\",\"5:126632821\",\"15:66487427\",\"15:66524136\",\"15:66529124\",\"5:126669004\",\"15:66462627\",\"15:66527278\",\"5:126627233\",\"5:126647941\",\"15:66349495\",\"5:126630875\",\"15:66344358\",\"15:66423068\",\"5:126626044\",\"5:126744956\",\"5:126795159\",\"2:223032642\",\"15:66446843\",\"15:66319633\",\"15:66470767\",\"15:66518783\",\"15:66433646\",\"15:66484459\",\"15:66332982\",\"15:66459860\",\"5:126716451\",\"5:126644552\",\"15:66320206\",\"5:126655749\",\"5:126631841\",\"5:126642148\",\"4:54511246\",\"15:66478980\",\"15:66331548\",\"15:66295319\",\"15:66545710\",\"15:66340274\",\"2:109514985\",\"5:126694523\",\"15:66415574\",\"5:126773064\",\"15:66258194\",\"5:126715151\",\"15:66521832\",\"5:126639196\",\"15:66300777\",\"2:223034660\",\"15:66199495\",\"15:66417100\",\"15:66540873\",\"5:126780344\",\"15:66490576\",\"15:66438551\",\"15:66444136\",\"5:126641296\",\"15:66351526\",\"15:66490990\",\"5:126796531\",\"15:66504551\",\"15:66396429\",\"5:126629761\",\"5:126652742\",\"5:126683883\",\"5:126772748\",\"15:66524433\"],\"rs\":[\"rs28573797\",\"rs67543551\",\"rs1369159\",\"rs10078629\",\"rs1871006\",\"rs6494546\",\"rs12594476\",\"rs62011776\",\"rs246947\",\"rs111917057\",\"rs8032767\",\"rs185032\",\"rs17673170\",\"rs2218065\",\"rs1019482\",\"rs1153432\",\"rs1816059\",\"rs246886\",\"rs11856955\",\"rs12593341\",\"rs376998219\",\"rs4776736\",\"rs12442373\",\"rs4776767\",\"rs4836316\",\"rs114244425\",\"rs34026282\",\"rs73344964\",\"rs3756722\",\"rs246944\",\"rs10519939\",\"rs4776744\",\"rs17839696\",\"rs2546805\",\"rs114946697\",\"rs4776769\",\"rs7702573\",\"rs62009880\",\"rs4238402\",\"rs11854757\",\"rs78930778\",\"rs1422315\",\"rs167995\",\"rs333607\",\"rs11071871\",\"rs72788505\",\"rs4776739\",\"rs36126350\",\"rs10277582\",\"rs4776281\",\"rs78811203\",\"rs56841180\",\"rs117746399\",\"rs12324494\",\"rs4776283\",\"rs167998\",\"rs246897\",\"rs36178748\",\"rs152122\",\"rs7607981\",\"rs145619126\",\"rs8033072\",\"rs2546806\",\"rs1318923\",\"rs10400920\",\"rs1550031\",\"rs899085\",\"rs2219738\",\"rs183481\",\"rs4776278\",\"rs152121\",\"rs986429\",\"rs75342967\",\"rs548198773\",\"rs7174196\",\"rs35527\",\"rs28701902\",\"rs152120\",\"rs8039721\",\"rs13411329\",\"rs371936\",\"rs59635353\",\"rs16949561\",\"rs405857\",\"rs434416\",\"rs11636260\",\"rs113781351\",\"rs7163450\",\"rs74019521\",\"rs75779403\",\"rs4578594\",\"rs142561617\",\"rs141650370\",\"rs28408126\",\"rs7176051\",\"rs79307144\",\"rs56084567\",\"rs543639326\",\"rs185030\",\"rs11071868\",\"rs188089652\",\"rs2552180\",\"rs80199364\",\"rs12902933\",\"rs1542529\",\"rs72744439\",\"rs75881301\",\"rs6858782\",\"rs2546079\",\"rs7168565\",\"rs74769139\",\"rs333562\",\"rs11334004\",\"rs140646296\",\"rs7179823\",\"rs35525\",\"rs333567\",\"rs333580\",\"rs201260840\",\"rs11632456\",\"rs449841\",\"rs2196751\",\"rs28650396\",\"rs3812058\",\"rs4776745\",\"rs2585197\",\"rs59967396\",\"rs12324050\",\"rs2546087\",\"rs57149998\",\"rs33930493\",\"rs4776734\",\"rs2194080\",\"rs62009956\",\"rs28607261\",\"rs573989361\",\"rs16863471\",\"rs17240756\",\"rs4864809\",\"rs17164951\",\"rs2032834\",\"rs28478088\",\"rs12916788\",\"rs11637903\",\"rs113091845\",\"rs4410790\",\"rs4836317\",\"rs1808378\",\"rs11631331\",\"rs73469746\",\"rs78259230\",\"rs2546078\",\"rs77198001\",\"rs113440092\",\"rs11690945\",\"rs11633439\",\"rs6494547\",\"rs899081\",\"rs2059084\",\"rs8030058\",\"rs1913414\",\"rs16949168\",\"rs2431724\",\"rs12916574\",\"rs2126700\",\"rs35526\",\"rs115058280\",\"rs78211210\",\"rs4401615\",\"rs422503\",\"rs13153845\",\"rs529478087\",\"rs17165019\",\"rs182462328\",\"rs2408868\",\"rs141061210\",\"rs62012724\",\"rs58480841\",\"rs693217\",\"rs4291865\",\"rs1542530\",\"rs74021646\",\"rs6818959\",\"rs27782\",\"rs28637960\",\"rs1542528\",\"rs72742867\",\"rs9327438\",\"rs4886605\",\"rs16863473\",\"rs7164202\",\"rs11637021\",\"rs333598\",\"rs246889\",\"rs11633172\",\"rs118184036\",\"rs31470\",\"rs4776280\",\"rs78806323\",\"rs11637056\",\"rs246895\",\"rs2546809\",\"rs4776759\",\"rs140724701\",\"rs568638504\",\"rs333582\",\"rs566070414\",\"rs11630348\",\"rs79694830\",\"rs543341080\",\"rs17165102\",\"rs73344962\",\"rs2690825\",\"rs12908330\",\"rs144910307\",\"rs27562\",\"rs2546083\",\"rs1477794\",\"rs4776290\",\"rs333560\",\"rs193092807\",\"rs77000981\",\"rs115990365\",\"rs12442953\",\"rs1531495\",\"rs73785580\",\"rs11639128\",\"rs10572080\",\"rs78767632\",\"rs2546803\",\"rs1477800\",\"rs407596\",\"rs409309\",\"rs28551784\",\"rs142421151\",\"rs201607865\",\"rs2218064\",\"rs7179044\",\"rs9944187\",\"rs80026360\",\"rs11285616\",\"rs441949\",\"rs11374661\",\"rs7181353\",\"rs75430782\",\"rs2414897\",\"rs35479908\",\"rs2253733\",\"rs56176602\",\"rs4836324\",\"rs2169633\",\"rs333578\",\"rs550745558\",\"rs2585193\",\"rs17165082\",\"rs4074578\",\"rs77593068\",\"rs77589749\",\"rs11305781\",\"rs333569\",\"rs43148\",\"rs2199569\",\"rs112463730\",\"rs4776276\",\"rs187514\",\"rs144220879\",\"rs114486459\",\"rs561431780\",\"rs73348768\",\"rs12050792\",\"rs11072500\",\"rs970546\",\"rs973519\",\"rs12904629\",\"rs8030076\",\"rs74245464\",\"rs8029744\",\"rs12903386\",\"rs333584\",\"rs2169629\",\"rs167996\",\"rs8041653\",\"rs26946\",\"rs2546086\",\"rs59355421\",\"rs116194529\",\"rs1600053\",\"rs551009886;rs6862045\",\"rs621616\",\"rs7163737\",\"rs7167774\",\"rs3050850\",\"rs80253188\",\"rs61335305\",\"rs140948654\",\"rs12915138\",\"rs66885466\",\"rs12593972\",\"rs71050391\",\"rs28695263\",\"rs2546802\",\"rs9783681\",\"rs11412871\",\"rs333570\",\"rs511563\",\"rs11631367\",\"rs8036078\",\"rs35796097\",\"rs118185051\",\"rs10041484\",\"rs4776761\",\"rs1036367\",\"rs368047649\",\"rs8026040\",\"rs73475585\",\"rs1351030\",\"rs4836318\",\"rs1382053\",\"rs407420\",\"rs2898042\",\"rs8029386\",\"rs4776741\",\"rs577885306\",\"rs2585190\",\"rs28671402\",\"rs2585195\",\"rs559620165\",\"rs4776746\",\"rs148381988\",\"rs2546807\",\"rs55918025\",\"rs7176219\",\"rs6494548\",\"rs2546085\",\"rs114724924\",\"rs73348744\",\"rs428658\",\"rs1816058\",\"rs12438373\",\"rs1422317\",\"rs2898043\",\"rs60198907\",\"rs28679447\",\"rs10550881\",\"rs1477793\",\"rs892655\",\"rs6866678\",\"rs62444547\",\"rs7181124\",\"rs12148577\",\"rs12903123\",\"rs142764751\",\"rs17241225\",\"rs74021643\",\"rs201053818\",\"rs7180751\",\"rs11634278\",\"rs11350229\",\"rs11637593\",\"rs246948\",\"rs12148583\",\"rs333603\",\"rs188819842\",\"rs246894\",\"rs145921300;rs11071866\",\"rs17839693\",\"rs79710531\",\"rs2100898\",\"rs4776743\",\"rs11856933\",\"rs3812052\",\"rs4776277\",\"rs11631784\",\"rs2161283\",\"rs12594036\",\"rs144085293\",\"rs59745564\",\"rs72786494\",\"rs4776286\",\"rs62011839\",\"rs78470492\",\"rs6816209\",\"rs12900376\",\"rs12101462\",\"rs550598582;rs571338567\",\"rs899079\",\"rs10152900\",\"rs34537147\",\"rs72788513\",\"rs200551556\",\"rs333556\",\"rs1160960\",\"rs11071863\",\"rs1345664\",\"rs11895863\",\"rs11432917\",\"rs10851752\",\"rs5813372\",\"rs34890708\",\"rs2008432\",\"rs246892\",\"rs62009958\",\"rs147698593\",\"rs31471\",\"rs1422313\",\"rs26945\",\"rs114688352\",\"rs55648467\",\"rs144743976\",\"rs12905546\",\"rs5813379\",\"rs57771609\",\"rs36128083\",\"rs246945\",\"rs1345663\",\"rs16949565\",\"rs333590\",\"rs141857288\",\"rs7170633\",\"rs2059083\",\"rs6877254\",\"rs12594528\",\"rs41298320\",\"rs388813\",\"rs2546080\",\"rs10688234\",\"rs2585191\",\"rs246885\",\"rs1003990\",\"rs4776730\",\"rs27749\",\"rs4836323\",\"rs117447811\",\"rs17861118\",\"rs35528\",\"rs72746205\",\"rs27388\",\"rs7170387\",\"rs1026675\",\"rs145061100\",\"rs1477799\",\"rs13001699\",\"rs2668550\",\"rs3887046\",\"rs10194919\",\"rs55730328\",\"rs79162003\",\"rs72744417\",\"rs333554\",\"rs12437628\",\"rs7183527\",\"rs2431496\",\"rs28396254\",\"rs1991144\",\"rs73785576\",\"rs111784761\",\"rs10518680\",\"rs2585198\",\"rs72493936\",\"rs2194079\",\"rs1477795\",\"rs10793809\",\"rs2552183\",\"rs11634825\",\"rs2035183\",\"rs4776725\",\"rs11071873\",\"rs4776742\",\"rs17137451\",\"rs8039102\",\"rs2546081\",\"rs36308\",\"rs140789134\",\"rs375962533\",\"rs521504\",\"rs13190032\",\"rs5838931\",\"rs7162887\",\"rs115227715\",\"rs142732871\",\"rs35524\",\"rs28742176\",\"rs34276626\",\"rs538401924\",\"rs574904302\",\"rs557373676\",\"rs56144110\",\"rs75329153\",\"rs246896\",\"rs74021633\",\"rs31472\",\"rs74839871\",\"rs4776293\",\"rs72786459\",\"rs1351031\",\"rs2590771\",\"rs2018571\",\"rs200086613\",\"rs74648455\",\"rs8027592\",\"rs144220715\",\"rs34451603\",\"rs2571354\",\"rs10518678\",\"rs185033\",\"rs4776294\",\"rs1345662\",\"rs12623957\",\"rs71836525\",\"rs12594712\",\"rs471751\",\"rs35259179\",\"rs11636681\",\"rs36307\",\"rs333588\",\"rs8030816\",\"rs333591\",\"rs58105881\",\"rs3082857\",\"rs333583\",\"rs6859181\",\"rs12900353\",\"rs11071867\",\"rs59707715\",\"rs75528418\",\"rs147871108\",\"rs10281571\",\"rs112394041\",\"rs372969314\",\"rs333555\",\"rs11071858\",\"rs2546808\",\"rs435990\",\"rs201381470\",\"rs57623356\",\"rs5813385\",\"rs76912327\",\"rs12516897\",\"rs12148647\",\"rs78120546\",\"rs34208116\",\"rs2439927\",\"rs2585196\",\"rs59258025\",\"rs8025818\",\"rs246888\",\"rs541675801\",\"rs149867420\",\"rs2437056\",\"rs62373865\",\"rs11071869\",\"rs147773125\",\"rs333592\",\"rs26947\",\"rs2546084\",\"rs72742832\",\"rs35529\",\"rs151167059\",\"rs5813383\",\"rs4776733\",\"rs12901123\",\"rs6943079\",\"rs7181467\",\"rs143904118\",\"rs138731838\",\"rs16949618\",\"rs12050854\",\"rs35156178\",\"rs2126701\",\"rs11453003\",\"rs2254762\",\"rs2408872\",\"rs333608\",\"rs75783167\",\"rs12519784\",\"rs74019511\",\"rs55781516\",\"rs139716186\",\"rs2049604\",\"rs10072587\",\"rs12657844\",\"rs369167174\",\"rs2270933\",\"rs12910607\",\"rs333549\",\"rs246943\",\"rs10519929\",\"rs13171067\",\"rs6595770\",\"rs2585199\",\"rs34641874\",\"rs2169632\",\"rs10152880\",\"rs26944\",\"rs28437207\",\"rs12903154\",\"rs79637336\",\"rs1422316\",\"rs333577\",\"rs146140674\",\"rs2552182\",\"rs137881134\",\"rs1363387\",\"rs56320297\",\"rs3756721\",\"rs986430\",\"rs371797276\",\"rs558606\",\"rs7165252\",\"rs28735605\",\"rs111307102\",\"rs79776501\",\"rs1434733\",\"rs138152110\",\"rs185498503\",\"rs2546804\",\"rs151232231\",\"rs246887\",\"rs2585200\",\"rs2585192\",\"rs2616389\",\"rs16949633\",\"rs333596\",\"rs111389278\",\"rs112753173\",\"rs333606\",\"rs11689836\",\"rs27563\",\"rs74021625\",\"rs6859304\",\"rs333552\",\"rs79713470\",\"rs8038807\",\"rs56169866\",\"rs435909\",\"rs985473\",\"rs16949087\",\"rs74021626\",\"rs7165111\",\"rs10519941\",\"rs34393546\",\"rs12593454\",\"rs140461173\",\"rs2585194\",\"rs4776712\",\"rs34986709\",\"rs35236935\",\"rs10152285\",\"rs7170679\",\"rs17165105\",\"rs246946\",\"rs27652\",\"rs12514969\",\"rs11631757\"],\"x\":{\"__ndarray__\":\"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\",\"dtype\":\"float64\",\"shape\":[654]},\"y\":{\"__ndarray__\":\"LcoD8al6sj8zcbjmCgXRP7sRQYsVEu8/zLoByebwA0B2swqecurOPwb9N708e9Y/4HCkR9Lf2T9nJ1GAJa7RP+U+RLmIt+E/tgV81HKbzz9huZEjyOnCP26U5ee4oApAPxuYJF+J1D8xCGsnP7U2QJfCFWZsvgxAz2o5p5F73T8djqHXFSbmPzodDqUXXwdAl3w53OkR5j8UDQDcQM3gP/YeRVwAN9A/QoPUvrSs4j8zm/GYfzPbP5IDN0znEdg/YYKcTTSIHUAAAAAAAAAAAGTZZc25Ld4/Xw/2eBrf7z9AeERq+ijcP+kZLhQq7/Y/fEyL7srK3j/TT6NNohjnP4W+VgqfIMo/KbPybREpA0BA3CBKUiC9P2YlcYM+pNs/t4fpmtRAvj+4+KuCHGqlP6Fv6gFe+N8/re40Jhwd2j9l6CtVEoXQP6LNGBdL1gFAZmBmD6Dv1j+M8wXNguTgP6kSHLJFw+g/ONqiKf6e5D+7CJIwV3vhP6TrkGdZTuc/bJRI9z+p9D/03SfUBHLTP3+9KVRhmqE/ZCoRA05htz8AAAAAAAAAAP+AfXdIK9c/lEtZIv2J2j/o11TAgnbiP/qAYzSxBdg/CilsYub46D8Ib9ODA3/cPx3FMW6Bp/g/RY5E1bylzj8swxWSTE/NP+DZNxyB2gRAk03VppTf+T+mnvBJ9F/NP3uSoj2Iy7k/wIG+3BDm5j/kHQWjYFjlP8qn5AqZTtE/sqvNBcR42j80MmgVhUYSQI469eNjVgZAKWpgK4tbuz/NPlsMwZehPyovaFkie/I/KfVVmbSE2T/8lXq8om7kP0p4Q4+6eRZAeB8U9Lhk0T+4Cf9VS13cPw4ewM0i2+M/tpMLsTxH5D8p6NpNAhyoPwTUP273TeI/2iQPB+T2rT8q9QLItcviPwBevoMh9rs/GNrXnRFT3j+Pja1z8hndPwYfQi5El84/AUV4bK5E5D+SPumTPumzP+U5hdqumcQ/l5Tk1XOm6z/qT8QTzojkP3avHFWk+8c/9iQbf760iD84StXgXuSxP6j+yZnaqck/36BM5J/34j8AAAAAAAAAAH3PIULWWbk/GlZ7R9FB7T/81ZbvMYvgPzqnnnEw4LE/t3VHvH9r3z9f5oD/p5GpP6Srx5PqRQdAnbOfv2Zd6j9RgxiIsQbqP+nxoNQ1Mcg/kqPtZJgxsj/8fhLvCYDiP9ogh8shKcg/qU3p0z/l3j9uvmanUOXNP2j28s65JNs/YThR3SB37j8ZwAGhGvbgP+SADwweNd4/SL45PP2i4j/be+m94LIdQO5EvFMQTNU/Zo0zELPa3z+XPAUyk4jWP3vQw/+3JSBAw0xSNx6wyT//K7tdktveP8+Qs7r3qf8/AAAAAAAAAADO1ONPBuj4P/GoC9U1f+0/7v3EYXRI1j/suqreScXaP+RLf6tWp9M/LnBRqTal4T+3bSn5B+DXP1Q08KYlss4/Teh7fS/hEEA6QBNsq/vMP8+RWWN03x9A0R47OXQ/6z82Y3l7JMTdPzR+YXhzDNg/W3xuGKer/T8yLtt/x8oTQKQJ677jaBlAQ60Aeu8zCEDdyqDWtT3YP8UIkb39wsw/SFCxofTixT/uQA5GpnPzPw/E6IH67dk/CuDRhaIc3D+DMzTTr8wZQALHmO7K3dE/pYW58oYA7j/GAjedWw3gPxLrAOG+8PU/yd2Mt/sL8T+73uFbBxSxP9r2cZvqPc8/UvG04uXQA0DbEBhmCG3XPyBtU3FKauE/eOP9SluUAUB2HUPdQQ2wP1neePefibE/c1o0CEfF9D8730+Nl26iP4Oi0pbQGwBA7JSofGq+6T8EnTbQaQOtP33nAkcN3rQ/GrnbCFOyFUBNexCXMy+sPw5zpH6Pl9s/AAAAAAAAAABjNUOwvQXgP6X7oN8ZhOk/b3AjxRl+yj9gq6B3Iwa5PxEFdbR4BxdAeGoDAI9D3D/hAfS8dsDUP2YhXJKyIOg/j2hzXay/zD8HeaeuK6bTP2G4omDIhOg/NHOvBa7fG0DSTkgejPnAP5qZmZmZmdE/AAAAAAAAAACM8eF/phP5P18f1y7u7eM/vUUZ6aXFsj9xSGdQ6r70P0MtIMYJptQ/sS0SrAKLpT8gAenzRTbYPyZABoDIEeY/lNmJ/ZiF3j/t+MhzTOHPP7HnVlp84+M/PcI0hH8Owj9NULmeaJ/bP0pcdD2wV8s/5pbhDKOy3z+ATmz1ng3nPwAAAAAAAAAAfY5z8Z7B9j/KttY0LNLNPwaIyIQjCfU/LscVRW537T//reJ+SL3gP1iszZb9ewdAEwTqR0w02z8fdEPjeF2+P6gmRq1QK9k/nALieD7X0j8AAAAAAAAAAFCcAQfscsA/GvN1KIq75D9p6wjcB3zqP0SEGKZkEbY/falXI4pKxD/MTIFkvBbSP5zKFrdsI+o/7aDmkjk/4T+/V00mvhrhP2gR+QNav90/FPq4YNI5wD88Pb983kflP9xOjvl12d0/tI2s138t4z928KTwJELTPw3CRXekARlAKgSUbSG/4D/DHGK3+6XPP/ySXjHgQrI/P4TZSOoR+D9DSNibJ6TcP+aNu0NtwdE/hpn/8ga/3z9T6tGoixfRP6izqjrYEuA/eCQx5DHvxT/DWHqPU6PqP6aSwvTrx9c/VgtFvWMA/j9YNXDQZwPcP1y4jLshV+Q/nrzzuViFAUDK1HPf29jcP+HsrcgnNeY/U1rPN07l1z9JLDVTNAzfP+qcQY9EI9E/wZNY6/YG4j/28z27nUzaP528f5w+qNg//l1T+xmHwD+xEl1GWDzcPynNteLEtdc/Tcd3YCVZ4D/WSLhXZXrCP2b/ORWPRbA/jVp5+5powz/Sdh2krfvOP081bgT7Eec/em3phS4m3z90RxO8ONDtPwnnz0GY0cU/7zDQBC0P4D9falOlf/LhP0EgybAwgs0/nfk8EceJ4z8jmzniEinnP3sUrkfhenQ/RmeznpZn5T/jDLbfiYTZP/v9G4ojf8E/Lsherm9ABkBpqQ3k3ZTiP1rjHh4WMt0/e1NEglb62T8AAAAAAAAAAFvyjlA2M8c/AAAAAAAAAAB/m4+FQ8bfPyykkl7UJdM/kwbaodDj2j9RRm/LWh2zP1b8vnfLK8Y/u0QBeCLQ0D9XwW7sO3bmP8ojgVjsHxVAf/ntjE/14j/TusSi/UgFQGSnw75A8OM/jZ2fP4jyxj8745fFtcHtP6cHMIGKWOE/CstneR7cvT8j6U3K6iPiP1Zt437gOtY/A0haWTQI2T+2y8d4sugEQIMDgKEeB9w/CiqY+p8T1j9f6Nwqb3TiP012NlImkd0/i71kpi/v4z/Ti1auqBHkP3FaYWsx8dc/Egn5bwpf2z8jPuMZ3c4hQNpBqIGb7t4/uBL5cvTCzz+PvhbrjRjBPzbCM9HwVeU/1NeuK8cz4z+x3D7XOCTPPxH4R0qSTbY/oVFjZm+a2D83F3h9YPTxP9K6QBemCwNA1EJSbKGZ5z93c+M5e9vKP+ycu5MkdBBAMdV4l2Yf1T+Y/kHQTW7SP/s7WS1vjMA/3VRP8uqi/z+7ihXgYkW+P1YPr0Tyz+U/eJVzf4eX1T+4hzbmF262P++FmqmxGtk/lrM5+fcV+j9UFB3D8qDZP/yTRjw0YuY/lqNvOwmz2T+ywEa4ri7WP9Ogap1lB+c/H3f1Zrpa5T9ksUvh1l71P+/ChFUGIs8/4QEDLD3C1T9pixjYh+fYP13LcMDwh+A/v/uy5PZP1T88I4S88BnJP+mFH+2Ofr0/w/6iD1ApA0D4LtkT98LLP6hQxdOQ49k/7FG4HoXroT9PCGDTxZbdP8gCjJMxxOM/z72O/evI2z92pu6LojnhPyk6bGSv/sk/CqfsMwX5+j9ate/mJGXiP8QXVnmiteY/Mu5mElyQ1T8P0xqUCLXaP0NibQx9heA/Ru0GoWTX4D94MidSulf4P5M/rEZpjMs/uELU/BLgxD/uMocCJ5TcPzHXXjYjwtY/vwLD0QspAUBB9xNgE2TUPybfHCd4r9s/JQsMv0IW4T8epyOeJOTjP+X5ith3WMg/cdxB/qq2B0Dq8hu/1WncP3bcs9FMUK8/Um/6JULv5T9cgU293NPpP3NPlJYJZuA/bhcdaizX6T9NGeayf0yZP0r7uGNneuI/cYDta6oa0j+PXz74vqTrP2bdFuvm9eI/sqOyJAHABUBKRk+zd4oIQLPBxtMXMNY/3WTQMsG3zj/X0LVKRj7VP44DSdh4/+A/7bR47d414z8lxiJIcb7mPz+Ynslsfc4/iO8Foi5a2j94RvNK9l7lP8Bsm4NZCzBA7m0AoDmbEUCfscIDcP+xP4jbcci60uQ/8kJ7I8BEuj/S/SIl5qrnP+azTWWMRdQ/4UOVou7LxT8YcSjPlYznP4jR4MTw9OM/8SnojWWT7T+qL/Z1vk7ePwrqNlkAr74/QYOihgdv4j/3LPgiaH7eP388fa7AxCxAslJ3tZ2e0j9/Bb1KzFTnP3+aXOTtuek/Hx6+PcNw2j83OlZoM40EQCymrZ7qk+k/EXjH2k+yAEDYJQWvyKEgQPMk90R/LeU/vF7tqfFP4z99JBB8W2oAQKyRTjrsVus/eHYJ3YZhxj9/pGV5Qy3hP1xOqsNJocM/XFkyxbaquz+tpBvTMoH5PwRjYnJq8tA/FOv7CNaH5j8tHEUTUujYP/PVpyD/UeU/uZImP2/04D8AYHGX8JLoP5fVHhgTFtU/HfLmfBmQzD/TlXxiWdnlP3ZoKgC/7eo/9ikJyTh9uT9RSXwDmZHGPwxOuE+qVMw/3wrZ3bK74z+X8A/rR+0VQCqrKqdUy9Q/ITe39iHT0z/mxTzvbKH2P4is5sYshdY/sSWTlbe/1T8BuRmSS0sGQBheuqV4GeU/zUcQhSplD0BAmZpED9u3P9REPlhCFuw/f7+T2YsB2T9lghd+tQngP8FU8+bLlO4/QQ8JRbmPxj/RdsxkCj/nPwrYTlk0Juk/cYfUzo4LyT/XDi0dID7XPxacjacXWQxAu5UKd7SQ7z8DqSxKLIzrP78xikRWb8M/HJXQSgwW0j+YFf74PinIP5nXaJkTjBJArhHZGiWw3D8AAAAAAAAAAOQxjFH2S6g/I/G+n9z25j8XP8uHIIPsP98lJyFglsI/NbkdIyBY8D/hZkverIOwPw/8fVHcq+Y/haD9AoxPxz+ferWF56biP6h/kyxQgw9AIFS+qOKyyT+61plZy9HbP7fjoGrXY8g/5nsK5YwQ0z9c7Zpo9+vqP5r86KpUkNo/HySa0Ng28z8jd/FksScGQC58tCcIK+0/Zi4z0VkXyj/hY6KMEnvlP76a0EcjlfA/0iuEUEMa8j/PKHPJjQnTPzNJXVObHvE/bbUctUA46D+GV5IxumTMP86ohdO3nRhAoO2P7NnT6D8mdJB0VNzGP9GDI7DaAeo/odviI78M7T/cnLnZXdzJP9EbWh3PoOM/42oClnHw+z8PNxODtObCP+mygbIDW8Q/Po3obNZpwD8Tf4Zc+b3dPwrtyRBeMuQ/LFj9RiUd2T8Dkmcw9jvUP1TE/L5Jv+A/jqHvN6Ju2T9Ja3zPGg7oP9HbwXXGQPI/KcRABvPnxD+zbj52M/D8P3T8NWx86AtAslGYajfM3T+x/+CJAOC2P3Pv7h4YeeI/Sq+mOBzV4T+QpBYMNtDSPy06iln4XNU/JWFTeWvlxz8d2zCx/3nTP0lXAUhHMc0/rXRx49j86T+56CDoJmbDP8akl58t6+k/cQGIlzd37z9TaoJCoM/xP3yhiXGdRQhAKciwh+ttxT+WUCye9vnqP7I4+H+XpPc/7Joa5SvA/T8AAAAAAAAAAHtnK7OCsNc/twZ39/yJ0j/6EAY5gbXhP6w7au2xbNQ/2lTa+JHN1D9unqwpvWjvP8H//KD5evA/zR2qgpv6jD+KD0GUJtXSP1dK8g2u+bc/3APKRA1Bpj/ERIIkNzDoP4lVdhNK8eA/aE1/DAAx9j8hDeyuNYflP5yzYamKBao/bGnGePoE3T/zn0aUmdvoP3FVHPksg+E/5ZiXLnS24T9z8RvEzOHSP3OeKmqqNMI/wwbwMejF4D+Ucj8cFs38Px/gPZTrmOk/IcgEclxlwj/30GkGKOQTQDw/KrXpZto/2kPmJQHE1D8AAAAAAAAAAEY6krLyAeQ/eYUFm63Y0D/N7SK69RLfPzPXH7rQC80/7Nvgn26F0j+hBGoOrV3XP0OvJ1WLXcI/VBBqXWz+6z/IEXUyHwjSP21ue3MQB90/82W8XtZy0D8hT3AlUyf5P3d7INfsrNA/uGsvRtRz1T/Iqiybo5zSP9tD3BH6+P4/pMybd+E/xD/DAJOKC4naPxirrcw4adE/Wa7vT+qM8D9kmkiHhE/MPxvop84GON8/4y0nKiWd1T+K+fdoG7nkP7qhHObCAidAoQFDLev+5z9PAx7mp0PiP8o3kNmvbgNAwz0lf5gyvj+sYFoYRibaP3tMch1AdOI/JdzCMIyX3T/v8PDw8PCgP26W0wLlL9A/b/GQzjHN5T/GqpnZo/DSP6mQ8m0Fttk/Y54QvksI8T/cqNna8wCkP+2ib0H9WRBAQydm1AjWAkCG+9kwUcnDP0jL/pbmc+w/FxGG58Ll2D8AAAAAAAAAAOzxwkz3hKU/nykd7h/chD+Pokdoymu8P3yM8yaWyuc/zjIMd7Owxj/DtDvXbd3TP0Hr3hiSdfg/l5u0sQlT3z+AZ5pbxUTVPyF50WgAKug/4Xqjg+haxj/p/CrmXOnnPxwgthUQahZAikXDnfO05T/dgxmSp1TSP+9pV5XalL8/MiOCUEUI9T92Ea1osgTiP2P9DeSj//E/AAAAAAAAAAAoYK1tFJ7iP+STggY07ME/hQzTLQo66j/4FlttX5XkP7FWj9gA7+Q/PNakkGKI5T+vXbK3QuznP48jPJb+vfc/JMXdTV+D8j/BcpkiQvTnPzwRT5uzY+E/\",\"dtype\":\"float64\",\"shape\":[654]}},\"selected\":{\"id\":\"1049\",\"type\":\"Selection\"},\"selection_policy\":{\"id\":\"1050\",\"type\":\"UnionRenderers\"}},\"id\":\"1037\",\"type\":\"ColumnDataSource\"},{\"attributes\":{\"fill_alpha\":{\"value\":0.1},\"fill_color\":{\"value\":\"#1f77b4\"},\"line_alpha\":{\"value\":0.1},\"line_color\":{\"value\":\"#1f77b4\"},\"x\":{\"field\":\"x\"},\"y\":{\"field\":\"y\"}},\"id\":\"1040\",\"type\":\"Circle\"},{\"attributes\":{},\"id\":\"1045\",\"type\":\"BasicTickFormatter\"},{\"attributes\":{\"bottom_units\":\"screen\",\"fill_alpha\":{\"value\":0.5},\"fill_color\":{\"value\":\"lightgrey\"},\"left_units\":\"screen\",\"level\":\"overlay\",\"line_alpha\":{\"value\":1.0},\"line_color\":{\"value\":\"black\"},\"line_dash\":[4,4],\"line_width\":{\"value\":2},\"render_mode\":\"css\",\"right_units\":\"screen\",\"top_units\":\"screen\"},\"id\":\"1048\",\"type\":\"BoxAnnotation\"},{\"attributes\":{\"callback\":null},\"id\":\"1006\",\"type\":\"DataRange1d\"},{\"attributes\":{},\"id\":\"1010\",\"type\":\"LinearScale\"},{\"attributes\":{\"formatter\":{\"id\":\"1045\",\"type\":\"BasicTickFormatter\"},\"ticker\":{\"id\":\"1018\",\"type\":\"BasicTicker\"}},\"id\":\"1017\",\"type\":\"LinearAxis\"},{\"attributes\":{\"callback\":null},\"id\":\"1004\",\"type\":\"DataRange1d\"},{\"attributes\":{},\"id\":\"1018\",\"type\":\"BasicTicker\"},{\"attributes\":{\"data_source\":{\"id\":\"1037\",\"type\":\"ColumnDataSource\"},\"glyph\":{\"id\":\"1039\",\"type\":\"Circle\"},\"hover_glyph\":null,\"muted_glyph\":null,\"nonselection_glyph\":{\"id\":\"1040\",\"type\":\"Circle\"},\"selection_glyph\":null,\"view\":{\"id\":\"1042\",\"type\":\"CDSView\"}},\"id\":\"1041\",\"type\":\"GlyphRenderer\"},{\"attributes\":{\"source\":{\"id\":\"1037\",\"type\":\"ColumnDataSource\"}},\"id\":\"1042\",\"type\":\"CDSView\"},{\"attributes\":{},\"id\":\"1025\",\"type\":\"SaveTool\"},{\"attributes\":{\"fill_color\":{\"value\":\"#1f77b4\"},\"line_color\":{\"value\":\"#1f77b4\"},\"x\":{\"field\":\"x\"},\"y\":{\"field\":\"y\"}},\"id\":\"1039\",\"type\":\"Circle\"},{\"attributes\":{\"formatter\":{\"id\":\"1047\",\"type\":\"BasicTickFormatter\"},\"ticker\":{\"id\":\"1013\",\"type\":\"BasicTicker\"}},\"id\":\"1012\",\"type\":\"LinearAxis\"},{\"attributes\":{},\"id\":\"1026\",\"type\":\"ResetTool\"},{\"attributes\":{},\"id\":\"1050\",\"type\":\"UnionRenderers\"},{\"attributes\":{\"overlay\":{\"id\":\"1048\",\"type\":\"BoxAnnotation\"}},\"id\":\"1024\",\"type\":\"BoxZoomTool\"},{\"attributes\":{},\"id\":\"1047\",\"type\":\"BasicTickFormatter\"},{\"attributes\":{},\"id\":\"1022\",\"type\":\"PanTool\"}],\"root_ids\":[\"1002\"]},\"title\":\"Bokeh Application\",\"version\":\"1.2.0\"}};\n",
       "  var render_items = [{\"docid\":\"e196064f-2c2b-4b87-8df5-831d2e99dd67\",\"roots\":{\"1002\":\"990dbd2c-d2fc-48ab-81a7-feb6896a7d87\"}}];\n",
       "  root.Bokeh.embed.embed_items_notebook(docs_json, render_items);\n",
       "\n",
       "  }\n",
       "  if (root.Bokeh !== undefined) {\n",
       "    embed_document(root);\n",
       "  } else {\n",
       "    var attempts = 0;\n",
       "    var timer = setInterval(function(root) {\n",
       "      if (root.Bokeh !== undefined) {\n",
       "        embed_document(root);\n",
       "        clearInterval(timer);\n",
       "      }\n",
       "      attempts++;\n",
       "      if (attempts > 100) {\n",
       "        console.log(\"Bokeh: ERROR: Unable to run BokehJS code because BokehJS library is missing\");\n",
       "        clearInterval(timer);\n",
       "      }\n",
       "    }, 10, root)\n",
       "  }\n",
       "})(window);"
      ],
      "application/vnd.bokehjs_exec.v0+json": ""
     },
     "metadata": {
      "application/vnd.bokehjs_exec.v0+json": {
       "id": "1002"
      }
     },
     "output_type": "display_data"
    }
   ],
   "source": [
    "p = hl.plot.scatter(-hl.log10(gwas_with_imp.p_value),\n",
    "                    gwas_with_imp.importance, \n",
    "                    hover_fields=dict(rs=gwas_with_imp.rsid, loc=gwas_with_imp.locus))\n",
    "show(p)"
   ]
  },
  {
   "cell_type": "code",
   "execution_count": 15,
   "metadata": {},
   "outputs": [
    {
     "data": {
      "text/html": [
       "\n",
       "\n",
       "\n",
       "\n",
       "\n",
       "\n",
       "  <div class=\"bk-root\" id=\"5e1e041b-586f-4de0-b997-79bf5d9e0dcc\" data-root-id=\"1100\"></div>\n"
      ]
     },
     "metadata": {},
     "output_type": "display_data"
    },
    {
     "data": {
      "application/javascript": [
       "(function(root) {\n",
       "  function embed_document(root) {\n",
       "    \n",
       "  var docs_json = {\"1820f527-1f50-4d85-828a-d0e26e31b8f0\":{\"roots\":{\"references\":[{\"attributes\":{\"below\":[{\"id\":\"1110\",\"type\":\"LinearAxis\"}],\"center\":[{\"id\":\"1114\",\"type\":\"Grid\"},{\"id\":\"1119\",\"type\":\"Grid\"}],\"left\":[{\"id\":\"1115\",\"type\":\"LinearAxis\"},{\"id\":\"1171\",\"type\":\"Legend\"},{\"id\":\"1172\",\"type\":\"ColorBar\"}],\"plot_width\":1000,\"renderers\":[{\"id\":\"1141\",\"type\":\"GlyphRenderer\"},{\"id\":\"1147\",\"type\":\"GlyphRenderer\"},{\"id\":\"1153\",\"type\":\"GlyphRenderer\"},{\"id\":\"1159\",\"type\":\"GlyphRenderer\"},{\"id\":\"1165\",\"type\":\"GlyphRenderer\"},{\"id\":\"1193\",\"type\":\"Span\"}],\"title\":null,\"toolbar\":{\"id\":\"1126\",\"type\":\"Toolbar\"},\"x_range\":{\"id\":\"1102\",\"type\":\"DataRange1d\"},\"x_scale\":{\"id\":\"1106\",\"type\":\"LinearScale\"},\"y_range\":{\"id\":\"1104\",\"type\":\"DataRange1d\"},\"y_scale\":{\"id\":\"1108\",\"type\":\"LinearScale\"}},\"id\":\"1100\",\"subtype\":\"Figure\",\"type\":\"Plot\"},{\"attributes\":{},\"id\":\"1108\",\"type\":\"LinearScale\"},{\"attributes\":{},\"id\":\"1125\",\"type\":\"HelpTool\"},{\"attributes\":{\"axis_label\":\"P-value (-log10 scale)\",\"formatter\":{\"id\":\"1177\",\"type\":\"BasicTickFormatter\"},\"ticker\":{\"id\":\"1116\",\"type\":\"BasicTicker\"}},\"id\":\"1115\",\"type\":\"LinearAxis\"},{\"attributes\":{\"bottom_units\":\"screen\",\"fill_alpha\":{\"value\":0.5},\"fill_color\":{\"value\":\"lightgrey\"},\"left_units\":\"screen\",\"level\":\"overlay\",\"line_alpha\":{\"value\":1.0},\"line_color\":{\"value\":\"black\"},\"line_dash\":[4,4],\"line_width\":{\"value\":2},\"render_mode\":\"css\",\"right_units\":\"screen\",\"top_units\":\"screen\"},\"id\":\"1181\",\"type\":\"BoxAnnotation\"},{\"attributes\":{},\"id\":\"1182\",\"type\":\"Selection\"},{\"attributes\":{\"ticks\":[370850306,786049561,972084329,1313226357,2358551414]},\"id\":\"1173\",\"type\":\"FixedTicker\"},{\"attributes\":{\"dimension\":1,\"ticker\":{\"id\":\"1116\",\"type\":\"BasicTicker\"}},\"id\":\"1119\",\"type\":\"Grid\"},{\"attributes\":{},\"id\":\"1177\",\"type\":\"BasicTickFormatter\"},{\"attributes\":{\"callback\":null},\"id\":\"1104\",\"type\":\"DataRange1d\"},{\"attributes\":{\"overlay\":{\"id\":\"1181\",\"type\":\"BoxAnnotation\"}},\"id\":\"1122\",\"type\":\"BoxZoomTool\"},{\"attributes\":{\"active_drag\":\"auto\",\"active_inspect\":\"auto\",\"active_multi\":null,\"active_scroll\":\"auto\",\"active_tap\":\"auto\",\"tools\":[{\"id\":\"1120\",\"type\":\"PanTool\"},{\"id\":\"1121\",\"type\":\"WheelZoomTool\"},{\"id\":\"1122\",\"type\":\"BoxZoomTool\"},{\"id\":\"1123\",\"type\":\"SaveTool\"},{\"id\":\"1124\",\"type\":\"ResetTool\"},{\"id\":\"1125\",\"type\":\"HelpTool\"},{\"id\":\"1134\",\"type\":\"HoverTool\"}]},\"id\":\"1126\",\"type\":\"Toolbar\"},{\"attributes\":{},\"id\":\"1178\",\"type\":\"BasicTicker\"},{\"attributes\":{\"data_source\":{\"id\":\"1135\",\"type\":\"ColumnDataSource\"},\"glyph\":{\"id\":\"1145\",\"type\":\"Circle\"},\"hover_glyph\":null,\"muted_glyph\":null,\"nonselection_glyph\":{\"id\":\"1146\",\"type\":\"Circle\"},\"selection_glyph\":null,\"view\":{\"id\":\"1143\",\"type\":\"CDSView\"}},\"id\":\"1147\",\"type\":\"GlyphRenderer\"},{\"attributes\":{\"label\":{\"value\":\"5\"},\"renderers\":[{\"id\":\"1159\",\"type\":\"GlyphRenderer\"}]},\"id\":\"1169\",\"type\":\"LegendItem\"},{\"attributes\":{\"label\":{\"value\":\"15\"},\"renderers\":[{\"id\":\"1141\",\"type\":\"GlyphRenderer\"}]},\"id\":\"1166\",\"type\":\"LegendItem\"},{\"attributes\":{},\"id\":\"1111\",\"type\":\"BasicTicker\"},{\"attributes\":{\"data_source\":{\"id\":\"1135\",\"type\":\"ColumnDataSource\"},\"glyph\":{\"id\":\"1157\",\"type\":\"Circle\"},\"hover_glyph\":null,\"muted_glyph\":null,\"nonselection_glyph\":{\"id\":\"1158\",\"type\":\"Circle\"},\"selection_glyph\":null,\"view\":{\"id\":\"1155\",\"type\":\"CDSView\"}},\"id\":\"1159\",\"type\":\"GlyphRenderer\"},{\"attributes\":{\"callback\":null},\"id\":\"1102\",\"type\":\"DataRange1d\"},{\"attributes\":{\"filters\":[{\"id\":\"1160\",\"type\":\"GroupFilter\"}],\"source\":{\"id\":\"1135\",\"type\":\"ColumnDataSource\"}},\"id\":\"1161\",\"type\":\"CDSView\"},{\"attributes\":{\"data_source\":{\"id\":\"1135\",\"type\":\"ColumnDataSource\"},\"glyph\":{\"id\":\"1163\",\"type\":\"Circle\"},\"hover_glyph\":null,\"muted_glyph\":null,\"nonselection_glyph\":{\"id\":\"1164\",\"type\":\"Circle\"},\"selection_glyph\":null,\"view\":{\"id\":\"1161\",\"type\":\"CDSView\"}},\"id\":\"1165\",\"type\":\"GlyphRenderer\"},{\"attributes\":{\"filters\":[{\"id\":\"1154\",\"type\":\"GroupFilter\"}],\"source\":{\"id\":\"1135\",\"type\":\"ColumnDataSource\"}},\"id\":\"1155\",\"type\":\"CDSView\"},{\"attributes\":{\"fill_alpha\":{\"value\":0.1},\"fill_color\":{\"value\":\"#1f77b4\"},\"line_alpha\":{\"value\":0.1},\"line_color\":{\"value\":\"#1f77b4\"},\"x\":{\"field\":\"_global_locus\"},\"y\":{\"field\":\"_pval\"}},\"id\":\"1140\",\"type\":\"Circle\"},{\"attributes\":{},\"id\":\"1183\",\"type\":\"UnionRenderers\"},{\"attributes\":{\"label\":{\"value\":\"2\"},\"renderers\":[{\"id\":\"1147\",\"type\":\"GlyphRenderer\"}]},\"id\":\"1167\",\"type\":\"LegendItem\"},{\"attributes\":{\"fill_color\":{\"field\":\"_contig\",\"transform\":{\"id\":\"1099\",\"type\":\"CategoricalColorMapper\"}},\"line_color\":{\"field\":\"_contig\",\"transform\":{\"id\":\"1099\",\"type\":\"CategoricalColorMapper\"}},\"x\":{\"field\":\"_global_locus\"},\"y\":{\"field\":\"_pval\"}},\"id\":\"1163\",\"type\":\"Circle\"},{\"attributes\":{\"column_name\":\"_contig\",\"group\":\"2\"},\"id\":\"1142\",\"type\":\"GroupFilter\"},{\"attributes\":{\"label\":{\"value\":\"7\"},\"renderers\":[{\"id\":\"1165\",\"type\":\"GlyphRenderer\"}]},\"id\":\"1170\",\"type\":\"LegendItem\"},{\"attributes\":{},\"id\":\"1106\",\"type\":\"LinearScale\"},{\"attributes\":{\"filters\":[{\"id\":\"1148\",\"type\":\"GroupFilter\"}],\"source\":{\"id\":\"1135\",\"type\":\"ColumnDataSource\"}},\"id\":\"1149\",\"type\":\"CDSView\"},{\"attributes\":{\"column_name\":\"_contig\",\"group\":\"15\"},\"id\":\"1136\",\"type\":\"GroupFilter\"},{\"attributes\":{\"data_source\":{\"id\":\"1135\",\"type\":\"ColumnDataSource\"},\"glyph\":{\"id\":\"1139\",\"type\":\"Circle\"},\"hover_glyph\":null,\"muted_glyph\":null,\"nonselection_glyph\":{\"id\":\"1140\",\"type\":\"Circle\"},\"selection_glyph\":null,\"view\":{\"id\":\"1137\",\"type\":\"CDSView\"}},\"id\":\"1141\",\"type\":\"GlyphRenderer\"},{\"attributes\":{\"line_color\":{\"value\":\"red\"},\"line_dash\":[6],\"line_width\":{\"value\":1.5},\"location\":7.301029995663981},\"id\":\"1193\",\"type\":\"Span\"},{\"attributes\":{\"column_name\":\"_contig\",\"group\":\"7\"},\"id\":\"1160\",\"type\":\"GroupFilter\"},{\"attributes\":{\"fill_alpha\":{\"value\":0.1},\"fill_color\":{\"value\":\"#1f77b4\"},\"line_alpha\":{\"value\":0.1},\"line_color\":{\"value\":\"#1f77b4\"},\"x\":{\"field\":\"_global_locus\"},\"y\":{\"field\":\"_pval\"}},\"id\":\"1152\",\"type\":\"Circle\"},{\"attributes\":{\"fill_color\":{\"field\":\"_contig\",\"transform\":{\"id\":\"1099\",\"type\":\"CategoricalColorMapper\"}},\"line_color\":{\"field\":\"_contig\",\"transform\":{\"id\":\"1099\",\"type\":\"CategoricalColorMapper\"}},\"x\":{\"field\":\"_global_locus\"},\"y\":{\"field\":\"_pval\"}},\"id\":\"1157\",\"type\":\"Circle\"},{\"attributes\":{},\"id\":\"1180\",\"type\":\"BasicTickFormatter\"},{\"attributes\":{\"factors\":[\"1\",\"2\",\"3\",\"4\",\"5\",\"6\",\"7\",\"8\",\"9\",\"10\",\"11\",\"12\",\"13\",\"14\",\"15\",\"16\",\"17\",\"18\",\"19\",\"20\",\"21\",\"22\",\"X\",\"Y\",\"MT\",\"GL000207.1\",\"GL000226.1\",\"GL000229.1\",\"GL000231.1\",\"GL000210.1\",\"GL000239.1\",\"GL000235.1\",\"GL000201.1\",\"GL000247.1\",\"GL000245.1\",\"GL000197.1\",\"GL000203.1\",\"GL000246.1\",\"GL000249.1\",\"GL000196.1\",\"GL000248.1\",\"GL000244.1\",\"GL000238.1\",\"GL000202.1\",\"GL000234.1\",\"GL000232.1\",\"GL000206.1\",\"GL000240.1\",\"GL000236.1\",\"GL000241.1\",\"GL000243.1\",\"GL000242.1\",\"GL000230.1\",\"GL000237.1\",\"GL000233.1\",\"GL000204.1\",\"GL000198.1\",\"GL000208.1\",\"GL000191.1\",\"GL000227.1\",\"GL000228.1\",\"GL000214.1\",\"GL000221.1\",\"GL000209.1\",\"GL000218.1\",\"GL000220.1\",\"GL000213.1\",\"GL000211.1\",\"GL000199.1\",\"GL000217.1\",\"GL000216.1\",\"GL000215.1\",\"GL000205.1\",\"GL000219.1\",\"GL000224.1\",\"GL000223.1\",\"GL000195.1\",\"GL000212.1\",\"GL000222.1\",\"GL000200.1\",\"GL000193.1\",\"GL000194.1\",\"GL000225.1\",\"GL000192.1\"],\"palette\":[\"#1f77b4\",\"#ff7f0e\",\"#1f77b4\",\"#ff7f0e\",\"#1f77b4\",\"#ff7f0e\",\"#1f77b4\",\"#ff7f0e\",\"#1f77b4\",\"#ff7f0e\",\"#1f77b4\",\"#ff7f0e\",\"#1f77b4\",\"#ff7f0e\",\"#1f77b4\",\"#ff7f0e\",\"#1f77b4\",\"#ff7f0e\",\"#1f77b4\",\"#ff7f0e\",\"#1f77b4\",\"#ff7f0e\",\"#1f77b4\",\"#ff7f0e\",\"#1f77b4\",\"#ff7f0e\",\"#1f77b4\",\"#ff7f0e\",\"#1f77b4\",\"#ff7f0e\",\"#1f77b4\",\"#ff7f0e\",\"#1f77b4\",\"#ff7f0e\",\"#1f77b4\",\"#ff7f0e\",\"#1f77b4\",\"#ff7f0e\",\"#1f77b4\",\"#ff7f0e\",\"#1f77b4\",\"#ff7f0e\",\"#1f77b4\",\"#ff7f0e\",\"#1f77b4\",\"#ff7f0e\",\"#1f77b4\",\"#ff7f0e\",\"#1f77b4\",\"#ff7f0e\",\"#1f77b4\",\"#ff7f0e\",\"#1f77b4\",\"#ff7f0e\",\"#1f77b4\",\"#ff7f0e\",\"#1f77b4\",\"#ff7f0e\",\"#1f77b4\",\"#ff7f0e\",\"#1f77b4\",\"#ff7f0e\",\"#1f77b4\",\"#ff7f0e\",\"#1f77b4\",\"#ff7f0e\",\"#1f77b4\",\"#ff7f0e\",\"#1f77b4\",\"#ff7f0e\",\"#1f77b4\",\"#ff7f0e\",\"#1f77b4\",\"#ff7f0e\",\"#1f77b4\",\"#ff7f0e\",\"#1f77b4\",\"#ff7f0e\",\"#1f77b4\",\"#ff7f0e\",\"#1f77b4\",\"#ff7f0e\",\"#1f77b4\",\"#ff7f0e\"]},\"id\":\"1099\",\"type\":\"CategoricalColorMapper\"},{\"attributes\":{},\"id\":\"1124\",\"type\":\"ResetTool\"},{\"attributes\":{\"axis_label\":\"Chromosome\",\"formatter\":{\"id\":\"1180\",\"type\":\"BasicTickFormatter\"},\"major_label_overrides\":{\"1313226357\":\"7\",\"2358551414\":\"15\",\"370850306\":\"2\",\"786049561\":\"4\",\"972084329\":\"5\"},\"ticker\":{\"id\":\"1173\",\"type\":\"FixedTicker\"}},\"id\":\"1110\",\"type\":\"LinearAxis\"},{\"attributes\":{\"label\":{\"value\":\"4\"},\"renderers\":[{\"id\":\"1153\",\"type\":\"GlyphRenderer\"}]},\"id\":\"1168\",\"type\":\"LegendItem\"},{\"attributes\":{\"color_mapper\":null,\"formatter\":{\"id\":\"1179\",\"type\":\"BasicTickFormatter\"},\"ticker\":{\"id\":\"1178\",\"type\":\"BasicTicker\"},\"visible\":false},\"id\":\"1172\",\"type\":\"ColorBar\"},{\"attributes\":{\"filters\":[{\"id\":\"1142\",\"type\":\"GroupFilter\"}],\"source\":{\"id\":\"1135\",\"type\":\"ColumnDataSource\"}},\"id\":\"1143\",\"type\":\"CDSView\"},{\"attributes\":{\"callback\":null,\"tooltips\":[[\"locus\",\"@locus\"],[\"ri\",\"@ri\"],[\"p_value\",\"@p_value\"]]},\"id\":\"1134\",\"type\":\"HoverTool\"},{\"attributes\":{\"fill_color\":{\"field\":\"_contig\",\"transform\":{\"id\":\"1099\",\"type\":\"CategoricalColorMapper\"}},\"line_color\":{\"field\":\"_contig\",\"transform\":{\"id\":\"1099\",\"type\":\"CategoricalColorMapper\"}},\"x\":{\"field\":\"_global_locus\"},\"y\":{\"field\":\"_pval\"}},\"id\":\"1145\",\"type\":\"Circle\"},{\"attributes\":{\"data_source\":{\"id\":\"1135\",\"type\":\"ColumnDataSource\"},\"glyph\":{\"id\":\"1151\",\"type\":\"Circle\"},\"hover_glyph\":null,\"muted_glyph\":null,\"nonselection_glyph\":{\"id\":\"1152\",\"type\":\"Circle\"},\"selection_glyph\":null,\"view\":{\"id\":\"1149\",\"type\":\"CDSView\"}},\"id\":\"1153\",\"type\":\"GlyphRenderer\"},{\"attributes\":{},\"id\":\"1116\",\"type\":\"BasicTicker\"},{\"attributes\":{\"callback\":null,\"data\":{\"_contig\":[\"5\",\"4\",\"5\",\"15\",\"15\",\"5\",\"15\",\"5\",\"5\",\"15\",\"5\",\"2\",\"5\",\"5\",\"5\",\"5\",\"5\",\"7\",\"15\",\"2\",\"5\",\"4\",\"5\",\"15\",\"5\",\"5\",\"4\",\"2\",\"5\",\"5\",\"5\",\"5\",\"5\",\"2\",\"2\",\"15\",\"5\",\"15\",\"5\",\"5\",\"7\",\"5\",\"15\",\"2\",\"5\",\"15\",\"5\",\"2\",\"15\",\"15\",\"7\",\"5\",\"2\",\"4\",\"2\",\"4\",\"5\",\"7\",\"5\",\"5\",\"5\",\"15\",\"5\",\"5\",\"7\",\"2\",\"2\",\"15\",\"5\",\"5\",\"5\",\"15\",\"4\",\"5\",\"5\",\"7\",\"15\",\"4\",\"7\",\"5\",\"2\",\"2\",\"5\",\"7\",\"2\",\"2\",\"7\",\"5\",\"5\",\"5\",\"5\",\"5\",\"15\",\"15\",\"5\",\"2\",\"4\",\"4\",\"7\",\"5\",\"5\",\"5\",\"2\",\"5\",\"7\",\"5\",\"5\",\"2\",\"2\",\"7\",\"5\",\"5\",\"5\",\"5\",\"5\",\"5\",\"15\",\"5\",\"5\",\"5\",\"5\",\"15\",\"15\",\"7\",\"15\",\"15\",\"15\",\"5\",\"5\",\"5\",\"2\",\"2\",\"7\",\"15\",\"5\",\"5\",\"5\",\"7\",\"15\",\"15\",\"2\",\"5\",\"5\",\"5\",\"5\",\"5\",\"15\",\"5\",\"5\",\"5\",\"5\",\"5\",\"2\",\"7\",\"5\",\"5\",\"15\",\"5\",\"5\",\"15\",\"5\",\"5\",\"4\",\"5\",\"5\",\"5\",\"7\",\"5\",\"4\",\"2\",\"15\",\"15\",\"15\",\"15\",\"2\",\"5\",\"2\",\"4\",\"15\",\"4\",\"2\",\"5\",\"2\",\"5\",\"5\",\"5\",\"5\",\"5\",\"5\",\"15\",\"2\",\"5\",\"5\",\"15\",\"2\",\"2\",\"5\",\"2\",\"15\",\"2\",\"5\",\"5\",\"4\",\"5\",\"5\",\"7\",\"5\",\"5\",\"5\",\"5\",\"4\",\"2\",\"4\",\"5\",\"4\",\"5\",\"15\",\"15\",\"5\",\"5\",\"7\",\"5\",\"15\",\"5\",\"15\",\"5\",\"15\",\"7\",\"5\",\"7\",\"5\",\"5\",\"15\",\"2\",\"5\",\"4\",\"5\",\"5\",\"4\",\"5\",\"5\",\"5\",\"5\",\"15\",\"7\",\"5\",\"7\",\"5\",\"5\",\"5\",\"5\",\"5\",\"5\",\"5\",\"15\",\"5\",\"4\",\"15\",\"15\",\"5\",\"7\",\"4\",\"5\",\"15\",\"15\",\"5\",\"15\",\"5\",\"5\",\"5\",\"2\",\"15\",\"5\",\"5\",\"7\",\"15\",\"5\",\"5\",\"5\",\"5\",\"5\",\"5\",\"2\",\"5\",\"2\",\"7\",\"15\",\"7\",\"5\",\"5\",\"5\",\"2\",\"5\",\"7\"],\"_global_locus\":{\"__ndarray__\":\"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\",\"dtype\":\"float64\",\"shape\":[294]},\"_pval\":{\"__ndarray__\":\"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\",\"dtype\":\"float64\",\"shape\":[294]},\"index\":[0,1,2,3,4,5,6,7,8,9,10,11,12,13,14,15,16,17,18,19,20,21,22,23,24,25,26,27,28,29,30,31,32,33,34,35,36,37,38,39,40,41,42,43,44,45,46,47,48,49,50,51,52,53,54,55,56,57,58,59,60,61,62,63,64,65,66,67,68,69,70,71,72,73,74,75,76,77,78,79,80,81,82,83,84,85,86,87,88,89,90,91,92,93,94,95,96,97,98,99,100,101,102,103,104,105,106,107,108,109,110,111,112,113,114,115,116,117,118,119,120,121,122,123,124,125,126,127,128,129,130,131,132,133,134,135,136,137,138,139,140,141,142,143,144,145,146,147,148,149,150,151,152,153,154,155,156,157,158,159,160,161,162,163,164,165,166,167,168,169,170,171,172,173,174,175,176,177,178,179,180,181,182,183,184,185,186,187,188,189,190,191,192,193,194,195,196,197,198,199,200,201,202,203,204,205,206,207,208,209,210,211,212,213,214,215,216,217,218,219,220,221,222,223,224,225,226,227,228,229,230,231,232,233,234,235,236,237,238,239,240,241,242,243,244,245,246,247,248,249,250,251,252,253,254,255,256,257,258,259,260,261,262,263,264,265,266,267,268,269,270,271,272,273,274,275,276,277,278,279,280,281,282,283,284,285,286,287,288,289,290,291,292,293],\"locus\":[\"5:126694523\",\"4:54510021\",\"5:126656324\",\"15:66388795\",\"15:66483326\",\"5:126669004\",\"15:75029228\",\"5:126756659\",\"5:126638727\",\"15:66332288\",\"5:126636211\",\"2:223033196\",\"5:126776307\",\"5:126685374\",\"5:126626645\",\"5:126639025\",\"5:126739085\",\"7:17283759\",\"15:75028490\",\"2:223033396\",\"5:126630948\",\"4:54510894\",\"5:126667551\",\"15:75028283\",\"5:126656500\",\"5:126644632\",\"4:54511711\",\"2:223033030\",\"5:126658500\",\"5:126664981\",\"5:126674613\",\"5:126640205\",\"5:126761536\",\"2:109512379\",\"2:109511579\",\"15:75027880\",\"5:126755778\",\"15:66530274\",\"5:126701622\",\"5:126645705\",\"7:17284577\",\"5:126793219\",\"15:75028233\",\"2:109513654\",\"5:126695127\",\"15:66271772\",\"5:126798856\",\"2:223035313\",\"15:66529378\",\"15:66504551\",\"7:113990596\",\"5:126652742\",\"2:223033006\",\"4:54513653\",\"2:223034961\",\"4:54513660\",\"5:126683883\",\"7:113987281\",\"5:126689489\",\"5:126668683\",\"5:126654970\",\"15:66512166\",\"5:126683590\",\"5:126639591\",\"7:17286817\",\"2:223034082\",\"2:109514192\",\"15:66402233\",\"5:126645343\",\"5:126682039\",\"5:126798558\",\"15:75027432\",\"4:54514122\",\"5:126697755\",\"5:126798623\",\"7:17282872\",\"15:66438961\",\"4:54511174\",\"7:113991440\",\"5:126706883\",\"2:223033725\",\"2:223035940\",\"5:126654623\",\"7:113987889\",\"2:109515567\",\"2:109511525\",\"7:113990931\",\"5:126735334\",\"5:126697138\",\"5:126661774\",\"5:126713978\",\"5:126679402\",\"15:66339349\",\"15:66413349\",\"5:126795246\",\"2:223035211\",\"4:54513484\",\"4:54511913\",\"7:113990352\",\"5:126751728\",\"5:126638459\",\"5:126642357\",\"2:223034758\",\"5:126661519\",\"7:17282507\",\"5:126753050\",\"5:126788465\",\"2:223036224\",\"2:223036256\",\"7:17286802\",\"5:126795159\",\"5:126647941\",\"5:126698023\",\"5:126631841\",\"5:126659892\",\"5:126629170\",\"15:66526977\",\"5:126789986\",\"5:126635437\",\"5:126627875\",\"5:126698345\",\"15:66432798\",\"15:66448125\",\"7:17286770\",\"15:66484687\",\"15:75029399\",\"15:66483393\",\"5:126731259\",\"5:126656998\",\"5:126679697\",\"2:223035113\",\"2:223032504\",\"7:113991207\",\"15:66464013\",\"5:126625548\",\"5:126661380\",\"5:126682354\",\"7:17286087\",\"15:66540943\",\"15:75026149\",\"2:109513786\",\"5:126672710\",\"5:126715759\",\"5:126640576\",\"5:126796531\",\"5:126774949\",\"15:75025814\",\"5:126697604\",\"5:126710915\",\"5:126731876\",\"5:126756907\",\"5:126753565\",\"2:109514579\",\"7:17285867\",\"5:126648201\",\"5:126645710\",\"15:66491961\",\"5:126650182\",\"5:126645334\",\"15:66508895\",\"5:126634444\",\"5:126639135\",\"4:54514026\",\"5:126797617\",\"5:126639269\",\"5:126764698\",\"7:17286734\",\"5:126796585\",\"4:54509759\",\"2:223033867\",\"15:75028564\",\"15:66523602\",\"15:66357425\",\"15:75026189\",\"2:223036258\",\"5:126645738\",\"2:223033978\",\"4:54513695\",\"15:66441451\",\"4:54510874\",\"2:223031835\",\"5:126633827\",\"2:109514985\",\"5:126631791\",\"5:126725568\",\"5:126768694\",\"5:126769874\",\"5:126693265\",\"5:126691169\",\"15:66545710\",\"2:223033621\",\"5:126629112\",\"5:126727418\",\"15:75025988\",\"2:223032680\",\"2:109515025\",\"5:126640971\",\"2:223035359\",\"15:66528319\",\"2:109511467\",\"5:126630491\",\"5:126655730\",\"4:54509910\",\"5:126775113\",\"5:126792974\",\"7:17284996\",\"5:126655749\",\"5:126686756\",\"5:126773180\",\"5:126798794\",\"4:54512721\",\"2:223034770\",\"4:54510074\",\"5:126733924\",\"4:54513106\",\"5:126726847\",\"15:75029472\",\"15:66253733\",\"5:126626044\",\"5:126797292\",\"7:17286293\",\"5:126653950\",\"15:66533708\",\"5:126681193\",\"15:75027770\",\"5:126678028\",\"15:66269700\",\"7:113990996\",\"5:126661600\",\"7:17284989\",\"5:126657766\",\"5:126644401\",\"15:66389315\",\"2:223035136\",\"5:126669209\",\"4:54514062\",\"5:126664039\",\"5:126660301\",\"4:54513107\",\"5:126779202\",\"5:126773064\",\"5:126630016\",\"5:126780212\",\"15:66445500\",\"7:17286050\",\"5:126775739\",\"7:17284085\",\"5:126693280\",\"5:126675068\",\"5:126727008\",\"5:126652710\",\"5:126657432\",\"5:126683809\",\"5:126794160\",\"15:75029998\",\"5:126657217\",\"4:54513819\",\"15:75029712\",\"15:66314450\",\"5:126726851\",\"7:17283259\",\"4:54510826\",\"5:126735430\",\"15:66511120\",\"15:66269504\",\"5:126797404\",\"15:66358115\",\"5:126797293\",\"5:126767961\",\"5:126683416\",\"2:223034660\",\"15:66450974\",\"5:126694437\",\"5:126798501\",\"7:17286708\",\"15:66272893\",\"5:126639097\",\"5:126780344\",\"5:126757447\",\"5:126642563\",\"5:126654062\",\"5:126687822\",\"2:109513109\",\"5:126777362\",\"2:109513601\",\"7:17282974\",\"15:75027179\",\"7:113991250\",\"5:126757200\",\"5:126715151\",\"5:126653607\",\"2:223033853\",\"5:126699347\",\"7:17284687\"],\"p_value\":{\"__ndarray__\":\"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\",\"dtype\":\"float64\",\"shape\":[294]},\"ri\":[\"rs27563\",\"rs75718680\",\"rs3050850\",\"rs79605318\",\"rs36126350\",\"rs26944\",\"rs77021813\",\"rs377341077\",\"rs4836319\",\"rs534981188\",\"rs2546809\",\"rs13411329\",\"rs60681812\",\"rs550745558\",\"rs2032834\",\"rs2546079\",\"rs6877254\",\"rs191388420\",\"rs11072500\",\"rs11895863\",\"rs2059083\",\"rs148731887\",\"rs27562\",\"rs150488464\",\"rs152120\",\"rs72786459\",\"rs2668551\",\"rs16863473\",\"rs152122\",\"rs27749\",\"rs27782\",\"rs1816058\",\"rs6883445\",\"rs548719602\",\"rs187935909\",\"rs2472297\",\"rs202106748\",\"rs4776293\",\"rs35524\",\"rs201053818\",\"rs4410790\",\"rs10793809\",\"rs145741270\",\"rs12623957\",\"rs35528\",\"rs428658\",\"rs73348777\",\"rs66885466\",\"rs10152900\",\"rs10152285\",\"rs546495336\",\"rs246946\",\"rs529478087\",\"rs539249144;rs200448899\",\"rs192694189\",\"rs17663341\",\"rs27652\",\"rs1527146\",\"rs26946\",\"rs2546078\",\"rs246885\",\"rs7170633\",\"rs72786494\",\"rs2431496\",\"rs532738234\",\"rs2218065\",\"rs2378217\",\"rs74342722\",\"rs2546086\",\"rs246895\",\"rs17164922\",\"rs17861121\",\"rs75893784\",\"rs78259230\",\"rs185293501\",\"rs79710531\",\"rs35259179\",\"rs140334180\",\"rs529657511\",\"rs12657844\",\"rs558223447\",\"rs11690945\",\"rs2439927\",\"rs2690825\",\"rs76935644\",\"rs147877575\",\"rs182081686\",\"rs10519939\",\"rs35527\",\"rs31470\",\"rs113289788\",\"rs246897\",\"rs3852627\",\"rs560790583\",\"rs3756722\",\"rs5838931\",\"rs566145844\",\"rs4864809\",\"rs2049604\",\"rs6595770\",\"rs2898042\",\"rs116194529\",\"rs71050391\",\"rs10550881\",\"rs62444547\",\"rs79655685\",\"rs143619269\",\"esv3594421\",\"rs79922615\",\"rs543502886\",\"rs3756721\",\"rs1422316\",\"rs35156178\",\"rs2585200\",\"rs34208116\",\"rs12519784\",\"rs7164601\",\"rs76912327\",\"rs35796097\",\"rs4836316\",\"rs35526\",\"rs72744450\",\"rs12903880\",\"rs112089609\",\"rs145941530\",\"rs8030076\",\"rs141650370\",\"rs13171067\",\"rs246888\",\"rs246896\",\"rs141263619\",\"rs36054640\",\"rs192442536\",\"rs76900736\",\"rs2408868\",\"rs31471\",\"rs246894\",\"rs79694830\",\"rs1531495\",\"rs17861118\",\"rs3789738\",\"rs77589749\",\"rs113091845\",\"rs2546080\",\"rs35236935\",\"rs575868720\",\"rs12441817\",\"rs72788513\",\"rs34537147\",\"rs2059084\",\"rs563314825\",\"rs539466377\",\"rs7591765\",\"rs10281571\",\"rs1422317\",\"rs541675801\",\"rs4776290\",\"rs1345663\",\"rs2585190\",\"rs55922529\",\"rs2194080\",\"rs2546808\",\"rs79162003\",\"rs150096931\",\"rs56084567\",\"rs17164951\",\"rs73680638\",\"rs2898043\",\"rs6818959\",\"rs80199364\",\"rs560176967\",\"rs11630348\",\"rs1351033\",\"rs561452716\",\"rs551240079\",\"rs13153845\",\"rs2196751\",\"rs75912591\",\"rs147773125\",\"rs6816209\",\"rs114946697\",\"rs2585197\",\"rs11689836\",\"rs17165102\",\"rs4401615\",\"rs529654685\",\"rs10078629\",\"rs246892\",\"rs73344966\",\"rs112753173\",\"rs146512362\",\"rs4836318\",\"rs1153432\",\"rs4886605\",\"rs371522534\",\"rs60288156\",\"rs2546081\",\"rs13431945\",\"rs12442223\",\"rs145115545\",\"rs200086613\",\"rs246886\",\"rs139265415\",\"rs34451603\",\"rs3812052\",\"rs549050018\",\"rs246887\",\"rs185030\",\"rs6859181\",\"rs115104068\",\"rs73250977\",\"rs201276449\",\"rs560982174\",\"rs78811203\",\"rs2668550\",\"rs2008432\",\"rs76255041\",\"rs333567\",\"rs1363387\",\"rs4836323\",\"rs147427004\",\"rs246948\",\"rs56841180\",\"rs114244425\",\"rs182435674\",\"rs17839696\",\"rs693217\",\"rs79307074\",\"rs33930493\",\"rs10277582\",\"rs559620165\",\"rs2546803\",\"rs536793855\",\"rs184491207\",\"rs145619126\",\"rs559531437\",\"rs36307\",\"rs31472\",\"rs77894545\",\"rs61031224\",\"rs6859304\",\"rs1422313\",\"rs12516897\",\"rs116575620\",\"rs185214789\",\"rs13190032\",\"rs6943079\",\"rs144085293\",\"rs17673170\",\"rs1019482\",\"rs246945\",\"rs246889\",\"rs27388\",\"rs75528418\",\"rs76354137\",\"rs152121\",\"rs6858782\",\"rs531617087\",\"rs167996\",\"rs1318923\",\"rs145880637\",\"rs1477873\",\"rs251031\",\"rs548033886\",\"rs372969314\",\"rs4836324\",\"rs6494547\",\"rs188714805\",\"rs6866678\",\"rs187514\",\"rs985473\",\"rs9888704\",\"rs26947\",\"rs150008348\",\"rs571979050\",\"rs449841\",\"rs2546807\",\"rs10519941\",\"rs77610038\",\"rs2546083\",\"rs185032\",\"rs36308\",\"rs148961371\",\"rs59745564\",\"rs3827760\",\"rs17137451\",\"rs17861120\",\"rs184002280\",\"rs149139462\",\"rs79713470\",\"rs138731838\",\"rs79534778\",\"rs35525\",\"rs77000981\"]},\"selected\":{\"id\":\"1182\",\"type\":\"Selection\"},\"selection_policy\":{\"id\":\"1183\",\"type\":\"UnionRenderers\"}},\"id\":\"1135\",\"type\":\"ColumnDataSource\"},{\"attributes\":{\"fill_alpha\":{\"value\":0.1},\"fill_color\":{\"value\":\"#1f77b4\"},\"line_alpha\":{\"value\":0.1},\"line_color\":{\"value\":\"#1f77b4\"},\"x\":{\"field\":\"_global_locus\"},\"y\":{\"field\":\"_pval\"}},\"id\":\"1158\",\"type\":\"Circle\"},{\"attributes\":{\"column_name\":\"_contig\",\"group\":\"4\"},\"id\":\"1148\",\"type\":\"GroupFilter\"},{\"attributes\":{\"filters\":[{\"id\":\"1136\",\"type\":\"GroupFilter\"}],\"source\":{\"id\":\"1135\",\"type\":\"ColumnDataSource\"}},\"id\":\"1137\",\"type\":\"CDSView\"},{\"attributes\":{\"column_name\":\"_contig\",\"group\":\"5\"},\"id\":\"1154\",\"type\":\"GroupFilter\"},{\"attributes\":{\"ticker\":{\"id\":\"1111\",\"type\":\"BasicTicker\"}},\"id\":\"1114\",\"type\":\"Grid\"},{\"attributes\":{\"click_policy\":\"hide\",\"items\":[{\"id\":\"1166\",\"type\":\"LegendItem\"},{\"id\":\"1167\",\"type\":\"LegendItem\"},{\"id\":\"1168\",\"type\":\"LegendItem\"},{\"id\":\"1169\",\"type\":\"LegendItem\"},{\"id\":\"1170\",\"type\":\"LegendItem\"}],\"visible\":false},\"id\":\"1171\",\"type\":\"Legend\"},{\"attributes\":{\"fill_color\":{\"field\":\"_contig\",\"transform\":{\"id\":\"1099\",\"type\":\"CategoricalColorMapper\"}},\"line_color\":{\"field\":\"_contig\",\"transform\":{\"id\":\"1099\",\"type\":\"CategoricalColorMapper\"}},\"x\":{\"field\":\"_global_locus\"},\"y\":{\"field\":\"_pval\"}},\"id\":\"1139\",\"type\":\"Circle\"},{\"attributes\":{\"fill_alpha\":{\"value\":0.1},\"fill_color\":{\"value\":\"#1f77b4\"},\"line_alpha\":{\"value\":0.1},\"line_color\":{\"value\":\"#1f77b4\"},\"x\":{\"field\":\"_global_locus\"},\"y\":{\"field\":\"_pval\"}},\"id\":\"1146\",\"type\":\"Circle\"},{\"attributes\":{},\"id\":\"1179\",\"type\":\"BasicTickFormatter\"},{\"attributes\":{},\"id\":\"1121\",\"type\":\"WheelZoomTool\"},{\"attributes\":{\"fill_color\":{\"field\":\"_contig\",\"transform\":{\"id\":\"1099\",\"type\":\"CategoricalColorMapper\"}},\"line_color\":{\"field\":\"_contig\",\"transform\":{\"id\":\"1099\",\"type\":\"CategoricalColorMapper\"}},\"x\":{\"field\":\"_global_locus\"},\"y\":{\"field\":\"_pval\"}},\"id\":\"1151\",\"type\":\"Circle\"},{\"attributes\":{},\"id\":\"1120\",\"type\":\"PanTool\"},{\"attributes\":{\"fill_alpha\":{\"value\":0.1},\"fill_color\":{\"value\":\"#1f77b4\"},\"line_alpha\":{\"value\":0.1},\"line_color\":{\"value\":\"#1f77b4\"},\"x\":{\"field\":\"_global_locus\"},\"y\":{\"field\":\"_pval\"}},\"id\":\"1164\",\"type\":\"Circle\"},{\"attributes\":{},\"id\":\"1123\",\"type\":\"SaveTool\"}],\"root_ids\":[\"1100\"]},\"title\":\"Bokeh Application\",\"version\":\"1.2.0\"}};\n",
       "  var render_items = [{\"docid\":\"1820f527-1f50-4d85-828a-d0e26e31b8f0\",\"roots\":{\"1100\":\"5e1e041b-586f-4de0-b997-79bf5d9e0dcc\"}}];\n",
       "  root.Bokeh.embed.embed_items_notebook(docs_json, render_items);\n",
       "\n",
       "  }\n",
       "  if (root.Bokeh !== undefined) {\n",
       "    embed_document(root);\n",
       "  } else {\n",
       "    var attempts = 0;\n",
       "    var timer = setInterval(function(root) {\n",
       "      if (root.Bokeh !== undefined) {\n",
       "        embed_document(root);\n",
       "        clearInterval(timer);\n",
       "      }\n",
       "      attempts++;\n",
       "      if (attempts > 100) {\n",
       "        console.log(\"Bokeh: ERROR: Unable to run BokehJS code because BokehJS library is missing\");\n",
       "        clearInterval(timer);\n",
       "      }\n",
       "    }, 10, root)\n",
       "  }\n",
       "})(window);"
      ],
      "application/vnd.bokehjs_exec.v0+json": ""
     },
     "metadata": {
      "application/vnd.bokehjs_exec.v0+json": {
       "id": "1100"
      }
     },
     "output_type": "display_data"
    }
   ],
   "source": [
    "p = hl.plot.manhattan(gwas_with_imp.p_value, hover_fields=dict(ri=gwas_with_imp.rsid))\n",
    "show(p)"
   ]
  },
  {
   "cell_type": "code",
   "execution_count": 16,
   "metadata": {},
   "outputs": [
    {
     "data": {
      "text/html": [
       "\n",
       "\n",
       "\n",
       "\n",
       "\n",
       "\n",
       "  <div class=\"bk-root\" id=\"775d0ad2-de0d-43ec-a8f1-3b7f0f42757c\" data-root-id=\"1266\"></div>\n"
      ]
     },
     "metadata": {},
     "output_type": "display_data"
    },
    {
     "data": {
      "application/javascript": [
       "(function(root) {\n",
       "  function embed_document(root) {\n",
       "    \n",
       "  var docs_json = {\"d7bc610b-eb7f-4ce0-aed9-a55088e5ac3a\":{\"roots\":{\"references\":[{\"attributes\":{\"below\":[{\"id\":\"1276\",\"type\":\"LinearAxis\"}],\"center\":[{\"id\":\"1280\",\"type\":\"Grid\"},{\"id\":\"1285\",\"type\":\"Grid\"}],\"left\":[{\"id\":\"1281\",\"type\":\"LinearAxis\"},{\"id\":\"1337\",\"type\":\"Legend\"},{\"id\":\"1338\",\"type\":\"ColorBar\"}],\"plot_width\":1000,\"renderers\":[{\"id\":\"1307\",\"type\":\"GlyphRenderer\"},{\"id\":\"1313\",\"type\":\"GlyphRenderer\"},{\"id\":\"1319\",\"type\":\"GlyphRenderer\"},{\"id\":\"1325\",\"type\":\"GlyphRenderer\"},{\"id\":\"1331\",\"type\":\"GlyphRenderer\"},{\"id\":\"1359\",\"type\":\"Span\"}],\"title\":null,\"toolbar\":{\"id\":\"1292\",\"type\":\"Toolbar\"},\"x_range\":{\"id\":\"1268\",\"type\":\"DataRange1d\"},\"x_scale\":{\"id\":\"1272\",\"type\":\"LinearScale\"},\"y_range\":{\"id\":\"1270\",\"type\":\"DataRange1d\"},\"y_scale\":{\"id\":\"1274\",\"type\":\"LinearScale\"}},\"id\":\"1266\",\"subtype\":\"Figure\",\"type\":\"Plot\"},{\"attributes\":{\"line_color\":{\"value\":\"red\"},\"line_dash\":[6],\"line_width\":{\"value\":1.5},\"location\":7.301029995663981},\"id\":\"1359\",\"type\":\"Span\"},{\"attributes\":{\"fill_color\":{\"field\":\"_contig\",\"transform\":{\"id\":\"1265\",\"type\":\"CategoricalColorMapper\"}},\"line_color\":{\"field\":\"_contig\",\"transform\":{\"id\":\"1265\",\"type\":\"CategoricalColorMapper\"}},\"x\":{\"field\":\"_global_locus\"},\"y\":{\"field\":\"_pval\"}},\"id\":\"1305\",\"type\":\"Circle\"},{\"attributes\":{\"filters\":[{\"id\":\"1320\",\"type\":\"GroupFilter\"}],\"source\":{\"id\":\"1301\",\"type\":\"ColumnDataSource\"}},\"id\":\"1321\",\"type\":\"CDSView\"},{\"attributes\":{\"filters\":[{\"id\":\"1302\",\"type\":\"GroupFilter\"}],\"source\":{\"id\":\"1301\",\"type\":\"ColumnDataSource\"}},\"id\":\"1303\",\"type\":\"CDSView\"},{\"attributes\":{},\"id\":\"1349\",\"type\":\"UnionRenderers\"},{\"attributes\":{\"data_source\":{\"id\":\"1301\",\"type\":\"ColumnDataSource\"},\"glyph\":{\"id\":\"1305\",\"type\":\"Circle\"},\"hover_glyph\":null,\"muted_glyph\":null,\"nonselection_glyph\":{\"id\":\"1306\",\"type\":\"Circle\"},\"selection_glyph\":null,\"view\":{\"id\":\"1303\",\"type\":\"CDSView\"}},\"id\":\"1307\",\"type\":\"GlyphRenderer\"},{\"attributes\":{\"click_policy\":\"hide\",\"items\":[{\"id\":\"1332\",\"type\":\"LegendItem\"},{\"id\":\"1333\",\"type\":\"LegendItem\"},{\"id\":\"1334\",\"type\":\"LegendItem\"},{\"id\":\"1335\",\"type\":\"LegendItem\"},{\"id\":\"1336\",\"type\":\"LegendItem\"}],\"visible\":false},\"id\":\"1337\",\"type\":\"Legend\"},{\"attributes\":{\"data_source\":{\"id\":\"1301\",\"type\":\"ColumnDataSource\"},\"glyph\":{\"id\":\"1317\",\"type\":\"Circle\"},\"hover_glyph\":null,\"muted_glyph\":null,\"nonselection_glyph\":{\"id\":\"1318\",\"type\":\"Circle\"},\"selection_glyph\":null,\"view\":{\"id\":\"1315\",\"type\":\"CDSView\"}},\"id\":\"1319\",\"type\":\"GlyphRenderer\"},{\"attributes\":{\"fill_alpha\":{\"value\":0.1},\"fill_color\":{\"value\":\"#1f77b4\"},\"line_alpha\":{\"value\":0.1},\"line_color\":{\"value\":\"#1f77b4\"},\"x\":{\"field\":\"_global_locus\"},\"y\":{\"field\":\"_pval\"}},\"id\":\"1324\",\"type\":\"Circle\"},{\"attributes\":{\"factors\":[\"1\",\"2\",\"3\",\"4\",\"5\",\"6\",\"7\",\"8\",\"9\",\"10\",\"11\",\"12\",\"13\",\"14\",\"15\",\"16\",\"17\",\"18\",\"19\",\"20\",\"21\",\"22\",\"X\",\"Y\",\"MT\",\"GL000207.1\",\"GL000226.1\",\"GL000229.1\",\"GL000231.1\",\"GL000210.1\",\"GL000239.1\",\"GL000235.1\",\"GL000201.1\",\"GL000247.1\",\"GL000245.1\",\"GL000197.1\",\"GL000203.1\",\"GL000246.1\",\"GL000249.1\",\"GL000196.1\",\"GL000248.1\",\"GL000244.1\",\"GL000238.1\",\"GL000202.1\",\"GL000234.1\",\"GL000232.1\",\"GL000206.1\",\"GL000240.1\",\"GL000236.1\",\"GL000241.1\",\"GL000243.1\",\"GL000242.1\",\"GL000230.1\",\"GL000237.1\",\"GL000233.1\",\"GL000204.1\",\"GL000198.1\",\"GL000208.1\",\"GL000191.1\",\"GL000227.1\",\"GL000228.1\",\"GL000214.1\",\"GL000221.1\",\"GL000209.1\",\"GL000218.1\",\"GL000220.1\",\"GL000213.1\",\"GL000211.1\",\"GL000199.1\",\"GL000217.1\",\"GL000216.1\",\"GL000215.1\",\"GL000205.1\",\"GL000219.1\",\"GL000224.1\",\"GL000223.1\",\"GL000195.1\",\"GL000212.1\",\"GL000222.1\",\"GL000200.1\",\"GL000193.1\",\"GL000194.1\",\"GL000225.1\",\"GL000192.1\"],\"palette\":[\"#1f77b4\",\"#ff7f0e\",\"#1f77b4\",\"#ff7f0e\",\"#1f77b4\",\"#ff7f0e\",\"#1f77b4\",\"#ff7f0e\",\"#1f77b4\",\"#ff7f0e\",\"#1f77b4\",\"#ff7f0e\",\"#1f77b4\",\"#ff7f0e\",\"#1f77b4\",\"#ff7f0e\",\"#1f77b4\",\"#ff7f0e\",\"#1f77b4\",\"#ff7f0e\",\"#1f77b4\",\"#ff7f0e\",\"#1f77b4\",\"#ff7f0e\",\"#1f77b4\",\"#ff7f0e\",\"#1f77b4\",\"#ff7f0e\",\"#1f77b4\",\"#ff7f0e\",\"#1f77b4\",\"#ff7f0e\",\"#1f77b4\",\"#ff7f0e\",\"#1f77b4\",\"#ff7f0e\",\"#1f77b4\",\"#ff7f0e\",\"#1f77b4\",\"#ff7f0e\",\"#1f77b4\",\"#ff7f0e\",\"#1f77b4\",\"#ff7f0e\",\"#1f77b4\",\"#ff7f0e\",\"#1f77b4\",\"#ff7f0e\",\"#1f77b4\",\"#ff7f0e\",\"#1f77b4\",\"#ff7f0e\",\"#1f77b4\",\"#ff7f0e\",\"#1f77b4\",\"#ff7f0e\",\"#1f77b4\",\"#ff7f0e\",\"#1f77b4\",\"#ff7f0e\",\"#1f77b4\",\"#ff7f0e\",\"#1f77b4\",\"#ff7f0e\",\"#1f77b4\",\"#ff7f0e\",\"#1f77b4\",\"#ff7f0e\",\"#1f77b4\",\"#ff7f0e\",\"#1f77b4\",\"#ff7f0e\",\"#1f77b4\",\"#ff7f0e\",\"#1f77b4\",\"#ff7f0e\",\"#1f77b4\",\"#ff7f0e\",\"#1f77b4\",\"#ff7f0e\",\"#1f77b4\",\"#ff7f0e\",\"#1f77b4\",\"#ff7f0e\"]},\"id\":\"1265\",\"type\":\"CategoricalColorMapper\"},{\"attributes\":{\"active_drag\":\"auto\",\"active_inspect\":\"auto\",\"active_multi\":null,\"active_scroll\":\"auto\",\"active_tap\":\"auto\",\"tools\":[{\"id\":\"1286\",\"type\":\"PanTool\"},{\"id\":\"1287\",\"type\":\"WheelZoomTool\"},{\"id\":\"1288\",\"type\":\"BoxZoomTool\"},{\"id\":\"1289\",\"type\":\"SaveTool\"},{\"id\":\"1290\",\"type\":\"ResetTool\"},{\"id\":\"1291\",\"type\":\"HelpTool\"},{\"id\":\"1300\",\"type\":\"HoverTool\"}]},\"id\":\"1292\",\"type\":\"Toolbar\"},{\"attributes\":{\"column_name\":\"_contig\",\"group\":\"2\"},\"id\":\"1308\",\"type\":\"GroupFilter\"},{\"attributes\":{},\"id\":\"1272\",\"type\":\"LinearScale\"},{\"attributes\":{},\"id\":\"1344\",\"type\":\"BasicTicker\"},{\"attributes\":{\"fill_alpha\":{\"value\":0.1},\"fill_color\":{\"value\":\"#1f77b4\"},\"line_alpha\":{\"value\":0.1},\"line_color\":{\"value\":\"#1f77b4\"},\"x\":{\"field\":\"_global_locus\"},\"y\":{\"field\":\"_pval\"}},\"id\":\"1312\",\"type\":\"Circle\"},{\"attributes\":{\"callback\":null,\"tooltips\":[[\"locus\",\"@locus\"],[\"ri\",\"@ri\"],[\"p_value\",\"@p_value\"]]},\"id\":\"1300\",\"type\":\"HoverTool\"},{\"attributes\":{\"callback\":null},\"id\":\"1268\",\"type\":\"DataRange1d\"},{\"attributes\":{\"ticks\":[370850306,786049561,972084329,1313226357,2358551414]},\"id\":\"1339\",\"type\":\"FixedTicker\"},{\"attributes\":{\"fill_color\":{\"field\":\"_contig\",\"transform\":{\"id\":\"1265\",\"type\":\"CategoricalColorMapper\"}},\"line_color\":{\"field\":\"_contig\",\"transform\":{\"id\":\"1265\",\"type\":\"CategoricalColorMapper\"}},\"x\":{\"field\":\"_global_locus\"},\"y\":{\"field\":\"_pval\"}},\"id\":\"1329\",\"type\":\"Circle\"},{\"attributes\":{\"filters\":[{\"id\":\"1314\",\"type\":\"GroupFilter\"}],\"source\":{\"id\":\"1301\",\"type\":\"ColumnDataSource\"}},\"id\":\"1315\",\"type\":\"CDSView\"},{\"attributes\":{\"fill_color\":{\"field\":\"_contig\",\"transform\":{\"id\":\"1265\",\"type\":\"CategoricalColorMapper\"}},\"line_color\":{\"field\":\"_contig\",\"transform\":{\"id\":\"1265\",\"type\":\"CategoricalColorMapper\"}},\"x\":{\"field\":\"_global_locus\"},\"y\":{\"field\":\"_pval\"}},\"id\":\"1323\",\"type\":\"Circle\"},{\"attributes\":{},\"id\":\"1343\",\"type\":\"BasicTickFormatter\"},{\"attributes\":{\"column_name\":\"_contig\",\"group\":\"5\"},\"id\":\"1320\",\"type\":\"GroupFilter\"},{\"attributes\":{\"dimension\":1,\"ticker\":{\"id\":\"1282\",\"type\":\"BasicTicker\"}},\"id\":\"1285\",\"type\":\"Grid\"},{\"attributes\":{},\"id\":\"1286\",\"type\":\"PanTool\"},{\"attributes\":{\"data_source\":{\"id\":\"1301\",\"type\":\"ColumnDataSource\"},\"glyph\":{\"id\":\"1323\",\"type\":\"Circle\"},\"hover_glyph\":null,\"muted_glyph\":null,\"nonselection_glyph\":{\"id\":\"1324\",\"type\":\"Circle\"},\"selection_glyph\":null,\"view\":{\"id\":\"1321\",\"type\":\"CDSView\"}},\"id\":\"1325\",\"type\":\"GlyphRenderer\"},{\"attributes\":{\"callback\":null},\"id\":\"1270\",\"type\":\"DataRange1d\"},{\"attributes\":{},\"id\":\"1291\",\"type\":\"HelpTool\"},{\"attributes\":{\"filters\":[{\"id\":\"1308\",\"type\":\"GroupFilter\"}],\"source\":{\"id\":\"1301\",\"type\":\"ColumnDataSource\"}},\"id\":\"1309\",\"type\":\"CDSView\"},{\"attributes\":{\"data_source\":{\"id\":\"1301\",\"type\":\"ColumnDataSource\"},\"glyph\":{\"id\":\"1311\",\"type\":\"Circle\"},\"hover_glyph\":null,\"muted_glyph\":null,\"nonselection_glyph\":{\"id\":\"1312\",\"type\":\"Circle\"},\"selection_glyph\":null,\"view\":{\"id\":\"1309\",\"type\":\"CDSView\"}},\"id\":\"1313\",\"type\":\"GlyphRenderer\"},{\"attributes\":{\"fill_color\":{\"field\":\"_contig\",\"transform\":{\"id\":\"1265\",\"type\":\"CategoricalColorMapper\"}},\"line_color\":{\"field\":\"_contig\",\"transform\":{\"id\":\"1265\",\"type\":\"CategoricalColorMapper\"}},\"x\":{\"field\":\"_global_locus\"},\"y\":{\"field\":\"_pval\"}},\"id\":\"1311\",\"type\":\"Circle\"},{\"attributes\":{\"column_name\":\"_contig\",\"group\":\"4\"},\"id\":\"1314\",\"type\":\"GroupFilter\"},{\"attributes\":{},\"id\":\"1274\",\"type\":\"LinearScale\"},{\"attributes\":{},\"id\":\"1287\",\"type\":\"WheelZoomTool\"},{\"attributes\":{},\"id\":\"1345\",\"type\":\"BasicTickFormatter\"},{\"attributes\":{\"color_mapper\":null,\"formatter\":{\"id\":\"1345\",\"type\":\"BasicTickFormatter\"},\"ticker\":{\"id\":\"1344\",\"type\":\"BasicTicker\"},\"visible\":false},\"id\":\"1338\",\"type\":\"ColorBar\"},{\"attributes\":{},\"id\":\"1289\",\"type\":\"SaveTool\"},{\"attributes\":{\"callback\":null,\"data\":{\"_contig\":[\"2\",\"15\",\"15\",\"15\",\"5\",\"5\",\"5\",\"15\",\"4\",\"5\",\"5\",\"5\",\"7\",\"2\",\"4\",\"15\",\"5\",\"2\",\"2\",\"5\",\"15\",\"4\",\"5\",\"5\",\"5\",\"5\",\"5\",\"7\",\"2\",\"15\",\"5\",\"5\",\"2\",\"7\",\"4\",\"4\",\"7\",\"5\",\"7\",\"2\",\"2\",\"15\",\"5\",\"15\",\"4\",\"5\",\"5\",\"5\",\"2\",\"5\",\"7\",\"2\",\"2\",\"2\",\"7\",\"5\",\"5\",\"15\",\"15\",\"4\",\"2\",\"5\",\"5\",\"2\",\"5\",\"5\",\"2\",\"2\",\"7\",\"5\",\"5\",\"2\",\"15\",\"5\",\"15\",\"15\",\"15\",\"15\",\"15\",\"5\",\"2\",\"5\",\"7\",\"5\",\"15\",\"4\",\"15\",\"15\",\"5\",\"5\",\"5\",\"7\",\"5\",\"5\",\"5\",\"5\",\"2\",\"15\",\"2\",\"5\",\"4\",\"4\",\"5\",\"5\",\"5\",\"5\",\"5\",\"7\",\"4\",\"15\",\"15\",\"15\",\"15\",\"2\",\"4\",\"2\",\"2\",\"5\",\"5\",\"2\",\"5\",\"5\",\"5\",\"15\",\"2\",\"2\",\"7\",\"5\",\"2\",\"2\",\"2\",\"5\",\"2\",\"15\",\"2\",\"5\",\"2\",\"5\",\"4\",\"5\",\"7\",\"5\",\"5\",\"5\",\"7\",\"4\",\"5\",\"7\",\"5\",\"7\",\"15\",\"5\",\"15\",\"5\",\"7\",\"5\",\"7\",\"15\",\"4\",\"5\",\"15\",\"7\",\"5\",\"7\",\"7\",\"7\",\"5\",\"2\",\"5\",\"4\",\"7\",\"15\",\"5\",\"15\",\"5\",\"5\",\"15\",\"5\",\"4\",\"15\",\"5\",\"2\",\"15\",\"4\",\"5\",\"2\",\"7\",\"5\",\"2\",\"2\",\"15\",\"7\",\"5\",\"15\",\"5\",\"5\",\"5\"],\"_global_locus\":{\"__ndarray__\":\"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\",\"dtype\":\"float64\",\"shape\":[197]},\"_pval\":{\"__ndarray__\":\"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\",\"dtype\":\"float64\",\"shape\":[197]},\"index\":[0,1,2,3,4,5,6,7,8,9,10,11,12,13,14,15,16,17,18,19,20,21,22,23,24,25,26,27,28,29,30,31,32,33,34,35,36,37,38,39,40,41,42,43,44,45,46,47,48,49,50,51,52,53,54,55,56,57,58,59,60,61,62,63,64,65,66,67,68,69,70,71,72,73,74,75,76,77,78,79,80,81,82,83,84,85,86,87,88,89,90,91,92,93,94,95,96,97,98,99,100,101,102,103,104,105,106,107,108,109,110,111,112,113,114,115,116,117,118,119,120,121,122,123,124,125,126,127,128,129,130,131,132,133,134,135,136,137,138,139,140,141,142,143,144,145,146,147,148,149,150,151,152,153,154,155,156,157,158,159,160,161,162,163,164,165,166,167,168,169,170,171,172,173,174,175,176,177,178,179,180,181,182,183,184,185,186,187,188,189,190,191,192,193,194,195,196],\"locus\":[\"2:223033978\",\"15:66490680\",\"15:66241408\",\"15:75029840\",\"5:126756968\",\"5:126694437\",\"5:126637872\",\"15:66439763\",\"4:54509759\",\"5:126715759\",\"5:126794160\",\"5:126630948\",\"7:17282507\",\"2:223032002\",\"4:54512170\",\"15:75026700\",\"5:126796531\",\"2:109511467\",\"2:109514702\",\"5:126748266\",\"15:66434493\",\"4:54511246\",\"5:126664981\",\"5:126662114\",\"5:126657217\",\"5:126667551\",\"5:126628584\",\"7:17286310\",\"2:109514754\",\"15:75030097\",\"5:126650182\",\"5:126633827\",\"2:223034770\",\"7:113988537\",\"4:54513755\",\"4:54511913\",\"7:113989569\",\"5:126679697\",\"7:17286624\",\"2:223034082\",\"2:109512428\",\"15:66397161\",\"5:126797292\",\"15:75025814\",\"4:54513695\",\"5:126631841\",\"5:126798461\",\"5:126726851\",\"2:223034144\",\"5:126727008\",\"7:113989202\",\"2:109513601\",\"2:223033196\",\"2:109515238\",\"7:113987454\",\"5:126775462\",\"5:126775113\",\"15:66529301\",\"15:66349558\",\"4:54513653\",\"2:223034758\",\"5:126652407\",\"5:126664039\",\"2:223032642\",\"5:126748543\",\"5:126795246\",\"2:223035994\",\"2:223035758\",\"7:17286817\",\"5:126725641\",\"5:126635083\",\"2:223032399\",\"15:66480216\",\"5:126725568\",\"15:66489538\",\"15:66505051\",\"15:66522206\",\"15:75025988\",\"15:66438551\",\"5:126669004\",\"2:223036256\",\"5:126650411\",\"7:113990996\",\"5:126654062\",\"15:66458242\",\"4:54512546\",\"15:66359486\",\"15:75026149\",\"5:126657766\",\"5:126693280\",\"5:126635055\",\"7:113989578\",\"5:126795159\",\"5:126650805\",\"5:126751728\",\"5:126740316\",\"2:109512256\",\"15:66490990\",\"2:223033006\",\"5:126645738\",\"4:54513660\",\"4:54514026\",\"5:126629170\",\"5:126798160\",\"5:126639591\",\"5:126656998\",\"5:126647941\",\"7:17282872\",\"4:54510874\",\"15:75028233\",\"15:66437036\",\"15:66388261\",\"15:75026627\",\"2:223036258\",\"4:54511203\",\"2:109511765\",\"2:109514464\",\"5:126639801\",\"5:126630016\",\"2:109513786\",\"5:126668683\",\"5:126778245\",\"5:126644552\",\"15:66432949\",\"2:223035359\",\"2:223033396\",\"7:17284085\",\"5:126654970\",\"2:223035211\",\"2:223032504\",\"2:109512234\",\"5:126626044\",\"2:223033867\",\"15:66454686\",\"2:223033642\",\"5:126625548\",\"2:109515025\",\"5:126629112\",\"4:54512721\",\"5:126655749\",\"7:17282974\",\"5:126627875\",\"5:126798501\",\"5:126628771\",\"7:17284989\",\"4:54513106\",\"5:126640971\",\"7:17286087\",\"5:126626645\",\"7:17286770\",\"15:66418338\",\"5:126767961\",\"15:75028283\",\"5:126797404\",\"7:17284577\",\"5:126640576\",\"7:113989105\",\"15:66362910\",\"4:54514122\",\"5:126793219\",\"15:66520258\",\"7:17283839\",\"5:126656500\",\"7:17285867\",\"7:113987889\",\"7:113987281\",\"5:126731876\",\"2:223033030\",\"5:126682354\",\"4:54512988\",\"7:113990352\",\"15:75027895\",\"5:126661600\",\"15:66360842\",\"5:126663406\",\"5:126744956\",\"15:66388795\",\"5:126635667\",\"4:54510555\",\"15:66532657\",\"5:126726847\",\"2:223035940\",\"15:66528988\",\"4:54513819\",\"5:126785310\",\"2:223035313\",\"7:17282888\",\"5:126756273\",\"2:223034660\",\"2:109515632\",\"15:75029998\",\"7:113991440\",\"5:126757463\",\"15:75028490\",\"5:126698345\",\"5:126689489\",\"5:126644769\"],\"p_value\":{\"__ndarray__\":\"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\",\"dtype\":\"float64\",\"shape\":[197]},\"ri\":[\"rs2196751\",\"rs78638359\",\"rs538401924\",\"rs116979601\",\"rs552487408\",\"rs26947\",\"rs2546806\",\"rs34811858\",\"rs6818959\",\"rs113091845\",\"rs75528418\",\"rs2059083\",\"rs62444547\",\"rs7607981\",\"rs79625021\",\"rs79984260\",\"rs35236935\",\"rs145115545\",\"rs527434889\",\"rs60019013\",\"rs118185051\",\"rs2616389\",\"rs27749\",\"rs26945\",\"rs152121\",\"rs27562\",\"rs112394041\",\"rs111886830\",\"rs4676219\",\"rs142764751\",\"rs1345663\",\"rs2585197\",\"rs201276449\",\"rs2690826\",\"rs77629803\",\"rs4864809\",\"rs1916976\",\"rs246896\",\"rs554022856\",\"rs2218065\",\"rs3749096\",\"rs34890708\",\"rs4836323\",\"rs12441817\",\"rs75912591\",\"rs2585200\",\"rs111867141\",\"rs1318923\",\"rs116514046\",\"rs1019482\",\"rs117717824\",\"rs3827760\",\"rs13411329\",\"rs61447904\",\"rs368002927\",\"rs2408872\",\"rs34451603\",\"rs1513933\",\"rs555147044\",\"rs539249144;rs200448899\",\"rs71050391\",\"rs246944\",\"rs36307\",\"rs986430\",\"rs60694077\",\"rs3756722\",\"rs541580975\",\"rs535877903\",\"rs532738234\",\"rs173509\",\"rs2018571\",\"rs986429\",\"rs899079\",\"rs4401615\",\"rs4776759\",\"rs5813381\",\"rs28742176\",\"rs4886605\",\"rs12593454\",\"rs26944\",\"rs79922615\",\"rs1345664\",\"rs79307074\",\"rs185032\",\"rs183961370\",\"rs77704934\",\"rs9783681\",\"rs17861118\",\"rs559620165\",\"rs144085293\",\"rs1808378\",\"rs2690827\",\"rs3756721\",\"rs2546087\",\"rs6595770\",\"rs17165090\",\"rs73952545\",\"rs34986709\",\"rs529478087\",\"rs13153845\",\"rs17663341\",\"rs79162003\",\"rs12519784\",\"rs145163025\",\"rs2431496\",\"rs246888\",\"rs1422316\",\"rs79710531\",\"rs6816209\",\"rs145741270\",\"rs7174196\",\"rs8035864\",\"rs11631784\",\"rs551240079\",\"rs2590771\",\"rs10865025\",\"rs940928\",\"rs2431724\",\"rs1422313\",\"rs3789738\",\"rs2546078\",\"rs73348744\",\"rs2546804\",\"rs10518678\",\"rs13431945\",\"rs11895863\",\"rs6943079\",\"rs246885\",\"rs5838931\",\"rs36054640\",\"rs13001699\",\"rs1363387\",\"rs80199364\",\"rs1542528\",\"rs2218064\",\"rs2408868\",\"rs60288156\",\"rs4836318\",\"rs73250977\",\"rs246887\",\"rs17137451\",\"rs4836316\",\"rs150008348\",\"rs4836317\",\"rs10277582\",\"rs2668550\",\"rs2546081\",\"rs79694830\",\"rs2032834\",\"rs112089609\",\"rs899086\",\"rs6866678\",\"rs150488464\",\"rs4836324\",\"rs4410790\",\"rs2546080\",\"rs79448181\",\"rs542861222\",\"rs75893784\",\"rs10793809\",\"rs12441314\",\"rs111881322\",\"rs152120\",\"rs10281571\",\"rs2690825\",\"rs1527146\",\"rs2059084\",\"rs16863473\",\"rs246894\",\"rs139274061\",\"rs2049604\",\"rs141323436\",\"rs33930493\",\"rs1369159\",\"rs11285616\",\"rs56320297\",\"rs79605318\",\"rs1345662\",\"rs144220715\",\"rs28690215\",\"rs2008432\",\"rs11690945\",\"rs62011685\",\"rs6858782\",\"rs41298320\",\"rs66885466\",\"rs11976418\",\"rs11956397\",\"rs985473\",\"rs137965476\",\"rs76354137\",\"rs529657511\",\"rs180947454\",\"rs11072500\",\"rs35526\",\"rs26946\",\"rs1422315\"]},\"selected\":{\"id\":\"1348\",\"type\":\"Selection\"},\"selection_policy\":{\"id\":\"1349\",\"type\":\"UnionRenderers\"}},\"id\":\"1301\",\"type\":\"ColumnDataSource\"},{\"attributes\":{\"bottom_units\":\"screen\",\"fill_alpha\":{\"value\":0.5},\"fill_color\":{\"value\":\"lightgrey\"},\"left_units\":\"screen\",\"level\":\"overlay\",\"line_alpha\":{\"value\":1.0},\"line_color\":{\"value\":\"black\"},\"line_dash\":[4,4],\"line_width\":{\"value\":2},\"render_mode\":\"css\",\"right_units\":\"screen\",\"top_units\":\"screen\"},\"id\":\"1347\",\"type\":\"BoxAnnotation\"},{\"attributes\":{\"overlay\":{\"id\":\"1347\",\"type\":\"BoxAnnotation\"}},\"id\":\"1288\",\"type\":\"BoxZoomTool\"},{\"attributes\":{\"column_name\":\"_contig\",\"group\":\"15\"},\"id\":\"1302\",\"type\":\"GroupFilter\"},{\"attributes\":{\"label\":{\"value\":\"4\"},\"renderers\":[{\"id\":\"1319\",\"type\":\"GlyphRenderer\"}]},\"id\":\"1334\",\"type\":\"LegendItem\"},{\"attributes\":{\"data_source\":{\"id\":\"1301\",\"type\":\"ColumnDataSource\"},\"glyph\":{\"id\":\"1329\",\"type\":\"Circle\"},\"hover_glyph\":null,\"muted_glyph\":null,\"nonselection_glyph\":{\"id\":\"1330\",\"type\":\"Circle\"},\"selection_glyph\":null,\"view\":{\"id\":\"1327\",\"type\":\"CDSView\"}},\"id\":\"1331\",\"type\":\"GlyphRenderer\"},{\"attributes\":{},\"id\":\"1277\",\"type\":\"BasicTicker\"},{\"attributes\":{\"label\":{\"value\":\"2\"},\"renderers\":[{\"id\":\"1313\",\"type\":\"GlyphRenderer\"}]},\"id\":\"1333\",\"type\":\"LegendItem\"},{\"attributes\":{\"filters\":[{\"id\":\"1326\",\"type\":\"GroupFilter\"}],\"source\":{\"id\":\"1301\",\"type\":\"ColumnDataSource\"}},\"id\":\"1327\",\"type\":\"CDSView\"},{\"attributes\":{\"axis_label\":\"P-value (-log10 scale)\",\"formatter\":{\"id\":\"1343\",\"type\":\"BasicTickFormatter\"},\"ticker\":{\"id\":\"1282\",\"type\":\"BasicTicker\"}},\"id\":\"1281\",\"type\":\"LinearAxis\"},{\"attributes\":{\"fill_color\":{\"field\":\"_contig\",\"transform\":{\"id\":\"1265\",\"type\":\"CategoricalColorMapper\"}},\"line_color\":{\"field\":\"_contig\",\"transform\":{\"id\":\"1265\",\"type\":\"CategoricalColorMapper\"}},\"x\":{\"field\":\"_global_locus\"},\"y\":{\"field\":\"_pval\"}},\"id\":\"1317\",\"type\":\"Circle\"},{\"attributes\":{\"fill_alpha\":{\"value\":0.1},\"fill_color\":{\"value\":\"#1f77b4\"},\"line_alpha\":{\"value\":0.1},\"line_color\":{\"value\":\"#1f77b4\"},\"x\":{\"field\":\"_global_locus\"},\"y\":{\"field\":\"_pval\"}},\"id\":\"1330\",\"type\":\"Circle\"},{\"attributes\":{},\"id\":\"1290\",\"type\":\"ResetTool\"},{\"attributes\":{\"label\":{\"value\":\"5\"},\"renderers\":[{\"id\":\"1325\",\"type\":\"GlyphRenderer\"}]},\"id\":\"1335\",\"type\":\"LegendItem\"},{\"attributes\":{},\"id\":\"1348\",\"type\":\"Selection\"},{\"attributes\":{\"column_name\":\"_contig\",\"group\":\"7\"},\"id\":\"1326\",\"type\":\"GroupFilter\"},{\"attributes\":{},\"id\":\"1282\",\"type\":\"BasicTicker\"},{\"attributes\":{\"fill_alpha\":{\"value\":0.1},\"fill_color\":{\"value\":\"#1f77b4\"},\"line_alpha\":{\"value\":0.1},\"line_color\":{\"value\":\"#1f77b4\"},\"x\":{\"field\":\"_global_locus\"},\"y\":{\"field\":\"_pval\"}},\"id\":\"1318\",\"type\":\"Circle\"},{\"attributes\":{\"axis_label\":\"Chromosome\",\"formatter\":{\"id\":\"1346\",\"type\":\"BasicTickFormatter\"},\"major_label_overrides\":{\"1313226357\":\"7\",\"2358551414\":\"15\",\"370850306\":\"2\",\"786049561\":\"4\",\"972084329\":\"5\"},\"ticker\":{\"id\":\"1339\",\"type\":\"FixedTicker\"}},\"id\":\"1276\",\"type\":\"LinearAxis\"},{\"attributes\":{\"fill_alpha\":{\"value\":0.1},\"fill_color\":{\"value\":\"#1f77b4\"},\"line_alpha\":{\"value\":0.1},\"line_color\":{\"value\":\"#1f77b4\"},\"x\":{\"field\":\"_global_locus\"},\"y\":{\"field\":\"_pval\"}},\"id\":\"1306\",\"type\":\"Circle\"},{\"attributes\":{\"ticker\":{\"id\":\"1277\",\"type\":\"BasicTicker\"}},\"id\":\"1280\",\"type\":\"Grid\"},{\"attributes\":{\"label\":{\"value\":\"7\"},\"renderers\":[{\"id\":\"1331\",\"type\":\"GlyphRenderer\"}]},\"id\":\"1336\",\"type\":\"LegendItem\"},{\"attributes\":{},\"id\":\"1346\",\"type\":\"BasicTickFormatter\"},{\"attributes\":{\"label\":{\"value\":\"15\"},\"renderers\":[{\"id\":\"1307\",\"type\":\"GlyphRenderer\"}]},\"id\":\"1332\",\"type\":\"LegendItem\"}],\"root_ids\":[\"1266\"]},\"title\":\"Bokeh Application\",\"version\":\"1.2.0\"}};\n",
       "  var render_items = [{\"docid\":\"d7bc610b-eb7f-4ce0-aed9-a55088e5ac3a\",\"roots\":{\"1266\":\"775d0ad2-de0d-43ec-a8f1-3b7f0f42757c\"}}];\n",
       "  root.Bokeh.embed.embed_items_notebook(docs_json, render_items);\n",
       "\n",
       "  }\n",
       "  if (root.Bokeh !== undefined) {\n",
       "    embed_document(root);\n",
       "  } else {\n",
       "    var attempts = 0;\n",
       "    var timer = setInterval(function(root) {\n",
       "      if (root.Bokeh !== undefined) {\n",
       "        embed_document(root);\n",
       "        clearInterval(timer);\n",
       "      }\n",
       "      attempts++;\n",
       "      if (attempts > 100) {\n",
       "        console.log(\"Bokeh: ERROR: Unable to run BokehJS code because BokehJS library is missing\");\n",
       "        clearInterval(timer);\n",
       "      }\n",
       "    }, 10, root)\n",
       "  }\n",
       "})(window);"
      ],
      "application/vnd.bokehjs_exec.v0+json": ""
     },
     "metadata": {
      "application/vnd.bokehjs_exec.v0+json": {
       "id": "1266"
      }
     },
     "output_type": "display_data"
    }
   ],
   "source": [
    "import varspark.hail.plot as vshlplt\n",
    "p = vshlplt.manhattan_imp(gwas_with_imp.importance, hover_fields=dict(ri=gwas_with_imp.rsid))\n",
    "show(p)"
   ]
  }
 ],
 "metadata": {
  "kernelspec": {
   "display_name": "Python 3",
   "language": "python",
   "name": "python3"
  },
  "language_info": {
   "codemirror_mode": {
    "name": "ipython",
    "version": 3
   },
   "file_extension": ".py",
   "mimetype": "text/x-python",
   "name": "python",
   "nbconvert_exporter": "python",
   "pygments_lexer": "ipython3",
   "version": "3.6.0"
  }
 },
 "nbformat": 4,
 "nbformat_minor": 2
}
