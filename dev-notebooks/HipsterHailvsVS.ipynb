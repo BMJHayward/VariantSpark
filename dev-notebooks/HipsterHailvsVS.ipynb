{
 "cells": [
  {
   "cell_type": "markdown",
   "metadata": {},
   "source": [
    "VariantSpark integration with Hail 0.2\n",
    "==============================\n",
    "\n",
    "## Bootstrap\n",
    "\n",
    "This is needed to include variant-spark jar in the classpath. \n",
    "Can be simplified on terra."
   ]
  },
  {
   "cell_type": "code",
   "execution_count": 1,
   "metadata": {},
   "outputs": [],
   "source": [
    "from pyspark.sql import SparkSession\n",
    "\n",
    "spark = SparkSession.builder\\\n",
    "    .appName(\"HipsterIndex\") \\\n",
    "    .config(\"spark.driver.extraClassPath\", \"/Users/szu004/miniconda2/envs/hail/lib/python3.6/site-packages/hail/hail-all-spark.jar\")\\\n",
    "    .config(\"spark.jars\", \"/Users/szu004/miniconda2/envs/hail/lib/python3.6/site-packages/hail/hail-all-spark.jar,../target/variant-spark_2.11-0.3.0-SNAPSHOT-all.jar\")\\\n",
    "    .config(\"spark.serializer\", \"org.apache.spark.serializer.KryoSerializer\") \\\n",
    "    .config(\"spark.kryo.registrator\", \"is.hail.kryo.HailKryoRegistrator\") \\\n",
    "    .getOrCreate()"
   ]
  },
  {
   "cell_type": "code",
   "execution_count": 2,
   "metadata": {},
   "outputs": [
    {
     "name": "stderr",
     "output_type": "stream",
     "text": [
      "using hail jar at /Users/szu004/miniconda2/envs/hail/lib/python3.6/site-packages/hail/hail-all-spark.jar\n",
      "Running on Apache Spark version 2.4.1\n",
      "SparkUI available at http://140.253.176.47:4040\n",
      "Welcome to\n",
      "     __  __     <>__\n",
      "    / /_/ /__  __/ /\n",
      "   / __  / _ `/ / /\n",
      "  /_/ /_/\\_,_/_/_/   version 0.2.16-6da0d3571629\n",
      "LOGGING: writing to /Users/szu004/dev/variant-spark/dev-notebooks/hail-20190717-0948-0.2.16-6da0d3571629.log\n"
     ]
    }
   ],
   "source": [
    "import hail as hl\n",
    "hl.init(sc=spark.sparkContext)"
   ]
  },
  {
   "cell_type": "code",
   "execution_count": 3,
   "metadata": {},
   "outputs": [
    {
     "data": {
      "text/html": [
       "\n",
       "    <div class=\"bk-root\">\n",
       "        <a href=\"https://bokeh.pydata.org\" target=\"_blank\" class=\"bk-logo bk-logo-small bk-logo-notebook\"></a>\n",
       "        <span id=\"1001\">Loading BokehJS ...</span>\n",
       "    </div>"
      ]
     },
     "metadata": {},
     "output_type": "display_data"
    },
    {
     "data": {
      "application/javascript": [
       "\n",
       "(function(root) {\n",
       "  function now() {\n",
       "    return new Date();\n",
       "  }\n",
       "\n",
       "  var force = true;\n",
       "\n",
       "  if (typeof root._bokeh_onload_callbacks === \"undefined\" || force === true) {\n",
       "    root._bokeh_onload_callbacks = [];\n",
       "    root._bokeh_is_loading = undefined;\n",
       "  }\n",
       "\n",
       "  var JS_MIME_TYPE = 'application/javascript';\n",
       "  var HTML_MIME_TYPE = 'text/html';\n",
       "  var EXEC_MIME_TYPE = 'application/vnd.bokehjs_exec.v0+json';\n",
       "  var CLASS_NAME = 'output_bokeh rendered_html';\n",
       "\n",
       "  /**\n",
       "   * Render data to the DOM node\n",
       "   */\n",
       "  function render(props, node) {\n",
       "    var script = document.createElement(\"script\");\n",
       "    node.appendChild(script);\n",
       "  }\n",
       "\n",
       "  /**\n",
       "   * Handle when an output is cleared or removed\n",
       "   */\n",
       "  function handleClearOutput(event, handle) {\n",
       "    var cell = handle.cell;\n",
       "\n",
       "    var id = cell.output_area._bokeh_element_id;\n",
       "    var server_id = cell.output_area._bokeh_server_id;\n",
       "    // Clean up Bokeh references\n",
       "    if (id != null && id in Bokeh.index) {\n",
       "      Bokeh.index[id].model.document.clear();\n",
       "      delete Bokeh.index[id];\n",
       "    }\n",
       "\n",
       "    if (server_id !== undefined) {\n",
       "      // Clean up Bokeh references\n",
       "      var cmd = \"from bokeh.io.state import curstate; print(curstate().uuid_to_server['\" + server_id + \"'].get_sessions()[0].document.roots[0]._id)\";\n",
       "      cell.notebook.kernel.execute(cmd, {\n",
       "        iopub: {\n",
       "          output: function(msg) {\n",
       "            var id = msg.content.text.trim();\n",
       "            if (id in Bokeh.index) {\n",
       "              Bokeh.index[id].model.document.clear();\n",
       "              delete Bokeh.index[id];\n",
       "            }\n",
       "          }\n",
       "        }\n",
       "      });\n",
       "      // Destroy server and session\n",
       "      var cmd = \"import bokeh.io.notebook as ion; ion.destroy_server('\" + server_id + \"')\";\n",
       "      cell.notebook.kernel.execute(cmd);\n",
       "    }\n",
       "  }\n",
       "\n",
       "  /**\n",
       "   * Handle when a new output is added\n",
       "   */\n",
       "  function handleAddOutput(event, handle) {\n",
       "    var output_area = handle.output_area;\n",
       "    var output = handle.output;\n",
       "\n",
       "    // limit handleAddOutput to display_data with EXEC_MIME_TYPE content only\n",
       "    if ((output.output_type != \"display_data\") || (!output.data.hasOwnProperty(EXEC_MIME_TYPE))) {\n",
       "      return\n",
       "    }\n",
       "\n",
       "    var toinsert = output_area.element.find(\".\" + CLASS_NAME.split(' ')[0]);\n",
       "\n",
       "    if (output.metadata[EXEC_MIME_TYPE][\"id\"] !== undefined) {\n",
       "      toinsert[toinsert.length - 1].firstChild.textContent = output.data[JS_MIME_TYPE];\n",
       "      // store reference to embed id on output_area\n",
       "      output_area._bokeh_element_id = output.metadata[EXEC_MIME_TYPE][\"id\"];\n",
       "    }\n",
       "    if (output.metadata[EXEC_MIME_TYPE][\"server_id\"] !== undefined) {\n",
       "      var bk_div = document.createElement(\"div\");\n",
       "      bk_div.innerHTML = output.data[HTML_MIME_TYPE];\n",
       "      var script_attrs = bk_div.children[0].attributes;\n",
       "      for (var i = 0; i < script_attrs.length; i++) {\n",
       "        toinsert[toinsert.length - 1].firstChild.setAttribute(script_attrs[i].name, script_attrs[i].value);\n",
       "      }\n",
       "      // store reference to server id on output_area\n",
       "      output_area._bokeh_server_id = output.metadata[EXEC_MIME_TYPE][\"server_id\"];\n",
       "    }\n",
       "  }\n",
       "\n",
       "  function register_renderer(events, OutputArea) {\n",
       "\n",
       "    function append_mime(data, metadata, element) {\n",
       "      // create a DOM node to render to\n",
       "      var toinsert = this.create_output_subarea(\n",
       "        metadata,\n",
       "        CLASS_NAME,\n",
       "        EXEC_MIME_TYPE\n",
       "      );\n",
       "      this.keyboard_manager.register_events(toinsert);\n",
       "      // Render to node\n",
       "      var props = {data: data, metadata: metadata[EXEC_MIME_TYPE]};\n",
       "      render(props, toinsert[toinsert.length - 1]);\n",
       "      element.append(toinsert);\n",
       "      return toinsert\n",
       "    }\n",
       "\n",
       "    /* Handle when an output is cleared or removed */\n",
       "    events.on('clear_output.CodeCell', handleClearOutput);\n",
       "    events.on('delete.Cell', handleClearOutput);\n",
       "\n",
       "    /* Handle when a new output is added */\n",
       "    events.on('output_added.OutputArea', handleAddOutput);\n",
       "\n",
       "    /**\n",
       "     * Register the mime type and append_mime function with output_area\n",
       "     */\n",
       "    OutputArea.prototype.register_mime_type(EXEC_MIME_TYPE, append_mime, {\n",
       "      /* Is output safe? */\n",
       "      safe: true,\n",
       "      /* Index of renderer in `output_area.display_order` */\n",
       "      index: 0\n",
       "    });\n",
       "  }\n",
       "\n",
       "  // register the mime type if in Jupyter Notebook environment and previously unregistered\n",
       "  if (root.Jupyter !== undefined) {\n",
       "    var events = require('base/js/events');\n",
       "    var OutputArea = require('notebook/js/outputarea').OutputArea;\n",
       "\n",
       "    if (OutputArea.prototype.mime_types().indexOf(EXEC_MIME_TYPE) == -1) {\n",
       "      register_renderer(events, OutputArea);\n",
       "    }\n",
       "  }\n",
       "\n",
       "  \n",
       "  if (typeof (root._bokeh_timeout) === \"undefined\" || force === true) {\n",
       "    root._bokeh_timeout = Date.now() + 5000;\n",
       "    root._bokeh_failed_load = false;\n",
       "  }\n",
       "\n",
       "  var NB_LOAD_WARNING = {'data': {'text/html':\n",
       "     \"<div style='background-color: #fdd'>\\n\"+\n",
       "     \"<p>\\n\"+\n",
       "     \"BokehJS does not appear to have successfully loaded. If loading BokehJS from CDN, this \\n\"+\n",
       "     \"may be due to a slow or bad network connection. Possible fixes:\\n\"+\n",
       "     \"</p>\\n\"+\n",
       "     \"<ul>\\n\"+\n",
       "     \"<li>re-rerun `output_notebook()` to attempt to load from CDN again, or</li>\\n\"+\n",
       "     \"<li>use INLINE resources instead, as so:</li>\\n\"+\n",
       "     \"</ul>\\n\"+\n",
       "     \"<code>\\n\"+\n",
       "     \"from bokeh.resources import INLINE\\n\"+\n",
       "     \"output_notebook(resources=INLINE)\\n\"+\n",
       "     \"</code>\\n\"+\n",
       "     \"</div>\"}};\n",
       "\n",
       "  function display_loaded() {\n",
       "    var el = document.getElementById(\"1001\");\n",
       "    if (el != null) {\n",
       "      el.textContent = \"BokehJS is loading...\";\n",
       "    }\n",
       "    if (root.Bokeh !== undefined) {\n",
       "      if (el != null) {\n",
       "        el.textContent = \"BokehJS \" + root.Bokeh.version + \" successfully loaded.\";\n",
       "      }\n",
       "    } else if (Date.now() < root._bokeh_timeout) {\n",
       "      setTimeout(display_loaded, 100)\n",
       "    }\n",
       "  }\n",
       "\n",
       "\n",
       "  function run_callbacks() {\n",
       "    try {\n",
       "      root._bokeh_onload_callbacks.forEach(function(callback) {\n",
       "        if (callback != null)\n",
       "          callback();\n",
       "      });\n",
       "    } finally {\n",
       "      delete root._bokeh_onload_callbacks\n",
       "    }\n",
       "    console.debug(\"Bokeh: all callbacks have finished\");\n",
       "  }\n",
       "\n",
       "  function load_libs(css_urls, js_urls, callback) {\n",
       "    if (css_urls == null) css_urls = [];\n",
       "    if (js_urls == null) js_urls = [];\n",
       "\n",
       "    root._bokeh_onload_callbacks.push(callback);\n",
       "    if (root._bokeh_is_loading > 0) {\n",
       "      console.debug(\"Bokeh: BokehJS is being loaded, scheduling callback at\", now());\n",
       "      return null;\n",
       "    }\n",
       "    if (js_urls == null || js_urls.length === 0) {\n",
       "      run_callbacks();\n",
       "      return null;\n",
       "    }\n",
       "    console.debug(\"Bokeh: BokehJS not loaded, scheduling load and callback at\", now());\n",
       "    root._bokeh_is_loading = css_urls.length + js_urls.length;\n",
       "\n",
       "    function on_load() {\n",
       "      root._bokeh_is_loading--;\n",
       "      if (root._bokeh_is_loading === 0) {\n",
       "        console.debug(\"Bokeh: all BokehJS libraries/stylesheets loaded\");\n",
       "        run_callbacks()\n",
       "      }\n",
       "    }\n",
       "\n",
       "    function on_error() {\n",
       "      console.error(\"failed to load \" + url);\n",
       "    }\n",
       "\n",
       "    for (var i = 0; i < css_urls.length; i++) {\n",
       "      var url = css_urls[i];\n",
       "      const element = document.createElement(\"link\");\n",
       "      element.onload = on_load;\n",
       "      element.onerror = on_error;\n",
       "      element.rel = \"stylesheet\";\n",
       "      element.type = \"text/css\";\n",
       "      element.href = url;\n",
       "      console.debug(\"Bokeh: injecting link tag for BokehJS stylesheet: \", url);\n",
       "      document.body.appendChild(element);\n",
       "    }\n",
       "\n",
       "    for (var i = 0; i < js_urls.length; i++) {\n",
       "      var url = js_urls[i];\n",
       "      var element = document.createElement('script');\n",
       "      element.onload = on_load;\n",
       "      element.onerror = on_error;\n",
       "      element.async = false;\n",
       "      element.src = url;\n",
       "      console.debug(\"Bokeh: injecting script tag for BokehJS library: \", url);\n",
       "      document.head.appendChild(element);\n",
       "    }\n",
       "  };var element = document.getElementById(\"1001\");\n",
       "  if (element == null) {\n",
       "    console.error(\"Bokeh: ERROR: autoload.js configured with elementid '1001' but no matching script tag was found. \")\n",
       "    return false;\n",
       "  }\n",
       "\n",
       "  function inject_raw_css(css) {\n",
       "    const element = document.createElement(\"style\");\n",
       "    element.appendChild(document.createTextNode(css));\n",
       "    document.body.appendChild(element);\n",
       "  }\n",
       "\n",
       "  var js_urls = [\"https://cdn.pydata.org/bokeh/release/bokeh-1.2.0.min.js\", \"https://cdn.pydata.org/bokeh/release/bokeh-widgets-1.2.0.min.js\", \"https://cdn.pydata.org/bokeh/release/bokeh-tables-1.2.0.min.js\", \"https://cdn.pydata.org/bokeh/release/bokeh-gl-1.2.0.min.js\"];\n",
       "  var css_urls = [\"https://cdn.pydata.org/bokeh/release/bokeh-1.2.0.min.css\", \"https://cdn.pydata.org/bokeh/release/bokeh-widgets-1.2.0.min.css\", \"https://cdn.pydata.org/bokeh/release/bokeh-tables-1.2.0.min.css\"];\n",
       "\n",
       "  var inline_js = [\n",
       "    function(Bokeh) {\n",
       "      Bokeh.set_log_level(\"info\");\n",
       "    },\n",
       "    \n",
       "    function(Bokeh) {\n",
       "      \n",
       "    },\n",
       "    function(Bokeh) {} // ensure no trailing comma for IE\n",
       "  ];\n",
       "\n",
       "  function run_inline_js() {\n",
       "    \n",
       "    if ((root.Bokeh !== undefined) || (force === true)) {\n",
       "      for (var i = 0; i < inline_js.length; i++) {\n",
       "        inline_js[i].call(root, root.Bokeh);\n",
       "      }if (force === true) {\n",
       "        display_loaded();\n",
       "      }} else if (Date.now() < root._bokeh_timeout) {\n",
       "      setTimeout(run_inline_js, 100);\n",
       "    } else if (!root._bokeh_failed_load) {\n",
       "      console.log(\"Bokeh: BokehJS failed to load within specified timeout.\");\n",
       "      root._bokeh_failed_load = true;\n",
       "    } else if (force !== true) {\n",
       "      var cell = $(document.getElementById(\"1001\")).parents('.cell').data().cell;\n",
       "      cell.output_area.append_execute_result(NB_LOAD_WARNING)\n",
       "    }\n",
       "\n",
       "  }\n",
       "\n",
       "  if (root._bokeh_is_loading === 0) {\n",
       "    console.debug(\"Bokeh: BokehJS loaded, going straight to plotting\");\n",
       "    run_inline_js();\n",
       "  } else {\n",
       "    load_libs(css_urls, js_urls, function() {\n",
       "      console.debug(\"Bokeh: BokehJS plotting callback run at\", now());\n",
       "      run_inline_js();\n",
       "    });\n",
       "  }\n",
       "}(window));"
      ],
      "application/vnd.bokehjs_load.v0+json": "\n(function(root) {\n  function now() {\n    return new Date();\n  }\n\n  var force = true;\n\n  if (typeof root._bokeh_onload_callbacks === \"undefined\" || force === true) {\n    root._bokeh_onload_callbacks = [];\n    root._bokeh_is_loading = undefined;\n  }\n\n  \n\n  \n  if (typeof (root._bokeh_timeout) === \"undefined\" || force === true) {\n    root._bokeh_timeout = Date.now() + 5000;\n    root._bokeh_failed_load = false;\n  }\n\n  var NB_LOAD_WARNING = {'data': {'text/html':\n     \"<div style='background-color: #fdd'>\\n\"+\n     \"<p>\\n\"+\n     \"BokehJS does not appear to have successfully loaded. If loading BokehJS from CDN, this \\n\"+\n     \"may be due to a slow or bad network connection. Possible fixes:\\n\"+\n     \"</p>\\n\"+\n     \"<ul>\\n\"+\n     \"<li>re-rerun `output_notebook()` to attempt to load from CDN again, or</li>\\n\"+\n     \"<li>use INLINE resources instead, as so:</li>\\n\"+\n     \"</ul>\\n\"+\n     \"<code>\\n\"+\n     \"from bokeh.resources import INLINE\\n\"+\n     \"output_notebook(resources=INLINE)\\n\"+\n     \"</code>\\n\"+\n     \"</div>\"}};\n\n  function display_loaded() {\n    var el = document.getElementById(\"1001\");\n    if (el != null) {\n      el.textContent = \"BokehJS is loading...\";\n    }\n    if (root.Bokeh !== undefined) {\n      if (el != null) {\n        el.textContent = \"BokehJS \" + root.Bokeh.version + \" successfully loaded.\";\n      }\n    } else if (Date.now() < root._bokeh_timeout) {\n      setTimeout(display_loaded, 100)\n    }\n  }\n\n\n  function run_callbacks() {\n    try {\n      root._bokeh_onload_callbacks.forEach(function(callback) {\n        if (callback != null)\n          callback();\n      });\n    } finally {\n      delete root._bokeh_onload_callbacks\n    }\n    console.debug(\"Bokeh: all callbacks have finished\");\n  }\n\n  function load_libs(css_urls, js_urls, callback) {\n    if (css_urls == null) css_urls = [];\n    if (js_urls == null) js_urls = [];\n\n    root._bokeh_onload_callbacks.push(callback);\n    if (root._bokeh_is_loading > 0) {\n      console.debug(\"Bokeh: BokehJS is being loaded, scheduling callback at\", now());\n      return null;\n    }\n    if (js_urls == null || js_urls.length === 0) {\n      run_callbacks();\n      return null;\n    }\n    console.debug(\"Bokeh: BokehJS not loaded, scheduling load and callback at\", now());\n    root._bokeh_is_loading = css_urls.length + js_urls.length;\n\n    function on_load() {\n      root._bokeh_is_loading--;\n      if (root._bokeh_is_loading === 0) {\n        console.debug(\"Bokeh: all BokehJS libraries/stylesheets loaded\");\n        run_callbacks()\n      }\n    }\n\n    function on_error() {\n      console.error(\"failed to load \" + url);\n    }\n\n    for (var i = 0; i < css_urls.length; i++) {\n      var url = css_urls[i];\n      const element = document.createElement(\"link\");\n      element.onload = on_load;\n      element.onerror = on_error;\n      element.rel = \"stylesheet\";\n      element.type = \"text/css\";\n      element.href = url;\n      console.debug(\"Bokeh: injecting link tag for BokehJS stylesheet: \", url);\n      document.body.appendChild(element);\n    }\n\n    for (var i = 0; i < js_urls.length; i++) {\n      var url = js_urls[i];\n      var element = document.createElement('script');\n      element.onload = on_load;\n      element.onerror = on_error;\n      element.async = false;\n      element.src = url;\n      console.debug(\"Bokeh: injecting script tag for BokehJS library: \", url);\n      document.head.appendChild(element);\n    }\n  };var element = document.getElementById(\"1001\");\n  if (element == null) {\n    console.error(\"Bokeh: ERROR: autoload.js configured with elementid '1001' but no matching script tag was found. \")\n    return false;\n  }\n\n  function inject_raw_css(css) {\n    const element = document.createElement(\"style\");\n    element.appendChild(document.createTextNode(css));\n    document.body.appendChild(element);\n  }\n\n  var js_urls = [\"https://cdn.pydata.org/bokeh/release/bokeh-1.2.0.min.js\", \"https://cdn.pydata.org/bokeh/release/bokeh-widgets-1.2.0.min.js\", \"https://cdn.pydata.org/bokeh/release/bokeh-tables-1.2.0.min.js\", \"https://cdn.pydata.org/bokeh/release/bokeh-gl-1.2.0.min.js\"];\n  var css_urls = [\"https://cdn.pydata.org/bokeh/release/bokeh-1.2.0.min.css\", \"https://cdn.pydata.org/bokeh/release/bokeh-widgets-1.2.0.min.css\", \"https://cdn.pydata.org/bokeh/release/bokeh-tables-1.2.0.min.css\"];\n\n  var inline_js = [\n    function(Bokeh) {\n      Bokeh.set_log_level(\"info\");\n    },\n    \n    function(Bokeh) {\n      \n    },\n    function(Bokeh) {} // ensure no trailing comma for IE\n  ];\n\n  function run_inline_js() {\n    \n    if ((root.Bokeh !== undefined) || (force === true)) {\n      for (var i = 0; i < inline_js.length; i++) {\n        inline_js[i].call(root, root.Bokeh);\n      }if (force === true) {\n        display_loaded();\n      }} else if (Date.now() < root._bokeh_timeout) {\n      setTimeout(run_inline_js, 100);\n    } else if (!root._bokeh_failed_load) {\n      console.log(\"Bokeh: BokehJS failed to load within specified timeout.\");\n      root._bokeh_failed_load = true;\n    } else if (force !== true) {\n      var cell = $(document.getElementById(\"1001\")).parents('.cell').data().cell;\n      cell.output_area.append_execute_result(NB_LOAD_WARNING)\n    }\n\n  }\n\n  if (root._bokeh_is_loading === 0) {\n    console.debug(\"Bokeh: BokehJS loaded, going straight to plotting\");\n    run_inline_js();\n  } else {\n    load_libs(css_urls, js_urls, function() {\n      console.debug(\"Bokeh: BokehJS plotting callback run at\", now());\n      run_inline_js();\n    });\n  }\n}(window));"
     },
     "metadata": {},
     "output_type": "display_data"
    }
   ],
   "source": [
    "from hail.plot import show\n",
    "from pprint import pprint\n",
    "hl.plot.output_notebook()"
   ]
  },
  {
   "cell_type": "markdown",
   "metadata": {},
   "source": [
    "# Load and explore hipster data"
   ]
  },
  {
   "cell_type": "code",
   "execution_count": 4,
   "metadata": {},
   "outputs": [],
   "source": [
    "data = hl.import_vcf('../data/hipsterIndex/hipster.vcf.bgz')"
   ]
  },
  {
   "cell_type": "code",
   "execution_count": 5,
   "metadata": {},
   "outputs": [
    {
     "name": "stderr",
     "output_type": "stream",
     "text": [
      "2019-07-17 09:48:44 Hail: INFO: Reading table with no type imputation\n",
      "  Loading column 'samples' as type 'str' (type not specified)\n",
      "  Loading column 'score' as type 'float64' (user-specified)\n",
      "  Loading column 'label' as type 'float64' (user-specified)\n",
      "\n"
     ]
    }
   ],
   "source": [
    "labels = hl.import_table('../data/hipsterIndex/hipster_labels.txt', delimiter=',', \n",
    "                types=dict(label='float64', score='float64')).key_by('samples')"
   ]
  },
  {
   "cell_type": "code",
   "execution_count": 6,
   "metadata": {},
   "outputs": [
    {
     "name": "stdout",
     "output_type": "stream",
     "text": [
      "----------------------------------------\n",
      "Global fields:\n",
      "    None\n",
      "----------------------------------------\n",
      "Column fields:\n",
      "    's': str\n",
      "    'hipster': struct {\n",
      "        score: float64, \n",
      "        label: float64\n",
      "    }\n",
      "----------------------------------------\n",
      "Row fields:\n",
      "    'locus': locus<GRCh37>\n",
      "    'alleles': array<str>\n",
      "    'rsid': str\n",
      "    'qual': float64\n",
      "    'filters': set<str>\n",
      "    'info': struct {\n",
      "        AA: str, \n",
      "        AC: array<int32>, \n",
      "        AF: array<float64>, \n",
      "        AFR_AF: array<float64>, \n",
      "        AMR_AF: array<float64>, \n",
      "        AN: int32, \n",
      "        CIEND: array<int32>, \n",
      "        CIPOS: array<int32>, \n",
      "        CS: str, \n",
      "        DP: int32, \n",
      "        EAS_AF: array<float64>, \n",
      "        END: int32, \n",
      "        EUR_AF: array<float64>, \n",
      "        EX_TARGET: bool, \n",
      "        IMPRECISE: bool, \n",
      "        MC: array<str>, \n",
      "        MEINFO: array<str>, \n",
      "        MEND: int32, \n",
      "        MLEN: int32, \n",
      "        MSTART: int32, \n",
      "        MULTI_ALLELIC: bool, \n",
      "        NS: int32, \n",
      "        SAS_AF: array<float64>, \n",
      "        SVLEN: array<int32>, \n",
      "        SVTYPE: str, \n",
      "        TSD: str, \n",
      "        VT: array<str>\n",
      "    }\n",
      "----------------------------------------\n",
      "Entry fields:\n",
      "    'GT': call\n",
      "----------------------------------------\n",
      "Column key: ['s']\n",
      "Row key: ['locus', 'alleles']\n",
      "----------------------------------------\n"
     ]
    }
   ],
   "source": [
    "mt = data.annotate_cols(hipster = labels[data.s])\n",
    "mt.describe()"
   ]
  },
  {
   "cell_type": "code",
   "execution_count": 7,
   "metadata": {},
   "outputs": [
    {
     "name": "stderr",
     "output_type": "stream",
     "text": [
      "2019-07-17 09:48:46 Hail: INFO: Coerced almost-sorted dataset\n"
     ]
    },
    {
     "data": {
      "text/plain": [
       "(17010, 2504)"
      ]
     },
     "execution_count": 7,
     "metadata": {},
     "output_type": "execute_result"
    }
   ],
   "source": [
    "mt.count()"
   ]
  },
  {
   "cell_type": "markdown",
   "metadata": {},
   "source": [
    "## Run log regression using Hail"
   ]
  },
  {
   "cell_type": "code",
   "execution_count": 8,
   "metadata": {},
   "outputs": [
    {
     "name": "stderr",
     "output_type": "stream",
     "text": [
      "2019-07-17 09:48:49 Hail: INFO: logistic_regression_rows: running score on 2504 samples for response variable y,\n",
      "    with input variable x, and 1 additional covariate...\n"
     ]
    }
   ],
   "source": [
    "gwas = hl.logistic_regression_rows(test='score',\n",
    "                                y=mt.hipster.label,\n",
    "                                 x=mt.GT.n_alt_alleles(),\n",
    "                                 covariates=[1.0],\n",
    "                                 pass_through=[mt.rsid])"
   ]
  },
  {
   "cell_type": "code",
   "execution_count": 9,
   "metadata": {},
   "outputs": [
    {
     "data": {
      "text/html": [
       "<table><thead style=\"font-weight: bold;\"><tr><td>locus</td><td>alleles</td><td>rsid</td><td>chi_sq_stat</td><td>p_value</td></tr>\n",
       "<tr><td>locus&lt;GRCh37&gt;</td><td>array&lt;str&gt;</td><td>str</td><td>float64</td><td>float64</td></tr>\n",
       "</thead><tbody><tr><td>2:109511398</td><td>[&quot;G&quot;,&quot;A&quot;]</td><td>&quot;rs150055772&quot;</td><td>1.97e-01</td><td>6.57e-01</td></tr>\n",
       "<tr><td>2:109511454</td><td>[&quot;C&quot;,&quot;A&quot;]</td><td>&quot;rs558429529&quot;</td><td>1.55e+00</td><td>2.13e-01</td></tr>\n",
       "<tr><td>2:109511463</td><td>[&quot;G&quot;,&quot;A&quot;]</td><td>&quot;rs200762071&quot;</td><td>3.65e+00</td><td>5.60e-02</td></tr>\n",
       "</tbody></table><p>showing top 3 rows</p>\n"
      ],
      "text/plain": [
       "+---------------+------------+---------------+-------------+----------+\n",
       "| locus         | alleles    | rsid          | chi_sq_stat |  p_value |\n",
       "+---------------+------------+---------------+-------------+----------+\n",
       "| locus<GRCh37> | array<str> | str           |     float64 |  float64 |\n",
       "+---------------+------------+---------------+-------------+----------+\n",
       "| 2:109511398   | [\"G\",\"A\"]  | \"rs150055772\" |    1.97e-01 | 6.57e-01 |\n",
       "| 2:109511454   | [\"C\",\"A\"]  | \"rs558429529\" |    1.55e+00 | 2.13e-01 |\n",
       "| 2:109511463   | [\"G\",\"A\"]  | \"rs200762071\" |    3.65e+00 | 5.60e-02 |\n",
       "+---------------+------------+---------------+-------------+----------+\n",
       "showing top 3 rows"
      ]
     },
     "metadata": {},
     "output_type": "display_data"
    }
   ],
   "source": [
    "gwas.show(3)"
   ]
  },
  {
   "cell_type": "code",
   "execution_count": 10,
   "metadata": {},
   "outputs": [
    {
     "data": {
      "text/html": [
       "\n",
       "\n",
       "\n",
       "\n",
       "\n",
       "\n",
       "  <div class=\"bk-root\" id=\"dfa6ee4e-7b75-49e7-a49e-f9bb75a02be8\" data-root-id=\"1003\"></div>\n"
      ]
     },
     "metadata": {},
     "output_type": "display_data"
    },
    {
     "data": {
      "application/javascript": [
       "(function(root) {\n",
       "  function embed_document(root) {\n",
       "    \n",
       "  var docs_json = {\"7d9c4fba-22e3-4b49-84e0-a2735ebd015d\":{\"roots\":{\"references\":[{\"attributes\":{\"below\":[{\"id\":\"1013\",\"type\":\"LinearAxis\"}],\"center\":[{\"id\":\"1017\",\"type\":\"Grid\"},{\"id\":\"1022\",\"type\":\"Grid\"}],\"left\":[{\"id\":\"1018\",\"type\":\"LinearAxis\"},{\"id\":\"1074\",\"type\":\"Legend\"},{\"id\":\"1075\",\"type\":\"ColorBar\"}],\"plot_width\":1000,\"renderers\":[{\"id\":\"1044\",\"type\":\"GlyphRenderer\"},{\"id\":\"1050\",\"type\":\"GlyphRenderer\"},{\"id\":\"1056\",\"type\":\"GlyphRenderer\"},{\"id\":\"1062\",\"type\":\"GlyphRenderer\"},{\"id\":\"1068\",\"type\":\"GlyphRenderer\"},{\"id\":\"1096\",\"type\":\"Span\"}],\"title\":null,\"toolbar\":{\"id\":\"1029\",\"type\":\"Toolbar\"},\"x_range\":{\"id\":\"1005\",\"type\":\"DataRange1d\"},\"x_scale\":{\"id\":\"1009\",\"type\":\"LinearScale\"},\"y_range\":{\"id\":\"1007\",\"type\":\"DataRange1d\"},\"y_scale\":{\"id\":\"1011\",\"type\":\"LinearScale\"}},\"id\":\"1003\",\"subtype\":\"Figure\",\"type\":\"Plot\"},{\"attributes\":{},\"id\":\"1011\",\"type\":\"LinearScale\"},{\"attributes\":{},\"id\":\"1081\",\"type\":\"BasicTickFormatter\"},{\"attributes\":{},\"id\":\"1024\",\"type\":\"WheelZoomTool\"},{\"attributes\":{\"dimension\":1,\"ticker\":{\"id\":\"1019\",\"type\":\"BasicTicker\"}},\"id\":\"1022\",\"type\":\"Grid\"},{\"attributes\":{\"line_color\":{\"value\":\"red\"},\"line_dash\":[6],\"line_width\":{\"value\":1.5},\"location\":7.301029995663981},\"id\":\"1096\",\"type\":\"Span\"},{\"attributes\":{\"column_name\":\"_contig\",\"group\":\"5\"},\"id\":\"1057\",\"type\":\"GroupFilter\"},{\"attributes\":{\"data_source\":{\"id\":\"1038\",\"type\":\"ColumnDataSource\"},\"glyph\":{\"id\":\"1066\",\"type\":\"Circle\"},\"hover_glyph\":null,\"muted_glyph\":null,\"nonselection_glyph\":{\"id\":\"1067\",\"type\":\"Circle\"},\"selection_glyph\":null,\"view\":{\"id\":\"1064\",\"type\":\"CDSView\"}},\"id\":\"1068\",\"type\":\"GlyphRenderer\"},{\"attributes\":{},\"id\":\"1083\",\"type\":\"BasicTickFormatter\"},{\"attributes\":{\"fill_alpha\":{\"value\":0.1},\"fill_color\":{\"value\":\"#1f77b4\"},\"line_alpha\":{\"value\":0.1},\"line_color\":{\"value\":\"#1f77b4\"},\"x\":{\"field\":\"_global_locus\"},\"y\":{\"field\":\"_pval\"}},\"id\":\"1043\",\"type\":\"Circle\"},{\"attributes\":{},\"id\":\"1028\",\"type\":\"HelpTool\"},{\"attributes\":{\"callback\":null,\"tooltips\":[[\"locus\",\"@locus\"],[\"rs\",\"@rs\"],[\"p_value\",\"@p_value\"]]},\"id\":\"1037\",\"type\":\"HoverTool\"},{\"attributes\":{\"filters\":[{\"id\":\"1057\",\"type\":\"GroupFilter\"}],\"source\":{\"id\":\"1038\",\"type\":\"ColumnDataSource\"}},\"id\":\"1058\",\"type\":\"CDSView\"},{\"attributes\":{\"label\":{\"value\":\"2\"},\"renderers\":[{\"id\":\"1050\",\"type\":\"GlyphRenderer\"}]},\"id\":\"1070\",\"type\":\"LegendItem\"},{\"attributes\":{\"fill_alpha\":{\"value\":0.1},\"fill_color\":{\"value\":\"#1f77b4\"},\"line_alpha\":{\"value\":0.1},\"line_color\":{\"value\":\"#1f77b4\"},\"x\":{\"field\":\"_global_locus\"},\"y\":{\"field\":\"_pval\"}},\"id\":\"1067\",\"type\":\"Circle\"},{\"attributes\":{\"column_name\":\"_contig\",\"group\":\"15\"},\"id\":\"1039\",\"type\":\"GroupFilter\"},{\"attributes\":{\"fill_color\":{\"field\":\"_contig\",\"transform\":{\"id\":\"1002\",\"type\":\"CategoricalColorMapper\"}},\"line_color\":{\"field\":\"_contig\",\"transform\":{\"id\":\"1002\",\"type\":\"CategoricalColorMapper\"}},\"x\":{\"field\":\"_global_locus\"},\"y\":{\"field\":\"_pval\"}},\"id\":\"1042\",\"type\":\"Circle\"},{\"attributes\":{\"callback\":null,\"data\":{\"_contig\":[\"5\",\"15\",\"15\",\"5\",\"5\",\"5\",\"15\",\"5\",\"5\",\"5\",\"15\",\"5\",\"7\",\"5\",\"15\",\"5\",\"5\",\"2\",\"2\",\"5\",\"5\",\"5\",\"15\",\"4\",\"2\",\"5\",\"5\",\"5\",\"5\",\"7\",\"5\",\"15\",\"5\",\"2\",\"15\",\"5\",\"15\",\"5\",\"5\",\"5\",\"15\",\"15\",\"7\",\"2\",\"2\",\"5\",\"5\",\"2\",\"5\",\"4\",\"7\",\"5\",\"2\",\"2\",\"5\",\"5\",\"5\",\"5\",\"7\",\"2\",\"2\",\"15\",\"5\",\"5\",\"5\",\"15\",\"4\",\"5\",\"4\",\"7\",\"5\",\"5\",\"15\",\"5\",\"5\",\"2\",\"7\",\"4\",\"5\",\"5\",\"2\",\"2\",\"5\",\"7\",\"5\",\"5\",\"2\",\"5\",\"5\",\"7\",\"5\",\"5\",\"5\",\"15\",\"15\",\"4\",\"2\",\"7\",\"2\",\"4\",\"5\",\"5\",\"5\",\"5\",\"5\",\"2\",\"2\",\"7\",\"5\",\"5\",\"7\",\"5\",\"2\",\"2\",\"5\",\"5\",\"15\",\"5\",\"15\",\"5\",\"15\",\"5\",\"15\",\"7\",\"5\",\"15\",\"15\",\"5\",\"5\",\"5\",\"2\",\"7\",\"5\",\"2\",\"15\",\"7\",\"15\",\"5\",\"5\",\"15\",\"5\",\"5\",\"5\",\"7\",\"5\",\"5\",\"7\",\"5\",\"5\",\"7\",\"5\",\"2\",\"2\",\"5\",\"5\",\"15\",\"2\",\"5\",\"15\",\"5\",\"15\",\"4\",\"4\",\"15\",\"5\",\"5\",\"5\",\"5\",\"5\",\"2\",\"15\",\"4\",\"15\",\"5\",\"15\",\"7\",\"15\",\"2\",\"15\",\"2\",\"5\",\"5\",\"5\",\"5\",\"5\",\"2\",\"5\",\"5\",\"5\",\"7\",\"5\",\"5\",\"5\",\"15\",\"2\",\"2\",\"7\",\"2\",\"5\",\"5\",\"2\",\"15\",\"2\",\"5\",\"5\",\"4\",\"5\",\"5\",\"7\",\"5\",\"5\",\"5\",\"4\",\"4\",\"5\",\"5\",\"4\",\"5\",\"7\",\"5\",\"5\",\"2\",\"5\",\"7\",\"15\",\"5\",\"5\",\"15\",\"5\",\"15\",\"5\",\"7\",\"5\",\"5\",\"15\",\"2\",\"4\",\"4\",\"5\",\"5\",\"15\",\"7\",\"4\",\"2\",\"7\",\"5\",\"5\",\"7\",\"5\",\"5\",\"5\",\"5\",\"5\",\"5\",\"15\",\"5\",\"5\",\"15\",\"5\",\"5\",\"5\",\"5\",\"5\",\"15\",\"15\",\"5\",\"5\",\"5\",\"15\",\"5\",\"5\",\"5\",\"7\",\"5\",\"2\",\"5\",\"5\",\"5\",\"2\",\"5\",\"5\",\"5\",\"5\",\"7\",\"5\",\"15\",\"2\",\"5\",\"7\",\"5\"],\"_global_locus\":{\"__ndarray__\":\"AACAhM8MzkEAAGBPcq/hQQAAoCNsr+FBAAAAm8wMzkEAAAC/Wg3OQQAAgO6BDM5BAABg8Vmv4UEAAADmlAzOQQAAgNabDc5BAAAACoIMzkEAAMAP57/hQQAAAO7eDM5BAADAqvWj0kEAAACCdgzOQQAAAA3ov+FBAACApl8MzkEAAIDDlg3OQQAAAAJWYrVBAAAAN1NitUEAAADGWQ3OQQAAAOqGDM5BAACALoMNzkEAAEAaUK/hQQAAABzJM8ZBAAAAJVRitUEAAIAdUQ3OQQAAgI50Dc5BAACAv50MzkEAAAB/bwzOQQAAAM34o9JBAACAx5YMzkEAAEBK57/hQQAAANBcDM5BAAAAKEpitUEAAKDO57/hQQAAACJ1DM5BAADgQIWv4UEAAABnAQ3OQQAAgCmtDc5BAACAyXoNzkEAAGBJcq/hQQAAQJ4zr+FBAABAut4U1EEAAACoeia8QQAAAOp5JrxBAACAIpQMzkEAAACO1wzOQQAAADyCJrxBAACA9d4MzkEAAIBMyjPGQQAAAMDcFNRBAACAbKEMzkEAAACRR2K1QQAAAGCAJrxBAACAZWMMzkEAAIAcpg3OQQAAgGO7DM5BAACAvmEMzkEAAMD296PSQQAAAB5+JrxBAAAAtVBitUEAAMArr6/hQQAAADjhDM5BAAAA3QoNzkEAAACykg3OQQAAYDfmv+FBAAAAhMszxkEAAAA56AzOQQAAgKjLM8ZBAABAIvij0kEAAAAZdgzOQQAAgHmsDc5BAABACU+v4UEAAICeyQzOQQAAgJByDM5BAAAAXH4mvEEAAMAP96PSQQAAgIDFM8ZBAACAB5sMzkEAAIC4jwzOQQAAABxSYrVBAAAAhFBitUEAAADZpQzOQQAAgPTeFNRBAACAbdUMzkEAAADrrgzOQQAAAG5+JrxBAACAVyoNzkEAAIAEHQ3OQQAAQF/1o9JBAAAAN18MzkEAAIDjQw3OQQAAgJolDc5BAACgk06v4UEAAOBjZa/hQQAAAKnLM8ZBAAAAzoAmvEEAAMCo9qPSQQAAAHlIYrVBAAAAQcszxkEAAIAbqg3OQQAAgFDoDM5BAACACMwMzkEAAACQSg3OQQAAAKGeDc5BAAAAJ4YmvEEAAACehia8QQAAwNj4o9JBAAAAcaINzkEAAAA1dQzOQQAAwOTaFNRBAAAAeZEMzkEAAAC9TmK1QQAAAO2CJrxBAAAACdQMzkEAAIA3ZQzOQQAAgA9Xr+FBAAAAbdgMzkEAAABc57/hQQAAgBaiDM5BAADg9X+v4UEAAICelQzOQQAAwPqWr+FBAADALfaj0kEAAIDVIA3OQQAAIE+Zr+FBAACAzGyv4UEAAIDIjwzOQQAAgMe8DM5BAAAA4IwNzkEAAACsfia8QQAAwGneFNRBAAAA0nANzkEAAADCgCa8QQAAAECkr+FBAACA/vSj0kEAAMB0Tq/hQQAAgBiYDM5BAAAAIY8MzkEAACBz5r/hQQAAAK0JDc5BAACAv4gNzkEAAIDxfwzOQQAAgIXeFNRBAACAtagNzkEAAAB4dQzOQQAAQOv3o9JBAACAyLYMzkEAAAC0VA3OQQAAQKH1o9JBAAAA/lkNzkEAAAB3TmK1QQAAAGCFJrxBAAAAS20MzkEAAAC1rAzOQQAA4KK2r+FBAAAAV3UmvEEAAADyrwzOQQAAgBjov+FBAAAA/G0MzkEAAMCCMq/hQQAAAO7KM8ZBAAAAI8czxkEAAEAj5r/hQQAAAAWtDc5BAAAAhyANzkEAAIAYMQ3OQQAAgJSsDc5BAAAACoAMzkEAAAC5dSa8QQAAoBHnv+FBAAAAU8MzxkEAAICWaK/hQQAAALCnDM5BAACgnluv4UEAAMAe3BTUQQAAIPHnv+FBAAAAfIYmvEEAAGAqNK/hQQAAAOhJYrVBAAAANoAMzkEAAICjWwzOQQAAAIyeDM5BAAAAaIYMzkEAAIALbAzOQQAAAPJOYrVBAAAA6IQNzkEAAACfqA3OQQAAgJCWDc5BAABAxPaj0kEAAIATagzOQQAAgBqCDM5BAACAFq0MzkEAAAARVa/hQQAAAIOEJrxBAAAA9HcmvEEAAIDk3RTUQQAAAJyGJrxBAACA2sMMzkEAAADa6AzOQQAAAKh/JrxBAAAA7Kqv4UEAAAAuVmK1QQAAgGB3DM5BAAAAhSANzkEAAIDxyjPGQQAAgAN7Dc5BAACAp6AMzkEAAMCZ+KPSQQAAAGw4Dc5BAACAi68MzkEAAAChqw3OQQAAgH/EM8ZBAACAnsMzxkEAAIBXLg3OQQAAAO2gDM5BAAAA3ckzxkEAAAC6qA3OQQAAgM/0o9JBAAAAdZMMzkEAAADKfg3OQQAAALZ9JrxBAACAGhoNzkEAAIC9+KPSQQAAYFVHr+FBAACAZ+cMzkEAAIDsgQzOQQAAYH7nv+FBAAAAdswMzkEAAGBzM6/hQQAAAIC6DM5BAACAqtwU1EEAAAD2ZgzOQQAAgLHLDM5BAACAAZev4UEAAAC5fCa8QQAAgNjLM8ZBAACAK8kzxkEAAACNqw3OQQAAgEzUDM5BAACAAEuv4UEAAAAZ+KPSQQAAAIjHM8ZBAAAAh4ImvEEAAAAj3RTUQQAAgDfSDM5BAAAAhpgMzkEAAAAY9aPSQQAAgCSSDM5BAAAAIykNzkEAAAATZQzOQQAAgP2jDc5BAACAyIoMzkEAAABvbgzOQQAAwNbnv+FBAACAU6oNzkEAAIArwQzOQQAAgOZOr+FBAAAAY+EMzkEAAADP6gzOQQAAALPnDM5BAACASDENzkEAAIBckgzOQQAAAIVer+FBAAAgt7Cv4UEAAAAcqg3OQQAAACeiDc5BAAAAAckMzkEAAACtoK/hQQAAgC2kDc5BAACAH5cMzkEAAABuxAzOQQAAAGX3o9JBAACArKENzkEAAABweya8QQAAgOVbDc5BAACAq1oMzkEAAIAFHg3OQQAAAGtWYrVBAACAFaEMzkEAAADXagzOQQAAAP50DM5BAACAGGsMzkEAAADF3hTUQQAAANdbDc5BAACgzee/4UEAAAAbgya8QQAAgPGYDM5BAABAo/Sj0kEAAAColQzOQQ==\",\"dtype\":\"float64\",\"shape\":[290]},\"_pval\":{\"__ndarray__\":\"6AK7EV+aSEChbRuSzi0CQI29f8zDHxZA0/9IjDwGSkAg3FGAsBD0P+q3F/5YzRRACS0lVl1Z9D+W/pTSxIIjQOgJ6mBRmhhAswJYdsmpREBFHLc0sQwWQNwG8yZn9UJA4x8tJCzV9j9fVHntojZKQH+dIVrt2eg/+yIzPyptVUA/Qni4pZcMQNP7NYBVg+U/N2BjwGBEoj9e3vs/oUsAQJ7b1ygu/1NAN0PO0oBcMUCQW2zTE/sDQIvcRqqyexNAKqyJVGdkE0Dp93NyKQQ4QN96Sg1fzzVApyAUwWmPSkA4gThUx1NXQKiGqjwHSwJAQz8BDeU8S0AtaRdiGOEAQAEwVuldeGJAYWTYh7AABUB9NWu17VEAQM9w3SjVK1ZAYJyDRfMjIkAoN9kGzhA1QEGyIi/wdRRAQPF2RKttQUCGNPd+4NgaQKCf9cAYah9AtWCa1H678T/4bBNobbchQGEHBFzU9CJAhAN7PgN8WEC4KmekYxpPQOptXnDLM/Q/2bwqy7v9Q0C1YJrUfrvxP5JC1NWFPv4/GD7f6MXCUUBpJhCBtQMSQPRznFh2R0dATu/9uSyNYkB/n3Ks/5c0QMW56lPLQSZABTRIqGteW0Bjv9hTgPPaP/YYt0ZnsV1An4ARyUQ+BEAwm1SfImMHQAZ9EDR3UU5AWkoE97RGPkC1QqohbSASQNufeQI0eAlA0kO/qTkb6j/YCmTVeplDQKywHAOsixFA3Ku+wkWQEkAWL5YkxY5WQMLd47uE5N4/tfrcXL2SGUCL04a40XFFQOdJ51/nbiFA6M5ueqi2+z+JWn5RjywyQLnvjssnozRAzzFJM/3QSkColJPdPXZQQHeBNagTM/4/BKL6CzRD8D9AQCTUkflSQNP7NYBVg+U/uj3TIYRFI0CXVdWzSKhSQHmawpx+0hFA3KWpvGCwN0B5IzT/UNY4QFyteZvMuQJAF06e7F7HYkBkDXuO7SE2QIuv4t9MxhdACrglZVeGAEBi7X68dM3wP2PWN/Yt7eI/39sgpo6UDEA/UVTvWMdJQB1BGmQSy/Y/IKB6roCQMEB4lj9+j589QIY9Qs5sqB5AZ/1PHSLYIkBlavjuBf8AQOP7OHe3CgNAY9Y39i3t4j/T+zWAVYPlPxud6Da1+Nc/wqo/7DTYBkARKXcedZZJQE82JYDJ+wdALED2/EESLUCnQpJDQJwPQA0a4hXzGUJA07MjMuoSP0CMBvi3qJxiQLfQfz7GlhFAvYL0fUujG0AWn27YuCgcQL8bHcqlFldAHUEaZBLL9j86mZaW+u9XQMVb+uegPgxA0ndSTT2sCkCqL1lIrIZGQJ/b6X4MUBNAA4Q0PcuxF0ByHO1xKfdHQD8ZZRHPaSRACH4uOUbXQ0C8YkQPUz7/P8Ld47uE5N4/bu341F2wMUBhMKfcnSQtQGgse+bQFug/cS1Sbz4WG0AwGRrZE+cTQERZKYzCVEtA4Dmc0FbnS0A4DXD4OaMHQGPhLUDvGydAs6oAxKBTQUCE8TrE1s8vQILO4c9RLgRA6/NLjWvtCEC4utMODM8hQAjTHYEQhTBAnNc+n3XZJEBJ1IMv3S34P77+BHhKfARAkiZ1dyf8BUA2415zqRDzP14/DL5PaERA0iphpVszV0BMwPTef8tEQN1CUDeeDRJAbmF7RCRJEUCIfRFCbOxCQNwBuljXSQRAVZ8Vupk9TUDF3ygC4vkeQL0MHdgN2AZAeLCkiZVJEkDAYmhiOMweQElr9GtPt/E/mxaZ/Ei2PED76p2SDm8fQP1Jhl3kwhVAxtH5e/YaTEAah4a1NcsQQHIbkVI0jNA/HG8DL6ktNUAU92+p0ZIYQGPJa9aVC1dAz3livUeOC0AzHQlNEKkEQLVgmtR+u/E/G53oNrX41z8HfdkcTIUcQMh3v1g69AlA9f00NtUQSEAXrg3R2NxiQHnxmkxVt0tA5vozazm0WEDiv3YdY0QqQEeJHkFlmwpAtRfEDHYzGkCPmavigFM9QAinOM45NA9AfW8uLIHeE0Bn3pRtkGhLQE2K2kT01UhA9ZfNwLmMFkAMCwBXWdwWQL4ptEULTPA/c0vXoc12HkC949U8rvQXQEogONEicgFAl5QD9Cb0UEAl33OD0S1OQFvRI6fyahRAdPid7LRlEED9g4OnutLhP3z5JSrwlk9ACsB3gv/iOUC6G94d9lP4P2711ZgVpDVAZR7+4tlcVUCoNseLwj3yP8JBqejkVUNAiMbQeHyWREAKoZLY6zP8P8GFfRq7cv8/Ptq5yhbKA0BhJ0e1AgkbQOs8VgP6i0JAw/ZQh9wuEEAitPznoKkyQDzivm/NIQhA1O8nACVCTEAfMtKptYZBQLEsrNye2kJAnYFDuiLSMkDT+zWAVYPlP4PnyJo2LA5ASfAmHuwbHUDlFNSEYpJMQGO/2FOA89o/I+jDE8YJRUCsnYvzgyIcQFg9BsVOs1JAqvdGWD/L/D/zYogFZrJXQJDldtsHxkNAXMfsDYHAzz/lRcQ8cln5P+lvzuLbyNk/UcZR0GeoCEDhVo7+jXYTQCS5RMHsLk9AEKcwG2jNBUAjGb6aYjf6P1GXUVksUTVAkr72eZCqREDHpTpj1+IIQHwQRBfRrj9ASZcIIPhSVkCwNM/vP9keQL/s5F6ru0hAunMpHTbtRUCCzL3c4aYdQBTIgdSp8yFAFTSH5xOjUEDfvEls4TxXQEsTZAOMHPU/Y2zCtHRhOUBwxKeItqsgQJoAfIUJBBVAujR729O7QkA3A/twtu47QMEFZMgzeyBAjm05Ts7JEEBbiGZVbw5MQIOlHBkrht0/W2jlG0akCECFW9VTFfQKQOxq8hjXLDFAOBR+8cHvSUCvk+th1bH5P1P2EhDMOBFAQfSxZI1cV0CfH/y0nZZOQLVgmtR+u/E/u8xVILgEREBH0tfX1qQxQNP7NYBVg+U/eACNPMzLUUAdwF5epBA5QAg5TMTNVfo/77pbshSVNkAdxTiAqUpZQHyeF2gJSElAlvhKs76CS0CkUfnMkDG9Pxud6Da1+Nc/iORFF+uIBEDH60/s0IMXQLWZ3NC6JkFAg/wQD1enE0CPfqZKJX1XQA==\",\"dtype\":\"float64\",\"shape\":[290]},\"index\":[0,1,2,3,4,5,6,7,8,9,10,11,12,13,14,15,16,17,18,19,20,21,22,23,24,25,26,27,28,29,30,31,32,33,34,35,36,37,38,39,40,41,42,43,44,45,46,47,48,49,50,51,52,53,54,55,56,57,58,59,60,61,62,63,64,65,66,67,68,69,70,71,72,73,74,75,76,77,78,79,80,81,82,83,84,85,86,87,88,89,90,91,92,93,94,95,96,97,98,99,100,101,102,103,104,105,106,107,108,109,110,111,112,113,114,115,116,117,118,119,120,121,122,123,124,125,126,127,128,129,130,131,132,133,134,135,136,137,138,139,140,141,142,143,144,145,146,147,148,149,150,151,152,153,154,155,156,157,158,159,160,161,162,163,164,165,166,167,168,169,170,171,172,173,174,175,176,177,178,179,180,181,182,183,184,185,186,187,188,189,190,191,192,193,194,195,196,197,198,199,200,201,202,203,204,205,206,207,208,209,210,211,212,213,214,215,216,217,218,219,220,221,222,223,224,225,226,227,228,229,230,231,232,233,234,235,236,237,238,239,240,241,242,243,244,245,246,247,248,249,250,251,252,253,254,255,256,257,258,259,260,261,262,263,264,265,266,267,268,269,270,271,272,273,274,275,276,277,278,279,280,281,282,283,284,285,286,287,288,289],\"locus\":[\"5:126685374\",\"15:66400165\",\"15:66387527\",\"5:126683883\",\"5:126756659\",\"5:126645650\",\"15:66350261\",\"5:126655361\",\"5:126789986\",\"5:126645705\",\"15:75027880\",\"5:126693265\",\"7:17283561\",\"5:126639801\",\"15:75029906\",\"5:126628098\",\"5:126787388\",\"2:109515462\",\"2:109514747\",\"5:126756161\",\"5:126648201\",\"5:126777362\",\"15:66330108\",\"4:54512721\",\"2:109514985\",\"5:126751728\",\"5:126769874\",\"5:126659892\",\"5:126636211\",\"7:17286770\",\"5:126656324\",\"15:75028348\",\"5:126626645\",\"2:109512428\",\"15:75029407\",\"5:126639097\",\"15:66438961\",\"5:126710915\",\"5:126798856\",\"5:126773064\",\"15:66400117\",\"15:66271772\",\"7:113991207\",\"2:223033196\",\"2:223033006\",\"5:126654970\",\"5:126689489\",\"2:223035136\",\"5:126693280\",\"4:54513330\",\"7:113989182\",\"5:126661774\",\"2:109511765\",\"2:223034660\",\"5:126630016\",\"5:126795246\",\"5:126675068\",\"5:126629170\",\"7:17285913\",\"2:223034082\",\"2:109514105\",\"15:66524808\",\"5:126694437\",\"5:126715759\",\"5:126785305\",\"15:75026149\",\"4:54513953\",\"5:126698023\",\"4:54514026\",\"7:17286087\",\"5:126639591\",\"5:126798504\",\"15:66327924\",\"5:126682354\",\"5:126637782\",\"2:223034144\",\"7:17284989\",\"4:54510874\",\"5:126658500\",\"5:126652710\",\"2:109514464\",\"2:109514056\",\"5:126664039\",\"7:113991440\",\"5:126688400\",\"5:126668683\",\"2:223034162\",\"5:126731876\",\"5:126725054\",\"7:17283259\",\"5:126627875\",\"5:126744956\",\"5:126729450\",\"15:66326983\",\"15:66373705\",\"4:54514027\",\"2:223034770\",\"7:17284577\",\"2:109511997\",\"4:54513819\",\"5:126797292\",\"5:126698070\",\"5:126683590\",\"5:126748373\",\"5:126791415\",\"2:223036139\",\"2:223036258\",\"7:17286817\",\"5:126793367\",\"5:126639135\",\"7:113987281\",\"5:126653607\",\"2:109513601\",\"2:223035313\",\"5:126687687\",\"5:126630948\",\"15:66344358\",\"5:126689935\",\"15:75028490\",\"5:126662114\",\"15:66428121\",\"5:126655730\",\"15:66475264\",\"7:17284085\",\"5:126727008\",\"15:66480035\",\"15:66388878\",\"5:126652742\",\"5:126675780\",\"5:126782325\",\"2:223034224\",\"7:113990885\",\"5:126767961\",\"2:223034758\",\"15:66502442\",\"7:17282872\",\"15:66326736\",\"5:126656998\",\"5:126652407\",\"15:75026627\",\"5:126715151\",\"5:126780212\",\"5:126644632\",\"7:113990996\",\"5:126796576\",\"5:126639269\",\"7:17285867\",\"5:126672710\",\"5:126753565\",\"7:17283523\",\"5:126756273\",\"2:109513531\",\"2:223035940\",\"5:126635083\",\"5:126667551\",\"15:66540097\",\"2:223031835\",\"5:126669209\",\"15:75029998\",\"5:126635437\",\"15:66269504\",\"4:54513653\",\"4:54511711\",\"15:75025988\",\"5:126798783\",\"5:126726851\",\"5:126735334\",\"5:126798558\",\"5:126644681\",\"2:223031933\",\"15:75027895\",\"4:54509759\",\"15:66380254\",\"5:126664981\",\"15:66353695\",\"7:113988537\",\"15:75029683\",\"2:223036224\",\"15:66272893\",\"2:109512364\",\"5:126644769\",\"5:126626044\",\"5:126660301\",\"5:126647941\",\"5:126634444\",\"2:109513654\",\"5:126778245\",\"5:126796531\",\"5:126787286\",\"7:17284687\",\"5:126633436\",\"5:126645738\",\"5:126667746\",\"15:66340274\",\"2:223035719\",\"2:223032504\",\"7:113990352\",\"2:223036256\",\"5:126679402\",\"5:126698345\",\"2:223034476\",\"15:66516106\",\"2:109515506\",\"5:126640246\",\"5:126726847\",\"4:54513660\",\"5:126773180\",\"5:126661380\",\"7:17286565\",\"5:126739085\",\"5:126669004\",\"5:126798071\",\"4:54510360\",\"4:54509910\",\"5:126733924\",\"5:126661519\",\"4:54513107\",\"5:126796585\",\"7:17282684\",\"5:126654623\",\"5:126775113\",\"2:223033978\",\"5:126723562\",\"7:17286708\",\"15:66312149\",\"5:126697604\",\"5:126645646\",\"15:75028765\",\"5:126683809\",\"15:66271429\",\"5:126674613\",\"7:113989096\",\"5:126631841\",\"5:126683416\",\"15:66475318\",\"2:223033725\",\"4:54514122\",\"4:54512752\",\"5:126798031\",\"5:126687822\",\"15:66319662\",\"7:17286050\",\"4:54511913\",\"2:223035211\",\"7:113989578\",\"5:126686756\",\"5:126657217\",\"7:17282974\",\"5:126653950\",\"5:126731259\",\"5:126630875\",\"5:126794160\",\"5:126650182\",\"5:126635667\",\"15:75029472\",\"5:126797404\",\"5:126678028\",\"15:66327646\",\"5:126694523\",\"5:126699347\",\"5:126697755\",\"5:126735430\",\"5:126654062\",\"15:66359634\",\"15:66527971\",\"5:126797293\",\"5:126793219\",\"5:126682039\",\"15:66495122\",\"5:126794256\",\"5:126656500\",\"5:126679697\",\"7:17285330\",\"5:126792974\",\"2:223033396\",\"5:126757248\",\"5:126625548\",\"5:126725568\",\"2:109515567\",\"5:126661600\",\"5:126633827\",\"5:126639025\",\"5:126633958\",\"7:113991250\",\"5:126757219\",\"15:75029399\",\"2:223035359\",\"5:126657432\",\"7:17282507\",\"5:126655749\"],\"p_value\":{\"__ndarray__\":\"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\",\"dtype\":\"float64\",\"shape\":[290]},\"rs\":[\"rs550745558\",\"rs7173121\",\"rs4776725\",\"rs27652\",\"rs377341077\",\"rs78802780\",\"rs138264234\",\"rs73785580\",\"rs76912327\",\"rs201053818\",\"rs2472297\",\"rs246892\",\"rs568478767\",\"rs2431724\",\"rs148040319\",\"rs2194079\",\"rs79067810\",\"rs561059807\",\"rs4676218\",\"rs74823398\",\"rs1422317\",\"rs59745564\",\"rs28551784\",\"rs73250977\",\"rs11689836\",\"rs6595770\",\"rs10078629\",\"rs34208116\",\"rs2546809\",\"rs112089609\",\"rs3050850\",\"rs185406833\",\"rs2032834\",\"rs3749096\",\"rs8029744\",\"rs2546807\",\"rs35259179\",\"rs34537147\",\"rs73348777\",\"rs6859304\",\"rs1993832\",\"rs428658\",\"rs192442536\",\"rs13411329\",\"rs529478087\",\"rs246885\",\"rs26946\",\"rs184491207\",\"rs144085293\",\"rs549132755\",\"rs147142788\",\"rs31470\",\"rs10865025\",\"rs985473\",\"rs1422313\",\"rs3756722\",\"rs17673170\",\"rs12519784\",\"rs564492299\",\"rs2218065\",\"rs6542783\",\"rs62009959\",\"rs26947\",\"rs113091845\",\"rs41298318\",\"rs17861118\",\"rs190387778\",\"rs35156178\",\"rs79162003\",\"rs79694830\",\"rs2431496\",\"rs577362738\",\"rs333592\",\"rs246894\",\"rs57623356\",\"rs116514046\",\"rs10277582\",\"rs6816209\",\"rs152122\",\"rs246945\",\"rs940928\",\"rs2169812\",\"rs36307\",\"rs529657511\",\"rs72788505\",\"rs2546078\",\"rs73990988\",\"rs2059084\",\"rs10041484\",\"rs145880637\",\"rs4836316\",\"rs56320297\",\"rs143954261\",\"rs56267112\",\"rs75393657\",\"rs183240578\",\"rs201276449\",\"rs4410790\",\"rs187951842\",\"rs6858782\",\"rs4836323\",\"rs77198001\",\"rs72786494\",\"rs202213903\",\"rs536696373\",\"rs563333963\",\"rs551240079\",\"rs532738234\",\"rs78940206\",\"rs2546808\",\"rs1527146\",\"rs138731838\",\"rs3827760\",\"rs66885466\",\"rs43148\",\"rs2059083\",\"rs2552182\",\"rs55918025\",\"rs11072500\",\"rs26945\",\"rs75427642\",\"rs246886\",\"rs8030058\",\"rs6943079\",\"rs1019482\",\"rs3082857\",\"rs2414895\",\"rs246946\",\"rs78120546\",\"rs10072587\",\"rs78277770\",\"rs183045236\",\"rs6866678\",\"rs71050391\",\"rs185446339\",\"rs79710531\",\"rs58298192\",\"rs246888\",\"rs246944\",\"rs11631784\",\"rs79713470\",\"rs12516897\",\"rs72786459\",\"rs79307074\",\"rs139305981\",\"rs56084567\",\"rs10281571\",\"rs77589749\",\"rs539466377\",\"rs112056574\",\"rs11956397\",\"rs115930248\",\"rs11690945\",\"rs2018571\",\"rs27562\",\"rs111463682\",\"rs114946697\",\"rs145619126\",\"rs76354137\",\"rs35796097\",\"rs372969314\",\"rs539249144;rs200448899\",\"rs2668551\",\"rs4886605\",\"rs17444885\",\"rs1318923\",\"rs10519939\",\"rs17164922\",\"rs2254762\",\"rs115498426\",\"rs141323436\",\"rs6818959\",\"rs1600053\",\"rs27749\",\"rs1871004\",\"rs2690826\",\"rs548198773\",\"esv3594421\",\"rs449841\",\"rs10206737\",\"rs1422315\",\"rs1363387\",\"rs31472\",\"rs1422316\",\"rs2194080\",\"rs12623957\",\"rs73348744\",\"rs35236935\",\"rs17164941\",\"rs77000981\",\"rs970546\",\"rs13153845\",\"rs111923517\",\"rs333606\",\"rs112832858\",\"rs36054640\",\"rs2049604\",\"rs79922615\",\"rs246897\",\"rs35526\",\"rs10194919\",\"rs4578594\",\"rs13009728\",\"rs1816059\",\"rs2008432\",\"rs17663341\",\"rs6859181\",\"rs31471\",\"rs529079397\",\"rs6877254\",\"rs26944\",\"rs191720024\",\"rs149974830\",\"rs139265415\",\"rs78811203\",\"rs10550881\",\"rs77894545\",\"rs2898043\",\"rs561704396\",\"rs2439927\",\"rs34451603\",\"rs2196751\",\"rs9327438\",\"rs571979050\",\"rs333610\",\"rs72788513\",\"rs2546805\",\"rs141944648\",\"rs27388\",\"rs368614\",\"rs27782\",\"rs142814786\",\"rs2585200\",\"rs187514\",\"rs115146412\",\"rs558223447\",\"rs75893784\",\"rs2590773\",\"rs17164923\",\"rs36308\",\"rs28648385\",\"rs185214789\",\"rs4864809\",\"rs5838931\",\"rs2690827\",\"rs185030\",\"rs152121\",\"rs17137451\",\"rs246948\",\"rs13171067\",\"rs146140674\",\"rs75528418\",\"rs1345663\",\"rs1345662\",\"rs76255041\",\"rs4836324\",\"rs17839696\",\"rs333591\",\"rs27563\",\"rs35525\",\"rs78259230\",\"rs251031\",\"rs185032\",\"rs114776522\",\"rs1531496\",\"rs188714805\",\"rs10793809\",\"rs246895\",\"rs11852601\",\"rs17164925\",\"rs152120\",\"rs246896\",\"rs571824498\",\"rs3812052\",\"rs11895863\",\"rs530919718\",\"rs2408868\",\"rs4401615\",\"rs76935644\",\"rs33930493\",\"rs2585197\",\"rs2546079\",\"rs2585196\",\"rs184002280\",\"rs565314307\",\"rs8030076\",\"rs13431945\",\"rs246889\",\"rs62444547\",\"rs246887\"]},\"selected\":{\"id\":\"1086\",\"type\":\"Selection\"},\"selection_policy\":{\"id\":\"1085\",\"type\":\"UnionRenderers\"}},\"id\":\"1038\",\"type\":\"ColumnDataSource\"},{\"attributes\":{\"fill_color\":{\"field\":\"_contig\",\"transform\":{\"id\":\"1002\",\"type\":\"CategoricalColorMapper\"}},\"line_color\":{\"field\":\"_contig\",\"transform\":{\"id\":\"1002\",\"type\":\"CategoricalColorMapper\"}},\"x\":{\"field\":\"_global_locus\"},\"y\":{\"field\":\"_pval\"}},\"id\":\"1060\",\"type\":\"Circle\"},{\"attributes\":{\"label\":{\"value\":\"5\"},\"renderers\":[{\"id\":\"1062\",\"type\":\"GlyphRenderer\"}]},\"id\":\"1072\",\"type\":\"LegendItem\"},{\"attributes\":{\"ticks\":[370850306,786049561,972084329,1313226357,2358551414]},\"id\":\"1076\",\"type\":\"FixedTicker\"},{\"attributes\":{\"data_source\":{\"id\":\"1038\",\"type\":\"ColumnDataSource\"},\"glyph\":{\"id\":\"1042\",\"type\":\"Circle\"},\"hover_glyph\":null,\"muted_glyph\":null,\"nonselection_glyph\":{\"id\":\"1043\",\"type\":\"Circle\"},\"selection_glyph\":null,\"view\":{\"id\":\"1040\",\"type\":\"CDSView\"}},\"id\":\"1044\",\"type\":\"GlyphRenderer\"},{\"attributes\":{},\"id\":\"1027\",\"type\":\"ResetTool\"},{\"attributes\":{\"column_name\":\"_contig\",\"group\":\"2\"},\"id\":\"1045\",\"type\":\"GroupFilter\"},{\"attributes\":{},\"id\":\"1082\",\"type\":\"BasicTicker\"},{\"attributes\":{\"label\":{\"value\":\"15\"},\"renderers\":[{\"id\":\"1044\",\"type\":\"GlyphRenderer\"}]},\"id\":\"1069\",\"type\":\"LegendItem\"},{\"attributes\":{\"filters\":[{\"id\":\"1063\",\"type\":\"GroupFilter\"}],\"source\":{\"id\":\"1038\",\"type\":\"ColumnDataSource\"}},\"id\":\"1064\",\"type\":\"CDSView\"},{\"attributes\":{},\"id\":\"1086\",\"type\":\"Selection\"},{\"attributes\":{},\"id\":\"1079\",\"type\":\"BasicTickFormatter\"},{\"attributes\":{\"filters\":[{\"id\":\"1045\",\"type\":\"GroupFilter\"}],\"source\":{\"id\":\"1038\",\"type\":\"ColumnDataSource\"}},\"id\":\"1046\",\"type\":\"CDSView\"},{\"attributes\":{\"callback\":null},\"id\":\"1005\",\"type\":\"DataRange1d\"},{\"attributes\":{\"bottom_units\":\"screen\",\"fill_alpha\":{\"value\":0.5},\"fill_color\":{\"value\":\"lightgrey\"},\"left_units\":\"screen\",\"level\":\"overlay\",\"line_alpha\":{\"value\":1.0},\"line_color\":{\"value\":\"black\"},\"line_dash\":[4,4],\"line_width\":{\"value\":2},\"render_mode\":\"css\",\"right_units\":\"screen\",\"top_units\":\"screen\"},\"id\":\"1084\",\"type\":\"BoxAnnotation\"},{\"attributes\":{},\"id\":\"1026\",\"type\":\"SaveTool\"},{\"attributes\":{},\"id\":\"1023\",\"type\":\"PanTool\"},{\"attributes\":{\"filters\":[{\"id\":\"1039\",\"type\":\"GroupFilter\"}],\"source\":{\"id\":\"1038\",\"type\":\"ColumnDataSource\"}},\"id\":\"1040\",\"type\":\"CDSView\"},{\"attributes\":{},\"id\":\"1085\",\"type\":\"UnionRenderers\"},{\"attributes\":{\"data_source\":{\"id\":\"1038\",\"type\":\"ColumnDataSource\"},\"glyph\":{\"id\":\"1060\",\"type\":\"Circle\"},\"hover_glyph\":null,\"muted_glyph\":null,\"nonselection_glyph\":{\"id\":\"1061\",\"type\":\"Circle\"},\"selection_glyph\":null,\"view\":{\"id\":\"1058\",\"type\":\"CDSView\"}},\"id\":\"1062\",\"type\":\"GlyphRenderer\"},{\"attributes\":{\"active_drag\":\"auto\",\"active_inspect\":\"auto\",\"active_multi\":null,\"active_scroll\":\"auto\",\"active_tap\":\"auto\",\"tools\":[{\"id\":\"1023\",\"type\":\"PanTool\"},{\"id\":\"1024\",\"type\":\"WheelZoomTool\"},{\"id\":\"1025\",\"type\":\"BoxZoomTool\"},{\"id\":\"1026\",\"type\":\"SaveTool\"},{\"id\":\"1027\",\"type\":\"ResetTool\"},{\"id\":\"1028\",\"type\":\"HelpTool\"},{\"id\":\"1037\",\"type\":\"HoverTool\"}]},\"id\":\"1029\",\"type\":\"Toolbar\"},{\"attributes\":{\"fill_alpha\":{\"value\":0.1},\"fill_color\":{\"value\":\"#1f77b4\"},\"line_alpha\":{\"value\":0.1},\"line_color\":{\"value\":\"#1f77b4\"},\"x\":{\"field\":\"_global_locus\"},\"y\":{\"field\":\"_pval\"}},\"id\":\"1055\",\"type\":\"Circle\"},{\"attributes\":{\"column_name\":\"_contig\",\"group\":\"7\"},\"id\":\"1063\",\"type\":\"GroupFilter\"},{\"attributes\":{\"fill_alpha\":{\"value\":0.1},\"fill_color\":{\"value\":\"#1f77b4\"},\"line_alpha\":{\"value\":0.1},\"line_color\":{\"value\":\"#1f77b4\"},\"x\":{\"field\":\"_global_locus\"},\"y\":{\"field\":\"_pval\"}},\"id\":\"1049\",\"type\":\"Circle\"},{\"attributes\":{\"filters\":[{\"id\":\"1051\",\"type\":\"GroupFilter\"}],\"source\":{\"id\":\"1038\",\"type\":\"ColumnDataSource\"}},\"id\":\"1052\",\"type\":\"CDSView\"},{\"attributes\":{\"factors\":[\"1\",\"2\",\"3\",\"4\",\"5\",\"6\",\"7\",\"8\",\"9\",\"10\",\"11\",\"12\",\"13\",\"14\",\"15\",\"16\",\"17\",\"18\",\"19\",\"20\",\"21\",\"22\",\"X\",\"Y\",\"MT\",\"GL000207.1\",\"GL000226.1\",\"GL000229.1\",\"GL000231.1\",\"GL000210.1\",\"GL000239.1\",\"GL000235.1\",\"GL000201.1\",\"GL000247.1\",\"GL000245.1\",\"GL000197.1\",\"GL000203.1\",\"GL000246.1\",\"GL000249.1\",\"GL000196.1\",\"GL000248.1\",\"GL000244.1\",\"GL000238.1\",\"GL000202.1\",\"GL000234.1\",\"GL000232.1\",\"GL000206.1\",\"GL000240.1\",\"GL000236.1\",\"GL000241.1\",\"GL000243.1\",\"GL000242.1\",\"GL000230.1\",\"GL000237.1\",\"GL000233.1\",\"GL000204.1\",\"GL000198.1\",\"GL000208.1\",\"GL000191.1\",\"GL000227.1\",\"GL000228.1\",\"GL000214.1\",\"GL000221.1\",\"GL000209.1\",\"GL000218.1\",\"GL000220.1\",\"GL000213.1\",\"GL000211.1\",\"GL000199.1\",\"GL000217.1\",\"GL000216.1\",\"GL000215.1\",\"GL000205.1\",\"GL000219.1\",\"GL000224.1\",\"GL000223.1\",\"GL000195.1\",\"GL000212.1\",\"GL000222.1\",\"GL000200.1\",\"GL000193.1\",\"GL000194.1\",\"GL000225.1\",\"GL000192.1\"],\"palette\":[\"#1f77b4\",\"#ff7f0e\",\"#1f77b4\",\"#ff7f0e\",\"#1f77b4\",\"#ff7f0e\",\"#1f77b4\",\"#ff7f0e\",\"#1f77b4\",\"#ff7f0e\",\"#1f77b4\",\"#ff7f0e\",\"#1f77b4\",\"#ff7f0e\",\"#1f77b4\",\"#ff7f0e\",\"#1f77b4\",\"#ff7f0e\",\"#1f77b4\",\"#ff7f0e\",\"#1f77b4\",\"#ff7f0e\",\"#1f77b4\",\"#ff7f0e\",\"#1f77b4\",\"#ff7f0e\",\"#1f77b4\",\"#ff7f0e\",\"#1f77b4\",\"#ff7f0e\",\"#1f77b4\",\"#ff7f0e\",\"#1f77b4\",\"#ff7f0e\",\"#1f77b4\",\"#ff7f0e\",\"#1f77b4\",\"#ff7f0e\",\"#1f77b4\",\"#ff7f0e\",\"#1f77b4\",\"#ff7f0e\",\"#1f77b4\",\"#ff7f0e\",\"#1f77b4\",\"#ff7f0e\",\"#1f77b4\",\"#ff7f0e\",\"#1f77b4\",\"#ff7f0e\",\"#1f77b4\",\"#ff7f0e\",\"#1f77b4\",\"#ff7f0e\",\"#1f77b4\",\"#ff7f0e\",\"#1f77b4\",\"#ff7f0e\",\"#1f77b4\",\"#ff7f0e\",\"#1f77b4\",\"#ff7f0e\",\"#1f77b4\",\"#ff7f0e\",\"#1f77b4\",\"#ff7f0e\",\"#1f77b4\",\"#ff7f0e\",\"#1f77b4\",\"#ff7f0e\",\"#1f77b4\",\"#ff7f0e\",\"#1f77b4\",\"#ff7f0e\",\"#1f77b4\",\"#ff7f0e\",\"#1f77b4\",\"#ff7f0e\",\"#1f77b4\",\"#ff7f0e\",\"#1f77b4\",\"#ff7f0e\",\"#1f77b4\",\"#ff7f0e\"]},\"id\":\"1002\",\"type\":\"CategoricalColorMapper\"},{\"attributes\":{\"label\":{\"value\":\"4\"},\"renderers\":[{\"id\":\"1056\",\"type\":\"GlyphRenderer\"}]},\"id\":\"1071\",\"type\":\"LegendItem\"},{\"attributes\":{\"fill_alpha\":{\"value\":0.1},\"fill_color\":{\"value\":\"#1f77b4\"},\"line_alpha\":{\"value\":0.1},\"line_color\":{\"value\":\"#1f77b4\"},\"x\":{\"field\":\"_global_locus\"},\"y\":{\"field\":\"_pval\"}},\"id\":\"1061\",\"type\":\"Circle\"},{\"attributes\":{\"data_source\":{\"id\":\"1038\",\"type\":\"ColumnDataSource\"},\"glyph\":{\"id\":\"1054\",\"type\":\"Circle\"},\"hover_glyph\":null,\"muted_glyph\":null,\"nonselection_glyph\":{\"id\":\"1055\",\"type\":\"Circle\"},\"selection_glyph\":null,\"view\":{\"id\":\"1052\",\"type\":\"CDSView\"}},\"id\":\"1056\",\"type\":\"GlyphRenderer\"},{\"attributes\":{\"label\":{\"value\":\"7\"},\"renderers\":[{\"id\":\"1068\",\"type\":\"GlyphRenderer\"}]},\"id\":\"1073\",\"type\":\"LegendItem\"},{\"attributes\":{},\"id\":\"1014\",\"type\":\"BasicTicker\"},{\"attributes\":{\"axis_label\":\"P-value (-log10 scale)\",\"formatter\":{\"id\":\"1079\",\"type\":\"BasicTickFormatter\"},\"ticker\":{\"id\":\"1019\",\"type\":\"BasicTicker\"}},\"id\":\"1018\",\"type\":\"LinearAxis\"},{\"attributes\":{\"color_mapper\":null,\"formatter\":{\"id\":\"1081\",\"type\":\"BasicTickFormatter\"},\"ticker\":{\"id\":\"1082\",\"type\":\"BasicTicker\"},\"visible\":false},\"id\":\"1075\",\"type\":\"ColorBar\"},{\"attributes\":{},\"id\":\"1009\",\"type\":\"LinearScale\"},{\"attributes\":{},\"id\":\"1019\",\"type\":\"BasicTicker\"},{\"attributes\":{\"column_name\":\"_contig\",\"group\":\"4\"},\"id\":\"1051\",\"type\":\"GroupFilter\"},{\"attributes\":{\"fill_color\":{\"field\":\"_contig\",\"transform\":{\"id\":\"1002\",\"type\":\"CategoricalColorMapper\"}},\"line_color\":{\"field\":\"_contig\",\"transform\":{\"id\":\"1002\",\"type\":\"CategoricalColorMapper\"}},\"x\":{\"field\":\"_global_locus\"},\"y\":{\"field\":\"_pval\"}},\"id\":\"1048\",\"type\":\"Circle\"},{\"attributes\":{\"data_source\":{\"id\":\"1038\",\"type\":\"ColumnDataSource\"},\"glyph\":{\"id\":\"1048\",\"type\":\"Circle\"},\"hover_glyph\":null,\"muted_glyph\":null,\"nonselection_glyph\":{\"id\":\"1049\",\"type\":\"Circle\"},\"selection_glyph\":null,\"view\":{\"id\":\"1046\",\"type\":\"CDSView\"}},\"id\":\"1050\",\"type\":\"GlyphRenderer\"},{\"attributes\":{\"callback\":null},\"id\":\"1007\",\"type\":\"DataRange1d\"},{\"attributes\":{\"fill_color\":{\"field\":\"_contig\",\"transform\":{\"id\":\"1002\",\"type\":\"CategoricalColorMapper\"}},\"line_color\":{\"field\":\"_contig\",\"transform\":{\"id\":\"1002\",\"type\":\"CategoricalColorMapper\"}},\"x\":{\"field\":\"_global_locus\"},\"y\":{\"field\":\"_pval\"}},\"id\":\"1066\",\"type\":\"Circle\"},{\"attributes\":{\"ticker\":{\"id\":\"1014\",\"type\":\"BasicTicker\"}},\"id\":\"1017\",\"type\":\"Grid\"},{\"attributes\":{\"fill_color\":{\"field\":\"_contig\",\"transform\":{\"id\":\"1002\",\"type\":\"CategoricalColorMapper\"}},\"line_color\":{\"field\":\"_contig\",\"transform\":{\"id\":\"1002\",\"type\":\"CategoricalColorMapper\"}},\"x\":{\"field\":\"_global_locus\"},\"y\":{\"field\":\"_pval\"}},\"id\":\"1054\",\"type\":\"Circle\"},{\"attributes\":{\"overlay\":{\"id\":\"1084\",\"type\":\"BoxAnnotation\"}},\"id\":\"1025\",\"type\":\"BoxZoomTool\"},{\"attributes\":{\"click_policy\":\"hide\",\"items\":[{\"id\":\"1069\",\"type\":\"LegendItem\"},{\"id\":\"1070\",\"type\":\"LegendItem\"},{\"id\":\"1071\",\"type\":\"LegendItem\"},{\"id\":\"1072\",\"type\":\"LegendItem\"},{\"id\":\"1073\",\"type\":\"LegendItem\"}],\"visible\":false},\"id\":\"1074\",\"type\":\"Legend\"},{\"attributes\":{\"axis_label\":\"Chromosome\",\"formatter\":{\"id\":\"1083\",\"type\":\"BasicTickFormatter\"},\"major_label_overrides\":{\"1313226357\":\"7\",\"2358551414\":\"15\",\"370850306\":\"2\",\"786049561\":\"4\",\"972084329\":\"5\"},\"ticker\":{\"id\":\"1076\",\"type\":\"FixedTicker\"}},\"id\":\"1013\",\"type\":\"LinearAxis\"}],\"root_ids\":[\"1003\"]},\"title\":\"Bokeh Application\",\"version\":\"1.2.0\"}};\n",
       "  var render_items = [{\"docid\":\"7d9c4fba-22e3-4b49-84e0-a2735ebd015d\",\"roots\":{\"1003\":\"dfa6ee4e-7b75-49e7-a49e-f9bb75a02be8\"}}];\n",
       "  root.Bokeh.embed.embed_items_notebook(docs_json, render_items);\n",
       "\n",
       "  }\n",
       "  if (root.Bokeh !== undefined) {\n",
       "    embed_document(root);\n",
       "  } else {\n",
       "    var attempts = 0;\n",
       "    var timer = setInterval(function(root) {\n",
       "      if (root.Bokeh !== undefined) {\n",
       "        embed_document(root);\n",
       "        clearInterval(timer);\n",
       "      }\n",
       "      attempts++;\n",
       "      if (attempts > 100) {\n",
       "        console.log(\"Bokeh: ERROR: Unable to run BokehJS code because BokehJS library is missing\");\n",
       "        clearInterval(timer);\n",
       "      }\n",
       "    }, 10, root)\n",
       "  }\n",
       "})(window);"
      ],
      "application/vnd.bokehjs_exec.v0+json": ""
     },
     "metadata": {
      "application/vnd.bokehjs_exec.v0+json": {
       "id": "1003"
      }
     },
     "output_type": "display_data"
    }
   ],
   "source": [
    "p = hl.plot.manhattan(gwas.p_value, hover_fields=dict(rs=gwas.rsid))\n",
    "show(p)"
   ]
  },
  {
   "cell_type": "markdown",
   "metadata": {},
   "source": [
    "_Fig 1: Manhattan plot for logistic regression p-values._"
   ]
  },
  {
   "cell_type": "markdown",
   "metadata": {},
   "source": [
    "## Build random forest and extract gini importanct with VaiantSpark (on the same data)"
   ]
  },
  {
   "cell_type": "code",
   "execution_count": 11,
   "metadata": {},
   "outputs": [],
   "source": [
    "import varspark.hail as vshl"
   ]
  },
  {
   "cell_type": "code",
   "execution_count": 12,
   "metadata": {},
   "outputs": [],
   "source": [
    "rf_model = vshl.random_forest_model(y=mt.hipster.label,\n",
    "                    x=mt.GT.n_alt_alleles())\n",
    "rf_model.fit_trees(500, 100)"
   ]
  },
  {
   "cell_type": "code",
   "execution_count": 13,
   "metadata": {},
   "outputs": [
    {
     "name": "stdout",
     "output_type": "stream",
     "text": [
      "0.19129392971246006\n"
     ]
    },
    {
     "name": "stderr",
     "output_type": "stream",
     "text": [
      "2019-07-17 09:52:32 Hail: INFO: Coerced sorted dataset\n"
     ]
    },
    {
     "data": {
      "text/html": [
       "<table><thead style=\"font-weight: bold;\"><tr><td>locus</td><td>alleles</td><td>importance</td></tr>\n",
       "<tr><td>locus&lt;GRCh37&gt;</td><td>array&lt;str&gt;</td><td>float64</td></tr>\n",
       "</thead><tbody><tr><td>2:109511398</td><td>[&quot;G&quot;,&quot;A&quot;]</td><td>1.07e-02</td></tr>\n",
       "<tr><td>2:109511454</td><td>[&quot;C&quot;,&quot;A&quot;]</td><td>1.63e-02</td></tr>\n",
       "<tr><td>2:109511463</td><td>[&quot;G&quot;,&quot;A&quot;]</td><td>9.21e-02</td></tr>\n",
       "</tbody></table><p>showing top 3 rows</p>\n"
      ],
      "text/plain": [
       "+---------------+------------+------------+\n",
       "| locus         | alleles    | importance |\n",
       "+---------------+------------+------------+\n",
       "| locus<GRCh37> | array<str> |    float64 |\n",
       "+---------------+------------+------------+\n",
       "| 2:109511398   | [\"G\",\"A\"]  |   1.07e-02 |\n",
       "| 2:109511454   | [\"C\",\"A\"]  |   1.63e-02 |\n",
       "| 2:109511463   | [\"G\",\"A\"]  |   9.21e-02 |\n",
       "+---------------+------------+------------+\n",
       "showing top 3 rows"
      ]
     },
     "metadata": {},
     "output_type": "display_data"
    }
   ],
   "source": [
    "print(rf_model.oob_error())\n",
    "impTable = rf_model.variable_importance()\n",
    "impTable.show(3)"
   ]
  },
  {
   "cell_type": "markdown",
   "metadata": {},
   "source": [
    "Join hail and VariantSpark results (this is only needed here to get the RSID's)"
   ]
  },
  {
   "cell_type": "code",
   "execution_count": 14,
   "metadata": {},
   "outputs": [],
   "source": [
    "gwas_with_imp = gwas.join(impTable)"
   ]
  },
  {
   "cell_type": "code",
   "execution_count": 15,
   "metadata": {},
   "outputs": [
    {
     "data": {
      "text/html": [
       "\n",
       "\n",
       "\n",
       "\n",
       "\n",
       "\n",
       "  <div class=\"bk-root\" id=\"e95799d3-2465-449f-a89a-a0b2368b56cd\" data-root-id=\"1161\"></div>\n"
      ]
     },
     "metadata": {},
     "output_type": "display_data"
    },
    {
     "data": {
      "application/javascript": [
       "(function(root) {\n",
       "  function embed_document(root) {\n",
       "    \n",
       "  var docs_json = {\"bda14b34-b4fe-43ff-b25d-4eb6f8da7497\":{\"roots\":{\"references\":[{\"attributes\":{\"below\":[{\"id\":\"1171\",\"type\":\"LinearAxis\"}],\"center\":[{\"id\":\"1175\",\"type\":\"Grid\"},{\"id\":\"1180\",\"type\":\"Grid\"}],\"left\":[{\"id\":\"1176\",\"type\":\"LinearAxis\"},{\"id\":\"1232\",\"type\":\"Legend\"},{\"id\":\"1233\",\"type\":\"ColorBar\"}],\"plot_width\":1000,\"renderers\":[{\"id\":\"1202\",\"type\":\"GlyphRenderer\"},{\"id\":\"1208\",\"type\":\"GlyphRenderer\"},{\"id\":\"1214\",\"type\":\"GlyphRenderer\"},{\"id\":\"1220\",\"type\":\"GlyphRenderer\"},{\"id\":\"1226\",\"type\":\"GlyphRenderer\"}],\"title\":null,\"toolbar\":{\"id\":\"1187\",\"type\":\"Toolbar\"},\"x_range\":{\"id\":\"1163\",\"type\":\"DataRange1d\"},\"x_scale\":{\"id\":\"1167\",\"type\":\"LinearScale\"},\"y_range\":{\"id\":\"1165\",\"type\":\"DataRange1d\"},\"y_scale\":{\"id\":\"1169\",\"type\":\"LinearScale\"}},\"id\":\"1161\",\"subtype\":\"Figure\",\"type\":\"Plot\"},{\"attributes\":{\"active_drag\":\"auto\",\"active_inspect\":\"auto\",\"active_multi\":null,\"active_scroll\":\"auto\",\"active_tap\":\"auto\",\"tools\":[{\"id\":\"1181\",\"type\":\"PanTool\"},{\"id\":\"1182\",\"type\":\"WheelZoomTool\"},{\"id\":\"1183\",\"type\":\"BoxZoomTool\"},{\"id\":\"1184\",\"type\":\"SaveTool\"},{\"id\":\"1185\",\"type\":\"ResetTool\"},{\"id\":\"1186\",\"type\":\"HelpTool\"},{\"id\":\"1195\",\"type\":\"HoverTool\"}]},\"id\":\"1187\",\"type\":\"Toolbar\"},{\"attributes\":{\"ticks\":[370850306,786049561,972084329,1313226357,2358551414]},\"id\":\"1234\",\"type\":\"FixedTicker\"},{\"attributes\":{},\"id\":\"1244\",\"type\":\"Selection\"},{\"attributes\":{\"filters\":[{\"id\":\"1215\",\"type\":\"GroupFilter\"}],\"source\":{\"id\":\"1196\",\"type\":\"ColumnDataSource\"}},\"id\":\"1216\",\"type\":\"CDSView\"},{\"attributes\":{\"data_source\":{\"id\":\"1196\",\"type\":\"ColumnDataSource\"},\"glyph\":{\"id\":\"1206\",\"type\":\"Circle\"},\"hover_glyph\":null,\"muted_glyph\":null,\"nonselection_glyph\":{\"id\":\"1207\",\"type\":\"Circle\"},\"selection_glyph\":null,\"view\":{\"id\":\"1204\",\"type\":\"CDSView\"}},\"id\":\"1208\",\"type\":\"GlyphRenderer\"},{\"attributes\":{},\"id\":\"1239\",\"type\":\"BasicTickFormatter\"},{\"attributes\":{\"column_name\":\"_contig\",\"group\":\"5\"},\"id\":\"1215\",\"type\":\"GroupFilter\"},{\"attributes\":{\"callback\":null},\"id\":\"1165\",\"type\":\"DataRange1d\"},{\"attributes\":{\"label\":{\"value\":\"4\"},\"renderers\":[{\"id\":\"1214\",\"type\":\"GlyphRenderer\"}]},\"id\":\"1229\",\"type\":\"LegendItem\"},{\"attributes\":{},\"id\":\"1186\",\"type\":\"HelpTool\"},{\"attributes\":{\"axis_label\":\"Chromosome\",\"formatter\":{\"id\":\"1241\",\"type\":\"BasicTickFormatter\"},\"major_label_overrides\":{\"1313226357\":\"7\",\"2358551414\":\"15\",\"370850306\":\"2\",\"786049561\":\"4\",\"972084329\":\"5\"},\"ticker\":{\"id\":\"1234\",\"type\":\"FixedTicker\"}},\"id\":\"1171\",\"type\":\"LinearAxis\"},{\"attributes\":{\"bottom_units\":\"screen\",\"fill_alpha\":{\"value\":0.5},\"fill_color\":{\"value\":\"lightgrey\"},\"left_units\":\"screen\",\"level\":\"overlay\",\"line_alpha\":{\"value\":1.0},\"line_color\":{\"value\":\"black\"},\"line_dash\":[4,4],\"line_width\":{\"value\":2},\"render_mode\":\"css\",\"right_units\":\"screen\",\"top_units\":\"screen\"},\"id\":\"1242\",\"type\":\"BoxAnnotation\"},{\"attributes\":{\"fill_alpha\":{\"value\":0.1},\"fill_color\":{\"value\":\"#1f77b4\"},\"line_alpha\":{\"value\":0.1},\"line_color\":{\"value\":\"#1f77b4\"},\"x\":{\"field\":\"_global_locus\"},\"y\":{\"field\":\"_pval\"}},\"id\":\"1207\",\"type\":\"Circle\"},{\"attributes\":{\"column_name\":\"_contig\",\"group\":\"7\"},\"id\":\"1221\",\"type\":\"GroupFilter\"},{\"attributes\":{\"color_mapper\":null,\"formatter\":{\"id\":\"1239\",\"type\":\"BasicTickFormatter\"},\"ticker\":{\"id\":\"1240\",\"type\":\"BasicTicker\"},\"visible\":false},\"id\":\"1233\",\"type\":\"ColorBar\"},{\"attributes\":{\"label\":{\"value\":\"7\"},\"renderers\":[{\"id\":\"1226\",\"type\":\"GlyphRenderer\"}]},\"id\":\"1231\",\"type\":\"LegendItem\"},{\"attributes\":{},\"id\":\"1181\",\"type\":\"PanTool\"},{\"attributes\":{},\"id\":\"1177\",\"type\":\"BasicTicker\"},{\"attributes\":{},\"id\":\"1243\",\"type\":\"UnionRenderers\"},{\"attributes\":{\"filters\":[{\"id\":\"1221\",\"type\":\"GroupFilter\"}],\"source\":{\"id\":\"1196\",\"type\":\"ColumnDataSource\"}},\"id\":\"1222\",\"type\":\"CDSView\"},{\"attributes\":{\"overlay\":{\"id\":\"1242\",\"type\":\"BoxAnnotation\"}},\"id\":\"1183\",\"type\":\"BoxZoomTool\"},{\"attributes\":{\"filters\":[{\"id\":\"1197\",\"type\":\"GroupFilter\"}],\"source\":{\"id\":\"1196\",\"type\":\"ColumnDataSource\"}},\"id\":\"1198\",\"type\":\"CDSView\"},{\"attributes\":{\"ticker\":{\"id\":\"1172\",\"type\":\"BasicTicker\"}},\"id\":\"1175\",\"type\":\"Grid\"},{\"attributes\":{\"factors\":[\"1\",\"2\",\"3\",\"4\",\"5\",\"6\",\"7\",\"8\",\"9\",\"10\",\"11\",\"12\",\"13\",\"14\",\"15\",\"16\",\"17\",\"18\",\"19\",\"20\",\"21\",\"22\",\"X\",\"Y\",\"MT\",\"GL000207.1\",\"GL000226.1\",\"GL000229.1\",\"GL000231.1\",\"GL000210.1\",\"GL000239.1\",\"GL000235.1\",\"GL000201.1\",\"GL000247.1\",\"GL000245.1\",\"GL000197.1\",\"GL000203.1\",\"GL000246.1\",\"GL000249.1\",\"GL000196.1\",\"GL000248.1\",\"GL000244.1\",\"GL000238.1\",\"GL000202.1\",\"GL000234.1\",\"GL000232.1\",\"GL000206.1\",\"GL000240.1\",\"GL000236.1\",\"GL000241.1\",\"GL000243.1\",\"GL000242.1\",\"GL000230.1\",\"GL000237.1\",\"GL000233.1\",\"GL000204.1\",\"GL000198.1\",\"GL000208.1\",\"GL000191.1\",\"GL000227.1\",\"GL000228.1\",\"GL000214.1\",\"GL000221.1\",\"GL000209.1\",\"GL000218.1\",\"GL000220.1\",\"GL000213.1\",\"GL000211.1\",\"GL000199.1\",\"GL000217.1\",\"GL000216.1\",\"GL000215.1\",\"GL000205.1\",\"GL000219.1\",\"GL000224.1\",\"GL000223.1\",\"GL000195.1\",\"GL000212.1\",\"GL000222.1\",\"GL000200.1\",\"GL000193.1\",\"GL000194.1\",\"GL000225.1\",\"GL000192.1\"],\"palette\":[\"#1f77b4\",\"#ff7f0e\",\"#1f77b4\",\"#ff7f0e\",\"#1f77b4\",\"#ff7f0e\",\"#1f77b4\",\"#ff7f0e\",\"#1f77b4\",\"#ff7f0e\",\"#1f77b4\",\"#ff7f0e\",\"#1f77b4\",\"#ff7f0e\",\"#1f77b4\",\"#ff7f0e\",\"#1f77b4\",\"#ff7f0e\",\"#1f77b4\",\"#ff7f0e\",\"#1f77b4\",\"#ff7f0e\",\"#1f77b4\",\"#ff7f0e\",\"#1f77b4\",\"#ff7f0e\",\"#1f77b4\",\"#ff7f0e\",\"#1f77b4\",\"#ff7f0e\",\"#1f77b4\",\"#ff7f0e\",\"#1f77b4\",\"#ff7f0e\",\"#1f77b4\",\"#ff7f0e\",\"#1f77b4\",\"#ff7f0e\",\"#1f77b4\",\"#ff7f0e\",\"#1f77b4\",\"#ff7f0e\",\"#1f77b4\",\"#ff7f0e\",\"#1f77b4\",\"#ff7f0e\",\"#1f77b4\",\"#ff7f0e\",\"#1f77b4\",\"#ff7f0e\",\"#1f77b4\",\"#ff7f0e\",\"#1f77b4\",\"#ff7f0e\",\"#1f77b4\",\"#ff7f0e\",\"#1f77b4\",\"#ff7f0e\",\"#1f77b4\",\"#ff7f0e\",\"#1f77b4\",\"#ff7f0e\",\"#1f77b4\",\"#ff7f0e\",\"#1f77b4\",\"#ff7f0e\",\"#1f77b4\",\"#ff7f0e\",\"#1f77b4\",\"#ff7f0e\",\"#1f77b4\",\"#ff7f0e\",\"#1f77b4\",\"#ff7f0e\",\"#1f77b4\",\"#ff7f0e\",\"#1f77b4\",\"#ff7f0e\",\"#1f77b4\",\"#ff7f0e\",\"#1f77b4\",\"#ff7f0e\",\"#1f77b4\",\"#ff7f0e\"]},\"id\":\"1160\",\"type\":\"CategoricalColorMapper\"},{\"attributes\":{\"column_name\":\"_contig\",\"group\":\"2\"},\"id\":\"1203\",\"type\":\"GroupFilter\"},{\"attributes\":{\"fill_alpha\":{\"value\":0.1},\"fill_color\":{\"value\":\"#1f77b4\"},\"line_alpha\":{\"value\":0.1},\"line_color\":{\"value\":\"#1f77b4\"},\"x\":{\"field\":\"_global_locus\"},\"y\":{\"field\":\"_pval\"}},\"id\":\"1219\",\"type\":\"Circle\"},{\"attributes\":{\"fill_color\":{\"field\":\"_contig\",\"transform\":{\"id\":\"1160\",\"type\":\"CategoricalColorMapper\"}},\"line_color\":{\"field\":\"_contig\",\"transform\":{\"id\":\"1160\",\"type\":\"CategoricalColorMapper\"}},\"x\":{\"field\":\"_global_locus\"},\"y\":{\"field\":\"_pval\"}},\"id\":\"1224\",\"type\":\"Circle\"},{\"attributes\":{},\"id\":\"1184\",\"type\":\"SaveTool\"},{\"attributes\":{},\"id\":\"1185\",\"type\":\"ResetTool\"},{\"attributes\":{\"data_source\":{\"id\":\"1196\",\"type\":\"ColumnDataSource\"},\"glyph\":{\"id\":\"1212\",\"type\":\"Circle\"},\"hover_glyph\":null,\"muted_glyph\":null,\"nonselection_glyph\":{\"id\":\"1213\",\"type\":\"Circle\"},\"selection_glyph\":null,\"view\":{\"id\":\"1210\",\"type\":\"CDSView\"}},\"id\":\"1214\",\"type\":\"GlyphRenderer\"},{\"attributes\":{},\"id\":\"1169\",\"type\":\"LinearScale\"},{\"attributes\":{\"filters\":[{\"id\":\"1203\",\"type\":\"GroupFilter\"}],\"source\":{\"id\":\"1196\",\"type\":\"ColumnDataSource\"}},\"id\":\"1204\",\"type\":\"CDSView\"},{\"attributes\":{\"fill_alpha\":{\"value\":0.1},\"fill_color\":{\"value\":\"#1f77b4\"},\"line_alpha\":{\"value\":0.1},\"line_color\":{\"value\":\"#1f77b4\"},\"x\":{\"field\":\"_global_locus\"},\"y\":{\"field\":\"_pval\"}},\"id\":\"1225\",\"type\":\"Circle\"},{\"attributes\":{\"data_source\":{\"id\":\"1196\",\"type\":\"ColumnDataSource\"},\"glyph\":{\"id\":\"1224\",\"type\":\"Circle\"},\"hover_glyph\":null,\"muted_glyph\":null,\"nonselection_glyph\":{\"id\":\"1225\",\"type\":\"Circle\"},\"selection_glyph\":null,\"view\":{\"id\":\"1222\",\"type\":\"CDSView\"}},\"id\":\"1226\",\"type\":\"GlyphRenderer\"},{\"attributes\":{\"fill_color\":{\"field\":\"_contig\",\"transform\":{\"id\":\"1160\",\"type\":\"CategoricalColorMapper\"}},\"line_color\":{\"field\":\"_contig\",\"transform\":{\"id\":\"1160\",\"type\":\"CategoricalColorMapper\"}},\"x\":{\"field\":\"_global_locus\"},\"y\":{\"field\":\"_pval\"}},\"id\":\"1206\",\"type\":\"Circle\"},{\"attributes\":{\"data_source\":{\"id\":\"1196\",\"type\":\"ColumnDataSource\"},\"glyph\":{\"id\":\"1218\",\"type\":\"Circle\"},\"hover_glyph\":null,\"muted_glyph\":null,\"nonselection_glyph\":{\"id\":\"1219\",\"type\":\"Circle\"},\"selection_glyph\":null,\"view\":{\"id\":\"1216\",\"type\":\"CDSView\"}},\"id\":\"1220\",\"type\":\"GlyphRenderer\"},{\"attributes\":{\"fill_color\":{\"field\":\"_contig\",\"transform\":{\"id\":\"1160\",\"type\":\"CategoricalColorMapper\"}},\"line_color\":{\"field\":\"_contig\",\"transform\":{\"id\":\"1160\",\"type\":\"CategoricalColorMapper\"}},\"x\":{\"field\":\"_global_locus\"},\"y\":{\"field\":\"_pval\"}},\"id\":\"1200\",\"type\":\"Circle\"},{\"attributes\":{},\"id\":\"1182\",\"type\":\"WheelZoomTool\"},{\"attributes\":{},\"id\":\"1240\",\"type\":\"BasicTicker\"},{\"attributes\":{\"click_policy\":\"hide\",\"items\":[{\"id\":\"1227\",\"type\":\"LegendItem\"},{\"id\":\"1228\",\"type\":\"LegendItem\"},{\"id\":\"1229\",\"type\":\"LegendItem\"},{\"id\":\"1230\",\"type\":\"LegendItem\"},{\"id\":\"1231\",\"type\":\"LegendItem\"}],\"visible\":false},\"id\":\"1232\",\"type\":\"Legend\"},{\"attributes\":{\"fill_color\":{\"field\":\"_contig\",\"transform\":{\"id\":\"1160\",\"type\":\"CategoricalColorMapper\"}},\"line_color\":{\"field\":\"_contig\",\"transform\":{\"id\":\"1160\",\"type\":\"CategoricalColorMapper\"}},\"x\":{\"field\":\"_global_locus\"},\"y\":{\"field\":\"_pval\"}},\"id\":\"1212\",\"type\":\"Circle\"},{\"attributes\":{\"fill_color\":{\"field\":\"_contig\",\"transform\":{\"id\":\"1160\",\"type\":\"CategoricalColorMapper\"}},\"line_color\":{\"field\":\"_contig\",\"transform\":{\"id\":\"1160\",\"type\":\"CategoricalColorMapper\"}},\"x\":{\"field\":\"_global_locus\"},\"y\":{\"field\":\"_pval\"}},\"id\":\"1218\",\"type\":\"Circle\"},{\"attributes\":{\"column_name\":\"_contig\",\"group\":\"15\"},\"id\":\"1197\",\"type\":\"GroupFilter\"},{\"attributes\":{},\"id\":\"1237\",\"type\":\"BasicTickFormatter\"},{\"attributes\":{\"filters\":[{\"id\":\"1209\",\"type\":\"GroupFilter\"}],\"source\":{\"id\":\"1196\",\"type\":\"ColumnDataSource\"}},\"id\":\"1210\",\"type\":\"CDSView\"},{\"attributes\":{\"dimension\":1,\"ticker\":{\"id\":\"1177\",\"type\":\"BasicTicker\"}},\"id\":\"1180\",\"type\":\"Grid\"},{\"attributes\":{\"fill_alpha\":{\"value\":0.1},\"fill_color\":{\"value\":\"#1f77b4\"},\"line_alpha\":{\"value\":0.1},\"line_color\":{\"value\":\"#1f77b4\"},\"x\":{\"field\":\"_global_locus\"},\"y\":{\"field\":\"_pval\"}},\"id\":\"1213\",\"type\":\"Circle\"},{\"attributes\":{\"label\":{\"value\":\"2\"},\"renderers\":[{\"id\":\"1208\",\"type\":\"GlyphRenderer\"}]},\"id\":\"1228\",\"type\":\"LegendItem\"},{\"attributes\":{\"column_name\":\"_contig\",\"group\":\"4\"},\"id\":\"1209\",\"type\":\"GroupFilter\"},{\"attributes\":{\"callback\":null,\"tooltips\":[[\"locus\",\"@locus\"],[\"ri\",\"@ri\"],[\"p_value\",\"@p_value\"]]},\"id\":\"1195\",\"type\":\"HoverTool\"},{\"attributes\":{\"axis_label\":\"Importance (gini)\",\"formatter\":{\"id\":\"1237\",\"type\":\"BasicTickFormatter\"},\"ticker\":{\"id\":\"1177\",\"type\":\"BasicTicker\"}},\"id\":\"1176\",\"type\":\"LinearAxis\"},{\"attributes\":{\"fill_alpha\":{\"value\":0.1},\"fill_color\":{\"value\":\"#1f77b4\"},\"line_alpha\":{\"value\":0.1},\"line_color\":{\"value\":\"#1f77b4\"},\"x\":{\"field\":\"_global_locus\"},\"y\":{\"field\":\"_pval\"}},\"id\":\"1201\",\"type\":\"Circle\"},{\"attributes\":{\"callback\":null},\"id\":\"1163\",\"type\":\"DataRange1d\"},{\"attributes\":{\"label\":{\"value\":\"15\"},\"renderers\":[{\"id\":\"1202\",\"type\":\"GlyphRenderer\"}]},\"id\":\"1227\",\"type\":\"LegendItem\"},{\"attributes\":{\"label\":{\"value\":\"5\"},\"renderers\":[{\"id\":\"1220\",\"type\":\"GlyphRenderer\"}]},\"id\":\"1230\",\"type\":\"LegendItem\"},{\"attributes\":{\"data_source\":{\"id\":\"1196\",\"type\":\"ColumnDataSource\"},\"glyph\":{\"id\":\"1200\",\"type\":\"Circle\"},\"hover_glyph\":null,\"muted_glyph\":null,\"nonselection_glyph\":{\"id\":\"1201\",\"type\":\"Circle\"},\"selection_glyph\":null,\"view\":{\"id\":\"1198\",\"type\":\"CDSView\"}},\"id\":\"1202\",\"type\":\"GlyphRenderer\"},{\"attributes\":{\"callback\":null,\"data\":{\"_contig\":[\"4\",\"5\",\"15\",\"15\",\"5\",\"5\",\"5\",\"15\",\"5\",\"5\",\"5\",\"5\",\"5\",\"2\",\"15\",\"5\",\"4\",\"2\",\"7\",\"7\",\"5\",\"2\",\"2\",\"15\",\"5\",\"15\",\"4\",\"5\",\"5\",\"5\",\"5\",\"5\",\"2\",\"2\",\"5\",\"5\",\"5\",\"2\",\"7\",\"2\",\"7\",\"4\",\"2\",\"7\",\"2\",\"2\",\"2\",\"15\",\"5\",\"5\",\"5\",\"4\",\"5\",\"2\",\"5\",\"4\",\"5\",\"2\",\"2\",\"7\",\"5\",\"7\",\"2\",\"2\",\"5\",\"4\",\"5\",\"5\",\"15\",\"15\",\"2\",\"4\",\"2\",\"5\",\"5\",\"5\",\"5\",\"2\",\"2\",\"7\",\"7\",\"5\",\"15\",\"5\",\"5\",\"7\",\"15\",\"15\",\"5\",\"15\",\"5\",\"2\",\"7\",\"15\",\"15\",\"4\",\"15\",\"7\",\"15\",\"2\",\"5\",\"5\",\"5\",\"15\",\"5\",\"5\",\"5\",\"5\",\"5\",\"2\",\"15\",\"2\",\"5\",\"4\",\"4\",\"2\",\"5\",\"5\",\"5\",\"5\",\"5\",\"4\",\"15\",\"5\",\"15\",\"15\",\"2\",\"2\",\"2\",\"2\",\"5\",\"7\",\"2\",\"2\",\"5\",\"5\",\"5\",\"5\",\"5\",\"2\",\"5\",\"5\",\"15\",\"4\",\"2\",\"7\",\"5\",\"5\",\"4\",\"5\",\"4\",\"5\",\"5\",\"15\",\"7\",\"4\",\"15\",\"5\",\"2\",\"5\",\"15\",\"5\",\"2\",\"5\",\"2\",\"5\",\"15\",\"2\",\"4\",\"5\",\"15\",\"7\",\"4\",\"5\",\"5\",\"5\",\"5\",\"2\",\"4\",\"7\",\"5\",\"5\",\"5\",\"15\",\"4\",\"15\",\"7\",\"5\",\"5\",\"15\",\"5\",\"7\",\"5\",\"5\",\"15\",\"7\",\"5\",\"5\"],\"_global_locus\":{\"__ndarray__\":\"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\",\"dtype\":\"float64\",\"shape\":[198]},\"_pval\":{\"__ndarray__\":\"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\",\"dtype\":\"float64\",\"shape\":[198]},\"index\":[0,1,2,3,4,5,6,7,8,9,10,11,12,13,14,15,16,17,18,19,20,21,22,23,24,25,26,27,28,29,30,31,32,33,34,35,36,37,38,39,40,41,42,43,44,45,46,47,48,49,50,51,52,53,54,55,56,57,58,59,60,61,62,63,64,65,66,67,68,69,70,71,72,73,74,75,76,77,78,79,80,81,82,83,84,85,86,87,88,89,90,91,92,93,94,95,96,97,98,99,100,101,102,103,104,105,106,107,108,109,110,111,112,113,114,115,116,117,118,119,120,121,122,123,124,125,126,127,128,129,130,131,132,133,134,135,136,137,138,139,140,141,142,143,144,145,146,147,148,149,150,151,152,153,154,155,156,157,158,159,160,161,162,163,164,165,166,167,168,169,170,171,172,173,174,175,176,177,178,179,180,181,182,183,184,185,186,187,188,189,190,191,192,193,194,195,196,197],\"locus\":[\"4:54511847\",\"5:126629112\",\"15:66500484\",\"15:75029998\",\"5:126755339\",\"5:126793219\",\"5:126687822\",\"15:66433646\",\"5:126656324\",\"5:126782325\",\"5:126639432\",\"5:126664981\",\"5:126661380\",\"2:223033030\",\"15:75028233\",\"5:126632821\",\"4:54511246\",\"2:223033978\",\"7:17284577\",\"7:113987281\",\"5:126797404\",\"2:109511463\",\"2:109512364\",\"15:75028490\",\"5:126739427\",\"15:66485968\",\"4:54513106\",\"5:126662114\",\"5:126632848\",\"5:126689489\",\"5:126639097\",\"5:126640576\",\"2:109514459\",\"2:223035211\",\"5:126652710\",\"5:126731259\",\"5:126635055\",\"2:223033642\",\"7:113989202\",\"2:223034118\",\"7:17286087\",\"4:54513695\",\"2:223034758\",\"7:17286734\",\"2:223034082\",\"2:223032504\",\"2:109514105\",\"15:66489619\",\"5:126628098\",\"5:126726851\",\"5:126635667\",\"4:54511380\",\"5:126674613\",\"2:223033196\",\"5:126798461\",\"4:54510021\",\"5:126773064\",\"2:109514754\",\"2:109515567\",\"7:113991052\",\"5:126727008\",\"7:113988537\",\"2:223032943\",\"2:223032002\",\"5:126656500\",\"4:54511913\",\"5:126683883\",\"5:126654970\",\"15:66446529\",\"15:66338647\",\"2:109513601\",\"4:54514122\",\"2:109515229\",\"5:126698345\",\"5:126682039\",\"5:126740835\",\"5:126798856\",\"2:223035895\",\"2:223034770\",\"7:17285867\",\"7:17286817\",\"5:126769874\",\"15:66397022\",\"5:126639025\",\"5:126647941\",\"7:113989578\",\"15:66398794\",\"15:66459450\",\"5:126648201\",\"15:75029228\",\"5:126658500\",\"2:223034476\",\"7:113990628\",\"15:66534187\",\"15:75029840\",\"4:54512752\",\"15:66402599\",\"7:17284085\",\"15:75029399\",\"2:109514056\",\"5:126650182\",\"5:126688517\",\"5:126795246\",\"15:75025988\",\"5:126683809\",\"5:126635083\",\"5:126685374\",\"5:126746434\",\"5:126719845\",\"2:109514224\",\"15:66420174\",\"2:223033867\",\"5:126642675\",\"4:54512721\",\"4:54511042\",\"2:223032399\",\"5:126639591\",\"5:126797293\",\"5:126639801\",\"5:126780344\",\"5:126636211\",\"4:54513819\",\"15:75029986\",\"5:126628771\",\"15:66332288\",\"15:75030097\",\"2:223036258\",\"2:109514192\",\"2:223034660\",\"2:109514985\",\"5:126626645\",\"7:113990352\",\"2:223033396\",\"2:109511765\",\"5:126772748\",\"5:126631841\",\"5:126797292\",\"5:126664039\",\"5:126682354\",\"2:223036256\",\"5:126625548\",\"5:126630016\",\"15:66500990\",\"4:54510874\",\"2:109515729\",\"7:17286310\",\"5:126640246\",\"5:126798783\",\"4:54513660\",\"5:126667551\",\"4:54514026\",\"5:126655730\",\"5:126655749\",\"15:75026149\",\"7:17283561\",\"4:54511203\",\"15:66506698\",\"5:126630948\",\"2:223035940\",\"5:126641770\",\"15:75026280\",\"5:126651068\",\"2:223033006\",\"5:126629170\",\"2:223035313\",\"5:126627875\",\"15:66473838\",\"2:223034144\",\"4:54514062\",\"5:126661519\",\"15:66492063\",\"7:17284687\",\"4:54509759\",\"5:126646864\",\"5:126689438\",\"5:126641654\",\"5:126626044\",\"2:223032642\",\"4:54513755\",\"7:113989569\",\"5:126694437\",\"5:126642563\",\"5:126701622\",\"15:66463781\",\"4:54511711\",\"15:66370168\",\"7:17284989\",\"5:126795159\",\"5:126657217\",\"15:66545710\",\"5:126777362\",\"7:17286073\",\"5:126756161\",\"5:126628584\",\"15:75028233\",\"7:113991440\",\"5:126757463\",\"5:126668683\"],\"p_value\":{\"__ndarray__\":\"S4y24D/B4T/RfORSoVQjQCEzdRkCotM/WSypXLIN4D/gmyNQmVzGP/DZ8dp7G+k/9YssfhzHAECZexcixILEP+Dm6lplEPg/LcQZUb4F7j/eDI4uEcoFQMx4tOWVxwlAu2J8szZMAUCMAlfWMzwVQBjfNZUonbk/juVQyoftCEBv/0eCaj3tP8EkbvKWvhZAxrnpKmRJIkCE4T9LGbHlP/OlDbPI2OE/7OsvqVqTtz9ouJqsAcGiP0/U9iRdUOg/3xEktIsk0j9VzJvsgqnXP+/xFUXHQuc/3H/SSp1lDUBbCYRcTvkKQFUqb4RqSANA3nH7Y3AHBEC3f0x+C3kEQCEMW39E6dg/hoccWi9ZEkC8fSK5AQIKQA/5FNedUug/mz/LO0yCFUCua1mjU+MaQNzWrX5n5MM/XLQEqD5Kxz89LyHRMOHgP0HBrfguR8I/DHcmedwMBUDS3sWA3eutP+NZrMUzTDJA6AEsgdES8T9E6FRLCWXXP8TLhE2WEdw/V/taUx6BEkCgZuesxIDlP4j625OUdAhARIXFThWrtj8/0DYoWDH+P13NKUoLStw/Qm0/MV1tsj9fNH0fCVHQPwqtFkifL/U/v0HEmIwy0T/l1NLltP2/P7M0GBGuJ74/BfeT1ogI9z+ADzS8fTvnPzuVfSVD5N8/vulqoUZk5j9qCcuLskkNQAExQyZ+jBNATyXByA+m7D+iAfFTxsMMQDHF/CwChtE/F4eHjF1hvz8ojpO8p13hPy6H/JSi4LE/d1kQJVxBzT/wAsYdN6DyP7BTbR5Gp/Y/6YDy/FHq1D9oJYPT1fjXP/1bicabGqk/HLWYcfu8tz9ZUK8QCZr7PwAAAAAAAAAA1V+xbPqq2j95NPCF0QjlP/r0z9uGkvA/mnoj5sFrEEBtsqjUYOPkP/36z34yo8k/ZrlIJmdh4T9BPnlCAqMQQGgJn72gWuM//Q4vKhwo+T/ve6VAyybRP8l9BXjrl64/co/piBdpvT8WP09qs7bQP1G6+Ut5WuI/HyvngS976D9noDxWpkvtP2r6cJMs6eU/XR6OywFi1T8fM7p8CyP/P3tyByHrrvs/HOEO2vrd3T+PldFNIsLkP9hoFRa5vvU/plCgQ978DkASmhW0L2v5P1GaHwZdLss/uaPbxlsG2j9Ps5iwlLPIP9K4OL1OauU/U5noSmFH5T8Hld2FeGX6P/IrrxvO+9o/AD1bV48e5j8YUboYh9cJQE3ienltARBAJoNeuKjiwD/HhBuidHnzP8eYOkLdnOo/WGVxgEsKDkDJWOGdJv8MQAAAAAAAAAAAvdXSBTW3JkB9wWTf3AbgP/3ZDoOVOL8/DMQqHAuziD+RLplvSjzdPy3ucCZvuxdAdqQAA9Ub5D99QmKgTRAhQPmrAnVbuOI/avk+JMmdBkBMSGwEAevfP9neM6mJ5e8/uvKYgvAEEkCCNAtvleHiP1TmQXwgVwhAwdKiRYxH7D9y/GV07OnCP9lP1DwR3hFAERJ7LFqtI0BsjHymYbrjP2lOO+jWzBNA8G4GoErCsD8/sRx0D5THP+AVXFRBSQJAGkUAEg8azj81eLH0InrgP+7JvdkWXfA/aiycwrLI4z8h0+U3H1ULQLiGLLIdxQZA8gvpg8onyz/JyIW8pQi6PxPU37FuCeo/ahSMQRzS4j+8RpY6rAElQFVYqt6eQxRAz9y6jx868T/blmUs5mG1P03K48XRWfg/HjLwdfg+9D9cQlKj/fMUQBDQOY0MTxdATNEVgxgxJEBCKCjfdBmXP6+z6JQAxcs/TxvotIFOaz8rqkQTXibnP6KU+azpIto/L+3PJJECzz/6L/eX6EMRQFovgONZB/I/MBe4HVU6/z/QA5yIdvD1P0wd74M1fiRAgh0MSXQlCECnWbHhy5vGP7wwd989stU/vMVMkvOL9D9Pvfaq6ODzP17T0wI8OuM//rqSaDxnsT97SK9vI8nqP9EmSRq9U90/lNWjfF3z/T+KZz1R76bfP2yLrLCn5AtA5LAWlq0B0T8D4ouGTOLkPyTTbhEyB8A/VdBOUivGtT+d4aaHLQ4iQHfxbDkMVeE/AAAAAAAAAAAAAAAAAAAAAIIBxixuEAJA\",\"dtype\":\"float64\",\"shape\":[198]},\"ri\":[\"rs17730883\",\"rs4836318\",\"rs4074578\",\"rs76354137\",\"rs72790412\",\"rs10793809\",\"rs36308\",\"rs111307102\",\"rs3050850\",\"rs10072587\",\"rs2585195\",\"rs27749\",\"rs31471\",\"rs16863473\",\"rs145741270\",\"rs2585199\",\"rs2616389\",\"rs2196751\",\"rs4410790\",\"rs1527146\",\"rs4836324\",\"rs200762071\",\"rs10206737\",\"rs11072500\",\"rs60153933\",\"rs61658154\",\"rs2668550\",\"rs26945\",\"rs2585198\",\"rs26946\",\"rs2546807\",\"rs2546080\",\"rs10172033\",\"rs5838931\",\"rs246945\",\"rs13171067\",\"rs1808378\",\"rs2218064\",\"rs117717824\",\"rs77212399\",\"rs79694830\",\"rs75912591\",\"rs71050391\",\"rs73680638\",\"rs2218065\",\"rs36054640\",\"rs6542783\",\"rs4776760\",\"rs2194079\",\"rs1318923\",\"rs1345662\",\"rs112839755\",\"rs27782\",\"rs13411329\",\"rs111867141\",\"rs75718680\",\"rs6859304\",\"rs4676219\",\"rs76935644\",\"rs536563232\",\"rs1019482\",\"rs2690826\",\"rs16863471\",\"rs7607981\",\"rs152120\",\"rs4864809\",\"rs27652\",\"rs246885\",\"rs78470492\",\"rs167997\",\"rs3827760\",\"rs75893784\",\"rs79444434\",\"rs35526\",\"rs246895\",\"rs74381320\",\"rs73348777\",\"rs140320063\",\"rs201276449\",\"rs10281571\",\"rs532738234\",\"rs10078629\",\"rs6494552\",\"rs2546079\",\"rs1422316\",\"rs2690827\",\"rs4776728\",\"rs2169629\",\"rs1422317\",\"rs77021813\",\"rs152122\",\"rs10194919\",\"rs115859384\",\"rs16949728\",\"rs116979601\",\"rs2590773\",\"rs4776732\",\"rs6943079\",\"rs8030076\",\"rs2169812\",\"rs1345663\",\"rs185033\",\"rs3756722\",\"rs4886605\",\"rs27388\",\"rs2018571\",\"rs550745558\",\"rs3851469\",\"rs10519936\",\"rs78249499\",\"rs7179044\",\"rs80199364\",\"rs2546084\",\"rs73250977\",\"rs2590770\",\"rs986429\",\"rs2431496\",\"rs188714805\",\"rs2431724\",\"rs10519941\",\"rs2546809\",\"rs6858782\",\"rs558987649\",\"rs4836317\",\"rs534981188\",\"rs142764751\",\"rs551240079\",\"rs2378217\",\"rs985473\",\"rs11689836\",\"rs2032834\",\"rs2049604\",\"rs11895863\",\"rs10865025\",\"rs12514969\",\"rs2585200\",\"rs4836323\",\"rs36307\",\"rs246894\",\"rs79922615\",\"rs2408868\",\"rs1422313\",\"rs35615386\",\"rs6816209\",\"rs534417592\",\"rs111886830\",\"rs1816059\",\"rs17444885\",\"rs17663341\",\"rs27562\",\"rs79162003\",\"rs246886\",\"rs246887\",\"rs17861118\",\"rs568478767\",\"rs2590771\",\"rs1003990\",\"rs2059083\",\"rs11690945\",\"rs2585193\",\"rs7496533\",\"rs246943\",\"rs529478087\",\"rs12519784\",\"rs66885466\",\"rs4836316\",\"rs572988549\",\"rs116514046\",\"rs559531437\",\"rs10550881\",\"rs4776762\",\"rs77000981\",\"rs6818959\",\"rs2161283\",\"rs1160960\",\"rs2546082\",\"rs1363387\",\"rs986430\",\"rs77629803\",\"rs1916976\",\"rs26947\",\"rs2546083\",\"rs35524\",\"rs183035678\",\"rs2668551\",\"rs142667343\",\"rs10277582\",\"rs3756721\",\"rs152121\",\"rs112753173\",\"rs59745564\",\"rs188812273\",\"rs74823398\",\"rs112394041\",\"rs145741270\",\"rs529657511\",\"rs180947454\",\"rs2546078\"]},\"selected\":{\"id\":\"1244\",\"type\":\"Selection\"},\"selection_policy\":{\"id\":\"1243\",\"type\":\"UnionRenderers\"}},\"id\":\"1196\",\"type\":\"ColumnDataSource\"},{\"attributes\":{},\"id\":\"1167\",\"type\":\"LinearScale\"},{\"attributes\":{},\"id\":\"1241\",\"type\":\"BasicTickFormatter\"},{\"attributes\":{},\"id\":\"1172\",\"type\":\"BasicTicker\"}],\"root_ids\":[\"1161\"]},\"title\":\"Bokeh Application\",\"version\":\"1.2.0\"}};\n",
       "  var render_items = [{\"docid\":\"bda14b34-b4fe-43ff-b25d-4eb6f8da7497\",\"roots\":{\"1161\":\"e95799d3-2465-449f-a89a-a0b2368b56cd\"}}];\n",
       "  root.Bokeh.embed.embed_items_notebook(docs_json, render_items);\n",
       "\n",
       "  }\n",
       "  if (root.Bokeh !== undefined) {\n",
       "    embed_document(root);\n",
       "  } else {\n",
       "    var attempts = 0;\n",
       "    var timer = setInterval(function(root) {\n",
       "      if (root.Bokeh !== undefined) {\n",
       "        embed_document(root);\n",
       "        clearInterval(timer);\n",
       "      }\n",
       "      attempts++;\n",
       "      if (attempts > 100) {\n",
       "        console.log(\"Bokeh: ERROR: Unable to run BokehJS code because BokehJS library is missing\");\n",
       "        clearInterval(timer);\n",
       "      }\n",
       "    }, 10, root)\n",
       "  }\n",
       "})(window);"
      ],
      "application/vnd.bokehjs_exec.v0+json": ""
     },
     "metadata": {
      "application/vnd.bokehjs_exec.v0+json": {
       "id": "1161"
      }
     },
     "output_type": "display_data"
    }
   ],
   "source": [
    "import varspark.hail.plot as vshlplt\n",
    "p = vshlplt.manhattan_imp(gwas_with_imp.importance, \n",
    "                            hover_fields=dict(ri=gwas_with_imp.rsid),\n",
    "                            significance_line = None)\n",
    "show(p)"
   ]
  },
  {
   "cell_type": "markdown",
   "metadata": {},
   "source": [
    "_Fig 2: Manhattan plot for rf gin importance values._"
   ]
  },
  {
   "cell_type": "markdown",
   "metadata": {},
   "source": [
    "## Compare logistc regression values vs. rf importance"
   ]
  },
  {
   "cell_type": "code",
   "execution_count": 16,
   "metadata": {},
   "outputs": [
    {
     "data": {
      "text/html": [
       "\n",
       "\n",
       "\n",
       "\n",
       "\n",
       "\n",
       "  <div class=\"bk-root\" id=\"0563f2b1-b647-45ef-b2db-2eb2a63773d6\" data-root-id=\"1326\"></div>\n"
      ]
     },
     "metadata": {},
     "output_type": "display_data"
    },
    {
     "data": {
      "application/javascript": [
       "(function(root) {\n",
       "  function embed_document(root) {\n",
       "    \n",
       "  var docs_json = {\"b9dcd2f3-8dda-495c-8a25-df627818ffb9\":{\"roots\":{\"references\":[{\"attributes\":{\"below\":[{\"id\":\"1336\",\"type\":\"LinearAxis\"}],\"center\":[{\"id\":\"1340\",\"type\":\"Grid\"},{\"id\":\"1345\",\"type\":\"Grid\"}],\"left\":[{\"id\":\"1341\",\"type\":\"LinearAxis\"}],\"plot_height\":800,\"plot_width\":800,\"renderers\":[{\"id\":\"1365\",\"type\":\"GlyphRenderer\"}],\"title\":null,\"toolbar\":{\"id\":\"1352\",\"type\":\"Toolbar\"},\"x_range\":{\"id\":\"1328\",\"type\":\"DataRange1d\"},\"x_scale\":{\"id\":\"1332\",\"type\":\"LinearScale\"},\"y_range\":{\"id\":\"1330\",\"type\":\"DataRange1d\"},\"y_scale\":{\"id\":\"1334\",\"type\":\"LinearScale\"}},\"id\":\"1326\",\"subtype\":\"Figure\",\"type\":\"Plot\"},{\"attributes\":{},\"id\":\"1391\",\"type\":\"UnionRenderers\"},{\"attributes\":{\"source\":{\"id\":\"1361\",\"type\":\"ColumnDataSource\"}},\"id\":\"1366\",\"type\":\"CDSView\"},{\"attributes\":{},\"id\":\"1334\",\"type\":\"LinearScale\"},{\"attributes\":{\"fill_color\":{\"value\":\"#1f77b4\"},\"line_color\":{\"value\":\"#1f77b4\"},\"x\":{\"field\":\"x\"},\"y\":{\"field\":\"y\"}},\"id\":\"1363\",\"type\":\"Circle\"},{\"attributes\":{\"axis_label\":\"-log10(p-value)\",\"formatter\":{\"id\":\"1388\",\"type\":\"BasicTickFormatter\"},\"ticker\":{\"id\":\"1337\",\"type\":\"BasicTicker\"}},\"id\":\"1336\",\"type\":\"LinearAxis\"},{\"attributes\":{\"bottom_units\":\"screen\",\"fill_alpha\":{\"value\":0.5},\"fill_color\":{\"value\":\"lightgrey\"},\"left_units\":\"screen\",\"level\":\"overlay\",\"line_alpha\":{\"value\":1.0},\"line_color\":{\"value\":\"black\"},\"line_dash\":[4,4],\"line_width\":{\"value\":2},\"render_mode\":\"css\",\"right_units\":\"screen\",\"top_units\":\"screen\"},\"id\":\"1390\",\"type\":\"BoxAnnotation\"},{\"attributes\":{\"overlay\":{\"id\":\"1390\",\"type\":\"BoxAnnotation\"}},\"id\":\"1348\",\"type\":\"BoxZoomTool\"},{\"attributes\":{\"dimension\":1,\"ticker\":{\"id\":\"1342\",\"type\":\"BasicTicker\"}},\"id\":\"1345\",\"type\":\"Grid\"},{\"attributes\":{},\"id\":\"1386\",\"type\":\"BasicTickFormatter\"},{\"attributes\":{},\"id\":\"1332\",\"type\":\"LinearScale\"},{\"attributes\":{\"data_source\":{\"id\":\"1361\",\"type\":\"ColumnDataSource\"},\"glyph\":{\"id\":\"1363\",\"type\":\"Circle\"},\"hover_glyph\":null,\"muted_glyph\":null,\"nonselection_glyph\":{\"id\":\"1364\",\"type\":\"Circle\"},\"selection_glyph\":null,\"view\":{\"id\":\"1366\",\"type\":\"CDSView\"}},\"id\":\"1365\",\"type\":\"GlyphRenderer\"},{\"attributes\":{},\"id\":\"1392\",\"type\":\"Selection\"},{\"attributes\":{\"fill_alpha\":{\"value\":0.1},\"fill_color\":{\"value\":\"#1f77b4\"},\"line_alpha\":{\"value\":0.1},\"line_color\":{\"value\":\"#1f77b4\"},\"x\":{\"field\":\"x\"},\"y\":{\"field\":\"y\"}},\"id\":\"1364\",\"type\":\"Circle\"},{\"attributes\":{},\"id\":\"1349\",\"type\":\"SaveTool\"},{\"attributes\":{\"callback\":null},\"id\":\"1328\",\"type\":\"DataRange1d\"},{\"attributes\":{},\"id\":\"1350\",\"type\":\"ResetTool\"},{\"attributes\":{},\"id\":\"1351\",\"type\":\"HelpTool\"},{\"attributes\":{\"callback\":null,\"tooltips\":[[\"x\",\"@x\"],[\"y\",\"@y\"],[\"loc\",\"@loc\"],[\"rs\",\"@rs\"]]},\"id\":\"1360\",\"type\":\"HoverTool\"},{\"attributes\":{\"active_drag\":\"auto\",\"active_inspect\":\"auto\",\"active_multi\":null,\"active_scroll\":\"auto\",\"active_tap\":\"auto\",\"tools\":[{\"id\":\"1346\",\"type\":\"PanTool\"},{\"id\":\"1347\",\"type\":\"WheelZoomTool\"},{\"id\":\"1348\",\"type\":\"BoxZoomTool\"},{\"id\":\"1349\",\"type\":\"SaveTool\"},{\"id\":\"1350\",\"type\":\"ResetTool\"},{\"id\":\"1351\",\"type\":\"HelpTool\"},{\"id\":\"1360\",\"type\":\"HoverTool\"}]},\"id\":\"1352\",\"type\":\"Toolbar\"},{\"attributes\":{\"ticker\":{\"id\":\"1337\",\"type\":\"BasicTicker\"}},\"id\":\"1340\",\"type\":\"Grid\"},{\"attributes\":{},\"id\":\"1342\",\"type\":\"BasicTicker\"},{\"attributes\":{\"callback\":null,\"data\":{\"index\":[0,1,2,3,4,5,6,7,8,9,10,11,12,13,14,15,16,17,18,19,20,21,22,23,24,25,26,27,28,29,30,31,32,33,34,35,36,37,38,39,40,41,42,43,44,45,46,47,48,49,50,51,52,53,54,55,56,57,58,59,60,61,62,63,64,65,66,67,68,69,70,71,72,73,74,75,76,77,78,79,80,81,82,83,84,85,86,87,88,89,90,91,92,93,94,95,96,97,98,99,100,101,102,103,104,105,106,107,108,109,110,111,112,113,114,115,116,117,118,119,120,121,122,123,124,125,126,127,128,129,130,131,132,133,134,135,136,137,138,139,140,141,142,143,144,145,146,147,148,149,150,151,152,153,154,155,156,157,158,159,160,161,162,163,164,165,166,167,168,169,170,171,172,173,174,175,176,177,178,179,180,181,182,183,184,185,186,187,188,189,190,191,192,193,194,195,196,197,198,199,200,201,202,203,204,205,206,207,208,209,210,211,212,213,214,215,216,217,218,219,220,221,222,223,224,225,226,227,228,229,230,231,232,233,234,235,236,237,238,239,240,241,242,243,244,245,246,247,248,249,250,251,252,253,254,255,256,257,258,259,260,261,262,263,264,265,266,267,268,269,270,271,272,273,274,275,276,277,278,279,280,281,282,283,284,285,286,287,288,289,290,291,292,293,294,295,296,297,298,299,300,301,302,303,304,305,306,307,308,309,310,311,312,313,314,315,316,317,318,319,320,321,322,323,324,325,326,327,328,329,330,331,332,333,334,335,336,337,338,339,340,341,342,343,344,345,346,347,348,349,350,351,352,353,354,355,356,357,358,359,360,361,362,363,364,365,366,367,368,369,370,371,372,373,374,375,376,377,378,379,380,381,382,383,384,385,386,387,388,389,390,391,392,393,394,395,396,397,398,399,400,401,402,403,404,405,406,407,408,409,410,411,412,413,414,415,416,417,418,419,420,421,422,423,424,425,426,427,428,429,430,431,432,433,434,435,436,437,438,439,440,441,442,443,444,445,446,447,448,449,450,451,452,453,454,455,456,457,458,459,460,461,462,463,464,465,466,467,468,469,470,471,472,473,474,475,476,477,478,479,480,481,482,483,484,485,486,487,488,489,490,491,492,493,494,495,496,497,498,499,500,501,502,503,504,505,506,507,508,509,510,511,512,513,514,515,516,517,518,519,520,521,522,523,524,525,526,527,528,529,530,531,532,533,534,535,536,537,538,539,540,541,542,543,544,545,546,547,548,549,550,551,552,553,554,555,556,557,558,559,560,561,562,563,564,565,566,567,568,569,570,571,572,573,574,575,576,577,578,579,580,581,582,583,584,585,586,587,588,589,590,591,592,593,594,595,596,597,598,599,600,601,602,603,604,605,606,607,608,609,610,611,612,613,614,615,616,617,618,619,620,621,622,623,624,625,626,627],\"loc\":[\"15:66447580\",\"15:66402599\",\"15:66455902\",\"5:126640971\",\"15:66540943\",\"15:66370565\",\"15:66277821\",\"15:66545218\",\"15:66348377\",\"5:126643590\",\"15:66494468\",\"5:126632848\",\"15:66446316\",\"4:54510874\",\"5:126642675\",\"15:66522190\",\"2:223034082\",\"5:126661519\",\"15:66490576\",\"15:66494689\",\"15:66491652\",\"15:66449456\",\"5:126651068\",\"15:66357458\",\"5:126639097\",\"5:126669209\",\"15:66213698\",\"15:66327556\",\"15:66341925\",\"5:126656324\",\"15:66435619\",\"15:66522474\",\"15:66456876\",\"15:66393276\",\"15:66417805\",\"5:126710915\",\"15:75027880\",\"15:66418299\",\"5:126792974\",\"5:126636000\",\"15:66267469\",\"4:54511913\",\"5:126769546\",\"5:126768216\",\"15:66304415\",\"15:66528324\",\"15:66358474\",\"15:66524049\",\"15:66459996\",\"5:126735430\",\"5:126631841\",\"5:126631736\",\"5:126794256\",\"5:126727008\",\"5:126639801\",\"15:66412230\",\"5:126798558\",\"5:126698345\",\"15:66490835\",\"5:126697755\",\"2:223032002\",\"5:126745230\",\"15:66386490\",\"15:66397542\",\"5:126644401\",\"2:109513601\",\"5:126683809\",\"15:66514418\",\"5:126744956\",\"15:66339400\",\"15:66333100\",\"5:126697604\",\"15:66303530\",\"5:126693265\",\"15:66366950\",\"15:66465264\",\"15:66475985\",\"15:66249807\",\"15:66424209\",\"7:113988537\",\"15:66253785\",\"15:66505276\",\"15:66535499\",\"5:126729450\",\"15:66465803\",\"15:66404093\",\"5:126654062\",\"15:66348389\",\"15:66479117\",\"15:66408286\",\"15:66415328\",\"15:66339047\",\"5:126680343\",\"5:126713824\",\"15:66492063\",\"5:126655361\",\"15:66533342\",\"5:126634444\",\"5:126635055\",\"15:66397242\",\"5:126772748\",\"15:66421138\",\"15:66272605\",\"5:126644681\",\"15:66462352\",\"15:66323983\",\"5:126793219\",\"15:66475264\",\"5:126773064\",\"2:223033867\",\"15:66301813\",\"15:66537245\",\"15:66438961\",\"15:66541075\",\"5:126796585\",\"4:54513106\",\"2:223032642\",\"15:66527398\",\"5:126663406\",\"15:66490680\",\"15:66416823\",\"5:126627875\",\"15:66441238\",\"15:66405261\",\"5:126633436\",\"15:66330447\",\"5:126639269\",\"5:126630016\",\"15:66280985\",\"5:126698023\",\"15:66345400\",\"2:223033006\",\"15:66372623\",\"15:66375010\",\"15:66264162\",\"5:126679697\",\"5:126739085\",\"15:66269700\",\"15:66321141\",\"15:66461531\",\"15:66356925\",\"15:66405855\",\"15:66420969\",\"15:66359710\",\"4:54510427\",\"4:54511711\",\"15:66438085\",\"2:223033030\",\"5:126629112\",\"15:66312149\",\"15:66323837\",\"15:66522358\",\"5:126710204\",\"15:66456455\",\"15:66361688\",\"5:126731876\",\"15:66281785\",\"15:66331548\",\"15:66355471\",\"5:126657432\",\"15:66527332\",\"15:66271179\",\"5:126626288\",\"5:126657217\",\"15:66513852\",\"5:126642920\",\"15:66485337\",\"5:126653950\",\"15:75029228\",\"5:126689489\",\"5:126625548\",\"15:66513452\",\"5:126639196\",\"15:66442953\",\"15:66445273\",\"15:66474044\",\"15:66533587\",\"5:126695127\",\"5:126667126\",\"5:126797404\",\"15:66491227\",\"5:126640205\",\"5:126733924\",\"15:66533723\",\"15:66508959\",\"15:66443438\",\"15:66360428\",\"5:126775739\",\"15:66476229\",\"15:66425039\",\"15:66378251\",\"15:66541771\",\"15:66524011\",\"5:126668683\",\"15:66357627\",\"15:66512166\",\"15:66264965\",\"15:66388880\",\"5:126699347\",\"5:126797292\",\"5:126661600\",\"15:66450831\",\"5:126650182\",\"5:126655730\",\"15:66538917\",\"15:66349799\",\"15:66326021\",\"15:66331497\",\"5:126654623\",\"5:126641296\",\"15:66496426\",\"5:126642148\",\"5:126727418\",\"15:66342629\",\"15:66352479\",\"15:66463708\",\"15:66547641\",\"15:66272893\",\"15:66488288\",\"15:66337176\",\"15:66269504\",\"15:66304916\",\"15:75029998\",\"15:66343372\",\"15:66319407\",\"15:75028536\",\"15:66325800\",\"15:66356577\",\"15:66392624\",\"15:66508895\",\"15:66538519\",\"15:66270890\",\"15:66314450\",\"2:223034758\",\"15:75029399\",\"15:66428824\",\"5:126769874\",\"15:75027179\",\"2:223035940\",\"5:126678028\",\"15:66503694\",\"15:66531211\",\"15:66532085\",\"15:66513112\",\"15:66524433\",\"15:66395918\",\"15:66403053\",\"15:66471803\",\"15:66448249\",\"15:66432800\",\"5:126636782\",\"2:223035313\",\"5:126772022\",\"15:66499109\",\"15:66492156\",\"15:66523150\",\"15:66516978\",\"15:66417100\",\"5:126687822\",\"5:126681193\",\"5:126674613\",\"15:75029407\",\"5:126625592\",\"15:66485419\",\"15:66503667\",\"15:66260894\",\"15:66403531\",\"15:66351526\",\"5:126644396\",\"5:126636211\",\"5:126782325\",\"15:66256784\",\"5:126666529\",\"7:17284085\",\"15:66481261\",\"15:66339584\",\"5:126679402\",\"15:66469939\",\"15:66516481\",\"15:66327311\",\"5:126777362\",\"15:66494495\",\"5:126635667\",\"5:126630875\",\"5:126661380\",\"5:126652742\",\"5:126730533\",\"15:66443440\",\"5:126675068\",\"15:66391818\",\"15:66493685\",\"15:66358115\",\"15:66375414\",\"15:66429806\",\"15:66277267\",\"5:126726851\",\"15:66372477\",\"15:66527853\",\"15:66351965\",\"5:126640246\",\"15:66217240\",\"15:66491863\",\"15:66412075\",\"5:126647941\",\"5:126705920\",\"5:126773180\",\"5:126625593\",\"15:66526289\",\"15:66544337\",\"15:66487263\",\"5:126642563\",\"5:126644632\",\"15:66502665\",\"15:66381494\",\"5:126798501\",\"5:126694523\",\"15:66501793\",\"15:66499859\",\"15:66425000\",\"5:126698070\",\"15:66459860\",\"7:17284989\",\"15:66491961\",\"5:126648201\",\"7:17285867\",\"15:66344358\",\"15:66467291\",\"5:126722859\",\"15:66260480\",\"15:66346707\",\"5:126633404\",\"15:66271772\",\"15:75027432\",\"15:66405532\",\"15:66465816\",\"15:66335508\",\"15:66325697\",\"5:126693280\",\"15:66531427\",\"5:126683590\",\"4:54512752\",\"5:126688726\",\"5:126625758\",\"15:66185803\",\"5:126658500\",\"15:66514155\",\"15:66525826\",\"15:66480035\",\"15:66327924\",\"15:66322702\",\"4:54513819\",\"5:126656500\",\"15:66326871\",\"5:126645343\",\"7:17284577\",\"15:66540520\",\"5:126697138\",\"15:66335837\",\"15:66443385\",\"15:66224813\",\"15:75025988\",\"15:66496797\",\"15:66258194\",\"5:126683883\",\"5:126685374\",\"5:126635083\",\"5:126626044\",\"15:66271824\",\"5:126751728\",\"15:66465825\",\"15:66441275\",\"15:66272042\",\"15:66415107\",\"5:126686756\",\"15:66301934\",\"15:66483512\",\"2:223033642\",\"5:126637872\",\"15:66357980\",\"15:66221782\",\"15:66443747\",\"5:126657766\",\"15:66303141\",\"5:126628584\",\"15:66315478\",\"15:66478368\",\"4:54511246\",\"5:126640576\",\"15:66384263\",\"5:126630948\",\"15:75025814\",\"15:66477900\",\"4:54512170\",\"15:66444003\",\"5:126645705\",\"15:66337657\",\"15:66443204\",\"5:126626645\",\"15:66534154\",\"15:66527843\",\"15:66307304\",\"5:126646864\",\"15:66470143\",\"15:66272491\",\"15:66434797\",\"5:126667268\",\"5:126637782\",\"15:66482259\",\"15:66368339\",\"15:66503705\",\"15:66529223\",\"5:126796531\",\"15:66396121\",\"15:66389266\",\"15:66514010\",\"4:54509759\",\"15:66472958\",\"15:66516181\",\"5:126639135\",\"15:66540158\",\"5:126654970\",\"15:66408628\",\"5:126796977\",\"5:126735334\",\"15:66520931\",\"15:66330946\",\"15:66401184\",\"15:66502054\",\"5:126672710\",\"15:66478029\",\"5:126652407\",\"15:66449429\",\"5:126639591\",\"15:66267583\",\"2:223034476\",\"15:66367198\",\"15:66371877\",\"15:66496094\",\"2:223033196\",\"5:126785338\",\"5:126776307\",\"15:66381177\",\"5:126721236\",\"15:66448456\",\"2:109513786\",\"15:66349495\",\"7:113987281\",\"5:126724427\",\"15:66423068\",\"7:113987889\",\"5:126688400\",\"5:126667551\",\"15:75028490\",\"15:66542039\",\"5:126713994\",\"5:126645646\",\"15:66340274\",\"5:126798856\",\"5:126689269\",\"5:126662114\",\"15:66366698\",\"15:66374639\",\"15:66432949\",\"5:126794160\",\"15:66447591\",\"5:126731259\",\"15:66313550\",\"5:126639432\",\"15:66438682\",\"15:66443832\",\"5:126675780\",\"15:66259809\",\"15:66372645\",\"15:66408407\",\"15:66372939\",\"15:66498025\",\"5:126656998\",\"7:17282974\",\"15:66506429\",\"15:66430033\",\"5:126725568\",\"15:66400117\",\"15:66479252\",\"5:126775462\",\"5:126628098\",\"5:126662370\",\"5:126661774\",\"5:126664039\",\"4:54511203\",\"15:66496254\",\"5:126655749\",\"5:126632821\",\"5:126684179\",\"5:126795246\",\"15:66389121\",\"5:126774940\",\"5:126669004\",\"5:126785305\",\"15:66329929\",\"15:66264100\",\"15:66348983\",\"7:113990352\",\"15:66488987\",\"5:126780212\",\"15:66511003\",\"5:126644769\",\"15:66340499\",\"15:66420191\",\"15:66407022\",\"5:126723562\",\"5:126633827\",\"5:126636244\",\"15:66331493\",\"15:66544812\",\"15:66545710\",\"15:66346142\",\"5:126683416\",\"7:17284687\",\"5:126689935\",\"15:66329001\",\"5:126660301\",\"5:126682039\",\"2:223032504\",\"15:66544823\",\"5:126645738\",\"15:66317418\",\"15:66327646\",\"15:66479057\",\"15:66337034\",\"15:66317465\",\"15:66481072\",\"5:126654751\",\"5:126767961\",\"15:66466436\",\"15:66405053\",\"15:66516711\",\"5:126652710\",\"15:66359605\",\"15:66478017\",\"5:126630491\",\"15:66465728\",\"5:126664014\",\"15:66271429\",\"5:126694437\",\"5:126688517\",\"5:126789986\",\"5:126641654\",\"15:66538731\",\"15:66443736\",\"5:126635437\",\"5:126689438\",\"5:126645334\",\"15:66481349\",\"15:66335798\",\"5:126734365\",\"15:66540097\",\"15:66269804\",\"15:66480216\",\"15:66369784\",\"5:126641770\",\"2:223034660\",\"5:126639025\",\"15:66380254\",\"15:66455366\",\"15:66479763\",\"5:126631791\",\"15:66453760\",\"5:126644552\",\"5:126795159\",\"15:66483393\",\"5:126706883\",\"15:66388878\",\"5:126749949\",\"15:66321395\",\"5:126659892\",\"5:126682354\",\"2:109513654\",\"15:66524462\",\"5:126628771\",\"15:66397544\",\"15:66403098\",\"15:66542115\",\"5:126629170\",\"5:126717984\",\"15:66476657\",\"15:66454686\",\"5:126725054\",\"15:66489538\",\"15:66443803\",\"15:66383667\",\"15:66480107\",\"5:126775113\",\"15:66357425\",\"15:66500437\",\"5:126653809\",\"5:126689790\",\"15:66403362\",\"15:66537440\",\"15:66272490\",\"5:126726847\",\"15:66364907\",\"2:223035211\",\"15:66452847\",\"5:126780344\",\"15:66534646\",\"5:126701622\",\"5:126664981\",\"15:66527724\",\"2:223033396\",\"15:66335979\",\"15:66473865\",\"15:66509327\",\"15:66325728\",\"2:223033978\",\"15:66531458\",\"4:54514026\",\"15:66503636\",\"2:223032399\",\"5:126783557\",\"15:66420174\",\"5:126633958\",\"5:126715151\",\"15:66313284\",\"5:126715759\",\"5:126687687\",\"5:126653607\",\"5:126650805\",\"15:66530732\"],\"rs\":[\"rs369429142\",\"rs4776732\",\"rs376495292\",\"rs2546081\",\"rs1531495\",\"rs12901123\",\"rs17239768\",\"rs968467\",\"rs6494543\",\"rs2585191\",\"rs72744497\",\"rs2585198\",\"rs74697753\",\"rs6816209\",\"rs2546084\",\"rs28729796\",\"rs2218065\",\"rs10550881\",\"rs34393546\",\"rs58460739\",\"rs10400920\",\"rs11632584\",\"rs246943\",\"rs1351032\",\"rs2546807\",\"rs145619126\",\"rs16949100\",\"rs333590\",\"rs333608\",\"rs3050850\",\"rs188723943\",\"rs12915058\",\"rs75211389\",\"rs114445188\",\"rs17241901\",\"rs34537147\",\"rs2472297\",\"rs74366425\",\"rs3812052\",\"rs7702573\",\"rs409309\",\"rs4864809\",\"rs60901740\",\"rs74446721\",\"rs200610808;rs60047521\",\"rs12439257\",\"rs8036078\",\"rs2126701\",\"rs146994991\",\"rs251031\",\"rs2585200\",\"rs17165103\",\"rs17164925\",\"rs1019482\",\"rs2431724\",\"rs4776735\",\"rs17164922\",\"rs35526\",\"rs7180336\",\"rs78259230\",\"rs7607981\",\"rs3844184\",\"rs78351370\",\"rs182742142\",\"rs2546803\",\"rs3827760\",\"rs27388\",\"rs7183784\",\"rs56320297\",\"rs333603\",\"rs170781\",\"rs72788513\",\"rs333575\",\"rs246892\",\"rs4776714\",\"rs16949590\",\"rs11071867\",\"rs333569\",\"rs4776739\",\"rs2690826\",\"rs72742835\",\"rs1466434\",\"rs75881301\",\"rs143954261\",\"rs35858133\",\"rs12594036\",\"rs185032\",\"rs12148233\",\"rs140957869\",\"rs7167774\",\"rs193037168\",\"rs333602\",\"rs76290412\",\"rs35530\",\"rs4776762\",\"rs73785580\",\"rs7169939\",\"rs2194080\",\"rs1808378\",\"rs35478778\",\"rs12514969\",\"rs118000025\",\"rs437111\",\"rs2254762\",\"rs566112961;rs546156411\",\"rs181517143\",\"rs10793809\",\"rs8030058\",\"rs6859304\",\"rs80199364\",\"rs2552181\",\"rs1399013\",\"rs35259179\",\"rs7164161\",\"rs2898043\",\"rs2668550\",\"rs986430\",\"rs1531498\",\"rs11285616\",\"rs78638359\",\"rs4776736\",\"rs4836316\",\"rs16949561\",\"rs56176602\",\"rs970546\",\"rs333594\",\"rs56084567\",\"rs1422313\",\"rs333572\",\"rs35156178\",\"rs2571354\",\"rs529478087\",\"rs62011777\",\"rs573618864\",\"rs333560\",\"rs246896\",\"rs6877254\",\"rs693217\",\"rs333581\",\"rs7182128\",\"rs11856955\",\"rs28411692\",\"rs71398249\",\"rs11633172\",\"rs2668552\",\"rs2668551\",\"rs7181974\",\"rs16863473\",\"rs4836318\",\"rs333610\",\"rs333584\",\"rs12915138\",\"rs112609571\",\"rs28664703\",\"rs149531552\",\"rs2059084\",\"rs333573\",\"rs333596\",\"rs112183903\",\"rs246889\",\"rs73477560\",\"rs55749436\",\"rs142722272\",\"rs152121\",\"rs80253188\",\"rs2546085\",\"rs77658335\",\"rs246948\",\"rs77021813\",\"rs26946\",\"rs2408868\",\"rs72746219\",\"rs56169866\",\"rs550598582;rs571338567\",\"rs7169464\",\"rs4776758\",\"rs57771609\",\"rs35528\",\"rs10519949\",\"rs4836324\",\"rs4776287\",\"rs1816058\",\"rs78811203\",\"rs7176400\",\"rs57467781\",\"rs189470042\",\"rs1550029\",\"rs13190032\",\"rs115227715\",\"rs55993706\",\"rs201053654\",\"rs55865344\",\"rs74887961\",\"rs2546078\",\"rs539178226\",\"rs7170633\",\"rs183481\",\"rs573989361\",\"rs35525\",\"rs4836323\",\"rs33930493\",\"rs4238402\",\"rs1345663\",\"rs246886\",\"rs58788302\",\"rs521504\",\"rs113967087\",\"rs390919\",\"rs2439927\",\"rs2585194\",\"rs36034475\",\"rs2585192\",\"rs1153432\",\"rs77555548\",\"rs1036367\",\"rs7176702\",\"rs1871006\",\"rs449841\",\"rs4238403\",\"rs179691\",\"rs372969314\",\"rs441949\",\"rs76354137\",\"rs5016832\",\"rs12911707\",\"rs112697364\",\"rs28858762\",\"rs12148577\",\"rs118069823\",\"rs55922529\",\"rs2414900\",\"rs405857\",\"rs167996\",\"rs71050391\",\"rs8030076\",\"rs17254697\",\"rs10078629\",\"rs17861120\",\"rs11690945\",\"rs17839696\",\"rs28701902\",\"rs12916788\",\"rs12324050\",\"rs112147705\",\"rs11631757\",\"rs74589474\",\"rs143567848\",\"rs58838384\",\"rs73469746\",\"rs4776281\",\"rs17165082\",\"rs66885466\",\"rs77553879\",\"rs2086035\",\"rs1382053\",\"rs12900781\",\"rs201260840\",\"rs74021626\",\"rs36308\",\"rs114244425\",\"rs27782\",\"rs8029744\",\"rs183280201\",\"rs118056499\",\"rs12916877\",\"rs333556\",\"rs17241679\",\"rs4776712\",\"rs2546802\",\"rs2546809\",\"rs10072587\",\"rs16949168\",\"rs551009886;rs6862045\",\"rs6943079\",\"rs8035387\",\"rs333604\",\"rs246897\",\"rs76364406\",\"rs11637903\",\"rs333589\",\"rs59745564\",\"rs74787605\",\"rs1345662\",\"rs146140674\",\"rs31471\",\"rs246946\",\"rs68035691\",\"rs28713776\",\"rs17673170\",\"rs8028460\",\"rs1026670\",\"rs6494547\",\"rs62011839\",\"rs4776744\",\"rs11635708\",\"rs1318923\",\"rs8035662\",\"rs5813385\",\"rs6494545\",\"rs1816059\",\"rs12903123\",\"rs4776289\",\"rs73487505\",\"rs1422316\",\"rs1422318\",\"rs6859181\",\"rs187467669\",\"rs72149070\",\"rs139499244\",\"rs35960122\",\"rs2546083\",\"rs72786459\",\"rs115559669\",\"rs140396483\",\"rs150008348\",\"rs27563\",\"rs7171352\",\"rs3903011\",\"rs4776741\",\"rs77198001\",\"rs138152110\",\"rs10277582\",\"rs4776290\",\"rs1422317\",\"rs10281571\",\"rs2552182\",\"rs2169633\",\"rs6881894\",\"rs11855269\",\"rs167995\",\"rs73785574\",\"rs428658\",\"rs17861121\",\"rs12148322\",\"rs11071863\",\"rs8026839\",\"rs35270975\",\"rs144085293\",\"rs8040835\",\"rs72786494\",\"rs2590773\",\"rs73344962\",\"rs10519929\",\"rs61543049\",\"rs152122\",\"rs11071874\",\"rs58936988\",\"rs3082857\",\"rs333592\",\"rs333583\",\"rs6858782\",\"rs152120\",\"rs333588\",\"rs2546086\",\"rs4410790\",\"rs59967396\",\"rs35527\",\"rs471751\",\"rs28701721\",\"rs78767632\",\"rs4886605\",\"rs117343895\",\"rs333552\",\"rs27652\",\"rs550745558\",\"rs2018571\",\"rs1363387\",\"rs407596\",\"rs6595770\",\"rs11071864\",\"rs16949565\",\"rs11854757\",\"rs140789134\",\"rs185030\",\"rs147698593\",\"rs7164771\",\"rs2218064\",\"rs2546806\",\"rs6494546\",\"rs77371692\",\"rs11071860\",\"rs559620165\",\"rs425030\",\"rs112394041\",\"rs375962533\",\"rs11636260\",\"rs2616389\",\"rs2546080\",\"rs1477793\",\"rs2059083\",\"rs12441817\",\"rs570269254\",\"rs79625021\",\"rs7162499\",\"rs201053818\",\"rs173006\",\"rs567593084\",\"rs2032834\",\"rs17256910\",\"rs34276626\",\"rs11350229\",\"rs2161283\",\"rs61212481\",\"rs388813\",\"rs12148564\",\"rs17684438\",\"rs57623356\",\"rs7181353\",\"rs144078416\",\"rs551897190;rs377339953\",\"rs4776767\",\"rs35236935\",\"rs190417034\",\"rs67774488\",\"rs11071873\",\"rs6818959\",\"rs34491663\",\"rs4550404\",\"rs2546808\",\"rs66924675\",\"rs246885\",\"rs72744440\",\"rs73348768\",\"rs10519939\",\"rs6494558\",\"rs1465485\",\"rs567079647\",\"rs11637608\",\"rs77589749\",\"rs10851752\",\"rs246944\",\"rs77129652\",\"rs2431496\",\"rs432396\",\"rs10194919\",\"rs62011776\",\"rs117273652\",\"rs11631308\",\"rs13411329\",\"rs73348755\",\"rs60681812\",\"rs4383081\",\"rs2431495\",\"rs4776283\",\"rs3789738\",\"rs333577\",\"rs1527146\",\"rs370900306\",\"rs137881134\",\"rs2690825\",\"rs72788505\",\"rs27562\",\"rs11072500\",\"rs28599978\",\"rs200918920\",\"rs2546805\",\"rs333606\",\"rs73348777\",\"rs73344963\",\"rs26945\",\"rs74022138\",\"rs4776720\",\"rs10518678\",\"rs75528418\",\"rs11432917\",\"rs13171067\",\"rs72742883\",\"rs2585195\",\"rs561037574\",\"rs11071861\",\"rs78120546\",\"rs333554\",\"rs12912161\",\"rs4776733\",\"rs17241225\",\"rs11071872\",\"rs246888\",\"rs17137451\",\"rs112210754\",\"rs4776745\",\"rs4401615\",\"rs1993832\",\"rs1351030\",\"rs2408872\",\"rs2194079\",\"rs76302267\",\"rs31470\",\"rs36307\",\"rs2590771\",\"rs11636685\",\"rs246887\",\"rs2585199\",\"rs79699136\",\"rs3756722\",\"rs11071857\",\"rs61021426\",\"rs26944\",\"rs41298318\",\"rs333593\",\"rs333559\",\"rs17240756\",\"rs2049604\",\"rs16949647\",\"rs12516897\",\"rs71836525\",\"rs1422315\",\"rs333607\",\"rs368595662\",\"rs147861487\",\"rs9327438\",\"rs2585197\",\"rs73785576\",\"rs422503\",\"rs12905546\",\"rs112753173\",\"rs35945305\",\"rs187514\",\"rs77000981\",\"rs55918025\",\"rs74023656\",\"rs31472\",\"rs246895\",\"rs36054640\",\"rs111781350\",\"rs13153845\",\"rs28639591\",\"rs333591\",\"rs1351031\",\"rs573485805\",\"rs621616\",\"rs57866428\",\"rs185150222\",\"rs6866678\",\"rs8029386\",\"rs138589055\",\"rs541245343\",\"rs246945\",\"rs55781516\",\"rs10851751\",\"rs200086613\",\"rs12101462\",\"rs77262632\",\"rs368614\",\"rs26947\",\"rs185033\",\"rs76912327\",\"rs2546082\",\"rs55679719\",\"rs74021651\",\"rs35796097\",\"rs1160960\",\"rs2585190\",\"rs7175296\",\"rs146791050\",\"rs6595769\",\"rs111463682\",\"rs511563\",\"rs899079\",\"rs4776716\",\"rs2585193\",\"rs985473\",\"rs2546079\",\"rs1600053\",\"rs75779403\",\"rs78550588\",\"rs17165102\",\"rs4776754\",\"rs2546804\",\"rs3756721\",\"rs141650370\",\"rs12657844\",\"rs2414895\",\"rs17164963\",\"rs2552180\",\"rs34208116\",\"rs246894\",\"rs12623957\",\"rs62009956\",\"rs4836317\",\"rs2035183\",\"rs7180757\",\"rs28396254\",\"rs12519784\",\"rs35529\",\"rs7180751\",\"rs1542528\",\"rs10041484\",\"rs4776759\",\"rs2126697\",\"rs12148647\",\"rs3082855\",\"rs34451603\",\"rs1351033\",\"rs143988989\",\"rs246947\",\"rs73344964\",\"rs72744431\",\"rs1913413\",\"rs412708\",\"rs2008432\",\"rs4776713\",\"rs5838931\",\"rs7163737\",\"rs10519941\",\"rs7182525\",\"rs35524\",\"rs27749\",\"rs72625771\",\"rs11895863\",\"rs4776276\",\"rs145921300;rs11071866\",\"rs75342967\",\"rs28848849\",\"rs2196751\",\"rs8039689\",\"rs79162003\",\"rs575256242\",\"rs986429\",\"rs58718502\",\"rs7179044\",\"rs2585196\",\"rs79713470\",\"rs167998\",\"rs113091845\",\"rs43148\",\"rs138731838\",\"rs2546087\",\"rs16949724\"],\"x\":{\"__ndarray__\":\"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\",\"dtype\":\"float64\",\"shape\":[628]},\"y\":{\"__ndarray__\":\"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\",\"dtype\":\"float64\",\"shape\":[628]}},\"selected\":{\"id\":\"1392\",\"type\":\"Selection\"},\"selection_policy\":{\"id\":\"1391\",\"type\":\"UnionRenderers\"}},\"id\":\"1361\",\"type\":\"ColumnDataSource\"},{\"attributes\":{\"axis_label\":\"gini importance\",\"formatter\":{\"id\":\"1386\",\"type\":\"BasicTickFormatter\"},\"ticker\":{\"id\":\"1342\",\"type\":\"BasicTicker\"}},\"id\":\"1341\",\"type\":\"LinearAxis\"},{\"attributes\":{},\"id\":\"1388\",\"type\":\"BasicTickFormatter\"},{\"attributes\":{\"callback\":null},\"id\":\"1330\",\"type\":\"DataRange1d\"},{\"attributes\":{},\"id\":\"1346\",\"type\":\"PanTool\"},{\"attributes\":{},\"id\":\"1347\",\"type\":\"WheelZoomTool\"},{\"attributes\":{},\"id\":\"1337\",\"type\":\"BasicTicker\"}],\"root_ids\":[\"1326\"]},\"title\":\"Bokeh Application\",\"version\":\"1.2.0\"}};\n",
       "  var render_items = [{\"docid\":\"b9dcd2f3-8dda-495c-8a25-df627818ffb9\",\"roots\":{\"1326\":\"0563f2b1-b647-45ef-b2db-2eb2a63773d6\"}}];\n",
       "  root.Bokeh.embed.embed_items_notebook(docs_json, render_items);\n",
       "\n",
       "  }\n",
       "  if (root.Bokeh !== undefined) {\n",
       "    embed_document(root);\n",
       "  } else {\n",
       "    var attempts = 0;\n",
       "    var timer = setInterval(function(root) {\n",
       "      if (root.Bokeh !== undefined) {\n",
       "        embed_document(root);\n",
       "        clearInterval(timer);\n",
       "      }\n",
       "      attempts++;\n",
       "      if (attempts > 100) {\n",
       "        console.log(\"Bokeh: ERROR: Unable to run BokehJS code because BokehJS library is missing\");\n",
       "        clearInterval(timer);\n",
       "      }\n",
       "    }, 10, root)\n",
       "  }\n",
       "})(window);"
      ],
      "application/vnd.bokehjs_exec.v0+json": ""
     },
     "metadata": {
      "application/vnd.bokehjs_exec.v0+json": {
       "id": "1326"
      }
     },
     "output_type": "display_data"
    }
   ],
   "source": [
    "p = hl.plot.scatter(x=-hl.log10(gwas_with_imp.p_value),\n",
    "                    y=gwas_with_imp.importance, \n",
    "                    xlabel = '-log10(p-value)',\n",
    "                    ylabel = 'gini importance',\n",
    "                    hover_fields=dict(rs=gwas_with_imp.rsid, loc=gwas_with_imp.locus))\n",
    "show(p)"
   ]
  },
  {
   "cell_type": "markdown",
   "metadata": {},
   "source": [
    "_Fig 3: Compare gini importance vs logistic regresion p-values._"
   ]
  }
 ],
 "metadata": {
  "kernelspec": {
   "display_name": "Python 3",
   "language": "python",
   "name": "python3"
  },
  "language_info": {
   "codemirror_mode": {
    "name": "ipython",
    "version": 3
   },
   "file_extension": ".py",
   "mimetype": "text/x-python",
   "name": "python",
   "nbconvert_exporter": "python",
   "pygments_lexer": "ipython3",
   "version": "3.6.0"
  }
 },
 "nbformat": 4,
 "nbformat_minor": 2
}
